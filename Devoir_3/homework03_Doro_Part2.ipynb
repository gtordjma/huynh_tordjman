{
 "cells": [
  {
   "cell_type": "markdown",
   "metadata": {
    "nteract": {
     "transient": {
      "deleting": false
     }
    }
   },
   "source": [
    "# New York taxis trips\n",
    "\n",
    "This homework is about New York taxi trips. Here is something from [Todd Schneider](https://toddwschneider.com/posts/analyzing-1-1-billion-nyc-taxi-and-uber-trips-with-a-vengeance/):\n",
    "\n",
    "> The New York City Taxi & Limousine Commission has released a  detailed historical dataset covering over 1 billion individual taxi trips in the city from January 2009 through December 2019. \n",
    "Taken as a whole, the detailed trip-level data is more than just a vast list of taxi pickup and drop off coordinates: it's a story of a City. \n",
    "How bad is the rush hour traffic from Midtown to JFK? \n",
    "Where does the Bridge and Tunnel crowd hang out on Saturday nights?\n",
    "What time do investment bankers get to work? How has Uber changed the landscape for taxis?\n",
    "The dataset addresses all of these questions and many more.\n",
    "\n",
    "The NY taxi trips dataset has been plowed by series of distinguished data scientists.\n",
    "The dataset is available from on Amazon S3 (Amazon's cloud storage service).\n",
    "The link for each file has the following form:\n",
    "\n",
    "    https://s3.amazonaws.com/nyc-tlc/trip+data/yellow_tripdata_{year}-{month}.csv\n",
    "\n",
    "There is one CSV file for each NY taxi service (`yellow`, `green`, `fhv`) and each calendar month (replacing `{year}` and `{month}` by the desired ones).\n",
    "Each file is moderately large, a few gigabytes. \n",
    "The full dataset is relatively large if it has to be handled on a laptop (several hundred gigabytes).\n",
    "\n",
    "You will focus on the `yellow` taxi service and a pair of months, from year 2015 and from year 2018. \n",
    "Between those two years, for hire vehicles services have taken off and carved a huge marketshare.\n",
    "\n",
    "Whatever the framework you use, `CSV` files prove hard to handle. \n",
    "After downloading the appropriate files (this takes time, but this is routine), a first step will consist in converting the csv files into a more Spark friendly format such as `parquet`.\n",
    "\n",
    "Saving into one of those formats require decisions about bucketing, partitioning and so on. Such decisions influence performance. It is your call.\n",
    "Many people have been working on this dataset, to cite but a few:\n",
    "\n",
    "\n",
    "- [1 billion trips with a vengeance](https://toddwschneider.com/posts/analyzing-1-1-billion-nyc-taxi-and-uber-trips-with-a-vengeance/)\n",
    "- [1 billion trips with R and SQL ](http://freerangestats.info/blog/2019/12/22/nyc-taxis-sql)\n",
    "- [1 billion trips with redshift](https://tech.marksblogg.com/billion-nyc-taxi-rides-redshift.html)\n",
    "- [nyc-taxi](https://github.com/fmaletski/nyc-taxi-map)"
   ]
  },
  {
   "cell_type": "markdown",
   "metadata": {},
   "source": [
    "Depending on your internet connection, **download the files** corresponding to **\"yellow\" taxis** for the years 2015 and 2018. Download **at least one month** (the same) for 2015 and 2018, if you can download all of them.\n",
    "\n",
    "**Hint.** The 12 csv for 2015 are about 23GB in total, but the corresponding parquet file, if you can create it for all 12 months, is only about 3GB."
   ]
  },
  {
   "cell_type": "markdown",
   "metadata": {},
   "source": [
    "You **might** need the following stuff in order to work with GPS coordinates and to plot things easily."
   ]
  },
  {
   "cell_type": "code",
   "execution_count": null,
   "metadata": {
    "ExecuteTime": {
     "end_time": "2020-05-13T13:37:23.017052Z",
     "start_time": "2020-05-13T13:37:21.288579Z"
    }
   },
   "outputs": [],
   "source": [
    "!pip install geojson geopandas plotly geopy"
   ]
  },
  {
   "cell_type": "code",
   "execution_count": null,
   "metadata": {
    "ExecuteTime": {
     "end_time": "2020-05-13T19:31:08.688414Z",
     "start_time": "2020-05-13T19:31:05.626371Z"
    },
    "scrolled": true
   },
   "outputs": [],
   "source": [
    "!pip install ipyleaflet"
   ]
  },
  {
   "cell_type": "markdown",
   "metadata": {},
   "source": [
    "For this homework **we will let you decide on the tools to use** (expected for Spark) and to **find out information all by yourself** (but don't hesitate to ask questions on the `slack` channel)."
   ]
  },
  {
   "cell_type": "markdown",
   "metadata": {
    "nteract": {
     "transient": {
      "deleting": false
     }
    }
   },
   "source": [
    "# Loading data as parquet files\n",
    "\n",
    "We want to organize the data on a per year and per service basis. \n",
    "We want to end up with one `parquet` file for each year and each taxi service, since parquet is much better than CSV files.\n",
    "\n",
    "**Hint.** Depending on your internet connection and your laptop, you can use only the \"yellow\" service and use one month of 2015 and 2018\n",
    "\n",
    "CSV files can contain corrupted lines. You may have to work in order to perform ETL (Extract-Transform-Load) in order obtain a properly typed data frame.\n",
    "\n",
    "You are invited to proceed as follows:\n",
    "\n",
    "1. Try to read the CSV file without imposing a schema. \n",
    "1. Inspect the inferred schema. Do you agree with Spark's typing decision?\n",
    "1. Eventually correct the schema and read again the data\n",
    "1. Save the data into parquet files\n",
    "1. In the rest of your work, **you will only use the parquet files you created**, not the csv files (don't forget to choose a partitioning column and a number of partitions when creating the parquet files).\n",
    "\n",
    "**Hint.** Don't forget to ask `Spark` to use all the memory and ressources from your computer.\n",
    "\n",
    "**Hint.** Don't foreget that you should specify a partitioning column and a number of partitions when creating the parquet files.\n",
    "\n",
    "**Hint.** Note that the schemas of the 2015 and 2018 data are different...\n",
    "\n",
    "**Hint.** When working on this, ask you and answer to the following questions:\n",
    "\n",
    "1. What is the `StorageLevel` of the dataframe after reading the csv files?\n",
    "1. What is the number of partitions of the dataframe? \n",
    "1. Is it possible to tune this number at loading time? \n",
    "1. Why would we want to modify the number of partitions when creating the parquet files?"
   ]
  },
  {
   "cell_type": "code",
   "execution_count": 1,
   "metadata": {
    "ExecuteTime": {
     "end_time": "2020-06-04T13:31:00.334477Z",
     "start_time": "2020-06-04T13:30:59.703358Z"
    }
   },
   "outputs": [],
   "source": [
    "# Imports Spark\n",
    "from pyspark import SparkConf, SparkContext\n",
    "from pyspark.sql import SparkSession\n",
    "from pyspark.sql import Window\n",
    "from pyspark.sql.functions import col\n",
    "import pyspark.sql.functions as fn\n",
    "from pyspark.sql.catalog import Catalog\n",
    "from pyspark.sql.types import StructType, StructField\n",
    "from pyspark.sql.types import FloatType, IntegerType, StringType, TimestampType"
   ]
  },
  {
   "cell_type": "code",
   "execution_count": 2,
   "metadata": {
    "ExecuteTime": {
     "end_time": "2020-06-04T13:31:16.548818Z",
     "start_time": "2020-06-04T13:31:00.337273Z"
    }
   },
   "outputs": [],
   "source": [
    "# Initialisation de Spark\n",
    "conf = SparkConf().setAppName(\"Spark SQL Illustrations\")\n",
    "sc = SparkContext(conf=conf)\n",
    "\n",
    "spark = (SparkSession\n",
    "    .builder\n",
    "    .appName(\"Spark SQL\")\n",
    "    .getOrCreate()\n",
    ")"
   ]
  },
  {
   "cell_type": "markdown",
   "metadata": {
    "ExecuteTime": {
     "end_time": "2020-06-04T13:31:16.561145Z",
     "start_time": "2020-06-04T13:31:16.552562Z"
    }
   },
   "source": [
    "1.Try to read the CSV file without imposing a schema."
   ]
  },
  {
   "cell_type": "code",
   "execution_count": 4,
   "metadata": {
    "ExecuteTime": {
     "end_time": "2020-06-04T13:35:13.601460Z",
     "start_time": "2020-06-04T13:35:13.594931Z"
    }
   },
   "outputs": [],
   "source": [
    "def read_csv (input_file_name):\n",
    "    df = spark.read.load(\n",
    "    input_file_name,\n",
    "    format=\"csv\", \n",
    "    sep=\",\", \n",
    "    inferSchema=\"false\", \n",
    "    header=\"true\"\n",
    "    )\n",
    "    return df    "
   ]
  },
  {
   "cell_type": "code",
   "execution_count": 5,
   "metadata": {
    "ExecuteTime": {
     "end_time": "2020-06-04T13:35:23.329983Z",
     "start_time": "2020-06-04T13:35:13.604805Z"
    }
   },
   "outputs": [],
   "source": [
    "df_2018_12 = read_csv(\"yellow_tripdata_2018-12.csv\")\n",
    "df_2015_12 = read_csv(\"yellow_tripdata_2015-12.csv\")"
   ]
  },
  {
   "cell_type": "markdown",
   "metadata": {
    "ExecuteTime": {
     "end_time": "2020-06-04T13:31:16.574264Z",
     "start_time": "2020-06-04T13:30:59.732Z"
    }
   },
   "source": [
    "2. Inspect the inferred schema. Do you agree with Spark\\'s typing decision?"
   ]
  },
  {
   "cell_type": "code",
   "execution_count": 6,
   "metadata": {
    "ExecuteTime": {
     "end_time": "2020-06-04T13:35:23.574650Z",
     "start_time": "2020-06-04T13:35:23.340398Z"
    }
   },
   "outputs": [
    {
     "name": "stdout",
     "output_type": "stream",
     "text": [
      "root\n",
      " |-- VendorID: string (nullable = true)\n",
      " |-- tpep_pickup_datetime: string (nullable = true)\n",
      " |-- tpep_dropoff_datetime: string (nullable = true)\n",
      " |-- passenger_count: string (nullable = true)\n",
      " |-- trip_distance: string (nullable = true)\n",
      " |-- pickup_longitude: string (nullable = true)\n",
      " |-- pickup_latitude: string (nullable = true)\n",
      " |-- RatecodeID: string (nullable = true)\n",
      " |-- store_and_fwd_flag: string (nullable = true)\n",
      " |-- dropoff_longitude: string (nullable = true)\n",
      " |-- dropoff_latitude: string (nullable = true)\n",
      " |-- payment_type: string (nullable = true)\n",
      " |-- fare_amount: string (nullable = true)\n",
      " |-- extra: string (nullable = true)\n",
      " |-- mta_tax: string (nullable = true)\n",
      " |-- tip_amount: string (nullable = true)\n",
      " |-- tolls_amount: string (nullable = true)\n",
      " |-- improvement_surcharge: string (nullable = true)\n",
      " |-- total_amount: string (nullable = true)\n",
      "\n",
      "root\n",
      " |-- VendorID: string (nullable = true)\n",
      " |-- tpep_pickup_datetime: string (nullable = true)\n",
      " |-- tpep_dropoff_datetime: string (nullable = true)\n",
      " |-- passenger_count: string (nullable = true)\n",
      " |-- trip_distance: string (nullable = true)\n",
      " |-- RatecodeID: string (nullable = true)\n",
      " |-- store_and_fwd_flag: string (nullable = true)\n",
      " |-- PULocationID: string (nullable = true)\n",
      " |-- DOLocationID: string (nullable = true)\n",
      " |-- payment_type: string (nullable = true)\n",
      " |-- fare_amount: string (nullable = true)\n",
      " |-- extra: string (nullable = true)\n",
      " |-- mta_tax: string (nullable = true)\n",
      " |-- tip_amount: string (nullable = true)\n",
      " |-- tolls_amount: string (nullable = true)\n",
      " |-- improvement_surcharge: string (nullable = true)\n",
      " |-- total_amount: string (nullable = true)\n",
      "\n"
     ]
    }
   ],
   "source": [
    "#Inspection du schema\n",
    "df_2015_12.printSchema()\n",
    "df_2018_12.printSchema()\n",
    "\n",
    "#Le schema de 2015 comporte 4 colonnes qui ne sont pas dans 2018\n",
    "#pickup_longitude, pickup_latitude, \n",
    "#dropoff_longitude, dropoff_latitude\n",
    "\n",
    "#Le schema de 2018 comporte 2 colonnes qui ne sont pas dans 2015\n",
    "#PULocationID, DOLocationID\n",
    "\n",
    "#Pour ces deux dataframes, le schéma contient seulement des colonnes\n",
    "#non-nullable de données de type string. Avoir un type \"général\" pour les\n",
    "#données est pratique pour les collecter mais pas pour les utiliser \n",
    "#ensuite, par exemple pour utiliser les dates, les nombres."
   ]
  },
  {
   "cell_type": "code",
   "execution_count": 7,
   "metadata": {
    "ExecuteTime": {
     "end_time": "2020-06-04T13:35:23.589773Z",
     "start_time": "2020-06-04T13:35:23.578017Z"
    }
   },
   "outputs": [],
   "source": [
    "# Correction du schéma nécessaire car :\n",
    "# Puisqu'il y a des colonnes supplémentaires dans le fichier de 2015, \n",
    "# par rapport au fichier de 2018, nous allons faire le schéma de 2015\n",
    "# en nous servant du schéma de 2018 (et pas l'inverse car il y aurait\n",
    "# des colonnes vides). De cette manière, les données de 2015 seront \n",
    "# homogènes avec celles de 2018.\n",
    "# De plus, les colonnes sont toutes du type string, alors qu'il y a des\n",
    "# ID (nombres) et des dates.\n",
    "\n",
    "# Schema avec les colonnes communes à 2015 et 2018 et les bons types\n",
    "schema = StructType([\n",
    "    StructField('VendorID', IntegerType(), True),\n",
    "    StructField('tpep_pickup_datetime', TimestampType(), True),\n",
    "    StructField('tpep_dropoff_datetime', TimestampType(), True),\n",
    "    StructField('passenger_count', IntegerType(), True),\n",
    "    StructField('trip_distance', FloatType(), True),\n",
    "    StructField('RatecodeID', IntegerType(), True),\n",
    "    StructField('store_and_fwd_flag', StringType(), True),\n",
    "    StructField('payment_type', IntegerType(), True),\n",
    "    StructField('fare_amount', FloatType(), True),\n",
    "    StructField('extra', FloatType(), True),\n",
    "    StructField('mta_tax', FloatType(), True),\n",
    "    StructField('tip_amount', FloatType(), True),\n",
    "    StructField('tolls_amount', IntegerType(), True),\n",
    "    StructField('improvement_surcharge', FloatType(), True),\n",
    "    StructField('total_amount', FloatType(), True)\n",
    "])\n"
   ]
  },
  {
   "cell_type": "code",
   "execution_count": 8,
   "metadata": {
    "ExecuteTime": {
     "end_time": "2020-06-04T13:35:23.760413Z",
     "start_time": "2020-06-04T13:35:23.593470Z"
    }
   },
   "outputs": [],
   "source": [
    "# Schema avec toutes les colonnes communes à 2015 et 2018 et les colonnes qui sont dans l'un et pas dans l'autre\n",
    "\n",
    "fullschema = StructType([\n",
    "    StructField('VendorID', IntegerType(), False),\n",
    "    StructField('tpep_pickup_datetime', TimestampType(), False),\n",
    "    StructField('tpep_dropoff_datetime', TimestampType(), False),\n",
    "    StructField('passenger_count', IntegerType(), False),\n",
    "    StructField('trip_distance', FloatType(), False),\n",
    "    StructField('pickup_longitude', FloatType(), True),\n",
    "    StructField('pickup_latitude', FloatType(), True),\n",
    "    StructField('RatecodeID', IntegerType(), False),\n",
    "    StructField('store_and_fwd_flag', StringType(), False),\n",
    "    StructField('dropoff_longitude', FloatType(), True),\n",
    "    StructField('dropoff_latitude', FloatType(), True),\n",
    "    StructField('PULocationID', IntegerType(), True),\n",
    "    StructField('DOLocationID', IntegerType(), True),\n",
    "    StructField('payment_type', IntegerType(), False),\n",
    "    StructField('fare_amount', FloatType(), False),\n",
    "    StructField('extra', FloatType(), False),\n",
    "    StructField('mta_tax', FloatType(), False),\n",
    "    StructField('tip_amount', FloatType(), False),\n",
    "    StructField('tolls_amount', IntegerType(), False),\n",
    "    StructField('improvement_surcharge', FloatType(), False),\n",
    "    StructField('total_amount', FloatType(), False)\n",
    "])\n",
    "\n",
    "#Schema pour le df de 2015\n",
    "fullschema = StructType([\n",
    "    StructField('VendorID', IntegerType(), False),\n",
    "    StructField('tpep_pickup_datetime', TimestampType(), False),\n",
    "    StructField('tpep_dropoff_datetime', TimestampType(), False),\n",
    "    StructField('passenger_count', IntegerType(), False),\n",
    "    StructField('trip_distance', FloatType(), False),\n",
    "    StructField('pickup_longitude', FloatType(), False),\n",
    "    StructField('pickup_latitude', FloatType(), False),\n",
    "    StructField('RatecodeID', IntegerType(), False),\n",
    "    StructField('store_and_fwd_flag', StringType(), False),\n",
    "    StructField('dropoff_longitude', FloatType(), True),\n",
    "    StructField('dropoff_latitude', FloatType(), True),\n",
    "    StructField('payment_type', IntegerType(), False),\n",
    "    StructField('fare_amount', FloatType(), False),\n",
    "    StructField('extra', FloatType(), False),\n",
    "    StructField('mta_tax', FloatType(), False),\n",
    "    StructField('tip_amount', FloatType(), False),\n",
    "    StructField('tolls_amount', IntegerType(), False),\n",
    "    StructField('improvement_surcharge', FloatType(), False),\n",
    "    StructField('total_amount', FloatType(), False)\n",
    "])\n",
    "\n",
    "#Schema pour le df de 2018\n",
    "schema2018 = StructType([\n",
    "    StructField('VendorID', IntegerType(), False),\n",
    "    StructField('tpep_pickup_datetime', TimestampType(), False),\n",
    "    StructField('tpep_dropoff_datetime', TimestampType(), False),\n",
    "    StructField('passenger_count', IntegerType(), False),\n",
    "    StructField('trip_distance', FloatType(), False),\n",
    "    StructField('RatecodeID', IntegerType(), False),\n",
    "    StructField('store_and_fwd_flag', StringType(), False),\n",
    "    StructField('PULocationID', IntegerType(), False),\n",
    "    StructField('DOLocationID', IntegerType(), False),\n",
    "    StructField('payment_type', IntegerType(), False),\n",
    "    StructField('fare_amount', FloatType(), False),\n",
    "    StructField('extra', FloatType(), False),\n",
    "    StructField('mta_tax', FloatType(), False),\n",
    "    StructField('tip_amount', FloatType(), False),\n",
    "    StructField('tolls_amount', IntegerType(), False),\n",
    "    StructField('improvement_surcharge', FloatType(), False),\n",
    "    StructField('total_amount', FloatType(), False)\n",
    "])"
   ]
  },
  {
   "cell_type": "markdown",
   "metadata": {
    "ExecuteTime": {
     "end_time": "2020-06-04T13:31:16.588243Z",
     "start_time": "2020-06-04T13:30:59.750Z"
    }
   },
   "source": [
    "3. Eventually correct the schema and read again the data."
   ]
  },
  {
   "cell_type": "code",
   "execution_count": 15,
   "metadata": {
    "ExecuteTime": {
     "end_time": "2020-06-04T13:52:44.615369Z",
     "start_time": "2020-06-04T13:48:55.845553Z"
    },
    "scrolled": true
   },
   "outputs": [
    {
     "name": "stdout",
     "output_type": "stream",
     "text": [
      "root\n",
      " |-- VendorID: integer (nullable = true)\n",
      " |-- tpep_pickup_datetime: timestamp (nullable = true)\n",
      " |-- tpep_dropoff_datetime: timestamp (nullable = true)\n",
      " |-- passenger_count: integer (nullable = true)\n",
      " |-- trip_distance: double (nullable = true)\n",
      " |-- RatecodeID: integer (nullable = true)\n",
      " |-- store_and_fwd_flag: string (nullable = true)\n",
      " |-- PULocationID: integer (nullable = true)\n",
      " |-- DOLocationID: integer (nullable = true)\n",
      " |-- payment_type: integer (nullable = true)\n",
      " |-- fare_amount: double (nullable = true)\n",
      " |-- extra: double (nullable = true)\n",
      " |-- mta_tax: double (nullable = true)\n",
      " |-- tip_amount: double (nullable = true)\n",
      " |-- tolls_amount: double (nullable = true)\n",
      " |-- improvement_surcharge: double (nullable = true)\n",
      " |-- total_amount: double (nullable = true)\n",
      "\n"
     ]
    }
   ],
   "source": [
    "#L'inférence du schéma donne un schéma similaire à schema2018 sauf que les \"colonnes\" sont nullables.\n",
    "df2018 = spark.read.csv(\"yellow_tripdata_2018-12.csv\", header=True, inferSchema=True)\n",
    "df2018.printSchema()  #Toutes les colonnes non nullables\n",
    "\n",
    "df2015 = spark.read.csv(\"yellow_tripdata_2015-12.csv\", header=True, inferSchema=True)\n",
    "\n",
    "#from pyspark.sql import SQLContext\n",
    "#df = spark.read.schema(schema2018).option(\"header\", \"true\").csv(\"yellow_tripdata_2018-12.csv\")\n",
    "#df.printSchema() #Toutes les colonnes non nullables, contrairement au schema passé en paramètres"
   ]
  },
  {
   "cell_type": "markdown",
   "metadata": {
    "ExecuteTime": {
     "end_time": "2020-06-04T13:31:16.600102Z",
     "start_time": "2020-06-04T13:30:59.763Z"
    }
   },
   "source": [
    "4. Save the data into parquet files"
   ]
  },
  {
   "cell_type": "code",
   "execution_count": 16,
   "metadata": {
    "ExecuteTime": {
     "end_time": "2020-06-04T13:59:10.305340Z",
     "start_time": "2020-06-04T13:56:15.178823Z"
    },
    "scrolled": true
   },
   "outputs": [],
   "source": [
    "df2018.write.parquet(\"2018_12.parquet\")\n",
    "df2015.write.parquet(\"2015_12.parquet\")"
   ]
  },
  {
   "cell_type": "markdown",
   "metadata": {},
   "source": [
    "Questions 1 à 4 :\n",
    "\n",
    "1. What is the StorageLevel of the dataframe after reading the csv files?\n",
    "Le storageLevel par défaut est MEMORY_ONLY: Serialized 1x Replicated.\n",
    "print(df2018.rdd.getStorageLevel())\n",
    "2. What is the number of partitions of the dataframe? \n",
    "6 partitions.\n",
    "print(df2018.rdd.getNumPartitions()) \n",
    "3. Is it possible to tune this number at loading time?\n",
    "\n",
    "4. Why would we want to modify the number of partitions when creating the parquet files? \n",
    "On voudrait modifier le nombre de partitions par défaut (la valeur par défaut de spark.sql.shuffle.partitions est 200) pour l'adapter au dataframe : si c'est un \"petit\" dataframe, 200 c'est trop et si c'est un grand dataframe "
   ]
  },
  {
   "cell_type": "markdown",
   "metadata": {
    "nteract": {
     "transient": {
      "deleting": false
     }
    }
   },
   "source": [
    "# Investigate (at least) one month of data in 2015\n",
    "\n",
    "From now on, you will be using **the parquet files you created for 2015**.\n",
    "\n",
    "We shall visualize several features of taxi traffic during one calendar month\n",
    "in 2015 and the same calendar month in 2018.\n",
    "\n",
    "**Hint.** In order to build appealing graphics, you may stick to `matplotlib + seaborn`, you can use also\n",
    "`plotly`, which is used a lot to build interactive graphics, but you can use whatever you want."
   ]
  },
  {
   "cell_type": "markdown",
   "metadata": {},
   "source": [
    "The following longitudes and lattitudes encompass Newark and JFK airports, Northern Manhattan and Verazzano bridge."
   ]
  },
  {
   "cell_type": "code",
   "execution_count": 13,
   "metadata": {
    "ExecuteTime": {
     "end_time": "2020-06-04T13:38:26.739575Z",
     "start_time": "2020-06-04T13:38:26.725757Z"
    },
    "jupyter": {
     "outputs_hidden": false,
     "source_hidden": false
    },
    "nteract": {
     "transient": {
      "deleting": false
     }
    }
   },
   "outputs": [],
   "source": [
    "long_min = -74.10\n",
    "long_max = -73.70\n",
    "lat_min = 40.58\n",
    "lat_max = 40.90"
   ]
  },
  {
   "cell_type": "markdown",
   "metadata": {},
   "source": [
    "1. Using these boundaries, **filter the 2015 data** (using pickup and dropoff longitude and latitude) and count the number of trips for each value of `passenger_count` and make a plot of that."
   ]
  },
  {
   "cell_type": "code",
   "execution_count": null,
   "metadata": {},
   "outputs": [],
   "source": []
  },
  {
   "cell_type": "markdown",
   "metadata": {
    "nteract": {
     "transient": {
      "deleting": false
     }
    }
   },
   "source": [
    "Trips with $0$ or larger than $7$ passengers are pretty rare.\n",
    "We suspect these to be outliers. \n",
    "We need to explore these trips further in order order to understand what might be wrong\n",
    "with them\n",
    "\n",
    "1. What's special with trips with zero passengers?\n",
    "1. What's special with trips with more than $6$ passengers?\n",
    "1. What is the largest distance travelled during this month? Is it the first taxi on the moon?\n",
    "1. Plot the distribution of the `trip_distance` (using an histogram for instance) during year 2105. Focus on trips with non-zero trip distance and trip distance less than 30 miles."
   ]
  },
  {
   "cell_type": "markdown",
   "metadata": {},
   "source": [
    "Let's look at what Spark does for these computations\n",
    "\n",
    "1. Use the `explain` method or have a look at the [Spark UI](http://localhost:4040/SQL/) to analyze the job. You should be able to assess \n",
    "    - Parsed Logical Plan\n",
    "    - Analyzed Logical Plan\n",
    "    - Optimized Logical Plan\n",
    "    - Physical Plan\n",
    "1. Do the Analyzed Logical Plan and Optimized Logical Plan differ? Spot the differences if any. How would a RDBMS proceed with such a query?\n",
    "1. How does the physical plan differ from the Optimized Logical Plan? What are the keywords you would not expects in a RDBMS? What is their meaning? \n",
    "1. Inspect the stages on [Spark UI](http://localhost:4040/stages/stage). How many *stages* are necessary to complete the Spark job? What are the roles of `HashAggregate` and `Exchange hashpartitioning`?\n",
    "1. Does the physical plan perform `shuffle` operations? If yes how many?\n",
    "1. What are tasks with respect to stages (in Spark language)? How many tasks are your stages made of?"
   ]
  },
  {
   "cell_type": "markdown",
   "metadata": {
    "nteract": {
     "transient": {
      "deleting": false
     }
    }
   },
   "source": [
    "Now, compute the following and produce relevant plots:\n",
    "\n",
    "1. Break down the trip distance distribution for each day of week\n",
    "1. Count the number of distinct pickup location\n",
    "1. Compute and display tips and profits as a function of the pickup location"
   ]
  },
  {
   "cell_type": "markdown",
   "metadata": {
    "nteract": {
     "transient": {
      "deleting": false
     }
    }
   },
   "source": [
    "# Investigate one month of trips data in 2015 and 2018\n",
    "\n",
    " Consider one month of trips data from `yellow` taxis for each year\n",
    "\n",
    "1. Filter and cache/persist the result\n",
    "\n",
    "## Assessing seasonalities and looking at time series\n",
    "\n",
    "Compute and plot the following time series indexed by day of the week and hour of day:\n",
    "\n",
    "1. The number of pickups\n",
    "1. The average fare\n",
    "1. The average trip duration\n",
    "1. Plot the average number of ongoing trips\n",
    "\n",
    "## Rides to the airports\n",
    "\n",
    "In order to find the longitude and lattitude of JFK and Newark airport as well as the longitude and magnitudes \n",
    "of Manhattan, you can use a service like [geojson.io](http://geojson.io/).\n",
    "Plot the following time series, indexed the day of the week and hour of the day\n",
    "\n",
    "1. Median duration of taxi trip leaving Midtown (Southern Manhattan) headed for JFK Airport\n",
    "1. Median taxi duration of trip leaving from JFK Airport to Midtown (Southern Manhattan)\n",
    "\n",
    "## Geographic information\n",
    "\n",
    "For this, you will need to find tools to display maps and to build choropeth maps.\n",
    "We let you look and find relevant tools to do this.\n",
    "\n",
    "1. Build a heatmap where color is a function of\n",
    "    1. number of `pickups`\n",
    "    2. number of `dropoffs`\n",
    "    3. number of `pickups` with dropoff at some airport (JFK, LaGuardia, Newark)\n",
    "2. Build a choropeth map where color is a function of\n",
    "    1. number of pickups in the area\n",
    "    1. ratio of number of payments by card/number of cash payments for pickups in the area\n",
    "    2. ratio of total fare/trip duration for dropoff in the area\n",
    "3. Build an interactive chorophet with a slider allowing the user to select an `hour of day` and where the color is a function of\n",
    "    1. average number of dropoffs in the area during that hour the day\n",
    "    2. average ratio of tip over total fare amount for pickups in the area at given hour of the day"
   ]
  }
 ],
 "metadata": {
  "kernelspec": {
   "display_name": "Python 3",
   "language": "python",
   "name": "python3"
  },
  "language_info": {
   "codemirror_mode": {
    "name": "ipython",
    "version": 3
   },
   "file_extension": ".py",
   "mimetype": "text/x-python",
   "name": "python",
   "nbconvert_exporter": "python",
   "pygments_lexer": "ipython3",
   "version": "3.7.5"
  },
  "toc": {
   "base_numbering": 1,
   "nav_menu": {},
   "number_sections": true,
   "sideBar": true,
   "skip_h1_title": false,
   "title_cell": "Table of Contents",
   "title_sidebar": "Contents",
   "toc_cell": false,
   "toc_position": {
    "height": "calc(100% - 180px)",
    "left": "10px",
    "top": "150px",
    "width": "218.4103240966797px"
   },
   "toc_section_display": true,
   "toc_window_display": false
  }
 },
 "nbformat": 4,
 "nbformat_minor": 1
}
