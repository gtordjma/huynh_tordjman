{
 "cells": [
  {
   "cell_type": "markdown",
   "metadata": {
    "nteract": {
     "transient": {
      "deleting": false
     }
    }
   },
   "source": [
    "# New York taxis trips\n",
    "\n",
    "This homework is about New York taxi trips. Here is something from [Todd Schneider](https://toddwschneider.com/posts/analyzing-1-1-billion-nyc-taxi-and-uber-trips-with-a-vengeance/):\n",
    "\n",
    "> The New York City Taxi & Limousine Commission has released a  detailed historical dataset covering over 1 billion individual taxi trips in the city from January 2009 through December 2019. \n",
    "Taken as a whole, the detailed trip-level data is more than just a vast list of taxi pickup and drop off coordinates: it's a story of a City. \n",
    "How bad is the rush hour traffic from Midtown to JFK? \n",
    "Where does the Bridge and Tunnel crowd hang out on Saturday nights?\n",
    "What time do investment bankers get to work? How has Uber changed the landscape for taxis?\n",
    "The dataset addresses all of these questions and many more.\n",
    "\n",
    "The NY taxi trips dataset has been plowed by series of distinguished data scientists.\n",
    "The dataset is available from on Amazon S3 (Amazon's cloud storage service).\n",
    "The link for each file has the following form:\n",
    "\n",
    "    https://s3.amazonaws.com/nyc-tlc/trip+data/yellow_tripdata_{year}-{month}.csv\n",
    "\n",
    "There is one CSV file for each NY taxi service (`yellow`, `green`, `fhv`) and each calendar month (replacing `{year}` and `{month}` by the desired ones).\n",
    "Each file is moderately large, a few gigabytes. \n",
    "The full dataset is relatively large if it has to be handled on a laptop (several hundred gigabytes).\n",
    "\n",
    "You will focus on the `yellow` taxi service and a pair of months, from year 2015 and from year 2018. \n",
    "Between those two years, for hire vehicles services have taken off and carved a huge marketshare.\n",
    "\n",
    "Whatever the framework you use, `CSV` files prove hard to handle. \n",
    "After downloading the appropriate files (this takes time, but this is routine), a first step will consist in converting the csv files into a more Spark friendly format such as `parquet`.\n",
    "\n",
    "Saving into one of those formats require decisions about bucketing, partitioning and so on. Such decisions influence performance. It is your call.\n",
    "Many people have been working on this dataset, to cite but a few:\n",
    "\n",
    "\n",
    "- [1 billion trips with a vengeance](https://toddwschneider.com/posts/analyzing-1-1-billion-nyc-taxi-and-uber-trips-with-a-vengeance/)\n",
    "- [1 billion trips with R and SQL ](http://freerangestats.info/blog/2019/12/22/nyc-taxis-sql)\n",
    "- [1 billion trips with redshift](https://tech.marksblogg.com/billion-nyc-taxi-rides-redshift.html)\n",
    "- [nyc-taxi](https://github.com/fmaletski/nyc-taxi-map)"
   ]
  },
  {
   "cell_type": "markdown",
   "metadata": {},
   "source": [
    "Depending on your internet connection, **download the files** corresponding to **\"yellow\" taxis** for the years 2015 and 2018. Download **at least one month** (the same) for 2015 and 2018, if you can download all of them.\n",
    "\n",
    "**Hint.** The 12 csv for 2015 are about 23GB in total, but the corresponding parquet file, if you can create it for all 12 months, is only about 3GB."
   ]
  },
  {
   "cell_type": "markdown",
   "metadata": {},
   "source": [
    "You **might** need the following stuff in order to work with GPS coordinates and to plot things easily."
   ]
  },
  {
   "cell_type": "code",
   "execution_count": 1,
   "metadata": {
    "ExecuteTime": {
     "end_time": "2020-06-05T18:01:09.128571Z",
     "start_time": "2020-06-05T18:00:57.543900Z"
    }
   },
   "outputs": [
    {
     "name": "stdout",
     "output_type": "stream",
     "text": [
      "Requirement already satisfied: geojson in /usr/local/lib/python3.7/dist-packages (2.5.0)\n",
      "Requirement already satisfied: geopandas in /usr/local/lib/python3.7/dist-packages (0.7.0)\n",
      "Requirement already satisfied: plotly in /usr/local/lib/python3.7/dist-packages (4.8.1)\n",
      "Requirement already satisfied: geopy in /usr/local/lib/python3.7/dist-packages (1.22.0)\n",
      "Requirement already satisfied: ipyleaflet in /usr/local/lib/python3.7/dist-packages (0.13.0)\n",
      "Requirement already satisfied: pandas>=0.23.0 in /usr/local/lib/python3.7/dist-packages (from geopandas) (0.25.1)\n",
      "Requirement already satisfied: pyproj>=2.2.0 in /usr/local/lib/python3.7/dist-packages (from geopandas) (2.6.1.post1)\n",
      "Requirement already satisfied: fiona in /usr/local/lib/python3.7/dist-packages (from geopandas) (1.8.13.post1)\n",
      "Requirement already satisfied: shapely in /usr/local/lib/python3.7/dist-packages (from geopandas) (1.7.0)\n",
      "Requirement already satisfied: six in /usr/lib/python3/dist-packages (from plotly) (1.11.0)\n",
      "Requirement already satisfied: retrying>=1.3.3 in /usr/local/lib/python3.7/dist-packages (from plotly) (1.3.3)\n",
      "Requirement already satisfied: geographiclib<2,>=1.49 in /usr/local/lib/python3.7/dist-packages (from geopy) (1.50)\n",
      "Requirement already satisfied: branca<0.4,>=0.3.1 in /usr/local/lib/python3.7/dist-packages (from ipyleaflet) (0.3.1)\n",
      "Requirement already satisfied: traittypes<3,>=0.2.1 in /usr/local/lib/python3.7/dist-packages (from ipyleaflet) (0.2.1)\n",
      "Requirement already satisfied: ipywidgets<8,>=7.5.0 in /usr/local/lib/python3.7/dist-packages (from ipyleaflet) (7.5.1)\n",
      "Requirement already satisfied: python-dateutil>=2.6.1 in /usr/local/lib/python3.7/dist-packages (from pandas>=0.23.0->geopandas) (2.8.0)\n",
      "Requirement already satisfied: pytz>=2017.2 in /usr/local/lib/python3.7/dist-packages (from pandas>=0.23.0->geopandas) (2019.3)\n",
      "Requirement already satisfied: numpy>=1.13.3 in /usr/local/lib/python3.7/dist-packages (from pandas>=0.23.0->geopandas) (1.17.2)\n",
      "Requirement already satisfied: munch in /usr/local/lib/python3.7/dist-packages (from fiona->geopandas) (2.5.0)\n",
      "Requirement already satisfied: attrs>=17 in /usr/local/lib/python3.7/dist-packages (from fiona->geopandas) (19.2.0)\n",
      "Requirement already satisfied: click-plugins>=1.0 in /usr/local/lib/python3.7/dist-packages (from fiona->geopandas) (1.1.1)\n",
      "Requirement already satisfied: click<8,>=4.0 in /usr/local/lib/python3.7/dist-packages (from fiona->geopandas) (7.0)\n",
      "Requirement already satisfied: cligj>=0.5 in /usr/local/lib/python3.7/dist-packages (from fiona->geopandas) (0.5.0)\n",
      "Requirement already satisfied: jinja2 in /usr/local/lib/python3.7/dist-packages (from branca<0.4,>=0.3.1->ipyleaflet) (2.10.1)\n",
      "Requirement already satisfied: traitlets>=4.2.2 in /usr/local/lib/python3.7/dist-packages (from traittypes<3,>=0.2.1->ipyleaflet) (4.3.2)\n",
      "Requirement already satisfied: widgetsnbextension~=3.5.0 in /usr/local/lib/python3.7/dist-packages (from ipywidgets<8,>=7.5.0->ipyleaflet) (3.5.1)\n",
      "Requirement already satisfied: nbformat>=4.2.0 in /usr/local/lib/python3.7/dist-packages (from ipywidgets<8,>=7.5.0->ipyleaflet) (4.4.0)\n",
      "Requirement already satisfied: ipykernel>=4.5.1 in /usr/local/lib/python3.7/dist-packages (from ipywidgets<8,>=7.5.0->ipyleaflet) (5.1.2)\n",
      "Requirement already satisfied: ipython>=4.0.0; python_version >= \"3.3\" in /usr/local/lib/python3.7/dist-packages (from ipywidgets<8,>=7.5.0->ipyleaflet) (7.8.0)\n",
      "Requirement already satisfied: MarkupSafe>=0.23 in /usr/local/lib/python3.7/dist-packages (from jinja2->branca<0.4,>=0.3.1->ipyleaflet) (1.1.1)\n",
      "Requirement already satisfied: decorator in /usr/local/lib/python3.7/dist-packages (from traitlets>=4.2.2->traittypes<3,>=0.2.1->ipyleaflet) (4.4.0)\n",
      "Requirement already satisfied: ipython-genutils in /usr/local/lib/python3.7/dist-packages (from traitlets>=4.2.2->traittypes<3,>=0.2.1->ipyleaflet) (0.2.0)\n",
      "Requirement already satisfied: notebook>=4.4.1 in /usr/local/lib/python3.7/dist-packages (from widgetsnbextension~=3.5.0->ipywidgets<8,>=7.5.0->ipyleaflet) (6.0.1)\n",
      "Requirement already satisfied: jupyter-core in /usr/local/lib/python3.7/dist-packages (from nbformat>=4.2.0->ipywidgets<8,>=7.5.0->ipyleaflet) (4.5.0)\n",
      "Requirement already satisfied: jsonschema!=2.5.0,>=2.4 in /usr/local/lib/python3.7/dist-packages (from nbformat>=4.2.0->ipywidgets<8,>=7.5.0->ipyleaflet) (3.0.2)\n",
      "Requirement already satisfied: tornado>=4.2 in /usr/local/lib/python3.7/dist-packages (from ipykernel>=4.5.1->ipywidgets<8,>=7.5.0->ipyleaflet) (6.0.3)\n",
      "Requirement already satisfied: jupyter-client in /usr/local/lib/python3.7/dist-packages (from ipykernel>=4.5.1->ipywidgets<8,>=7.5.0->ipyleaflet) (5.3.3)\n",
      "Requirement already satisfied: pexpect; sys_platform != \"win32\" in /usr/local/lib/python3.7/dist-packages (from ipython>=4.0.0; python_version >= \"3.3\"->ipywidgets<8,>=7.5.0->ipyleaflet) (4.7.0)\n",
      "Requirement already satisfied: prompt-toolkit<2.1.0,>=2.0.0 in /usr/local/lib/python3.7/dist-packages (from ipython>=4.0.0; python_version >= \"3.3\"->ipywidgets<8,>=7.5.0->ipyleaflet) (2.0.9)\n",
      "Requirement already satisfied: pygments in /usr/local/lib/python3.7/dist-packages (from ipython>=4.0.0; python_version >= \"3.3\"->ipywidgets<8,>=7.5.0->ipyleaflet) (2.4.2)\n",
      "Requirement already satisfied: backcall in /usr/local/lib/python3.7/dist-packages (from ipython>=4.0.0; python_version >= \"3.3\"->ipywidgets<8,>=7.5.0->ipyleaflet) (0.1.0)\n",
      "Requirement already satisfied: pickleshare in /usr/local/lib/python3.7/dist-packages (from ipython>=4.0.0; python_version >= \"3.3\"->ipywidgets<8,>=7.5.0->ipyleaflet) (0.7.5)\n",
      "Requirement already satisfied: jedi>=0.10 in /usr/local/lib/python3.7/dist-packages (from ipython>=4.0.0; python_version >= \"3.3\"->ipywidgets<8,>=7.5.0->ipyleaflet) (0.15.1)\n",
      "Requirement already satisfied: setuptools>=18.5 in /usr/local/lib/python3.7/dist-packages (from ipython>=4.0.0; python_version >= \"3.3\"->ipywidgets<8,>=7.5.0->ipyleaflet) (45.1.0)\n",
      "Requirement already satisfied: terminado>=0.8.1 in /usr/local/lib/python3.7/dist-packages (from notebook>=4.4.1->widgetsnbextension~=3.5.0->ipywidgets<8,>=7.5.0->ipyleaflet) (0.8.2)\n",
      "Requirement already satisfied: prometheus-client in /usr/local/lib/python3.7/dist-packages (from notebook>=4.4.1->widgetsnbextension~=3.5.0->ipywidgets<8,>=7.5.0->ipyleaflet) (0.7.1)\n",
      "Requirement already satisfied: Send2Trash in /usr/local/lib/python3.7/dist-packages (from notebook>=4.4.1->widgetsnbextension~=3.5.0->ipywidgets<8,>=7.5.0->ipyleaflet) (1.5.0)\n",
      "Requirement already satisfied: pyzmq>=17 in /usr/local/lib/python3.7/dist-packages (from notebook>=4.4.1->widgetsnbextension~=3.5.0->ipywidgets<8,>=7.5.0->ipyleaflet) (18.1.0)\n",
      "Requirement already satisfied: nbconvert in /usr/local/lib/python3.7/dist-packages (from notebook>=4.4.1->widgetsnbextension~=3.5.0->ipywidgets<8,>=7.5.0->ipyleaflet) (5.6.0)\n",
      "Requirement already satisfied: pyrsistent>=0.14.0 in /usr/local/lib/python3.7/dist-packages (from jsonschema!=2.5.0,>=2.4->nbformat>=4.2.0->ipywidgets<8,>=7.5.0->ipyleaflet) (0.15.4)\n",
      "Requirement already satisfied: ptyprocess>=0.5 in /usr/local/lib/python3.7/dist-packages (from pexpect; sys_platform != \"win32\"->ipython>=4.0.0; python_version >= \"3.3\"->ipywidgets<8,>=7.5.0->ipyleaflet) (0.6.0)\n",
      "Requirement already satisfied: wcwidth in /usr/local/lib/python3.7/dist-packages (from prompt-toolkit<2.1.0,>=2.0.0->ipython>=4.0.0; python_version >= \"3.3\"->ipywidgets<8,>=7.5.0->ipyleaflet) (0.1.7)\n",
      "Requirement already satisfied: parso>=0.5.0 in /usr/local/lib/python3.7/dist-packages (from jedi>=0.10->ipython>=4.0.0; python_version >= \"3.3\"->ipywidgets<8,>=7.5.0->ipyleaflet) (0.5.1)\n",
      "Requirement already satisfied: defusedxml in /usr/local/lib/python3.7/dist-packages (from nbconvert->notebook>=4.4.1->widgetsnbextension~=3.5.0->ipywidgets<8,>=7.5.0->ipyleaflet) (0.6.0)\n",
      "Requirement already satisfied: entrypoints>=0.2.2 in /usr/local/lib/python3.7/dist-packages (from nbconvert->notebook>=4.4.1->widgetsnbextension~=3.5.0->ipywidgets<8,>=7.5.0->ipyleaflet) (0.3)\n",
      "Requirement already satisfied: pandocfilters>=1.4.1 in /usr/local/lib/python3.7/dist-packages (from nbconvert->notebook>=4.4.1->widgetsnbextension~=3.5.0->ipywidgets<8,>=7.5.0->ipyleaflet) (1.4.2)\n",
      "Requirement already satisfied: testpath in /usr/local/lib/python3.7/dist-packages (from nbconvert->notebook>=4.4.1->widgetsnbextension~=3.5.0->ipywidgets<8,>=7.5.0->ipyleaflet) (0.4.2)\n",
      "Requirement already satisfied: bleach in /usr/local/lib/python3.7/dist-packages (from nbconvert->notebook>=4.4.1->widgetsnbextension~=3.5.0->ipywidgets<8,>=7.5.0->ipyleaflet) (3.1.0)\n"
     ]
    },
    {
     "name": "stdout",
     "output_type": "stream",
     "text": [
      "Requirement already satisfied: mistune<2,>=0.8.1 in /usr/local/lib/python3.7/dist-packages (from nbconvert->notebook>=4.4.1->widgetsnbextension~=3.5.0->ipywidgets<8,>=7.5.0->ipyleaflet) (0.8.4)\n",
      "Requirement already satisfied: webencodings in /usr/local/lib/python3.7/dist-packages (from bleach->nbconvert->notebook>=4.4.1->widgetsnbextension~=3.5.0->ipywidgets<8,>=7.5.0->ipyleaflet) (0.5.1)\n",
      "\u001b[33mWARNING: You are using pip version 20.0.2; however, version 20.1.1 is available.\n",
      "You should consider upgrading via the '/usr/bin/python3 -m pip install --upgrade pip' command.\u001b[0m\n"
     ]
    }
   ],
   "source": [
    "!pip install geojson geopandas plotly geopy ipyleaflet"
   ]
  },
  {
   "cell_type": "code",
   "execution_count": 2,
   "metadata": {
    "ExecuteTime": {
     "end_time": "2020-06-05T18:01:18.691543Z",
     "start_time": "2020-06-05T18:01:12.942404Z"
    },
    "scrolled": true
   },
   "outputs": [
    {
     "name": "stdout",
     "output_type": "stream",
     "text": [
      "Requirement already satisfied: pyshp in /usr/local/lib/python3.7/dist-packages (2.1.0)\n",
      "\u001b[33mWARNING: You are using pip version 20.0.2; however, version 20.1.1 is available.\n",
      "You should consider upgrading via the '/usr/bin/python3 -m pip install --upgrade pip' command.\u001b[0m\n"
     ]
    }
   ],
   "source": [
    "!pip install pyshp"
   ]
  },
  {
   "cell_type": "code",
   "execution_count": 3,
   "metadata": {
    "ExecuteTime": {
     "end_time": "2020-06-05T18:01:44.769533Z",
     "start_time": "2020-06-05T18:01:23.218992Z"
    }
   },
   "outputs": [],
   "source": [
    "# import the usual suspects\n",
    "import pandas as pd\n",
    "import numpy as np\n",
    "import matplotlib.pyplot as plt\n",
    "import random as rand\n",
    "import os\n",
    "from pathlib import Path\n",
    "import sys\n",
    "import timeit\n",
    "import shapefile\n",
    "import urllib.request\n",
    "import zipfile\n",
    "import random\n",
    "import itertools\n",
    "import math\n",
    "import geopandas as gpd\n",
    "import seaborn as sns\n",
    "from pathlib import Path\n",
    "# spark\n",
    "from pyspark import SparkConf, SparkContext\n",
    "from pyspark.sql.functions import asc, desc\n",
    "from pyspark.sql.functions import year, dayofweek, hour\n",
    "from pyspark import StorageLevel\n",
    "from pyspark.sql import SparkSession\n",
    "from pyspark.sql import Window\n",
    "from pyspark.sql.functions import col\n",
    "import pyspark.sql.functions as fn\n",
    "from pyspark.sql.catalog import Catalog\n",
    "from pyspark.sql.types import StructType, StructField\n",
    "from pyspark.sql.types import IntegerType, StringType\n",
    "from pyspark.sql.types import *\n",
    "from pyspark.sql.functions import isnan, when, count, col\n",
    "from pyspark.sql import SQLContext"
   ]
  },
  {
   "cell_type": "code",
   "execution_count": 4,
   "metadata": {
    "ExecuteTime": {
     "end_time": "2020-06-05T18:01:49.292321Z",
     "start_time": "2020-06-05T18:01:49.167163Z"
    }
   },
   "outputs": [],
   "source": [
    "#telechargement du fichier de données de decembre 2015\n",
    "data_2015_12_path = Path('yellow_tripdata_2015-12.csv')\n",
    "if not data_2015_12_path.exists():\n",
    "    urllib.request.urlretrieve(\"https://s3.amazonaws.com/nyc-tlc/trip+data/yellow_tripdata_2015-12.csv\", \"yellow_tripdata_2015-12.csv\")"
   ]
  },
  {
   "cell_type": "code",
   "execution_count": 5,
   "metadata": {
    "ExecuteTime": {
     "end_time": "2020-06-05T18:01:51.011630Z",
     "start_time": "2020-06-05T18:01:50.934152Z"
    }
   },
   "outputs": [],
   "source": [
    "#telechargement du fichier de données de decembre 2018\n",
    "data_2018_12_path = Path('yellow_tripdata_2018-12.csv')\n",
    "if not data_2018_12_path.exists():\n",
    "    urllib.request.urlretrieve(\"https://s3.amazonaws.com/nyc-tlc/trip+data/yellow_tripdata_2018-12.csv\", \"yellow_tripdata_2018-12.csv\")"
   ]
  },
  {
   "cell_type": "markdown",
   "metadata": {},
   "source": [
    "For this homework **we will let you decide on the tools to use** (expected for Spark) and to **find out information all by yourself** (but don't hesitate to ask questions on the `slack` channel)."
   ]
  },
  {
   "cell_type": "code",
   "execution_count": 6,
   "metadata": {
    "ExecuteTime": {
     "end_time": "2020-06-05T18:02:19.781859Z",
     "start_time": "2020-06-05T18:01:55.008682Z"
    }
   },
   "outputs": [],
   "source": [
    "conf = SparkConf().setAppName(\"Spark NY Taxis trips\")\n",
    "conf.set(\"spark.driver.memory\", \"4g\")\n",
    "sc = SparkContext(conf=conf)\n",
    "\n",
    "spark = (SparkSession\n",
    "    .builder\n",
    "    .appName(\"Spark NY Taxis trips\")\n",
    "    .getOrCreate()\n",
    ")"
   ]
  },
  {
   "cell_type": "markdown",
   "metadata": {
    "nteract": {
     "transient": {
      "deleting": false
     }
    }
   },
   "source": [
    "# Loading data as parquet files\n",
    "\n",
    "We want to organize the data on a per year and per service basis. \n",
    "We want to end up with one `parquet` file for each year and each taxi service, since parquet is much better than CSV files.\n",
    "\n",
    "**Hint.** Depending on your internet connection and your laptop, you can use only the \"yellow\" service and use one month of 2015 and 2018\n",
    "\n",
    "CSV files can contain corrupted lines. You may have to work in order to perform ETL (Extract-Transform-Load) in order obtain a properly typed data frame.\n",
    "\n",
    "You are invited to proceed as follows:\n",
    "\n",
    "1. Try to read the CSV file without imposing a schema. \n",
    "1. Inspect the inferred schema. Do you agree with Spark's typing decision?\n",
    "1. Eventually correct the schema and read again the data\n",
    "1. Save the data into parquet files\n",
    "1. In the rest of your work, **you will only use the parquet files you created**, not the csv files (don't forget to choose a partitioning column and a number of partitions when creating the parquet files).\n",
    "\n",
    "**Hint.** Don't forget to ask `Spark` to use all the memory and ressources from your computer.\n",
    "\n",
    "**Hint.** Don't foreget that you should specify a partitioning column and a number of partitions when creating the parquet files.\n",
    "\n",
    "**Hint.** Note that the schemas of the 2015 and 2018 data are different...\n",
    "\n",
    "**Hint.** When working on this, ask you and answer to the following questions:\n",
    "\n",
    "1. What is the `StorageLevel` of the dataframe after reading the csv files?\n",
    "1. What is the number of partitions of the dataframe? \n",
    "1. Is it possible to tune this number at loading time? \n",
    "1. Why would we want to modify the number of partitions when creating the parquet files?"
   ]
  },
  {
   "cell_type": "markdown",
   "metadata": {},
   "source": [
    "## Try to read the CSV file without imposing a schema. "
   ]
  },
  {
   "cell_type": "code",
   "execution_count": 7,
   "metadata": {
    "ExecuteTime": {
     "end_time": "2020-06-05T18:02:45.221838Z",
     "start_time": "2020-06-05T18:02:45.201031Z"
    }
   },
   "outputs": [],
   "source": [
    "def read_csv (input_file_name):\n",
    "    df = spark.read.load(\n",
    "    input_file_name,\n",
    "    format=\"csv\", \n",
    "    sep=\",\", \n",
    "    inferSchema=\"false\", \n",
    "    header=\"true\"\n",
    "    )\n",
    "    return df"
   ]
  },
  {
   "cell_type": "code",
   "execution_count": 8,
   "metadata": {
    "ExecuteTime": {
     "end_time": "2020-06-05T18:03:00.930367Z",
     "start_time": "2020-06-05T18:02:47.329101Z"
    }
   },
   "outputs": [
    {
     "data": {
      "text/plain": [
       "Row(VendorID='2', tpep_pickup_datetime='2015-12-01 00:00:00', tpep_dropoff_datetime='2015-12-01 00:05:16', passenger_count='5', trip_distance='.96', pickup_longitude='-73.979942321777344', pickup_latitude='40.765380859375', RatecodeID='1', store_and_fwd_flag='N', dropoff_longitude='-73.96630859375', dropoff_latitude='40.763088226318359', payment_type='1', fare_amount='5.5', extra='0.5', mta_tax='0.5', tip_amount='1', tolls_amount='0', improvement_surcharge='0.3', total_amount='7.8')"
      ]
     },
     "execution_count": 8,
     "metadata": {},
     "output_type": "execute_result"
    }
   ],
   "source": [
    "#Lecture données de 2015\n",
    "df_2015_12 = read_csv(\"yellow_tripdata_2015-12.csv\")\n",
    "df_2015_12.first()"
   ]
  },
  {
   "cell_type": "code",
   "execution_count": 9,
   "metadata": {
    "ExecuteTime": {
     "end_time": "2020-06-05T18:03:05.507760Z",
     "start_time": "2020-06-05T18:03:04.513447Z"
    }
   },
   "outputs": [
    {
     "data": {
      "text/plain": [
       "Row(VendorID='1', tpep_pickup_datetime='2018-12-01 00:28:22', tpep_dropoff_datetime='2018-12-01 00:44:07', passenger_count='2', trip_distance='2.50', RatecodeID='1', store_and_fwd_flag='N', PULocationID='148', DOLocationID='234', payment_type='1', fare_amount='12', extra='0.5', mta_tax='0.5', tip_amount='3.95', tolls_amount='0', improvement_surcharge='0.3', total_amount='17.25')"
      ]
     },
     "execution_count": 9,
     "metadata": {},
     "output_type": "execute_result"
    }
   ],
   "source": [
    "#Lecture données de 2018\n",
    "df_2018_12 = read_csv(\"yellow_tripdata_2018-12.csv\")\n",
    "df_2018_12.first()"
   ]
  },
  {
   "cell_type": "markdown",
   "metadata": {},
   "source": [
    "### What is the StorageLevel of the dataframe after reading the csv files?"
   ]
  },
  {
   "cell_type": "code",
   "execution_count": 10,
   "metadata": {
    "ExecuteTime": {
     "end_time": "2020-06-05T18:03:08.809485Z",
     "start_time": "2020-06-05T18:03:08.632501Z"
    }
   },
   "outputs": [
    {
     "name": "stdout",
     "output_type": "stream",
     "text": [
      "Serialized 1x Replicated\n"
     ]
    }
   ],
   "source": [
    "# 1. Le storageLevel par défaut est MEMORY_ONLY: Serialized 1x Replicated.\n",
    "print(df_2018_12.rdd.getStorageLevel())"
   ]
  },
  {
   "cell_type": "markdown",
   "metadata": {},
   "source": [
    "### What is the number of partitions of the dataframe? \n",
    "6 partitions pour 12-2018 et 14 pour 12-2015"
   ]
  },
  {
   "cell_type": "code",
   "execution_count": 11,
   "metadata": {
    "ExecuteTime": {
     "end_time": "2020-06-05T18:03:11.268325Z",
     "start_time": "2020-06-05T18:03:11.117407Z"
    }
   },
   "outputs": [
    {
     "name": "stdout",
     "output_type": "stream",
     "text": [
      "6\n",
      "14\n"
     ]
    }
   ],
   "source": [
    "print(df_2018_12.rdd.getNumPartitions())\n",
    "print(df_2015_12.rdd.getNumPartitions())"
   ]
  },
  {
   "cell_type": "markdown",
   "metadata": {},
   "source": [
    "### Is it possible to tune this number at loading time?\n",
    "Oui en utilisant la methode .repartition(Nombre_De_Partition) lors du read"
   ]
  },
  {
   "cell_type": "markdown",
   "metadata": {},
   "source": [
    "## Inspect the inferred schema. Do you agree with Spark's typing decision?\n",
    "Reponse:\n",
    "Pour ces deux dataframes, le schéma contient seulement des colonnes\n",
    "de données de type string.\n",
    "Avoir un type \"général\" pour les données est pratique pour les collecter mais pas pour les utiliser \n",
    "ensuite, par exemple pour utiliser les dates, les nombres.\n",
    "Il faut donc proceder a une convertion de type pour mieux exploiter les données"
   ]
  },
  {
   "cell_type": "code",
   "execution_count": 12,
   "metadata": {
    "ExecuteTime": {
     "end_time": "2020-06-05T18:03:16.396353Z",
     "start_time": "2020-06-05T18:03:16.344275Z"
    }
   },
   "outputs": [
    {
     "name": "stdout",
     "output_type": "stream",
     "text": [
      "root\n",
      " |-- VendorID: string (nullable = true)\n",
      " |-- tpep_pickup_datetime: string (nullable = true)\n",
      " |-- tpep_dropoff_datetime: string (nullable = true)\n",
      " |-- passenger_count: string (nullable = true)\n",
      " |-- trip_distance: string (nullable = true)\n",
      " |-- pickup_longitude: string (nullable = true)\n",
      " |-- pickup_latitude: string (nullable = true)\n",
      " |-- RatecodeID: string (nullable = true)\n",
      " |-- store_and_fwd_flag: string (nullable = true)\n",
      " |-- dropoff_longitude: string (nullable = true)\n",
      " |-- dropoff_latitude: string (nullable = true)\n",
      " |-- payment_type: string (nullable = true)\n",
      " |-- fare_amount: string (nullable = true)\n",
      " |-- extra: string (nullable = true)\n",
      " |-- mta_tax: string (nullable = true)\n",
      " |-- tip_amount: string (nullable = true)\n",
      " |-- tolls_amount: string (nullable = true)\n",
      " |-- improvement_surcharge: string (nullable = true)\n",
      " |-- total_amount: string (nullable = true)\n",
      "\n"
     ]
    }
   ],
   "source": [
    "#Inspection du schema de 2015\n",
    "df_2015_12.printSchema()"
   ]
  },
  {
   "cell_type": "code",
   "execution_count": 13,
   "metadata": {
    "ExecuteTime": {
     "end_time": "2020-06-05T18:03:18.584170Z",
     "start_time": "2020-06-05T18:03:18.569748Z"
    }
   },
   "outputs": [
    {
     "name": "stdout",
     "output_type": "stream",
     "text": [
      "root\n",
      " |-- VendorID: string (nullable = true)\n",
      " |-- tpep_pickup_datetime: string (nullable = true)\n",
      " |-- tpep_dropoff_datetime: string (nullable = true)\n",
      " |-- passenger_count: string (nullable = true)\n",
      " |-- trip_distance: string (nullable = true)\n",
      " |-- RatecodeID: string (nullable = true)\n",
      " |-- store_and_fwd_flag: string (nullable = true)\n",
      " |-- PULocationID: string (nullable = true)\n",
      " |-- DOLocationID: string (nullable = true)\n",
      " |-- payment_type: string (nullable = true)\n",
      " |-- fare_amount: string (nullable = true)\n",
      " |-- extra: string (nullable = true)\n",
      " |-- mta_tax: string (nullable = true)\n",
      " |-- tip_amount: string (nullable = true)\n",
      " |-- tolls_amount: string (nullable = true)\n",
      " |-- improvement_surcharge: string (nullable = true)\n",
      " |-- total_amount: string (nullable = true)\n",
      "\n"
     ]
    }
   ],
   "source": [
    "#Inspection du schema de 2018\n",
    "df_2018_12.printSchema()"
   ]
  },
  {
   "cell_type": "markdown",
   "metadata": {},
   "source": [
    "On remarque :\n",
    "\n",
    "Le schema de 2015 comporte 4 colonnes qui ne sont pas dans 2018\n",
    "pickup_longitude, pickup_latitude, \n",
    "dropoff_longitude, dropoff_latitude\n",
    "\n",
    "Le schema de 2018 comporte 2 colonnes qui ne sont pas dans 2015\n",
    "PULocationID, DOLocationID\n",
    "\n",
    "Apres plusieurs recherche on comprend que PULocationID et DOLocationID sont des id d'endroit precis dans NY. Grace a un fochier definnissant les lat et long en fonction des ID on va donc pouvoir ramener le schema de 2018 au meme que celui de 2015.\n",
    "Ainsi PULocationID nous donnera les colonnes pickup_longitude, pickup_latitude.\n",
    "Et DOLocationID nous donnera les colonnes dropoff_longitude, dropoff_latitude."
   ]
  },
  {
   "cell_type": "markdown",
   "metadata": {},
   "source": [
    "## Convert data_2018_12 from old schema to same schema as data_2015_12"
   ]
  },
  {
   "cell_type": "code",
   "execution_count": 14,
   "metadata": {
    "ExecuteTime": {
     "end_time": "2020-06-05T18:03:22.433803Z",
     "start_time": "2020-06-05T18:03:22.416221Z"
    }
   },
   "outputs": [],
   "source": [
    "#telechargement du fichier de données qui nous permettera\n",
    "# d'avoir le meme schema pour les df de 2018 et 2015\n",
    "shape_path = Path('shape')\n",
    "if not shape_path.exists():\n",
    "    urllib.request.urlretrieve(\"https://data.cityofnewyork.us/api/geospatial/d3c5-ddgc?method=export&format=Original\", \"taxi_zones.zip\")\n",
    "    with zipfile.ZipFile(\"taxi_zones.zip\",\"r\") as zip_ref:\n",
    "        zip_ref.extractall(\"./shape\")"
   ]
  },
  {
   "cell_type": "markdown",
   "metadata": {},
   "source": [
    "Lecture du fichier shape"
   ]
  },
  {
   "cell_type": "code",
   "execution_count": 15,
   "metadata": {
    "ExecuteTime": {
     "end_time": "2020-06-05T18:03:28.906425Z",
     "start_time": "2020-06-05T18:03:24.838248Z"
    }
   },
   "outputs": [],
   "source": [
    "def get_lat_lon(sf):\n",
    "    content = []\n",
    "    for sr in sf.shapeRecords():\n",
    "        shape = sr.shape\n",
    "        rec = sr.record\n",
    "        loc_id = rec[shp_dic['LocationID']]\n",
    "        \n",
    "        x = (shape.bbox[0]+shape.bbox[2])/2\n",
    "        y = (shape.bbox[1]+shape.bbox[3])/2\n",
    "        \n",
    "        content.append((loc_id, x, y))\n",
    "    return pd.DataFrame(content, columns=[\"LocationID\", \"longitude\", \"latitude\"])\n",
    "\n",
    "gpd.read_file('shape/taxi_zones.shp').to_crs(epsg=4326).to_file(\"shape/taxi_zones_4326.shp\")\n",
    "sf_4326 = shapefile.Reader(\"shape/taxi_zones_4326.shp\")\n",
    "\n",
    "\n",
    "fields_name = [field[0] for field in sf_4326.fields[1:]]\n",
    "shp_dic = dict(zip(fields_name, list(range(len(fields_name)))))\n",
    "attributes = sf_4326.records()\n",
    "shp_attr = [dict(zip(fields_name, attr)) for attr in attributes]\n",
    "\n",
    "pd_df_loc = pd.DataFrame(shp_attr).join(get_lat_lon(sf_4326)\\\n",
    "                                        .set_index(\"LocationID\"), on=\"LocationID\")\n",
    "sp_df_loc = spark.createDataFrame(data=pd_df_loc)\n",
    "sp_df_loc = sp_df_loc\\\n",
    "            .withColumn('LocationID', sp_df_loc['LocationID'].cast(IntegerType()))\n",
    "sp_df_loc = sp_df_loc.groupBy(\"LocationID\").agg({'longitude':'avg', 'latitude':'avg'})\n",
    "sp_df_loc = sp_df_loc.withColumnRenamed(\"AVG(longitude)\", \"longitude\")\\\n",
    "            .withColumnRenamed(\"AVG(latitude)\", \"latitude\")\n",
    "PULocationID = sp_df_loc.selectExpr('LocationID as PULocationID','longitude as pickup_longitude','latitude as pickup_latitude')\n",
    "DOLocationID = sp_df_loc.selectExpr('LocationID as DOLocationID','longitude as dropoff_longitude','latitude as dropoff_latitude')"
   ]
  },
  {
   "cell_type": "code",
   "execution_count": 16,
   "metadata": {
    "ExecuteTime": {
     "end_time": "2020-06-05T18:03:31.832206Z",
     "start_time": "2020-06-05T18:03:30.169825Z"
    }
   },
   "outputs": [
    {
     "name": "stdout",
     "output_type": "stream",
     "text": [
      "+----------+-------------------+------------------+\n",
      "|LocationID|round(longitude, 3)|round(latitude, 3)|\n",
      "+----------+-------------------+------------------+\n",
      "|         1|            -74.172|            40.689|\n",
      "|         2|            -73.822|            40.611|\n",
      "|         3|            -73.845|            40.866|\n",
      "|         4|            -73.978|            40.724|\n",
      "|         5|            -74.188|            40.551|\n",
      "|         6|            -74.073|            40.599|\n",
      "|         7|             -73.92|            40.761|\n",
      "|         8|            -73.923|            40.779|\n",
      "|         9|            -73.787|            40.754|\n",
      "|        10|            -73.789|            40.678|\n",
      "|        11|            -74.008|            40.604|\n",
      "|        12|            -74.016|            40.702|\n",
      "|        13|            -74.016|            40.712|\n",
      "|        14|            -74.029|            40.624|\n",
      "|        15|            -73.785|            40.785|\n",
      "|        16|            -73.775|            40.761|\n",
      "|        17|            -73.951|            40.692|\n",
      "|        18|            -73.891|            40.869|\n",
      "|        19|            -73.729|            40.737|\n",
      "|        20|            -73.886|            40.858|\n",
      "+----------+-------------------+------------------+\n",
      "only showing top 20 rows\n",
      "\n"
     ]
    }
   ],
   "source": [
    "from pyspark.sql.functions import round, col\n",
    "spark.createDataFrame(data=pd_df_loc).select(\"*\", round(col('longitude'),3),round(col('latitude'),3))\\\n",
    ".select('LocationID','round(longitude, 3)','round(latitude, 3)').show()"
   ]
  },
  {
   "cell_type": "code",
   "execution_count": 17,
   "metadata": {
    "ExecuteTime": {
     "end_time": "2020-06-05T18:03:36.764331Z",
     "start_time": "2020-06-05T18:03:34.043461Z"
    }
   },
   "outputs": [
    {
     "name": "stdout",
     "output_type": "stream",
     "text": [
      "+----------+------------------+------------------+\n",
      "|LocationID|          latitude|         longitude|\n",
      "+----------+------------------+------------------+\n",
      "|       148|40.719101661499906|-73.99066416299985|\n",
      "|       243| 40.85863655093581| -73.9357980222621|\n",
      "+----------+------------------+------------------+\n",
      "only showing top 2 rows\n",
      "\n"
     ]
    }
   ],
   "source": [
    "sp_df_loc.show(2)"
   ]
  },
  {
   "cell_type": "code",
   "execution_count": 18,
   "metadata": {
    "ExecuteTime": {
     "end_time": "2020-06-05T18:03:37.994969Z",
     "start_time": "2020-06-05T18:03:37.981142Z"
    }
   },
   "outputs": [
    {
     "name": "stdout",
     "output_type": "stream",
     "text": [
      "root\n",
      " |-- PULocationID: integer (nullable = true)\n",
      " |-- pickup_longitude: double (nullable = true)\n",
      " |-- pickup_latitude: double (nullable = true)\n",
      "\n",
      "root\n",
      " |-- DOLocationID: integer (nullable = true)\n",
      " |-- dropoff_longitude: double (nullable = true)\n",
      " |-- dropoff_latitude: double (nullable = true)\n",
      "\n"
     ]
    }
   ],
   "source": [
    "PULocationID.printSchema()\n",
    "DOLocationID.printSchema()"
   ]
  },
  {
   "cell_type": "code",
   "execution_count": 19,
   "metadata": {
    "ExecuteTime": {
     "end_time": "2020-06-05T18:03:39.825593Z",
     "start_time": "2020-06-05T18:03:39.762854Z"
    }
   },
   "outputs": [],
   "source": [
    "#Preparation de la jointure des deux df\n",
    "df_2018_12 = df_2018_12\\\n",
    "            .withColumn('PULocationID', df_2018_12['PULocationID'].cast(IntegerType()))\\\n",
    "            .withColumn('DOLocationID', df_2018_12['DOLocationID'].cast(IntegerType()))"
   ]
  },
  {
   "cell_type": "code",
   "execution_count": 20,
   "metadata": {
    "ExecuteTime": {
     "end_time": "2020-06-05T18:03:54.028063Z",
     "start_time": "2020-06-05T18:03:40.882986Z"
    }
   },
   "outputs": [
    {
     "name": "stdout",
     "output_type": "stream",
     "text": [
      "8173231\n"
     ]
    }
   ],
   "source": [
    "#Affichage du nombre de ligne pour garder un oeil sur la perte de donnée apres jointure\n",
    "print(df_2018_12.count())"
   ]
  },
  {
   "cell_type": "code",
   "execution_count": 21,
   "metadata": {
    "ExecuteTime": {
     "end_time": "2020-06-05T18:03:55.722982Z",
     "start_time": "2020-06-05T18:03:55.417289Z"
    }
   },
   "outputs": [],
   "source": [
    "#jointure\n",
    "df_2018_12 = df_2018_12.join(PULocationID, on=['PULocationID'], how='inner')\n",
    "df_2018_12 = df_2018_12.join(DOLocationID, on=['DOLocationID'], how='inner')\n",
    "df_2018_12 = df_2018_12.select('VendorID','tpep_pickup_datetime','tpep_dropoff_datetime','passenger_count','trip_distance','pickup_longitude','pickup_latitude','RateCodeID','store_and_fwd_flag','dropoff_longitude','dropoff_latitude','payment_type','fare_amount','extra','mta_tax','tip_amount','tolls_amount','improvement_surcharge','total_amount')"
   ]
  },
  {
   "cell_type": "code",
   "execution_count": 22,
   "metadata": {
    "ExecuteTime": {
     "end_time": "2020-06-05T18:04:41.692790Z",
     "start_time": "2020-06-05T18:03:56.534455Z"
    }
   },
   "outputs": [
    {
     "name": "stdout",
     "output_type": "stream",
     "text": [
      "7984234\n"
     ]
    }
   ],
   "source": [
    "print(df_2018_12.count())"
   ]
  },
  {
   "cell_type": "markdown",
   "metadata": {},
   "source": [
    "Conclusion:\n",
    "On a donc perdu quelque données apres la jointure.\n",
    "Apres recherche, on explique cela par le fait que dans le fichier data_2018 nous avons des PULocationID et DOLocationID qui ont pour valeur 264;265.\n",
    "Ses ID ne sont pas present dans le fichier shape pris depuis le site NYC open data.\n",
    "Par conséquent ses lignes la sont perdu lors de la jointure."
   ]
  },
  {
   "cell_type": "code",
   "execution_count": 23,
   "metadata": {
    "ExecuteTime": {
     "end_time": "2020-06-05T18:04:43.900756Z",
     "start_time": "2020-06-05T18:04:43.888580Z"
    }
   },
   "outputs": [
    {
     "name": "stdout",
     "output_type": "stream",
     "text": [
      "root\n",
      " |-- VendorID: string (nullable = true)\n",
      " |-- tpep_pickup_datetime: string (nullable = true)\n",
      " |-- tpep_dropoff_datetime: string (nullable = true)\n",
      " |-- passenger_count: string (nullable = true)\n",
      " |-- trip_distance: string (nullable = true)\n",
      " |-- pickup_longitude: double (nullable = true)\n",
      " |-- pickup_latitude: double (nullable = true)\n",
      " |-- RateCodeID: string (nullable = true)\n",
      " |-- store_and_fwd_flag: string (nullable = true)\n",
      " |-- dropoff_longitude: double (nullable = true)\n",
      " |-- dropoff_latitude: double (nullable = true)\n",
      " |-- payment_type: string (nullable = true)\n",
      " |-- fare_amount: string (nullable = true)\n",
      " |-- extra: string (nullable = true)\n",
      " |-- mta_tax: string (nullable = true)\n",
      " |-- tip_amount: string (nullable = true)\n",
      " |-- tolls_amount: string (nullable = true)\n",
      " |-- improvement_surcharge: string (nullable = true)\n",
      " |-- total_amount: string (nullable = true)\n",
      "\n"
     ]
    }
   ],
   "source": [
    "#Inspection du schema de 2018\n",
    "df_2018_12.printSchema()"
   ]
  },
  {
   "cell_type": "markdown",
   "metadata": {},
   "source": [
    "## Eventually correct the schema and read again the data\n",
    "Nous avons donc a present deux fichier de données de schema identique dont nous allons maintenant changer les type afin de mieux pouvoir exploiter les données par la suite."
   ]
  },
  {
   "cell_type": "code",
   "execution_count": 24,
   "metadata": {
    "ExecuteTime": {
     "end_time": "2020-06-05T18:04:47.549499Z",
     "start_time": "2020-06-05T18:04:47.524731Z"
    }
   },
   "outputs": [],
   "source": [
    "def type_transformer(df):\n",
    "    df = df\\\n",
    "    .withColumn('VendorID', df['VendorID'].cast(IntegerType()))\\\n",
    "    .withColumn('tpep_pickup_datetime', df['tpep_pickup_datetime'].cast(TimestampType()))\\\n",
    "    .withColumn('tpep_dropoff_datetime', df['tpep_dropoff_datetime'].cast(TimestampType()))\\\n",
    "    .withColumn('passenger_count', df['passenger_count'].cast(IntegerType()))\\\n",
    "    .withColumn('trip_distance', df['trip_distance'].cast(DoubleType()))\\\n",
    "    .withColumn('pickup_longitude', df['pickup_longitude'].cast(DoubleType()))\\\n",
    "    .withColumn('pickup_latitude', df['pickup_latitude'].cast(DoubleType()))\\\n",
    "    .withColumn('RateCodeID', df['RateCodeID'].cast(IntegerType()))\\\n",
    "    .withColumn('dropoff_longitude', df['dropoff_longitude'].cast(DoubleType()))\\\n",
    "    .withColumn('dropoff_latitude', df['dropoff_latitude'].cast(DoubleType()))\\\n",
    "    .withColumn('payment_type', df['payment_type'].cast(IntegerType()))\\\n",
    "    .withColumn('fare_amount', df['fare_amount'].cast(DoubleType()))\\\n",
    "    .withColumn('extra', df['extra'].cast(DoubleType()))\\\n",
    "    .withColumn('mta_tax', df['mta_tax'].cast(DoubleType()))\\\n",
    "    .withColumn('tip_amount', df['tip_amount'].cast(DoubleType()))\\\n",
    "    .withColumn('tolls_amount', df['tolls_amount'].cast(DoubleType()))\\\n",
    "    .withColumn('improvement_surcharge', df['improvement_surcharge'].cast(DoubleType()))\\\n",
    "    .withColumn('total_amount', df['total_amount'].cast(DoubleType()))\n",
    "    return df\n",
    "\n",
    "def year_transformer(df):\n",
    "    year_col = year(col('tpep_pickup_datetime'))\n",
    "    df = df.withColumn('year', year_col)\n",
    "    return df"
   ]
  },
  {
   "cell_type": "code",
   "execution_count": 25,
   "metadata": {
    "ExecuteTime": {
     "end_time": "2020-06-05T18:04:48.789987Z",
     "start_time": "2020-06-05T18:04:48.783357Z"
    }
   },
   "outputs": [],
   "source": [
    "transformers = [\n",
    "    type_transformer,\n",
    "    year_transformer\n",
    "]"
   ]
  },
  {
   "cell_type": "code",
   "execution_count": 26,
   "metadata": {
    "ExecuteTime": {
     "end_time": "2020-06-05T18:04:50.847096Z",
     "start_time": "2020-06-05T18:04:49.866874Z"
    }
   },
   "outputs": [
    {
     "name": "stdout",
     "output_type": "stream",
     "text": [
      "root\n",
      " |-- VendorID: integer (nullable = true)\n",
      " |-- tpep_pickup_datetime: timestamp (nullable = true)\n",
      " |-- tpep_dropoff_datetime: timestamp (nullable = true)\n",
      " |-- passenger_count: integer (nullable = true)\n",
      " |-- trip_distance: double (nullable = true)\n",
      " |-- pickup_longitude: double (nullable = true)\n",
      " |-- pickup_latitude: double (nullable = true)\n",
      " |-- RateCodeID: integer (nullable = true)\n",
      " |-- store_and_fwd_flag: string (nullable = true)\n",
      " |-- dropoff_longitude: double (nullable = true)\n",
      " |-- dropoff_latitude: double (nullable = true)\n",
      " |-- payment_type: integer (nullable = true)\n",
      " |-- fare_amount: double (nullable = true)\n",
      " |-- extra: double (nullable = true)\n",
      " |-- mta_tax: double (nullable = true)\n",
      " |-- tip_amount: double (nullable = true)\n",
      " |-- tolls_amount: double (nullable = true)\n",
      " |-- improvement_surcharge: double (nullable = true)\n",
      " |-- total_amount: double (nullable = true)\n",
      " |-- year: integer (nullable = true)\n",
      "\n",
      "root\n",
      " |-- VendorID: integer (nullable = true)\n",
      " |-- tpep_pickup_datetime: timestamp (nullable = true)\n",
      " |-- tpep_dropoff_datetime: timestamp (nullable = true)\n",
      " |-- passenger_count: integer (nullable = true)\n",
      " |-- trip_distance: double (nullable = true)\n",
      " |-- pickup_longitude: double (nullable = true)\n",
      " |-- pickup_latitude: double (nullable = true)\n",
      " |-- RateCodeID: integer (nullable = true)\n",
      " |-- store_and_fwd_flag: string (nullable = true)\n",
      " |-- dropoff_longitude: double (nullable = true)\n",
      " |-- dropoff_latitude: double (nullable = true)\n",
      " |-- payment_type: integer (nullable = true)\n",
      " |-- fare_amount: double (nullable = true)\n",
      " |-- extra: double (nullable = true)\n",
      " |-- mta_tax: double (nullable = true)\n",
      " |-- tip_amount: double (nullable = true)\n",
      " |-- tolls_amount: double (nullable = true)\n",
      " |-- improvement_surcharge: double (nullable = true)\n",
      " |-- total_amount: double (nullable = true)\n",
      " |-- year: integer (nullable = true)\n",
      "\n"
     ]
    }
   ],
   "source": [
    "#transformation des types des données de 2015 et 2018\n",
    "for transformer in transformers:\n",
    "    df_2015_12 = transformer(df_2015_12)\n",
    "    df_2018_12 = transformer(df_2018_12)\n",
    "\n",
    "df_2015_12.printSchema()\n",
    "df_2018_12.printSchema()"
   ]
  },
  {
   "cell_type": "markdown",
   "metadata": {},
   "source": [
    "## Save the data into parquet files"
   ]
  },
  {
   "cell_type": "code",
   "execution_count": 27,
   "metadata": {
    "ExecuteTime": {
     "end_time": "2020-06-05T18:04:53.547156Z",
     "start_time": "2020-06-05T18:04:53.478357Z"
    }
   },
   "outputs": [],
   "source": [
    "df_records = df_2015_12.union(df_2018_12)"
   ]
  },
  {
   "cell_type": "markdown",
   "metadata": {},
   "source": [
    "Nos données que nous allons etudier sont donc maintenant dans le dataframes df_records.\n",
    "Nous allons donc maintenant creer notre fichier parquet avec un partitionby year afin de pouvoir exploiter ensuite les données selon l'année pour facilement."
   ]
  },
  {
   "cell_type": "markdown",
   "metadata": {},
   "source": [
    "### Why would we want to modify the number of partitions when creating the parquet files?\n",
    "On voudrait modifier le nombre de partitions par défaut (la valeur par défaut de spark.sql.shuffle.partitions est 200) pour l'adapter au dataframe : si c'est un \"petit\" dataframe, 200 c'est trop et si c'est un grand dataframe"
   ]
  },
  {
   "cell_type": "code",
   "execution_count": 29,
   "metadata": {
    "ExecuteTime": {
     "end_time": "2020-06-05T18:05:54.574599Z",
     "start_time": "2020-06-05T18:05:54.495417Z"
    }
   },
   "outputs": [],
   "source": [
    "parquet_path = Path('parquets/data_2015_2018_12.parquet')\n",
    "if not parquet_path.exists():\n",
    "    df_records.write.partitionBy(\"year\").parquet('parquets/data_2015_2018_12.parquet')"
   ]
  },
  {
   "cell_type": "markdown",
   "metadata": {
    "nteract": {
     "transient": {
      "deleting": false
     }
    }
   },
   "source": [
    "# Investigate (at least) one month of data in 2015\n",
    "\n",
    "From now on, you will be using **the parquet files you created for 2015**.\n",
    "\n",
    "We shall visualize several features of taxi traffic during one calendar month\n",
    "in 2015 and the same calendar month in 2018.\n",
    "\n",
    "**Hint.** In order to build appealing graphics, you may stick to `matplotlib + seaborn`, you can use also\n",
    "`plotly`, which is used a lot to build interactive graphics, but you can use whatever you want."
   ]
  },
  {
   "cell_type": "code",
   "execution_count": 30,
   "metadata": {
    "ExecuteTime": {
     "end_time": "2020-06-05T18:06:03.965127Z",
     "start_time": "2020-06-05T18:05:58.026157Z"
    }
   },
   "outputs": [],
   "source": [
    "df = spark.read.parquet('parquets/data_2015_2018_12.parquet')\n",
    "df2015 = spark.read.parquet(\"parquets/data_2015_2018_12.parquet/year=2015\")\n",
    "df2018 = spark.read.parquet(\"parquets/data_2015_2018_12.parquet/year=2018\")"
   ]
  },
  {
   "cell_type": "markdown",
   "metadata": {},
   "source": [
    "The following longitudes and lattitudes encompass Newark and JFK airports, Northern Manhattan and Verazzano bridge."
   ]
  },
  {
   "cell_type": "code",
   "execution_count": 31,
   "metadata": {
    "ExecuteTime": {
     "end_time": "2020-06-05T18:06:05.942904Z",
     "start_time": "2020-06-05T18:06:05.933645Z"
    },
    "jupyter": {
     "outputs_hidden": false,
     "source_hidden": false
    },
    "nteract": {
     "transient": {
      "deleting": false
     }
    }
   },
   "outputs": [],
   "source": [
    "long_min = -74.10\n",
    "long_max = -73.70\n",
    "lat_min = 40.58\n",
    "lat_max = 40.90"
   ]
  },
  {
   "cell_type": "markdown",
   "metadata": {},
   "source": [
    "1. Using these boundaries, **filter the 2015 data** (using pickup and dropoff longitude and latitude) and count the number of trips for each value of `passenger_count` and make a plot of that."
   ]
  },
  {
   "cell_type": "code",
   "execution_count": 32,
   "metadata": {
    "ExecuteTime": {
     "end_time": "2020-06-05T18:06:09.080856Z",
     "start_time": "2020-06-05T18:06:08.837917Z"
    }
   },
   "outputs": [],
   "source": [
    "newdf15 = df2015.filter(df2015.pickup_longitude.between(long_min, long_max) \\\n",
    "                      & df2015.pickup_latitude.between(lat_min, lat_max) \\\n",
    "                      & df2015.dropoff_longitude.between(long_min, long_max) \\\n",
    "                      & df2015.dropoff_latitude.between(lat_min, lat_max))"
   ]
  },
  {
   "cell_type": "code",
   "execution_count": 33,
   "metadata": {
    "ExecuteTime": {
     "end_time": "2020-06-05T18:06:23.691788Z",
     "start_time": "2020-06-05T18:06:09.980197Z"
    }
   },
   "outputs": [
    {
     "name": "stdout",
     "output_type": "stream",
     "text": [
      "+---------------+--------+\n",
      "|passenger_count|count_pc|\n",
      "+---------------+--------+\n",
      "|              0|     395|\n",
      "|              1| 7846583|\n",
      "|              2| 1661766|\n",
      "|              3|  489298|\n",
      "|              4|  254084|\n",
      "|              5|  607410|\n",
      "|              6|  374946|\n",
      "|              7|      18|\n",
      "|              8|       7|\n",
      "|              9|       7|\n",
      "+---------------+--------+\n",
      "\n"
     ]
    }
   ],
   "source": [
    "data = newdf15.groupBy('passenger_count')\\\n",
    "              .agg(fn.count('passenger_count') \\\n",
    "              .alias('count_pc'))\\\n",
    "                .sort(asc('passenger_count'))\n",
    "data.show()"
   ]
  },
  {
   "cell_type": "code",
   "execution_count": 34,
   "metadata": {
    "ExecuteTime": {
     "end_time": "2020-06-05T18:06:40.865713Z",
     "start_time": "2020-06-05T18:06:24.935257Z"
    }
   },
   "outputs": [
    {
     "data": {
      "text/plain": [
       "<BarContainer object of 10 artists>"
      ]
     },
     "execution_count": 34,
     "metadata": {},
     "output_type": "execute_result"
    },
    {
     "data": {
      "image/png": "[encoded data removed]",
      "text/plain": [
       "<Figure size 432x288 with 1 Axes>"
      ]
     },
     "metadata": {
      "needs_background": "light"
     },
     "output_type": "display_data"
    }
   ],
   "source": [
    "import matplotlib.pyplot as plt\n",
    "\n",
    "x_array = [row.passenger_count for row in data.select(\"passenger_count\").collect()]\n",
    "y_array = [row.count_pc for row in data.select(\"count_pc\").collect()]\n",
    "plt.bar(x_array, height=y_array)"
   ]
  },
  {
   "cell_type": "markdown",
   "metadata": {
    "nteract": {
     "transient": {
      "deleting": false
     }
    }
   },
   "source": [
    "Trips with $0$ or larger than $7$ passengers are pretty rare.\n",
    "We suspect these to be outliers. \n",
    "We need to explore these trips further in order order to understand what might be wrong\n",
    "with them\n",
    "\n",
    "### What's special with trips with zero passengers?"
   ]
  },
  {
   "cell_type": "code",
   "execution_count": 35,
   "metadata": {
    "ExecuteTime": {
     "end_time": "2020-06-05T18:07:11.291938Z",
     "start_time": "2020-06-05T18:07:11.146162Z"
    }
   },
   "outputs": [],
   "source": [
    "df2015_0 = df2015.filter(df2015['passenger_count']==0)"
   ]
  },
  {
   "cell_type": "code",
   "execution_count": 36,
   "metadata": {
    "ExecuteTime": {
     "end_time": "2020-06-05T18:07:14.474975Z",
     "start_time": "2020-06-05T18:07:12.470351Z"
    }
   },
   "outputs": [
    {
     "name": "stdout",
     "output_type": "stream",
     "text": [
      "+--------------------+---------------------+-------------+------------+\n",
      "|tpep_pickup_datetime|tpep_dropoff_datetime|trip_distance|total_amount|\n",
      "+--------------------+---------------------+-------------+------------+\n",
      "| 2015-12-23 14:19:57|  2015-12-23 14:21:30|          0.1|         0.3|\n",
      "| 2015-12-23 14:54:17|  2015-12-23 14:54:17|          0.0|        70.3|\n",
      "| 2015-12-23 15:40:03|  2015-12-23 15:44:20|          0.0|        11.8|\n",
      "| 2015-12-23 15:57:11|  2015-12-23 15:57:11|          0.0|         9.0|\n",
      "| 2015-12-23 16:21:11|  2015-12-23 16:21:23|          0.0|        50.8|\n",
      "| 2015-12-26 20:57:58|  2015-12-26 21:11:29|          1.8|        11.8|\n",
      "| 2015-12-23 20:44:02|  2015-12-23 20:44:05|          0.0|         8.3|\n",
      "| 2015-12-23 20:50:20|  2015-12-23 20:50:42|          0.0|         0.3|\n",
      "| 2015-12-23 22:54:24|  2015-12-23 22:55:18|          0.0|        0.31|\n",
      "| 2015-12-23 23:31:45|  2015-12-23 23:55:17|        12.42|       100.8|\n",
      "| 2015-12-23 23:44:46|  2015-12-23 23:46:24|          0.0|         8.3|\n",
      "| 2015-12-24 00:30:49|  2015-12-24 00:37:35|         0.19|        14.3|\n",
      "| 2015-12-24 00:30:49|  2015-12-24 00:37:35|         0.19|       -14.3|\n",
      "| 2015-12-24 00:41:25|  2015-12-24 00:41:29|         0.03|       12.96|\n",
      "| 2015-12-24 02:10:25|  2015-12-25 01:38:35|          0.0|        50.3|\n",
      "| 2015-12-24 02:19:32|  2015-12-24 02:20:38|          0.0|        56.3|\n",
      "| 2015-12-26 21:48:50|  2015-12-26 21:52:35|          0.5|         5.8|\n",
      "| 2015-12-26 22:03:04|  2015-12-26 22:13:33|          1.8|       12.35|\n",
      "| 2015-12-26 22:49:05|  2015-12-26 23:08:01|          1.2|       15.96|\n",
      "| 2015-12-24 13:39:15|  2015-12-24 13:55:41|          2.4|        5.85|\n",
      "| 2015-12-24 19:41:26|  2015-12-24 19:41:30|         35.1|       180.3|\n",
      "| 2015-12-27 00:04:42|  2015-12-27 00:17:05|          1.6|        13.5|\n",
      "| 2015-12-27 00:18:14|  2015-12-27 00:21:45|          0.6|        6.95|\n",
      "| 2015-12-27 00:44:27|  2015-12-27 00:50:36|          0.6|         6.8|\n",
      "| 2015-12-27 00:53:13|  2015-12-27 00:53:21|          0.0|        13.8|\n",
      "| 2015-12-27 00:53:34|  2015-12-27 01:00:53|          1.6|       10.55|\n",
      "| 2015-12-27 01:07:35|  2015-12-27 01:39:03|          6.5|       31.55|\n",
      "| 2015-12-27 01:46:03|  2015-12-27 01:51:35|          1.1|         7.8|\n",
      "| 2015-12-27 02:11:59|  2015-12-27 02:19:45|          1.3|         8.8|\n",
      "| 2015-12-27 02:18:29|  2015-12-27 02:19:11|          0.0|        0.31|\n",
      "| 2015-12-27 02:23:01|  2015-12-27 02:23:08|          0.0|        25.3|\n",
      "| 2015-12-27 02:54:49|  2015-12-27 03:10:52|          3.4|        14.8|\n",
      "| 2015-12-27 03:01:54|  2015-12-27 03:02:07|          0.0|        9.95|\n",
      "| 2015-12-27 03:14:38|  2015-12-27 03:18:18|          1.1|         6.8|\n",
      "| 2015-12-27 03:25:43|  2015-12-27 03:25:50|          0.0|       23.16|\n",
      "| 2015-12-27 03:42:08|  2015-12-27 03:55:14|          3.6|       18.35|\n",
      "| 2015-12-27 04:18:07|  2015-12-27 05:02:18|         34.2|       150.3|\n",
      "| 2015-12-27 04:32:47|  2015-12-27 04:32:47|          0.0|        48.3|\n",
      "| 2015-12-27 04:48:37|  2015-12-27 04:48:40|          0.0|        39.0|\n",
      "| 2015-12-27 10:34:58|  2015-12-27 10:35:05|          1.0|         0.3|\n",
      "| 2015-12-27 17:22:52|  2015-12-27 17:23:25|          0.0|        15.8|\n",
      "| 2015-12-27 18:47:58|  2015-12-27 20:02:29|         21.8|         0.3|\n",
      "| 2015-12-27 20:38:36|  2015-12-27 20:39:46|          0.1|         0.3|\n",
      "| 2015-12-28 00:55:42|  2015-12-28 02:03:15|         22.3|       10.81|\n",
      "| 2015-12-28 01:55:21|  2015-12-28 02:29:55|         14.8|        5.84|\n",
      "| 2015-12-28 02:06:10|  2015-12-28 02:10:38|          0.0|        16.3|\n",
      "| 2015-12-28 02:17:20|  2015-12-28 02:17:58|          0.0|       18.98|\n",
      "| 2015-12-28 03:28:59|  2015-12-28 03:29:00|          2.8|        80.3|\n",
      "| 2015-12-28 13:39:53|  2015-12-28 13:40:05|          0.0|        0.31|\n",
      "| 2015-12-28 13:54:31|  2015-12-28 13:58:03|          0.3|        0.31|\n",
      "| 2015-12-28 06:19:10|  2015-12-28 06:19:17|          1.4|        95.3|\n",
      "| 2015-12-28 09:30:23|  2015-12-28 09:30:33|          0.0|         0.3|\n",
      "| 2015-12-28 17:10:08|  2015-12-28 17:10:12|          0.0|       12.36|\n",
      "| 2015-12-28 18:04:25|  2015-12-28 18:04:29|          0.0|        28.3|\n",
      "| 2015-12-28 18:34:06|  2015-12-28 18:34:18|          0.0|        15.8|\n",
      "| 2015-12-28 19:22:25|  2015-12-28 19:22:29|         11.2|       54.35|\n",
      "| 2015-12-28 19:46:44|  2015-12-28 20:14:49|          7.3|       507.3|\n",
      "| 2015-12-29 01:09:45|  2015-12-29 01:10:13|          0.0|         8.8|\n",
      "| 2015-12-29 02:22:41|  2015-12-29 02:41:18|          9.9|       10.81|\n",
      "| 2015-12-29 03:26:36|  2015-12-29 03:28:24|          0.6|         0.3|\n",
      "| 2015-12-29 04:16:22|  2015-12-29 04:16:29|          0.0|        15.8|\n",
      "| 2015-12-29 07:06:10|  2015-12-29 07:06:30|          1.0|         0.3|\n",
      "| 2015-12-29 18:03:26|  2015-12-29 18:03:31|         19.1|        68.6|\n",
      "| 2015-12-29 18:41:15|  2015-12-29 18:44:18|          0.1|         0.3|\n",
      "| 2015-12-29 18:57:26|  2015-12-29 19:14:51|         3.56|        0.31|\n",
      "| 2015-12-29 23:49:22|  2015-12-30 03:49:22|          0.0|         8.8|\n",
      "| 2015-12-30 01:09:31|  2015-12-30 01:11:19|          0.3|       13.35|\n",
      "| 2015-12-30 01:31:48|  2015-12-30 01:31:51|          0.0|       56.84|\n",
      "| 2015-12-30 11:44:33|  2015-12-30 15:44:33|          0.0|        6.36|\n",
      "| 2015-12-30 12:57:28|  2015-12-30 12:59:16|          0.0|        0.31|\n",
      "| 2015-12-30 16:13:20|  2015-12-30 20:13:20|          0.0|      180.96|\n",
      "| 2015-12-30 17:00:46|  2015-12-30 17:00:54|          2.7|        20.3|\n",
      "| 2015-12-30 17:27:05|  2015-12-30 17:27:08|          0.0|         8.3|\n",
      "| 2015-12-30 18:28:48|  2015-12-30 18:28:59|          0.9|         0.3|\n",
      "| 2015-12-30 19:27:47|  2015-12-30 19:27:58|          0.0|       87.43|\n",
      "| 2015-12-30 19:29:32|  2015-12-30 19:29:35|          0.0|        19.3|\n",
      "| 2015-12-30 19:46:00|  2015-12-30 19:46:23|          0.0|         0.8|\n",
      "| 2015-12-30 19:46:00|  2015-12-30 19:46:23|          0.0|        -0.8|\n",
      "| 2015-12-31 00:36:39|  2015-12-31 00:36:46|          3.0|         0.3|\n",
      "| 2015-12-13 01:43:53|  2015-12-13 01:44:36|          0.0|        21.3|\n",
      "| 2015-12-13 02:24:52|  2015-12-13 02:25:19|          0.0|       25.46|\n",
      "| 2015-12-13 03:42:44|  2015-12-13 03:44:10|          0.0|        39.8|\n",
      "| 2015-12-13 04:01:52|  2015-12-13 04:05:53|          0.4|         1.3|\n",
      "| 2015-12-13 04:23:27|  2015-12-13 04:46:15|          5.9|        0.31|\n",
      "| 2015-12-13 12:23:24|  2015-12-13 12:23:31|          0.3|         0.3|\n",
      "| 2015-12-13 12:48:35|  2015-12-13 12:48:41|          0.3|         0.3|\n",
      "| 2015-12-13 13:07:34|  2015-12-13 13:50:14|         21.1|       12.81|\n",
      "| 2015-12-13 13:53:24|  2015-12-13 13:54:02|          4.7|         0.3|\n",
      "| 2015-12-13 15:15:16|  2015-12-13 15:15:21|          0.9|        61.3|\n",
      "| 2015-12-13 15:27:23|  2015-12-13 15:27:32|         0.27|        81.3|\n",
      "| 2015-12-13 15:30:11|  2015-12-13 19:30:11|          0.0|       34.75|\n",
      "| 2015-12-13 16:26:24|  2015-12-13 20:26:24|          0.0|        16.8|\n",
      "| 2015-12-13 17:45:58|  2015-12-13 17:46:05|          0.0|       11.16|\n",
      "| 2015-12-13 17:50:31|  2015-12-13 17:50:40|          0.0|        0.37|\n",
      "| 2015-12-13 18:02:40|  2015-12-13 18:02:45|         13.5|        35.3|\n",
      "| 2015-12-13 18:06:56|  2015-12-13 18:42:48|        18.15|       103.3|\n",
      "| 2015-12-13 18:09:48|  2015-12-13 18:37:23|        15.87|      115.01|\n",
      "| 2015-12-13 19:11:52|  2015-12-13 19:12:14|          0.1|         0.3|\n",
      "| 2015-12-14 01:41:39|  2015-12-14 01:41:46|          1.4|         0.3|\n",
      "| 2015-12-14 06:52:51|  2015-12-14 06:53:12|          0.1|         0.3|\n",
      "+--------------------+---------------------+-------------+------------+\n",
      "only showing top 100 rows\n",
      "\n"
     ]
    }
   ],
   "source": [
    "df2015_0.select('tpep_pickup_datetime','tpep_dropoff_datetime','trip_distance','total_amount').show(100)"
   ]
  },
  {
   "cell_type": "markdown",
   "metadata": {},
   "source": [
    "Apres analyse de ses données on peux penser que les trajets avec zero passager peuvent etre:\n",
    "    - Taxis qui transporte des colis\n",
    "    - Taxis ayant oublier de mettre le nombre de personne\n",
    "    - Trajet annuler au bout de quelque minutes\n",
    "    -...\n",
    "Quoi qu'il en soit ses données ne sont donc pas pertinantes car nous avons pas de controle dessus.\n",
    "Elles seront enlever dans la partie 4"
   ]
  },
  {
   "cell_type": "markdown",
   "metadata": {},
   "source": [
    "### What's special with trips with more than $6$ passengers?"
   ]
  },
  {
   "cell_type": "code",
   "execution_count": 37,
   "metadata": {
    "ExecuteTime": {
     "end_time": "2020-06-05T18:07:21.368916Z",
     "start_time": "2020-06-05T18:07:18.379147Z"
    }
   },
   "outputs": [
    {
     "name": "stdout",
     "output_type": "stream",
     "text": [
      "+--------------------+---------------------+-------------+------------+\n",
      "|tpep_pickup_datetime|tpep_dropoff_datetime|trip_distance|total_amount|\n",
      "+--------------------+---------------------+-------------+------------+\n",
      "| 2015-12-23 13:44:04|  2015-12-24 00:00:00|          0.0|      115.91|\n",
      "| 2015-12-23 23:46:27|  2015-12-24 00:23:41|        19.64|      103.56|\n",
      "| 2015-12-24 09:13:55|  2015-12-24 09:40:54|          0.0|        70.8|\n",
      "| 2015-12-30 08:58:59|  2015-12-31 08:27:13|         0.01|        80.5|\n",
      "| 2015-12-30 22:38:05|  2015-12-30 22:38:24|          0.0|        70.3|\n",
      "| 2015-12-13 08:29:16|  2015-12-13 08:54:36|         17.2|        93.0|\n",
      "| 2015-12-26 17:38:04|  2015-12-26 17:46:39|          1.1|         8.3|\n",
      "| 2015-12-07 16:46:41|  2015-12-07 18:39:19|         21.2|      209.19|\n",
      "| 2015-12-25 00:34:21|  2015-12-25 00:34:23|          0.0|         8.3|\n",
      "| 2015-12-25 05:14:53|  2015-12-25 05:14:57|          0.0|        80.8|\n",
      "+--------------------+---------------------+-------------+------------+\n",
      "only showing top 10 rows\n",
      "\n"
     ]
    }
   ],
   "source": [
    "df2015_greater_than_6 = df2015.filter(df2015['passenger_count']>6)\n",
    "df2015_greater_than_6.select('tpep_pickup_datetime','tpep_dropoff_datetime','trip_distance','total_amount').show(10)"
   ]
  },
  {
   "cell_type": "markdown",
   "metadata": {},
   "source": [
    "Apres analyse de ses données on peux penser que les trajets avec plus de 6 passagers peuvent etre:\n",
    "    - Taxis Limousines\n",
    "    - Taxis Van\n",
    "Quoi qu'il en soit ses données sont rares, elle ne represente pas la majorité des trajets\n",
    "Elles seront enlever dans la partie 4"
   ]
  },
  {
   "cell_type": "markdown",
   "metadata": {},
   "source": [
    "### What is the largest distance travelled during this month? Is it the first taxi on the moon?"
   ]
  },
  {
   "cell_type": "code",
   "execution_count": 38,
   "metadata": {
    "ExecuteTime": {
     "end_time": "2020-06-05T18:07:45.419088Z",
     "start_time": "2020-06-05T18:07:39.761420Z"
    }
   },
   "outputs": [
    {
     "name": "stdout",
     "output_type": "stream",
     "text": [
      "+--------------------+---------------------+-------------+---------------+------------+\n",
      "|tpep_pickup_datetime|tpep_dropoff_datetime|trip_distance|passenger_count|total_amount|\n",
      "+--------------------+---------------------+-------------+---------------+------------+\n",
      "| 2015-12-05 02:07:42|  2015-12-05 12:48:17|    1.52004E7|              1|        25.3|\n",
      "+--------------------+---------------------+-------------+---------------+------------+\n",
      "only showing top 1 row\n",
      "\n"
     ]
    }
   ],
   "source": [
    "df2015.sort(desc('trip_distance'))\\\n",
    ".select('tpep_pickup_datetime','tpep_dropoff_datetime','trip_distance','passenger_count','total_amount')\\\n",
    ".show(1)"
   ]
  },
  {
   "cell_type": "markdown",
   "metadata": {},
   "source": [
    "<p>1.52004E7 = 15200400miles = ~24462672km</p>\n",
    "<p>distance terre-lune = 384400km</p>\n",
    "<p>24462672/384400 = ~63</p>\n",
    "Non seulement c'est peut etre le premier taxi a voyager sur la lune mais en plus il en a certainement profiter pour faire ~31 aller retour :)"
   ]
  },
  {
   "cell_type": "markdown",
   "metadata": {},
   "source": [
    "### Plot the distribution of the `trip_distance` (using an histogram for instance) during year 2105. Focus on trips with non-zero trip distance and trip distance less than 30 miles."
   ]
  },
  {
   "cell_type": "markdown",
   "metadata": {},
   "source": [
    "Let's look at what Spark does for these computations\n",
    "\n",
    "### Use the `explain` method or have a look at the [Spark UI](http://localhost:4040/SQL/) to analyze the job. You should be able to assess \n",
    "    - Parsed Logical Plan\n",
    "    - Analyzed Logical Plan\n",
    "    - Optimized Logical Plan\n",
    "    - Physical Plan"
   ]
  },
  {
   "cell_type": "code",
   "execution_count": 39,
   "metadata": {
    "ExecuteTime": {
     "end_time": "2020-06-05T18:08:06.050902Z",
     "start_time": "2020-06-05T18:08:05.958022Z"
    }
   },
   "outputs": [
    {
     "name": "stdout",
     "output_type": "stream",
     "text": [
      "== Parsed Logical Plan ==\n",
      "Relation[VendorID#1276,tpep_pickup_datetime#1277,tpep_dropoff_datetime#1278,passenger_count#1279,trip_distance#1280,pickup_longitude#1281,pickup_latitude#1282,RateCodeID#1283,store_and_fwd_flag#1284,dropoff_longitude#1285,dropoff_latitude#1286,payment_type#1287,fare_amount#1288,extra#1289,mta_tax#1290,tip_amount#1291,tolls_amount#1292,improvement_surcharge#1293,total_amount#1294] parquet\n",
      "\n",
      "== Analyzed Logical Plan ==\n",
      "VendorID: int, tpep_pickup_datetime: timestamp, tpep_dropoff_datetime: timestamp, passenger_count: int, trip_distance: double, pickup_longitude: double, pickup_latitude: double, RateCodeID: int, store_and_fwd_flag: string, dropoff_longitude: double, dropoff_latitude: double, payment_type: int, fare_amount: double, extra: double, mta_tax: double, tip_amount: double, tolls_amount: double, improvement_surcharge: double, total_amount: double\n",
      "Relation[VendorID#1276,tpep_pickup_datetime#1277,tpep_dropoff_datetime#1278,passenger_count#1279,trip_distance#1280,pickup_longitude#1281,pickup_latitude#1282,RateCodeID#1283,store_and_fwd_flag#1284,dropoff_longitude#1285,dropoff_latitude#1286,payment_type#1287,fare_amount#1288,extra#1289,mta_tax#1290,tip_amount#1291,tolls_amount#1292,improvement_surcharge#1293,total_amount#1294] parquet\n",
      "\n",
      "== Optimized Logical Plan ==\n",
      "Relation[VendorID#1276,tpep_pickup_datetime#1277,tpep_dropoff_datetime#1278,passenger_count#1279,trip_distance#1280,pickup_longitude#1281,pickup_latitude#1282,RateCodeID#1283,store_and_fwd_flag#1284,dropoff_longitude#1285,dropoff_latitude#1286,payment_type#1287,fare_amount#1288,extra#1289,mta_tax#1290,tip_amount#1291,tolls_amount#1292,improvement_surcharge#1293,total_amount#1294] parquet\n",
      "\n",
      "== Physical Plan ==\n",
      "*(1) FileScan parquet [VendorID#1276,tpep_pickup_datetime#1277,tpep_dropoff_datetime#1278,passenger_count#1279,trip_distance#1280,pickup_longitude#1281,pickup_latitude#1282,RateCodeID#1283,store_and_fwd_flag#1284,dropoff_longitude#1285,dropoff_latitude#1286,payment_type#1287,fare_amount#1288,extra#1289,mta_tax#1290,tip_amount#1291,tolls_amount#1292,improvement_surcharge#1293,total_amount#1294] Batched: true, Format: Parquet, Location: InMemoryFileIndex[file:/opt/polynote/notebooks/hw3/parquets/data_2015_2018_12.parquet/year=2015], PartitionFilters: [], PushedFilters: [], ReadSchema: struct<VendorID:int,tpep_pickup_datetime:timestamp,tpep_dropoff_datetime:timestamp,passenger_coun...\n"
     ]
    }
   ],
   "source": [
    "#Obtenir les 4 types de plans (parsed logical, analyzed logical, optimized logicial, physical)\n",
    "df2015.explain(True)"
   ]
  },
  {
   "cell_type": "markdown",
   "metadata": {},
   "source": [
    "### Do the Analyzed Logical Plan and Optimized Logical Plan differ? Spot the differences if any. How would a RDBMS proceed with such a query?"
   ]
  },
  {
   "cell_type": "markdown",
   "metadata": {},
   "source": [
    "Il y a une différence entre le plan logique Analyzed (analysé par Catalyst) et le plan logique Optimized : dans le plan analyzed, il y a la relation (nom de la colonne suivi de # et d'un nombre) et chaque colonne et son type dans df2015 alors que df2018 contient seulement la relation. Pour passer d'un plan logique parsé en un plan Analyzed, Catalyst effectue une résolution des types et une résolution des noms dans la requête. Pour passer d'un plan logique Analyzed en un plan logique Optimized, l'optimisateur Catalyst applique des règles d'optimisation, qui modifient le TreeNode dans Spark SQL."
   ]
  },
  {
   "cell_type": "markdown",
   "metadata": {},
   "source": [
    "### How does the physical plan differ from the Optimized Logical Plan? What are the keywords you would not expects in a RDBMS? What is their meaning? "
   ]
  },
  {
   "cell_type": "markdown",
   "metadata": {},
   "source": [
    "Dans le plan physique, en plus de la relation du type de chaque colonne du df2015, il y a également une indication \"FileScan\" sur l'exécution de la requête, et il y a des informations générales : le format de fichier, sa localisation dans l'ordinateur, la liste des filtres PartitionFilter, la liste des filtres PushedFilters etc. Le plan physique est celui qui exécuté pour produire le résultat de la requête SQL."
   ]
  },
  {
   "cell_type": "markdown",
   "metadata": {},
   "source": [
    "### Inspect the stages on [Spark UI](http://localhost:4040/stages/stage). How many *stages* are necessary to complete the Spark job? What are the roles of `HashAggregate` and `Exchange hashpartitioning`?"
   ]
  },
  {
   "cell_type": "markdown",
   "metadata": {},
   "source": [
    "Pour compléter le Spark job, il faut 7 stages. HashAggregate et Exchange hashpartitioning sont des opérations de plan d'exécution."
   ]
  },
  {
   "cell_type": "markdown",
   "metadata": {},
   "source": [
    "L'opération HashAggregate utilise une table de hachage temporaire pour grouper les enregistrements. Cette opération ne requiert pas de données pré-triées. Elle utilise une grande quantité de mémoire pour matérialiser le résultat intermédiaire (sans pipeline). La sortie n'est pas triée."
   ]
  },
  {
   "cell_type": "markdown",
   "metadata": {},
   "source": [
    "L'Exchange signfie échange de shuffle entre les jobs. Le hashpartitioning est une technique de partitionnement dans lequel une clef de hachage est utilisée pour distribuer les lignes de manière homogène à travers les différentes partitions."
   ]
  },
  {
   "cell_type": "markdown",
   "metadata": {},
   "source": [
    "### Does the physical plan perform `shuffle` operations? If yes how many?"
   ]
  },
  {
   "cell_type": "markdown",
   "metadata": {},
   "source": [
    "### What are tasks with respect to stages (in Spark language)? How many tasks are your stages made of?"
   ]
  },
  {
   "cell_type": "markdown",
   "metadata": {},
   "source": [
    "Un stage est une séquence de tâches qui peuvent être exécutées ensemble, sans shuffle. Une tâche est une opération (map ou filter) qui se produit dans une partition RDD spécifique. Mes stages sont tous constitués d'une seule task."
   ]
  },
  {
   "cell_type": "markdown",
   "metadata": {
    "nteract": {
     "transient": {
      "deleting": false
     }
    }
   },
   "source": [
    "Now, compute the following and produce relevant plots:\n",
    "\n",
    "### Break down the trip distance distribution for each day of week"
   ]
  },
  {
   "cell_type": "code",
   "execution_count": 40,
   "metadata": {
    "ExecuteTime": {
     "end_time": "2020-06-05T18:08:27.633719Z",
     "start_time": "2020-06-05T18:08:27.626391Z"
    }
   },
   "outputs": [],
   "source": [
    "def day_transformer(df):\n",
    "    day_col = dayofweek(col('tpep_pickup_datetime'))\n",
    "    df = df.withColumn('day', day_col)\n",
    "    return df"
   ]
  },
  {
   "cell_type": "code",
   "execution_count": 41,
   "metadata": {
    "ExecuteTime": {
     "end_time": "2020-06-05T18:08:35.018683Z",
     "start_time": "2020-06-05T18:08:28.705881Z"
    }
   },
   "outputs": [
    {
     "name": "stdout",
     "output_type": "stream",
     "text": [
      "+---+------------------+\n",
      "|day|avg(trip_distance)|\n",
      "+---+------------------+\n",
      "|  1|3.1934650208294815|\n",
      "|  6| 3.021697094749593|\n",
      "|  3| 3.855749370094042|\n",
      "|  5| 3.789436287014272|\n",
      "|  4|2.9455406114047977|\n",
      "|  7| 17.43444996509521|\n",
      "|  2|3.0739559960709952|\n",
      "+---+------------------+\n",
      "\n"
     ]
    }
   ],
   "source": [
    "df2015_by_day = day_transformer(df2015)\n",
    "df2015_by_day = df2015_by_day.select('day', 'trip_distance')\n",
    "df2015_by_day = df2015_by_day.groupBy(\"day\").agg({'trip_distance':'avg'})\n",
    "df2015_by_day.show()"
   ]
  },
  {
   "cell_type": "code",
   "execution_count": 42,
   "metadata": {
    "ExecuteTime": {
     "end_time": "2020-06-05T18:08:40.748267Z",
     "start_time": "2020-06-05T18:08:36.121113Z"
    }
   },
   "outputs": [
    {
     "data": {
      "image/png": "[encoded data removed]",
      "text/plain": [
       "<Figure size 432x288 with 1 Axes>"
      ]
     },
     "metadata": {},
     "output_type": "display_data"
    }
   ],
   "source": [
    "pd_df2015_by_day = df2015_by_day.toPandas()\n",
    "sns.set()\n",
    "q = sns.lineplot(x = \"day\",\n",
    "                 y = \"avg(trip_distance)\",\n",
    "                 data = pd_df2015_by_day)\n",
    "\n",
    "q.set_title(\"trip distance distribution for each day of week\")\n",
    "plt.show(q)"
   ]
  },
  {
   "cell_type": "markdown",
   "metadata": {},
   "source": [
    "### Count the number of distinct pickup location\n",
    "Apres recherche on a que :\n",
    "<p>Si 2 position long/lat differe a 0.1 pres alors elle sont a environ 10km de distance\n",
    "(ex:une ville/un quartier difference)</p>\n",
    "<p>Si 2 position long/lat differe a 0.01 pres alors elle sont a environ 1km de distance (ex:quelque patés de maison de difference)</p>\n",
    "<p>Si 2 position long/lat differe a 0.001 pres alors elle sont a environ 100m de distance (ex:une rue de difference)</p>\n",
    "\n",
    "On va utiliser ses mesures pour definir ce qu'est 2 position distincts\n",
    "\n",
    "source : https://en.wikipedia.org/wiki/Decimal_degrees"
   ]
  },
  {
   "cell_type": "code",
   "execution_count": 43,
   "metadata": {
    "ExecuteTime": {
     "end_time": "2020-06-05T18:09:09.641135Z",
     "start_time": "2020-06-05T18:08:54.530479Z"
    }
   },
   "outputs": [
    {
     "data": {
      "text/plain": [
       "340"
      ]
     },
     "execution_count": 43,
     "metadata": {},
     "output_type": "execute_result"
    }
   ],
   "source": [
    "#Arrondi a 0.1 pres\n",
    "df2015.select(\"*\", round(col('pickup_longitude'),1),round(col('pickup_latitude'),1))\\\n",
    "            .select('round(pickup_longitude, 1)','round(pickup_latitude, 1)')\\\n",
    "            .distinct().count()"
   ]
  },
  {
   "cell_type": "code",
   "execution_count": 44,
   "metadata": {
    "ExecuteTime": {
     "end_time": "2020-06-05T18:09:23.798814Z",
     "start_time": "2020-06-05T18:09:11.329660Z"
    }
   },
   "outputs": [
    {
     "data": {
      "text/plain": [
       "2680"
      ]
     },
     "execution_count": 44,
     "metadata": {},
     "output_type": "execute_result"
    }
   ],
   "source": [
    "#Arrondi a 0.01 pres\n",
    "df2015.select(\"*\", round(col('pickup_longitude'),2),round(col('pickup_latitude'),2))\\\n",
    "            .select('round(pickup_longitude, 2)','round(pickup_latitude, 2)')\\\n",
    "            .distinct().count()"
   ]
  },
  {
   "cell_type": "code",
   "execution_count": 45,
   "metadata": {
    "ExecuteTime": {
     "end_time": "2020-06-05T18:09:44.685918Z",
     "start_time": "2020-06-05T18:09:33.538530Z"
    }
   },
   "outputs": [
    {
     "data": {
      "text/plain": [
       "28107"
      ]
     },
     "execution_count": 45,
     "metadata": {},
     "output_type": "execute_result"
    }
   ],
   "source": [
    "#Arrondi a 0.001 pres\n",
    "df2015.select(\"*\", round(col('pickup_longitude'),3),round(col('pickup_latitude'),3))\\\n",
    "            .select('round(pickup_longitude, 3)','round(pickup_latitude, 3)')\\\n",
    "            .distinct().count()"
   ]
  },
  {
   "cell_type": "markdown",
   "metadata": {},
   "source": [
    "### Compute and display tips and profits as a function of the pickup location"
   ]
  },
  {
   "cell_type": "markdown",
   "metadata": {
    "nteract": {
     "transient": {
      "deleting": false
     }
    }
   },
   "source": [
    "# Investigate one month of trips data in 2015 and 2018\n",
    "\n",
    " Consider one month of trips data from `yellow` taxis for each year"
   ]
  },
  {
   "cell_type": "markdown",
   "metadata": {},
   "source": [
    "### Filter and cache/persist the result"
   ]
  },
  {
   "cell_type": "code",
   "execution_count": 46,
   "metadata": {
    "ExecuteTime": {
     "end_time": "2020-06-05T18:10:19.037875Z",
     "start_time": "2020-06-05T18:10:18.615405Z"
    }
   },
   "outputs": [],
   "source": [
    "diff_secs_col = col(\"tpep_dropoff_datetime\").cast(\"long\") - col(\"tpep_pickup_datetime\").cast(\"long\")\n",
    "\n",
    "\n",
    "new_df = df.filter(df['passenger_count'].between(1,6))\\\n",
    ".drop('VendorID','passenger_count','RateCodeID','store_and_fwd_flag','extra','mta_tax','tolls_amount','improvement_surcharge')\\\n",
    ".withColumn('hour', hour(col('tpep_pickup_datetime')))\\\n",
    ".withColumn('day', dayofweek(col('tpep_pickup_datetime')))\\\n",
    ".withColumn( \"trip_duration\", diff_secs_col/ 60 )\\\n",
    ".cache()"
   ]
  },
  {
   "cell_type": "markdown",
   "metadata": {},
   "source": [
    "## Assessing seasonalities and looking at time series\n",
    "\n",
    "Compute and plot the following time series indexed by day of the week and hour of day:"
   ]
  },
  {
   "cell_type": "markdown",
   "metadata": {},
   "source": [
    "### The number of pickups"
   ]
  },
  {
   "cell_type": "code",
   "execution_count": 47,
   "metadata": {
    "ExecuteTime": {
     "end_time": "2020-06-05T18:12:02.216207Z",
     "start_time": "2020-06-05T18:10:20.779006Z"
    }
   },
   "outputs": [
    {
     "data": {
      "image/png": "[encoded data removed]",
      "text/plain": [
       "<Figure size 432x288 with 1 Axes>"
      ]
     },
     "metadata": {},
     "output_type": "display_data"
    }
   ],
   "source": [
    "pd_data_by_day_hour = new_df.groupBy(\"day\",\"hour\").agg({'trip_distance':'count'}).toPandas()\n",
    "palette = sns.color_palette(\"hls\", 7)\n",
    "\n",
    "fig = sns.lineplot(x='hour', \n",
    "             y='count(trip_distance)',\n",
    "             hue='day',\n",
    "            palette=palette,\n",
    "             data=pd_data_by_day_hour)\n",
    "\n",
    "ax = plt.ylabel(\"number of pickups\")\n"
   ]
  },
  {
   "cell_type": "markdown",
   "metadata": {},
   "source": [
    "### The average fare"
   ]
  },
  {
   "cell_type": "code",
   "execution_count": 48,
   "metadata": {
    "ExecuteTime": {
     "end_time": "2020-06-05T18:12:20.800554Z",
     "start_time": "2020-06-05T18:12:15.213321Z"
    }
   },
   "outputs": [
    {
     "data": {
      "image/png": "[encoded data removed]",
      "text/plain": [
       "<Figure size 432x288 with 1 Axes>"
      ]
     },
     "metadata": {},
     "output_type": "display_data"
    }
   ],
   "source": [
    "pd_data_by_day_hour = new_df.groupBy(\"day\",\"hour\").agg({'fare_amount':'avg'}).toPandas()\n",
    "palette = sns.color_palette(\"hls\", 7)\n",
    "\n",
    "fig = sns.lineplot(x='hour', \n",
    "             y='avg(fare_amount)',\n",
    "             hue='day',\n",
    "            palette=palette,\n",
    "             data=pd_data_by_day_hour)\n",
    "\n",
    "ax = plt.ylabel(\"average fare\")"
   ]
  },
  {
   "cell_type": "markdown",
   "metadata": {},
   "source": [
    "### The average trip duration"
   ]
  },
  {
   "cell_type": "code",
   "execution_count": 49,
   "metadata": {
    "ExecuteTime": {
     "end_time": "2020-06-05T18:12:26.487812Z",
     "start_time": "2020-06-05T18:12:22.830526Z"
    }
   },
   "outputs": [
    {
     "data": {
      "image/png": "[encoded data removed]",
      "text/plain": [
       "<Figure size 432x288 with 1 Axes>"
      ]
     },
     "metadata": {},
     "output_type": "display_data"
    }
   ],
   "source": [
    "pd_data_by_day_hour = new_df.groupBy(\"day\",\"hour\").agg({'trip_duration':'avg'}).toPandas()\n",
    "palette = sns.color_palette(\"hls\", 7)\n",
    "\n",
    "fig = sns.lineplot(x='hour', \n",
    "             y='avg(trip_duration)',\n",
    "             hue='day',\n",
    "            palette=palette,\n",
    "             data=pd_data_by_day_hour)\n",
    "\n",
    "ax = plt.ylabel(\"average trip duration\")"
   ]
  },
  {
   "cell_type": "markdown",
   "metadata": {},
   "source": [
    "### Plot the average number of ongoing trips"
   ]
  },
  {
   "cell_type": "markdown",
   "metadata": {},
   "source": [
    "## Rides to the airports\n",
    "\n",
    "In order to find the longitude and lattitude of JFK and Newark airport as well as the longitude and magnitudes \n",
    "of Manhattan, you can use a service like [geojson.io](http://geojson.io/).\n",
    "Plot the following time series, indexed the day of the week and hour of the day"
   ]
  },
  {
   "cell_type": "markdown",
   "metadata": {},
   "source": [
    "Nous allons nous ici utiliser notre fichier shape contenant les données des endroits de NY."
   ]
  },
  {
   "cell_type": "code",
   "execution_count": 50,
   "metadata": {
    "ExecuteTime": {
     "end_time": "2020-06-05T18:12:42.923654Z",
     "start_time": "2020-06-05T18:12:42.885402Z"
    }
   },
   "outputs": [],
   "source": [
    "array = ['Newark Airport', 'JFK Airport']\n",
    "airport = pd_df_loc.loc[pd_df_loc['zone'].isin(array)]\n",
    "array = ['Midtown Center', 'Midtown East', 'Midtown North', 'Midtown South']\n",
    "midtown = pd_df_loc.loc[pd_df_loc['zone'].isin(array)]"
   ]
  },
  {
   "cell_type": "code",
   "execution_count": 51,
   "metadata": {
    "ExecuteTime": {
     "end_time": "2020-06-05T18:12:43.831725Z",
     "start_time": "2020-06-05T18:12:43.727248Z"
    }
   },
   "outputs": [
    {
     "data": {
      "text/html": [
       "<div>\n",
       "<style scoped>\n",
       "    .dataframe tbody tr th:only-of-type {\n",
       "        vertical-align: middle;\n",
       "    }\n",
       "\n",
       "    .dataframe tbody tr th {\n",
       "        vertical-align: top;\n",
       "    }\n",
       "\n",
       "    .dataframe thead th {\n",
       "        text-align: right;\n",
       "    }\n",
       "</style>\n",
       "<table border=\"1\" class=\"dataframe\">\n",
       "  <thead>\n",
       "    <tr style=\"text-align: right;\">\n",
       "      <th></th>\n",
       "      <th>zone</th>\n",
       "      <th>longitude</th>\n",
       "      <th>latitude</th>\n",
       "    </tr>\n",
       "  </thead>\n",
       "  <tbody>\n",
       "    <tr>\n",
       "      <td>0</td>\n",
       "      <td>Newark Airport</td>\n",
       "      <td>-74.17</td>\n",
       "      <td>40.69</td>\n",
       "    </tr>\n",
       "    <tr>\n",
       "      <td>131</td>\n",
       "      <td>JFK Airport</td>\n",
       "      <td>-73.79</td>\n",
       "      <td>40.64</td>\n",
       "    </tr>\n",
       "  </tbody>\n",
       "</table>\n",
       "</div>"
      ],
      "text/plain": [
       "               zone  longitude  latitude\n",
       "0    Newark Airport     -74.17     40.69\n",
       "131     JFK Airport     -73.79     40.64"
      ]
     },
     "execution_count": 51,
     "metadata": {},
     "output_type": "execute_result"
    }
   ],
   "source": [
    "airport[['zone', 'longitude', 'latitude']].round(2)"
   ]
  },
  {
   "cell_type": "code",
   "execution_count": 52,
   "metadata": {
    "ExecuteTime": {
     "end_time": "2020-06-05T18:12:44.677853Z",
     "start_time": "2020-06-05T18:12:44.639008Z"
    }
   },
   "outputs": [
    {
     "data": {
      "text/html": [
       "<div>\n",
       "<style scoped>\n",
       "    .dataframe tbody tr th:only-of-type {\n",
       "        vertical-align: middle;\n",
       "    }\n",
       "\n",
       "    .dataframe tbody tr th {\n",
       "        vertical-align: top;\n",
       "    }\n",
       "\n",
       "    .dataframe thead th {\n",
       "        text-align: right;\n",
       "    }\n",
       "</style>\n",
       "<table border=\"1\" class=\"dataframe\">\n",
       "  <thead>\n",
       "    <tr style=\"text-align: right;\">\n",
       "      <th></th>\n",
       "      <th>zone</th>\n",
       "      <th>longitude</th>\n",
       "      <th>latitude</th>\n",
       "    </tr>\n",
       "  </thead>\n",
       "  <tbody>\n",
       "    <tr>\n",
       "      <td>160</td>\n",
       "      <td>Midtown Center</td>\n",
       "      <td>-73.98</td>\n",
       "      <td>40.76</td>\n",
       "    </tr>\n",
       "    <tr>\n",
       "      <td>161</td>\n",
       "      <td>Midtown East</td>\n",
       "      <td>-73.97</td>\n",
       "      <td>40.76</td>\n",
       "    </tr>\n",
       "    <tr>\n",
       "      <td>162</td>\n",
       "      <td>Midtown North</td>\n",
       "      <td>-73.98</td>\n",
       "      <td>40.76</td>\n",
       "    </tr>\n",
       "    <tr>\n",
       "      <td>163</td>\n",
       "      <td>Midtown South</td>\n",
       "      <td>-73.99</td>\n",
       "      <td>40.75</td>\n",
       "    </tr>\n",
       "  </tbody>\n",
       "</table>\n",
       "</div>"
      ],
      "text/plain": [
       "               zone  longitude  latitude\n",
       "160  Midtown Center     -73.98     40.76\n",
       "161    Midtown East     -73.97     40.76\n",
       "162   Midtown North     -73.98     40.76\n",
       "163   Midtown South     -73.99     40.75"
      ]
     },
     "execution_count": 52,
     "metadata": {},
     "output_type": "execute_result"
    }
   ],
   "source": [
    "midtown[['zone', 'longitude', 'latitude']].round(2)"
   ]
  },
  {
   "cell_type": "code",
   "execution_count": 53,
   "metadata": {
    "ExecuteTime": {
     "end_time": "2020-06-05T18:12:45.497748Z",
     "start_time": "2020-06-05T18:12:45.298501Z"
    }
   },
   "outputs": [
    {
     "data": {
      "text/plain": [
       "DataFrame[OBJECTID: bigint, Shape_Leng: double, Shape_Area: double, zone: string, LocationID: bigint, borough: string, longitude: double, latitude: double]"
      ]
     },
     "execution_count": 53,
     "metadata": {},
     "output_type": "execute_result"
    }
   ],
   "source": [
    "spark.createDataFrame(data=pd_df_loc)"
   ]
  },
  {
   "cell_type": "markdown",
   "metadata": {},
   "source": [
    "###  Median duration of taxi trip leaving Midtown (Southern Manhattan) headed for JFK Airport"
   ]
  },
  {
   "cell_type": "code",
   "execution_count": 54,
   "metadata": {
    "ExecuteTime": {
     "end_time": "2020-06-05T18:12:47.327740Z",
     "start_time": "2020-06-05T18:12:47.002414Z"
    }
   },
   "outputs": [],
   "source": [
    "from pyspark.sql.functions import row_number, monotonically_increasing_id\n",
    "w = Window.orderBy(\"trip_duration\")\n",
    "\n",
    "midtown_to_jfk = new_df.filter(new_df['pickup_longitude'].between(-74,-73.96) \\\n",
    "                               & new_df['pickup_latitude'].between(40.74,40.77)\\\n",
    "                               & new_df['dropoff_longitude'].between(-73.80,-73.78)\\\n",
    "                               & new_df['dropoff_latitude'].between(40.63,40.65))\\\n",
    "                .select('trip_duration').sort(asc('trip_duration'))\\\n",
    "                .withColumn(\"index\", row_number().over(w))"
   ]
  },
  {
   "cell_type": "code",
   "execution_count": 55,
   "metadata": {
    "ExecuteTime": {
     "end_time": "2020-06-05T18:12:54.024591Z",
     "start_time": "2020-06-05T18:12:48.126748Z"
    }
   },
   "outputs": [],
   "source": [
    "nb = midtown_to_jfk.count()"
   ]
  },
  {
   "cell_type": "code",
   "execution_count": 56,
   "metadata": {
    "ExecuteTime": {
     "end_time": "2020-06-05T18:13:00.110327Z",
     "start_time": "2020-06-05T18:12:55.543745Z"
    }
   },
   "outputs": [
    {
     "name": "stdout",
     "output_type": "stream",
     "text": [
      "+-----------------+\n",
      "|           Median|\n",
      "+-----------------+\n",
      "|45.46666666666667|\n",
      "+-----------------+\n",
      "\n"
     ]
    }
   ],
   "source": [
    "midtown_to_jfk.where(col(\"index\") == int(nb/2)).drop('index').selectExpr('trip_duration as Median').show()"
   ]
  },
  {
   "cell_type": "markdown",
   "metadata": {},
   "source": [
    "### Median taxi duration of trip leaving from JFK Airport to Midtown (Southern Manhattan)"
   ]
  },
  {
   "cell_type": "code",
   "execution_count": 57,
   "metadata": {
    "ExecuteTime": {
     "end_time": "2020-06-05T18:13:01.147020Z",
     "start_time": "2020-06-05T18:13:00.858098Z"
    }
   },
   "outputs": [],
   "source": [
    "jfk_to_midtown = new_df.filter(new_df['dropoff_longitude'].between(-74,-73.96) \\\n",
    "                               & new_df['dropoff_latitude'].between(40.74,40.77)\\\n",
    "                               & new_df['pickup_longitude'].between(-73.80,-73.78)\\\n",
    "                               & new_df['pickup_latitude'].between(40.63,40.65))\\\n",
    "                .select('trip_duration').sort(asc('trip_duration'))\\\n",
    "                .withColumn(\"index\", row_number().over(w))"
   ]
  },
  {
   "cell_type": "code",
   "execution_count": 58,
   "metadata": {
    "ExecuteTime": {
     "end_time": "2020-06-05T18:13:06.102105Z",
     "start_time": "2020-06-05T18:13:01.902747Z"
    }
   },
   "outputs": [],
   "source": [
    "nb2 = jfk_to_midtown.count()"
   ]
  },
  {
   "cell_type": "code",
   "execution_count": 59,
   "metadata": {
    "ExecuteTime": {
     "end_time": "2020-06-05T18:13:11.392856Z",
     "start_time": "2020-06-05T18:13:06.735931Z"
    }
   },
   "outputs": [
    {
     "name": "stdout",
     "output_type": "stream",
     "text": [
      "+------+\n",
      "|Median|\n",
      "+------+\n",
      "|  52.4|\n",
      "+------+\n",
      "\n"
     ]
    }
   ],
   "source": [
    "jfk_to_midtown.where(col(\"index\") == int(nb2/2)).drop('index').selectExpr('trip_duration as Median').show()"
   ]
  },
  {
   "cell_type": "markdown",
   "metadata": {},
   "source": [
    "## Geographic information\n",
    "\n",
    "For this, you will need to find tools to display maps and to build choropeth maps.\n",
    "We let you look and find relevant tools to do this."
   ]
  },
  {
   "cell_type": "markdown",
   "metadata": {},
   "source": [
    "### Build a heatmap where color is a function of\n",
    "1. number of `pickups`\n",
    "2. number of `dropoffs`\n",
    "3. number of `pickups` with dropoff at some airport (JFK, LaGuardia, Newark)"
   ]
  },
  {
   "cell_type": "markdown",
   "metadata": {},
   "source": [
    "### Build a choropeth map where color is a function of\n",
    "1. number of pickups in the area\n",
    "1. ratio of number of payments by card/number of cash payments for pickups in the area\n",
    "2. ratio of total fare/trip duration for dropoff in the area"
   ]
  },
  {
   "cell_type": "markdown",
   "metadata": {},
   "source": [
    "### Build an interactive chorophet with a slider allowing the user to select an `hour of day` and where the color is a function of\n",
    "1. average number of dropoffs in the area during that hour the day\n",
    "2. average ratio of tip over total fare amount for pickups in the area at given hour of the day"
   ]
  }
 ],
 "metadata": {
  "kernelspec": {
   "display_name": "Python 3",
   "language": "python",
   "name": "python3"
  },
  "language_info": {
   "codemirror_mode": {
    "name": "ipython",
    "version": 3
   },
   "file_extension": ".py",
   "mimetype": "text/x-python",
   "name": "python",
   "nbconvert_exporter": "python",
   "pygments_lexer": "ipython3",
   "version": "3.7.5"
  },
  "toc": {
   "base_numbering": 1,
   "nav_menu": {},
   "number_sections": true,
   "sideBar": true,
   "skip_h1_title": false,
   "title_cell": "Table of Contents",
   "title_sidebar": "Contents",
   "toc_cell": false,
   "toc_position": {
    "height": "calc(100% - 180px)",
    "left": "10px",
    "top": "150px",
    "width": "167.391px"
   },
   "toc_section_display": true,
   "toc_window_display": false
  }
 },
 "nbformat": 4,
 "nbformat_minor": 1
}
