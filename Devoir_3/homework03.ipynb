{
 "cells": [
  {
   "cell_type": "markdown",
   "metadata": {
    "nteract": {
     "transient": {
      "deleting": false
     }
    }
   },
   "source": [
    "# New York taxis trips\n",
    "\n",
    "This homework is about New York taxi trips. Here is something from [Todd Schneider](https://toddwschneider.com/posts/analyzing-1-1-billion-nyc-taxi-and-uber-trips-with-a-vengeance/):\n",
    "\n",
    "> The New York City Taxi & Limousine Commission has released a  detailed historical dataset covering over 1 billion individual taxi trips in the city from January 2009 through December 2019. \n",
    "Taken as a whole, the detailed trip-level data is more than just a vast list of taxi pickup and drop off coordinates: it's a story of a City. \n",
    "How bad is the rush hour traffic from Midtown to JFK? \n",
    "Where does the Bridge and Tunnel crowd hang out on Saturday nights?\n",
    "What time do investment bankers get to work? How has Uber changed the landscape for taxis?\n",
    "The dataset addresses all of these questions and many more.\n",
    "\n",
    "The NY taxi trips dataset has been plowed by series of distinguished data scientists.\n",
    "The dataset is available from on Amazon S3 (Amazon's cloud storage service).\n",
    "The link for each file has the following form:\n",
    "\n",
    "    https://s3.amazonaws.com/nyc-tlc/trip+data/yellow_tripdata_{year}-{month}.csv\n",
    "\n",
    "There is one CSV file for each NY taxi service (`yellow`, `green`, `fhv`) and each calendar month (replacing `{year}` and `{month}` by the desired ones).\n",
    "Each file is moderately large, a few gigabytes. \n",
    "The full dataset is relatively large if it has to be handled on a laptop (several hundred gigabytes).\n",
    "\n",
    "You will focus on the `yellow` taxi service and a pair of months, from year 2015 and from year 2018. \n",
    "Between those two years, for hire vehicles services have taken off and carved a huge marketshare.\n",
    "\n",
    "Whatever the framework you use, `CSV` files prove hard to handle. \n",
    "After downloading the appropriate files (this takes time, but this is routine), a first step will consist in converting the csv files into a more Spark friendly format such as `parquet`.\n",
    "\n",
    "Saving into one of those formats require decisions about bucketing, partitioning and so on. Such decisions influence performance. It is your call.\n",
    "Many people have been working on this dataset, to cite but a few:\n",
    "\n",
    "\n",
    "- [1 billion trips with a vengeance](https://toddwschneider.com/posts/analyzing-1-1-billion-nyc-taxi-and-uber-trips-with-a-vengeance/)\n",
    "- [1 billion trips with R and SQL ](http://freerangestats.info/blog/2019/12/22/nyc-taxis-sql)\n",
    "- [1 billion trips with redshift](https://tech.marksblogg.com/billion-nyc-taxi-rides-redshift.html)\n",
    "- [nyc-taxi](https://github.com/fmaletski/nyc-taxi-map)"
   ]
  },
  {
   "cell_type": "markdown",
   "metadata": {},
   "source": [
    "Depending on your internet connection, **download the files** corresponding to **\"yellow\" taxis** for the years 2015 and 2018. Download **at least one month** (the same) for 2015 and 2018, if you can download all of them.\n",
    "\n",
    "**Hint.** The 12 csv for 2015 are about 23GB in total, but the corresponding parquet file, if you can create it for all 12 months, is only about 3GB."
   ]
  },
  {
   "cell_type": "markdown",
   "metadata": {},
   "source": [
    "You **might** need the following stuff in order to work with GPS coordinates and to plot things easily."
   ]
  },
  {
   "cell_type": "code",
   "execution_count": 1,
   "metadata": {
    "ExecuteTime": {
     "end_time": "2020-06-07T16:20:22.216361Z",
     "start_time": "2020-06-07T16:20:18.532257Z"
    }
   },
   "outputs": [
    {
     "name": "stdout",
     "output_type": "stream",
     "text": [
      "Requirement already satisfied: geojson in /usr/local/lib/python3.7/dist-packages (2.5.0)\n",
      "Requirement already satisfied: geopandas in /usr/local/lib/python3.7/dist-packages (0.7.0)\n",
      "Requirement already satisfied: plotly in /usr/local/lib/python3.7/dist-packages (4.8.1)\n",
      "Requirement already satisfied: geopy in /usr/local/lib/python3.7/dist-packages (1.22.0)\n",
      "Requirement already satisfied: ipyleaflet in /usr/local/lib/python3.7/dist-packages (0.13.0)\n",
      "Requirement already satisfied: pandas>=0.23.0 in /usr/local/lib/python3.7/dist-packages (from geopandas) (0.25.1)\n",
      "Requirement already satisfied: fiona in /usr/local/lib/python3.7/dist-packages (from geopandas) (1.8.13.post1)\n",
      "Requirement already satisfied: pyproj>=2.2.0 in /usr/local/lib/python3.7/dist-packages (from geopandas) (2.6.1.post1)\n",
      "Requirement already satisfied: shapely in /usr/local/lib/python3.7/dist-packages (from geopandas) (1.7.0)\n",
      "Requirement already satisfied: six in /usr/lib/python3/dist-packages (from plotly) (1.11.0)\n",
      "Requirement already satisfied: retrying>=1.3.3 in /usr/local/lib/python3.7/dist-packages (from plotly) (1.3.3)\n",
      "Requirement already satisfied: geographiclib<2,>=1.49 in /usr/local/lib/python3.7/dist-packages (from geopy) (1.50)\n",
      "Requirement already satisfied: ipywidgets<8,>=7.5.0 in /usr/local/lib/python3.7/dist-packages (from ipyleaflet) (7.5.1)\n",
      "Requirement already satisfied: branca<0.4,>=0.3.1 in /usr/local/lib/python3.7/dist-packages (from ipyleaflet) (0.3.1)\n",
      "Requirement already satisfied: traittypes<3,>=0.2.1 in /usr/local/lib/python3.7/dist-packages (from ipyleaflet) (0.2.1)\n",
      "Requirement already satisfied: python-dateutil>=2.6.1 in /usr/local/lib/python3.7/dist-packages (from pandas>=0.23.0->geopandas) (2.8.0)\n",
      "Requirement already satisfied: pytz>=2017.2 in /usr/local/lib/python3.7/dist-packages (from pandas>=0.23.0->geopandas) (2019.3)\n",
      "Requirement already satisfied: numpy>=1.13.3 in /usr/local/lib/python3.7/dist-packages (from pandas>=0.23.0->geopandas) (1.17.2)\n",
      "Requirement already satisfied: munch in /usr/local/lib/python3.7/dist-packages (from fiona->geopandas) (2.5.0)\n",
      "Requirement already satisfied: attrs>=17 in /usr/local/lib/python3.7/dist-packages (from fiona->geopandas) (19.2.0)\n",
      "Requirement already satisfied: click<8,>=4.0 in /usr/local/lib/python3.7/dist-packages (from fiona->geopandas) (7.0)\n",
      "Requirement already satisfied: click-plugins>=1.0 in /usr/local/lib/python3.7/dist-packages (from fiona->geopandas) (1.1.1)\n",
      "Requirement already satisfied: cligj>=0.5 in /usr/local/lib/python3.7/dist-packages (from fiona->geopandas) (0.5.0)\n",
      "Requirement already satisfied: widgetsnbextension~=3.5.0 in /usr/local/lib/python3.7/dist-packages (from ipywidgets<8,>=7.5.0->ipyleaflet) (3.5.1)\n",
      "Requirement already satisfied: ipykernel>=4.5.1 in /usr/local/lib/python3.7/dist-packages (from ipywidgets<8,>=7.5.0->ipyleaflet) (5.1.2)\n",
      "Requirement already satisfied: traitlets>=4.3.1 in /usr/local/lib/python3.7/dist-packages (from ipywidgets<8,>=7.5.0->ipyleaflet) (4.3.2)\n",
      "Requirement already satisfied: ipython>=4.0.0; python_version >= \"3.3\" in /usr/local/lib/python3.7/dist-packages (from ipywidgets<8,>=7.5.0->ipyleaflet) (7.8.0)\n",
      "Requirement already satisfied: nbformat>=4.2.0 in /usr/local/lib/python3.7/dist-packages (from ipywidgets<8,>=7.5.0->ipyleaflet) (4.4.0)\n",
      "Requirement already satisfied: jinja2 in /usr/local/lib/python3.7/dist-packages (from branca<0.4,>=0.3.1->ipyleaflet) (2.10.1)\n",
      "Requirement already satisfied: notebook>=4.4.1 in /usr/local/lib/python3.7/dist-packages (from widgetsnbextension~=3.5.0->ipywidgets<8,>=7.5.0->ipyleaflet) (6.0.1)\n",
      "Requirement already satisfied: jupyter-client in /usr/local/lib/python3.7/dist-packages (from ipykernel>=4.5.1->ipywidgets<8,>=7.5.0->ipyleaflet) (5.3.3)\n",
      "Requirement already satisfied: tornado>=4.2 in /usr/local/lib/python3.7/dist-packages (from ipykernel>=4.5.1->ipywidgets<8,>=7.5.0->ipyleaflet) (6.0.3)\n",
      "Requirement already satisfied: ipython-genutils in /usr/local/lib/python3.7/dist-packages (from traitlets>=4.3.1->ipywidgets<8,>=7.5.0->ipyleaflet) (0.2.0)\n",
      "Requirement already satisfied: decorator in /usr/local/lib/python3.7/dist-packages (from traitlets>=4.3.1->ipywidgets<8,>=7.5.0->ipyleaflet) (4.4.0)\n",
      "Requirement already satisfied: jedi>=0.10 in /usr/local/lib/python3.7/dist-packages (from ipython>=4.0.0; python_version >= \"3.3\"->ipywidgets<8,>=7.5.0->ipyleaflet) (0.15.1)\n",
      "Requirement already satisfied: pexpect; sys_platform != \"win32\" in /usr/local/lib/python3.7/dist-packages (from ipython>=4.0.0; python_version >= \"3.3\"->ipywidgets<8,>=7.5.0->ipyleaflet) (4.7.0)\n",
      "Requirement already satisfied: pygments in /usr/local/lib/python3.7/dist-packages (from ipython>=4.0.0; python_version >= \"3.3\"->ipywidgets<8,>=7.5.0->ipyleaflet) (2.4.2)\n",
      "Requirement already satisfied: prompt-toolkit<2.1.0,>=2.0.0 in /usr/local/lib/python3.7/dist-packages (from ipython>=4.0.0; python_version >= \"3.3\"->ipywidgets<8,>=7.5.0->ipyleaflet) (2.0.9)\n",
      "Requirement already satisfied: pickleshare in /usr/local/lib/python3.7/dist-packages (from ipython>=4.0.0; python_version >= \"3.3\"->ipywidgets<8,>=7.5.0->ipyleaflet) (0.7.5)\n",
      "Requirement already satisfied: backcall in /usr/local/lib/python3.7/dist-packages (from ipython>=4.0.0; python_version >= \"3.3\"->ipywidgets<8,>=7.5.0->ipyleaflet) (0.1.0)\n",
      "Requirement already satisfied: setuptools>=18.5 in /usr/local/lib/python3.7/dist-packages (from ipython>=4.0.0; python_version >= \"3.3\"->ipywidgets<8,>=7.5.0->ipyleaflet) (45.1.0)\n",
      "Requirement already satisfied: jupyter-core in /usr/local/lib/python3.7/dist-packages (from nbformat>=4.2.0->ipywidgets<8,>=7.5.0->ipyleaflet) (4.5.0)\n",
      "Requirement already satisfied: jsonschema!=2.5.0,>=2.4 in /usr/local/lib/python3.7/dist-packages (from nbformat>=4.2.0->ipywidgets<8,>=7.5.0->ipyleaflet) (3.0.2)\n",
      "Requirement already satisfied: MarkupSafe>=0.23 in /usr/local/lib/python3.7/dist-packages (from jinja2->branca<0.4,>=0.3.1->ipyleaflet) (1.1.1)\n",
      "Requirement already satisfied: terminado>=0.8.1 in /usr/local/lib/python3.7/dist-packages (from notebook>=4.4.1->widgetsnbextension~=3.5.0->ipywidgets<8,>=7.5.0->ipyleaflet) (0.8.2)\n",
      "Requirement already satisfied: Send2Trash in /usr/local/lib/python3.7/dist-packages (from notebook>=4.4.1->widgetsnbextension~=3.5.0->ipywidgets<8,>=7.5.0->ipyleaflet) (1.5.0)\n",
      "Requirement already satisfied: prometheus-client in /usr/local/lib/python3.7/dist-packages (from notebook>=4.4.1->widgetsnbextension~=3.5.0->ipywidgets<8,>=7.5.0->ipyleaflet) (0.7.1)\n",
      "Requirement already satisfied: pyzmq>=17 in /usr/local/lib/python3.7/dist-packages (from notebook>=4.4.1->widgetsnbextension~=3.5.0->ipywidgets<8,>=7.5.0->ipyleaflet) (18.1.0)\n",
      "Requirement already satisfied: nbconvert in /usr/local/lib/python3.7/dist-packages (from notebook>=4.4.1->widgetsnbextension~=3.5.0->ipywidgets<8,>=7.5.0->ipyleaflet) (5.6.0)\n",
      "Requirement already satisfied: parso>=0.5.0 in /usr/local/lib/python3.7/dist-packages (from jedi>=0.10->ipython>=4.0.0; python_version >= \"3.3\"->ipywidgets<8,>=7.5.0->ipyleaflet) (0.5.1)\n",
      "Requirement already satisfied: ptyprocess>=0.5 in /usr/local/lib/python3.7/dist-packages (from pexpect; sys_platform != \"win32\"->ipython>=4.0.0; python_version >= \"3.3\"->ipywidgets<8,>=7.5.0->ipyleaflet) (0.6.0)\n",
      "Requirement already satisfied: wcwidth in /usr/local/lib/python3.7/dist-packages (from prompt-toolkit<2.1.0,>=2.0.0->ipython>=4.0.0; python_version >= \"3.3\"->ipywidgets<8,>=7.5.0->ipyleaflet) (0.1.7)\n",
      "Requirement already satisfied: pyrsistent>=0.14.0 in /usr/local/lib/python3.7/dist-packages (from jsonschema!=2.5.0,>=2.4->nbformat>=4.2.0->ipywidgets<8,>=7.5.0->ipyleaflet) (0.15.4)\n",
      "Requirement already satisfied: defusedxml in /usr/local/lib/python3.7/dist-packages (from nbconvert->notebook>=4.4.1->widgetsnbextension~=3.5.0->ipywidgets<8,>=7.5.0->ipyleaflet) (0.6.0)\n",
      "Requirement already satisfied: testpath in /usr/local/lib/python3.7/dist-packages (from nbconvert->notebook>=4.4.1->widgetsnbextension~=3.5.0->ipywidgets<8,>=7.5.0->ipyleaflet) (0.4.2)\n",
      "Requirement already satisfied: bleach in /usr/local/lib/python3.7/dist-packages (from nbconvert->notebook>=4.4.1->widgetsnbextension~=3.5.0->ipywidgets<8,>=7.5.0->ipyleaflet) (3.1.0)\n",
      "Requirement already satisfied: pandocfilters>=1.4.1 in /usr/local/lib/python3.7/dist-packages (from nbconvert->notebook>=4.4.1->widgetsnbextension~=3.5.0->ipywidgets<8,>=7.5.0->ipyleaflet) (1.4.2)\n",
      "Requirement already satisfied: entrypoints>=0.2.2 in /usr/local/lib/python3.7/dist-packages (from nbconvert->notebook>=4.4.1->widgetsnbextension~=3.5.0->ipywidgets<8,>=7.5.0->ipyleaflet) (0.3)\n",
      "Requirement already satisfied: mistune<2,>=0.8.1 in /usr/local/lib/python3.7/dist-packages (from nbconvert->notebook>=4.4.1->widgetsnbextension~=3.5.0->ipywidgets<8,>=7.5.0->ipyleaflet) (0.8.4)\n",
      "Requirement already satisfied: webencodings in /usr/local/lib/python3.7/dist-packages (from bleach->nbconvert->notebook>=4.4.1->widgetsnbextension~=3.5.0->ipywidgets<8,>=7.5.0->ipyleaflet) (0.5.1)\n"
     ]
    },
    {
     "name": "stdout",
     "output_type": "stream",
     "text": [
      "\u001b[33mWARNING: You are using pip version 20.0.2; however, version 20.1.1 is available.\r\n",
      "You should consider upgrading via the '/usr/bin/python3 -m pip install --upgrade pip' command.\u001b[0m\r\n"
     ]
    }
   ],
   "source": [
    "!pip install geojson geopandas plotly geopy ipyleaflet"
   ]
  },
  {
   "cell_type": "code",
   "execution_count": 2,
   "metadata": {
    "ExecuteTime": {
     "end_time": "2020-06-05T18:01:18.691543Z",
     "start_time": "2020-06-05T18:01:12.942404Z"
    },
    "scrolled": true
   },
   "outputs": [
    {
     "name": "stdout",
     "output_type": "stream",
     "text": [
      "Requirement already satisfied: pyshp in /usr/local/lib/python3.7/dist-packages (2.1.0)\n",
      "\u001b[33mWARNING: You are using pip version 20.0.2; however, version 20.1.1 is available.\n",
      "You should consider upgrading via the '/usr/bin/python3 -m pip install --upgrade pip' command.\u001b[0m\n"
     ]
    }
   ],
   "source": [
    "!pip install pyshp"
   ]
  },
  {
   "cell_type": "code",
   "execution_count": 2,
   "metadata": {
    "ExecuteTime": {
     "end_time": "2020-06-07T16:20:29.198604Z",
     "start_time": "2020-06-07T16:20:26.320784Z"
    }
   },
   "outputs": [],
   "source": [
    "# import the usual suspects\n",
    "import pandas as pd\n",
    "import numpy as np\n",
    "import matplotlib.pyplot as plt\n",
    "import random as rand\n",
    "import os\n",
    "from pathlib import Path\n",
    "import sys\n",
    "import timeit\n",
    "import shapefile\n",
    "import urllib.request\n",
    "import zipfile\n",
    "import random\n",
    "import itertools\n",
    "import math\n",
    "import geopandas as gpd\n",
    "import seaborn as sns\n",
    "from pathlib import Path\n",
    "# spark\n",
    "from pyspark import SparkConf, SparkContext\n",
    "from pyspark.sql.functions import asc, desc\n",
    "from pyspark.sql.functions import year, dayofweek, hour, dayofyear, month\n",
    "from pyspark import StorageLevel\n",
    "from pyspark.sql import SparkSession\n",
    "from pyspark.sql import Window\n",
    "from pyspark.sql.functions import col\n",
    "import pyspark.sql.functions as fn\n",
    "from pyspark.sql.catalog import Catalog\n",
    "from pyspark.sql.types import StructType, StructField\n",
    "from pyspark.sql.types import IntegerType, StringType\n",
    "from pyspark.sql.types import *\n",
    "from pyspark.sql.functions import isnan, when, count, col, round\n",
    "from pyspark.sql import SQLContext"
   ]
  },
  {
   "cell_type": "code",
   "execution_count": 3,
   "metadata": {
    "ExecuteTime": {
     "end_time": "2020-06-07T16:20:30.723456Z",
     "start_time": "2020-06-07T16:20:30.669252Z"
    }
   },
   "outputs": [],
   "source": [
    "#telechargement des fichier de données\n",
    "def download_data(year, month):\n",
    "    data_path = Path('yellow_tripdata_'+year+'-'+month+'.csv')\n",
    "    if not data_path.exists():\n",
    "        urllib.request.urlretrieve(\"https://s3.amazonaws.com/nyc-tlc/trip+data/yellow_tripdata_\"+year+\"-\"+month+\".csv\", \"yellow_tripdata_\"+year+\"-\"+month+\".csv\")\n",
    "#2015\n",
    "for i in [\"01\",\"02\",\"03\",\"04\",\"05\",\"06\",\"07\",\"08\",\"09\",\"10\",\"11\",\"12\"]:\n",
    "    download_data(\"2015\", i)\n",
    "\n",
    "#2018\n",
    "download_data(\"2018\", \"12\")"
   ]
  },
  {
   "cell_type": "markdown",
   "metadata": {},
   "source": [
    "For this homework **we will let you decide on the tools to use** (expected for Spark) and to **find out information all by yourself** (but don't hesitate to ask questions on the `slack` channel)."
   ]
  },
  {
   "cell_type": "code",
   "execution_count": 4,
   "metadata": {
    "ExecuteTime": {
     "end_time": "2020-06-07T16:28:20.944046Z",
     "start_time": "2020-06-07T16:28:13.792202Z"
    }
   },
   "outputs": [],
   "source": [
    "conf = SparkConf().setAppName(\"Spark NY Taxis trips\")\n",
    "conf.set(\"spark.driver.memory\", \"4g\")\n",
    "sc = SparkContext(conf=conf)\n",
    "\n",
    "spark = (SparkSession\n",
    "    .builder\n",
    "    .appName(\"Spark NY Taxis trips\")\n",
    "    .getOrCreate()\n",
    ")"
   ]
  },
  {
   "cell_type": "markdown",
   "metadata": {
    "nteract": {
     "transient": {
      "deleting": false
     }
    }
   },
   "source": [
    "# Loading data as parquet files\n",
    "\n",
    "We want to organize the data on a per year and per service basis. \n",
    "We want to end up with one `parquet` file for each year and each taxi service, since parquet is much better than CSV files.\n",
    "\n",
    "**Hint.** Depending on your internet connection and your laptop, you can use only the \"yellow\" service and use one month of 2015 and 2018\n",
    "\n",
    "CSV files can contain corrupted lines. You may have to work in order to perform ETL (Extract-Transform-Load) in order obtain a properly typed data frame.\n",
    "\n",
    "You are invited to proceed as follows:\n",
    "\n",
    "1. Try to read the CSV file without imposing a schema. \n",
    "1. Inspect the inferred schema. Do you agree with Spark's typing decision?\n",
    "1. Eventually correct the schema and read again the data\n",
    "1. Save the data into parquet files\n",
    "1. In the rest of your work, **you will only use the parquet files you created**, not the csv files (don't forget to choose a partitioning column and a number of partitions when creating the parquet files).\n",
    "\n",
    "**Hint.** Don't forget to ask `Spark` to use all the memory and ressources from your computer.\n",
    "\n",
    "**Hint.** Don't foreget that you should specify a partitioning column and a number of partitions when creating the parquet files.\n",
    "\n",
    "**Hint.** Note that the schemas of the 2015 and 2018 data are different...\n",
    "\n",
    "**Hint.** When working on this, ask you and answer to the following questions:\n",
    "\n",
    "1. What is the `StorageLevel` of the dataframe after reading the csv files?\n",
    "1. What is the number of partitions of the dataframe? \n",
    "1. Is it possible to tune this number at loading time? \n",
    "1. Why would we want to modify the number of partitions when creating the parquet files?"
   ]
  },
  {
   "cell_type": "markdown",
   "metadata": {},
   "source": [
    "## Try to read the CSV file without imposing a schema. "
   ]
  },
  {
   "cell_type": "code",
   "execution_count": 5,
   "metadata": {
    "ExecuteTime": {
     "end_time": "2020-06-07T16:28:20.956907Z",
     "start_time": "2020-06-07T16:28:20.947537Z"
    }
   },
   "outputs": [],
   "source": [
    "def read_csv (input_file_name):\n",
    "    df = spark.read.load(\n",
    "    input_file_name,\n",
    "    format=\"csv\", \n",
    "    sep=\",\", \n",
    "    inferSchema=\"false\", \n",
    "    header=\"true\"\n",
    "    )\n",
    "    return df"
   ]
  },
  {
   "cell_type": "code",
   "execution_count": 6,
   "metadata": {
    "ExecuteTime": {
     "end_time": "2020-06-07T16:28:35.954631Z",
     "start_time": "2020-06-07T16:28:24.090232Z"
    }
   },
   "outputs": [],
   "source": [
    "#Lecture données de 2015\n",
    "df_2015 = read_csv(\"yellow_tripdata_2015-01.csv\")\n",
    "for i in [\"02\",\"03\",\"04\",\"05\",\"06\",\"07\",\"08\",\"09\",\"10\",\"11\",\"12\"]:\n",
    "    df_2015 = df_2015.union(read_csv(\"yellow_tripdata_2015-\"+i+\".csv\"))"
   ]
  },
  {
   "cell_type": "code",
   "execution_count": 7,
   "metadata": {
    "ExecuteTime": {
     "end_time": "2020-06-07T16:28:40.411173Z",
     "start_time": "2020-06-07T16:28:38.098584Z"
    }
   },
   "outputs": [
    {
     "data": {
      "text/plain": [
       "Row(VendorID='2', tpep_pickup_datetime='2015-01-15 19:05:39', tpep_dropoff_datetime='2015-01-15 19:23:42', passenger_count='1', trip_distance='1.59', pickup_longitude='-73.993896484375', pickup_latitude='40.750110626220703', RateCodeID='1', store_and_fwd_flag='N', dropoff_longitude='-73.974784851074219', dropoff_latitude='40.750617980957031', payment_type='1', fare_amount='12', extra='1', mta_tax='0.5', tip_amount='3.25', tolls_amount='0', improvement_surcharge='0.3', total_amount='17.05')"
      ]
     },
     "execution_count": 7,
     "metadata": {},
     "output_type": "execute_result"
    }
   ],
   "source": [
    "df_2015.first()"
   ]
  },
  {
   "cell_type": "code",
   "execution_count": 8,
   "metadata": {
    "ExecuteTime": {
     "end_time": "2020-06-07T16:28:41.727211Z",
     "start_time": "2020-06-07T16:28:41.070142Z"
    }
   },
   "outputs": [
    {
     "data": {
      "text/plain": [
       "Row(VendorID='1', tpep_pickup_datetime='2018-12-01 00:28:22', tpep_dropoff_datetime='2018-12-01 00:44:07', passenger_count='2', trip_distance='2.50', RatecodeID='1', store_and_fwd_flag='N', PULocationID='148', DOLocationID='234', payment_type='1', fare_amount='12', extra='0.5', mta_tax='0.5', tip_amount='3.95', tolls_amount='0', improvement_surcharge='0.3', total_amount='17.25')"
      ]
     },
     "execution_count": 8,
     "metadata": {},
     "output_type": "execute_result"
    }
   ],
   "source": [
    "#Lecture données de 2018\n",
    "df_2018_12 = read_csv(\"yellow_tripdata_2018-12.csv\")\n",
    "df_2018_12.first()"
   ]
  },
  {
   "cell_type": "markdown",
   "metadata": {},
   "source": [
    "### What is the StorageLevel of the dataframe after reading the csv files?"
   ]
  },
  {
   "cell_type": "code",
   "execution_count": 9,
   "metadata": {
    "ExecuteTime": {
     "end_time": "2020-06-07T16:28:43.205913Z",
     "start_time": "2020-06-07T16:28:43.117547Z"
    }
   },
   "outputs": [
    {
     "name": "stdout",
     "output_type": "stream",
     "text": [
      "Serialized 1x Replicated\n"
     ]
    }
   ],
   "source": [
    "# 1. Le storageLevel par défaut est MEMORY_ONLY: Serialized 1x Replicated.\n",
    "print(df_2018_12.rdd.getStorageLevel())"
   ]
  },
  {
   "cell_type": "markdown",
   "metadata": {},
   "source": [
    "### What is the number of partitions of the dataframe? \n",
    "6 partitions pour 12-2018 et 178 pour 12-2015"
   ]
  },
  {
   "cell_type": "code",
   "execution_count": 10,
   "metadata": {
    "ExecuteTime": {
     "end_time": "2020-06-07T16:28:45.406393Z",
     "start_time": "2020-06-07T16:28:44.717462Z"
    }
   },
   "outputs": [
    {
     "name": "stdout",
     "output_type": "stream",
     "text": [
      "6\n",
      "178\n"
     ]
    }
   ],
   "source": [
    "print(df_2018_12.rdd.getNumPartitions())\n",
    "print(df_2015.rdd.getNumPartitions())"
   ]
  },
  {
   "cell_type": "markdown",
   "metadata": {},
   "source": [
    "### Is it possible to tune this number at loading time?\n",
    "Oui en utilisant la methode .repartition(Nombre_De_Partition) lors du read"
   ]
  },
  {
   "cell_type": "markdown",
   "metadata": {},
   "source": [
    "## Inspect the inferred schema. Do you agree with Spark's typing decision?\n",
    "Reponse:\n",
    "Pour ces deux dataframes, le schéma contient seulement des colonnes\n",
    "de données de type string.\n",
    "Avoir un type \"général\" pour les données est pratique pour les collecter mais pas pour les utiliser \n",
    "ensuite, par exemple pour utiliser les dates, les nombres.\n",
    "Il faut donc proceder à une convertion de type pour mieux exploiter les données"
   ]
  },
  {
   "cell_type": "code",
   "execution_count": 11,
   "metadata": {
    "ExecuteTime": {
     "end_time": "2020-06-07T16:28:47.566407Z",
     "start_time": "2020-06-07T16:28:47.542056Z"
    }
   },
   "outputs": [
    {
     "name": "stdout",
     "output_type": "stream",
     "text": [
      "root\n",
      " |-- VendorID: string (nullable = true)\n",
      " |-- tpep_pickup_datetime: string (nullable = true)\n",
      " |-- tpep_dropoff_datetime: string (nullable = true)\n",
      " |-- passenger_count: string (nullable = true)\n",
      " |-- trip_distance: string (nullable = true)\n",
      " |-- pickup_longitude: string (nullable = true)\n",
      " |-- pickup_latitude: string (nullable = true)\n",
      " |-- RateCodeID: string (nullable = true)\n",
      " |-- store_and_fwd_flag: string (nullable = true)\n",
      " |-- dropoff_longitude: string (nullable = true)\n",
      " |-- dropoff_latitude: string (nullable = true)\n",
      " |-- payment_type: string (nullable = true)\n",
      " |-- fare_amount: string (nullable = true)\n",
      " |-- extra: string (nullable = true)\n",
      " |-- mta_tax: string (nullable = true)\n",
      " |-- tip_amount: string (nullable = true)\n",
      " |-- tolls_amount: string (nullable = true)\n",
      " |-- improvement_surcharge: string (nullable = true)\n",
      " |-- total_amount: string (nullable = true)\n",
      "\n"
     ]
    }
   ],
   "source": [
    "#Inspection du schema de 2015\n",
    "df_2015.printSchema()"
   ]
  },
  {
   "cell_type": "code",
   "execution_count": 12,
   "metadata": {
    "ExecuteTime": {
     "end_time": "2020-06-07T16:28:48.173912Z",
     "start_time": "2020-06-07T16:28:48.168118Z"
    }
   },
   "outputs": [
    {
     "name": "stdout",
     "output_type": "stream",
     "text": [
      "root\n",
      " |-- VendorID: string (nullable = true)\n",
      " |-- tpep_pickup_datetime: string (nullable = true)\n",
      " |-- tpep_dropoff_datetime: string (nullable = true)\n",
      " |-- passenger_count: string (nullable = true)\n",
      " |-- trip_distance: string (nullable = true)\n",
      " |-- RatecodeID: string (nullable = true)\n",
      " |-- store_and_fwd_flag: string (nullable = true)\n",
      " |-- PULocationID: string (nullable = true)\n",
      " |-- DOLocationID: string (nullable = true)\n",
      " |-- payment_type: string (nullable = true)\n",
      " |-- fare_amount: string (nullable = true)\n",
      " |-- extra: string (nullable = true)\n",
      " |-- mta_tax: string (nullable = true)\n",
      " |-- tip_amount: string (nullable = true)\n",
      " |-- tolls_amount: string (nullable = true)\n",
      " |-- improvement_surcharge: string (nullable = true)\n",
      " |-- total_amount: string (nullable = true)\n",
      "\n"
     ]
    }
   ],
   "source": [
    "#Inspection du schema de 2018\n",
    "df_2018_12.printSchema()"
   ]
  },
  {
   "cell_type": "markdown",
   "metadata": {},
   "source": [
    "On remarque :\n",
    "\n",
    "Le schema de 2015 comporte 4 colonnes qui ne sont pas dans 2018\n",
    "pickup_longitude, pickup_latitude, \n",
    "dropoff_longitude, dropoff_latitude\n",
    "\n",
    "Le schema de 2018 comporte 2 colonnes qui ne sont pas dans 2015\n",
    "PULocationID, DOLocationID\n",
    "\n",
    "Apres plusieurs recherches on comprend que PULocationID et DOLocationID sont des id d'endroit précis dans NY. Grâce à un fichier définissant les latitudes et longitudes en fonction des ID on va donc pouvoir ramener le schema de 2018 à celui de 2015.\n",
    "Ainsi PULocationID nous donnera les colonnes pickup_longitude, pickup_latitude.\n",
    "Et DOLocationID nous donnera les colonnes dropoff_longitude, dropoff_latitude."
   ]
  },
  {
   "cell_type": "markdown",
   "metadata": {},
   "source": [
    "## Convert data_2018_12 from old schema to same schema as data_2015_12"
   ]
  },
  {
   "cell_type": "code",
   "execution_count": 13,
   "metadata": {
    "ExecuteTime": {
     "end_time": "2020-06-07T16:28:51.484904Z",
     "start_time": "2020-06-07T16:28:51.442923Z"
    }
   },
   "outputs": [],
   "source": [
    "#telechargement du fichier de données qui nous permettera\n",
    "# d'avoir le meme schema pour les df de 2018 et 2015\n",
    "shape_path = Path('shape')\n",
    "if not shape_path.exists():\n",
    "    urllib.request.urlretrieve(\"https://data.cityofnewyork.us/api/geospatial/d3c5-ddgc?method=export&format=Original\", \"taxi_zones.zip\")\n",
    "    with zipfile.ZipFile(\"taxi_zones.zip\",\"r\") as zip_ref:\n",
    "        zip_ref.extractall(\"./shape\")"
   ]
  },
  {
   "cell_type": "markdown",
   "metadata": {},
   "source": [
    "Lecture du fichier shape"
   ]
  },
  {
   "cell_type": "code",
   "execution_count": 14,
   "metadata": {
    "ExecuteTime": {
     "end_time": "2020-06-07T16:28:56.421817Z",
     "start_time": "2020-06-07T16:28:53.633776Z"
    }
   },
   "outputs": [],
   "source": [
    "def get_lat_lon(sf):\n",
    "    content = []\n",
    "    for sr in sf.shapeRecords():\n",
    "        shape = sr.shape\n",
    "        rec = sr.record\n",
    "        loc_id = rec[shp_dic['LocationID']]\n",
    "        \n",
    "        x = (shape.bbox[0]+shape.bbox[2])/2\n",
    "        y = (shape.bbox[1]+shape.bbox[3])/2\n",
    "        \n",
    "        content.append((loc_id, x, y))\n",
    "    return pd.DataFrame(content, columns=[\"LocationID\", \"longitude\", \"latitude\"])\n",
    "\n",
    "gpd.read_file('shape/taxi_zones.shp').to_crs(epsg=4326).to_file(\"shape/taxi_zones_4326.shp\")\n",
    "sf_4326 = shapefile.Reader(\"shape/taxi_zones_4326.shp\")\n",
    "\n",
    "\n",
    "fields_name = [field[0] for field in sf_4326.fields[1:]]\n",
    "shp_dic = dict(zip(fields_name, list(range(len(fields_name)))))\n",
    "attributes = sf_4326.records()\n",
    "shp_attr = [dict(zip(fields_name, attr)) for attr in attributes]\n",
    "\n",
    "pd_df_loc = pd.DataFrame(shp_attr).join(get_lat_lon(sf_4326)\\\n",
    "                                        .set_index(\"LocationID\"), on=\"LocationID\")\n",
    "sp_df_loc = spark.createDataFrame(data=pd_df_loc)\n",
    "sp_df_loc = sp_df_loc\\\n",
    "            .withColumn('LocationID', sp_df_loc['LocationID'].cast(IntegerType()))\n",
    "sp_df_loc = sp_df_loc.groupBy(\"LocationID\").agg({'longitude':'avg', 'latitude':'avg'})\n",
    "sp_df_loc = sp_df_loc.withColumnRenamed(\"AVG(longitude)\", \"longitude\")\\\n",
    "            .withColumnRenamed(\"AVG(latitude)\", \"latitude\")\n",
    "PULocationID = sp_df_loc.selectExpr('LocationID as PULocationID','longitude as pickup_longitude','latitude as pickup_latitude')\n",
    "DOLocationID = sp_df_loc.selectExpr('LocationID as DOLocationID','longitude as dropoff_longitude','latitude as dropoff_latitude')"
   ]
  },
  {
   "cell_type": "code",
   "execution_count": 15,
   "metadata": {
    "ExecuteTime": {
     "end_time": "2020-06-07T16:28:57.071574Z",
     "start_time": "2020-06-07T16:28:57.043946Z"
    }
   },
   "outputs": [
    {
     "data": {
      "text/html": [
       "<div>\n",
       "<style scoped>\n",
       "    .dataframe tbody tr th:only-of-type {\n",
       "        vertical-align: middle;\n",
       "    }\n",
       "\n",
       "    .dataframe tbody tr th {\n",
       "        vertical-align: top;\n",
       "    }\n",
       "\n",
       "    .dataframe thead th {\n",
       "        text-align: right;\n",
       "    }\n",
       "</style>\n",
       "<table border=\"1\" class=\"dataframe\">\n",
       "  <thead>\n",
       "    <tr style=\"text-align: right;\">\n",
       "      <th></th>\n",
       "      <th>OBJECTID</th>\n",
       "      <th>Shape_Leng</th>\n",
       "      <th>Shape_Area</th>\n",
       "      <th>zone</th>\n",
       "      <th>LocationID</th>\n",
       "      <th>borough</th>\n",
       "      <th>longitude</th>\n",
       "      <th>latitude</th>\n",
       "    </tr>\n",
       "  </thead>\n",
       "  <tbody>\n",
       "    <tr>\n",
       "      <td>0</td>\n",
       "      <td>1</td>\n",
       "      <td>0.116357</td>\n",
       "      <td>0.000782</td>\n",
       "      <td>Newark Airport</td>\n",
       "      <td>1</td>\n",
       "      <td>EWR</td>\n",
       "      <td>-74.171533</td>\n",
       "      <td>40.689483</td>\n",
       "    </tr>\n",
       "    <tr>\n",
       "      <td>1</td>\n",
       "      <td>2</td>\n",
       "      <td>0.433470</td>\n",
       "      <td>0.004866</td>\n",
       "      <td>Jamaica Bay</td>\n",
       "      <td>2</td>\n",
       "      <td>Queens</td>\n",
       "      <td>-73.822478</td>\n",
       "      <td>40.610824</td>\n",
       "    </tr>\n",
       "  </tbody>\n",
       "</table>\n",
       "</div>"
      ],
      "text/plain": [
       "   OBJECTID  Shape_Leng  Shape_Area            zone  LocationID borough  \\\n",
       "0         1    0.116357    0.000782  Newark Airport           1     EWR   \n",
       "1         2    0.433470    0.004866     Jamaica Bay           2  Queens   \n",
       "\n",
       "   longitude   latitude  \n",
       "0 -74.171533  40.689483  \n",
       "1 -73.822478  40.610824  "
      ]
     },
     "execution_count": 15,
     "metadata": {},
     "output_type": "execute_result"
    }
   ],
   "source": [
    "pd_df_loc.head(2)"
   ]
  },
  {
   "cell_type": "code",
   "execution_count": 16,
   "metadata": {
    "ExecuteTime": {
     "end_time": "2020-06-07T16:28:59.668913Z",
     "start_time": "2020-06-07T16:28:57.844507Z"
    }
   },
   "outputs": [
    {
     "name": "stdout",
     "output_type": "stream",
     "text": [
      "+----------+------------------+------------------+\n",
      "|LocationID|          latitude|         longitude|\n",
      "+----------+------------------+------------------+\n",
      "|       148|40.719101661499906|-73.99066416299985|\n",
      "|       243| 40.85863655093581| -73.9357980222621|\n",
      "+----------+------------------+------------------+\n",
      "only showing top 2 rows\n",
      "\n"
     ]
    }
   ],
   "source": [
    "sp_df_loc.show(2)"
   ]
  },
  {
   "cell_type": "code",
   "execution_count": 17,
   "metadata": {
    "ExecuteTime": {
     "end_time": "2020-06-07T16:29:00.321787Z",
     "start_time": "2020-06-07T16:29:00.309266Z"
    }
   },
   "outputs": [
    {
     "name": "stdout",
     "output_type": "stream",
     "text": [
      "root\n",
      " |-- PULocationID: integer (nullable = true)\n",
      " |-- pickup_longitude: double (nullable = true)\n",
      " |-- pickup_latitude: double (nullable = true)\n",
      "\n",
      "root\n",
      " |-- DOLocationID: integer (nullable = true)\n",
      " |-- dropoff_longitude: double (nullable = true)\n",
      " |-- dropoff_latitude: double (nullable = true)\n",
      "\n"
     ]
    }
   ],
   "source": [
    "PULocationID.printSchema()\n",
    "DOLocationID.printSchema()"
   ]
  },
  {
   "cell_type": "code",
   "execution_count": 18,
   "metadata": {
    "ExecuteTime": {
     "end_time": "2020-06-07T16:29:01.814686Z",
     "start_time": "2020-06-07T16:29:01.767815Z"
    }
   },
   "outputs": [],
   "source": [
    "#Preparation de la jointure des deux df\n",
    "df_2018_12 = df_2018_12\\\n",
    "            .withColumn('PULocationID', df_2018_12['PULocationID'].cast(IntegerType()))\\\n",
    "            .withColumn('DOLocationID', df_2018_12['DOLocationID'].cast(IntegerType()))"
   ]
  },
  {
   "cell_type": "code",
   "execution_count": 19,
   "metadata": {
    "ExecuteTime": {
     "end_time": "2020-06-07T16:29:15.808225Z",
     "start_time": "2020-06-07T16:29:03.191939Z"
    }
   },
   "outputs": [
    {
     "name": "stdout",
     "output_type": "stream",
     "text": [
      "8173231\n"
     ]
    }
   ],
   "source": [
    "#Affichage du nombre de ligne pour garder un oeil sur la perte de donnée apres jointure\n",
    "print(df_2018_12.count())"
   ]
  },
  {
   "cell_type": "code",
   "execution_count": 20,
   "metadata": {
    "ExecuteTime": {
     "end_time": "2020-06-07T16:29:16.373623Z",
     "start_time": "2020-06-07T16:29:15.831217Z"
    }
   },
   "outputs": [],
   "source": [
    "#jointure\n",
    "df_2018_12 = df_2018_12.join(PULocationID, on=['PULocationID'], how='inner')\n",
    "df_2018_12 = df_2018_12.join(DOLocationID, on=['DOLocationID'], how='inner')\n",
    "df_2018_12 = df_2018_12.select('VendorID','tpep_pickup_datetime','tpep_dropoff_datetime','passenger_count','trip_distance','pickup_longitude','pickup_latitude','RateCodeID','store_and_fwd_flag','dropoff_longitude','dropoff_latitude','payment_type','fare_amount','extra','mta_tax','tip_amount','tolls_amount','improvement_surcharge','total_amount')"
   ]
  },
  {
   "cell_type": "code",
   "execution_count": 21,
   "metadata": {
    "ExecuteTime": {
     "end_time": "2020-06-07T16:29:53.616981Z",
     "start_time": "2020-06-07T16:29:16.383996Z"
    }
   },
   "outputs": [
    {
     "name": "stdout",
     "output_type": "stream",
     "text": [
      "7984234\n"
     ]
    }
   ],
   "source": [
    "print(df_2018_12.count())"
   ]
  },
  {
   "cell_type": "markdown",
   "metadata": {},
   "source": [
    "Conclusion:\n",
    "On a donc perdu quelques données après la jointure.\n",
    "Apres recherche, on explique cela par le fait que dans le fichier data_2018 nous avons des PULocationID et DOLocationID qui ont pour valeur 264;265.\n",
    "Ces ID ne sont pas présents dans le fichier shape pris depuis le site NYC open data.\n",
    "Par conséquent ces lignes-là sont perdues lors de la jointure."
   ]
  },
  {
   "cell_type": "code",
   "execution_count": 22,
   "metadata": {
    "ExecuteTime": {
     "end_time": "2020-06-07T16:29:53.650999Z",
     "start_time": "2020-06-07T16:29:53.623859Z"
    }
   },
   "outputs": [
    {
     "name": "stdout",
     "output_type": "stream",
     "text": [
      "root\n",
      " |-- VendorID: string (nullable = true)\n",
      " |-- tpep_pickup_datetime: string (nullable = true)\n",
      " |-- tpep_dropoff_datetime: string (nullable = true)\n",
      " |-- passenger_count: string (nullable = true)\n",
      " |-- trip_distance: string (nullable = true)\n",
      " |-- pickup_longitude: double (nullable = true)\n",
      " |-- pickup_latitude: double (nullable = true)\n",
      " |-- RateCodeID: string (nullable = true)\n",
      " |-- store_and_fwd_flag: string (nullable = true)\n",
      " |-- dropoff_longitude: double (nullable = true)\n",
      " |-- dropoff_latitude: double (nullable = true)\n",
      " |-- payment_type: string (nullable = true)\n",
      " |-- fare_amount: string (nullable = true)\n",
      " |-- extra: string (nullable = true)\n",
      " |-- mta_tax: string (nullable = true)\n",
      " |-- tip_amount: string (nullable = true)\n",
      " |-- tolls_amount: string (nullable = true)\n",
      " |-- improvement_surcharge: string (nullable = true)\n",
      " |-- total_amount: string (nullable = true)\n",
      "\n"
     ]
    }
   ],
   "source": [
    "#Inspection du schema de 2018\n",
    "df_2018_12.printSchema()"
   ]
  },
  {
   "cell_type": "markdown",
   "metadata": {},
   "source": [
    "## Eventually correct the schema and read again the data\n",
    "Nous avons donc à présent deux fichiers de données de schema identique dont nous allons maintenant changer les types afin de mieux pouvoir exploiter les données par la suite. Nous allons egalement rajouter des colonnes qui nous servirons par la suite."
   ]
  },
  {
   "cell_type": "code",
   "execution_count": 23,
   "metadata": {
    "ExecuteTime": {
     "end_time": "2020-06-07T16:29:54.961779Z",
     "start_time": "2020-06-07T16:29:54.927143Z"
    }
   },
   "outputs": [],
   "source": [
    "def type_transformer(df):\n",
    "    df = df\\\n",
    "    .withColumn('VendorID', df['VendorID'].cast(IntegerType()))\\\n",
    "    .withColumn('tpep_pickup_datetime', df['tpep_pickup_datetime'].cast(TimestampType()))\\\n",
    "    .withColumn('tpep_dropoff_datetime', df['tpep_dropoff_datetime'].cast(TimestampType()))\\\n",
    "    .withColumn('passenger_count', df['passenger_count'].cast(IntegerType()))\\\n",
    "    .withColumn('trip_distance', df['trip_distance'].cast(DoubleType()))\\\n",
    "    .withColumn('pickup_longitude', df['pickup_longitude'].cast(DoubleType()))\\\n",
    "    .withColumn('pickup_latitude', df['pickup_latitude'].cast(DoubleType()))\\\n",
    "    .withColumn('RateCodeID', df['RateCodeID'].cast(IntegerType()))\\\n",
    "    .withColumn('dropoff_longitude', df['dropoff_longitude'].cast(DoubleType()))\\\n",
    "    .withColumn('dropoff_latitude', df['dropoff_latitude'].cast(DoubleType()))\\\n",
    "    .withColumn('payment_type', df['payment_type'].cast(IntegerType()))\\\n",
    "    .withColumn('fare_amount', df['fare_amount'].cast(DoubleType()))\\\n",
    "    .withColumn('extra', df['extra'].cast(DoubleType()))\\\n",
    "    .withColumn('mta_tax', df['mta_tax'].cast(DoubleType()))\\\n",
    "    .withColumn('tip_amount', df['tip_amount'].cast(DoubleType()))\\\n",
    "    .withColumn('tolls_amount', df['tolls_amount'].cast(DoubleType()))\\\n",
    "    .withColumn('improvement_surcharge', df['improvement_surcharge'].cast(DoubleType()))\\\n",
    "    .withColumn('total_amount', df['total_amount'].cast(DoubleType()))\n",
    "    return df\n",
    "\n",
    "def year_transformer(df):\n",
    "    year_col = year(col('tpep_pickup_datetime'))\n",
    "    df = df.withColumn('year', year_col)\n",
    "    return df\n",
    "\n",
    "def day_of_week_transformer(df):\n",
    "    day_of_week_col = dayofweek(col('tpep_pickup_datetime'))\n",
    "    df = df.withColumn('day_of_week', day_of_week_col)\n",
    "    return df\n",
    "\n",
    "def hour_transformer(df):\n",
    "    hour_col = hour(col('tpep_pickup_datetime'))\n",
    "    df = df.withColumn('hour', hour_col)\n",
    "    return df\n",
    "\n",
    "def month_transformer(df):\n",
    "    month_col = month(col('tpep_pickup_datetime'))\n",
    "    df = df.withColumn('month', month_col)\n",
    "    return df\n",
    "\n",
    "def trip_duration_transformer(df):\n",
    "    diff_secs_col = col(\"tpep_dropoff_datetime\").cast(\"long\") - col(\"tpep_pickup_datetime\").cast(\"long\")\n",
    "    df = df.withColumn('trip_duration_minutes', diff_secs_col/60)\n",
    "    return df\n",
    "\n",
    "def day_of_year_transformer(df):\n",
    "    day_of_year_col = dayofyear(col('tpep_pickup_datetime'))\n",
    "    df = df.withColumn('dayofyear', day_of_year_col)\n",
    "    return df\n",
    "\n"
   ]
  },
  {
   "cell_type": "code",
   "execution_count": 24,
   "metadata": {
    "ExecuteTime": {
     "end_time": "2020-06-07T16:30:13.393148Z",
     "start_time": "2020-06-07T16:30:13.385896Z"
    }
   },
   "outputs": [],
   "source": [
    "transformers = [\n",
    "    type_transformer,\n",
    "    year_transformer,\n",
    "]"
   ]
  },
  {
   "cell_type": "code",
   "execution_count": 25,
   "metadata": {
    "ExecuteTime": {
     "end_time": "2020-06-07T16:30:15.782076Z",
     "start_time": "2020-06-07T16:30:15.294657Z"
    }
   },
   "outputs": [
    {
     "name": "stdout",
     "output_type": "stream",
     "text": [
      "root\n",
      " |-- VendorID: integer (nullable = true)\n",
      " |-- tpep_pickup_datetime: timestamp (nullable = true)\n",
      " |-- tpep_dropoff_datetime: timestamp (nullable = true)\n",
      " |-- passenger_count: integer (nullable = true)\n",
      " |-- trip_distance: double (nullable = true)\n",
      " |-- pickup_longitude: double (nullable = true)\n",
      " |-- pickup_latitude: double (nullable = true)\n",
      " |-- RateCodeID: integer (nullable = true)\n",
      " |-- store_and_fwd_flag: string (nullable = true)\n",
      " |-- dropoff_longitude: double (nullable = true)\n",
      " |-- dropoff_latitude: double (nullable = true)\n",
      " |-- payment_type: integer (nullable = true)\n",
      " |-- fare_amount: double (nullable = true)\n",
      " |-- extra: double (nullable = true)\n",
      " |-- mta_tax: double (nullable = true)\n",
      " |-- tip_amount: double (nullable = true)\n",
      " |-- tolls_amount: double (nullable = true)\n",
      " |-- improvement_surcharge: double (nullable = true)\n",
      " |-- total_amount: double (nullable = true)\n",
      " |-- year: integer (nullable = true)\n",
      "\n",
      "root\n",
      " |-- VendorID: integer (nullable = true)\n",
      " |-- tpep_pickup_datetime: timestamp (nullable = true)\n",
      " |-- tpep_dropoff_datetime: timestamp (nullable = true)\n",
      " |-- passenger_count: integer (nullable = true)\n",
      " |-- trip_distance: double (nullable = true)\n",
      " |-- pickup_longitude: double (nullable = true)\n",
      " |-- pickup_latitude: double (nullable = true)\n",
      " |-- RateCodeID: integer (nullable = true)\n",
      " |-- store_and_fwd_flag: string (nullable = true)\n",
      " |-- dropoff_longitude: double (nullable = true)\n",
      " |-- dropoff_latitude: double (nullable = true)\n",
      " |-- payment_type: integer (nullable = true)\n",
      " |-- fare_amount: double (nullable = true)\n",
      " |-- extra: double (nullable = true)\n",
      " |-- mta_tax: double (nullable = true)\n",
      " |-- tip_amount: double (nullable = true)\n",
      " |-- tolls_amount: double (nullable = true)\n",
      " |-- improvement_surcharge: double (nullable = true)\n",
      " |-- total_amount: double (nullable = true)\n",
      " |-- year: integer (nullable = true)\n",
      "\n"
     ]
    }
   ],
   "source": [
    "#transformation des types des données de 2015 et 2018\n",
    "for transformer in transformers:\n",
    "    df_2015 = transformer(df_2015)\n",
    "    df_2018_12 = transformer(df_2018_12)\n",
    "\n",
    "df_2015.printSchema()\n",
    "df_2018_12.printSchema()"
   ]
  },
  {
   "cell_type": "markdown",
   "metadata": {},
   "source": [
    "## Save the data into parquet files"
   ]
  },
  {
   "cell_type": "code",
   "execution_count": 26,
   "metadata": {
    "ExecuteTime": {
     "end_time": "2020-06-07T16:30:17.862038Z",
     "start_time": "2020-06-07T16:30:17.846519Z"
    }
   },
   "outputs": [],
   "source": [
    "df_records = df_2015.union(df_2018_12)"
   ]
  },
  {
   "cell_type": "markdown",
   "metadata": {},
   "source": [
    "Les données que nous allons étudier sont donc maintenant dans le dataframe df_records.\n",
    "Nous allons donc maintenant créer notre fichier parquet avec un partitionby year afin de pouvoir exploiter ensuite les données selon l'année plus facilement."
   ]
  },
  {
   "cell_type": "markdown",
   "metadata": {},
   "source": [
    "### Why would we want to modify the number of partitions when creating the parquet files?\n",
    "On voudrait modifier le nombre de partitions par défaut (la valeur par défaut de spark.sql.shuffle.partitions est 200) pour l'adapter au dataframe : si c'est un \"petit\" dataframe, 200 c'est trop et si c'est un grand dataframe"
   ]
  },
  {
   "cell_type": "code",
   "execution_count": 27,
   "metadata": {
    "ExecuteTime": {
     "end_time": "2020-06-07T17:00:21.404898Z",
     "start_time": "2020-06-07T16:30:52.870576Z"
    }
   },
   "outputs": [],
   "source": [
    "parquet_path = Path('parquets/data_2015_2018.parquet')\n",
    "if not parquet_path.exists():\n",
    "    df_records.write.partitionBy(\"year\").parquet('parquets/data_2015_2018.parquet')"
   ]
  },
  {
   "cell_type": "markdown",
   "metadata": {
    "nteract": {
     "transient": {
      "deleting": false
     }
    }
   },
   "source": [
    "# Investigate (at least) one month of data in 2015\n",
    "\n",
    "From now on, you will be using **the parquet files you created for 2015**.\n",
    "\n",
    "We shall visualize several features of taxi traffic during one calendar month\n",
    "in 2015 and the same calendar month in 2018.\n",
    "\n",
    "**Hint.** In order to build appealing graphics, you may stick to `matplotlib + seaborn`, you can use also\n",
    "`plotly`, which is used a lot to build interactive graphics, but you can use whatever you want."
   ]
  },
  {
   "cell_type": "code",
   "execution_count": 49,
   "metadata": {
    "ExecuteTime": {
     "end_time": "2020-06-07T18:02:48.226081Z",
     "start_time": "2020-06-07T18:02:43.710504Z"
    }
   },
   "outputs": [],
   "source": [
    "df = spark.read.parquet('parquets/data_2015_2018.parquet')\n",
    "df2015 = spark.read.parquet(\"parquets/data_2015_2018.parquet/year=2015\")\n",
    "df2018 = spark.read.parquet(\"parquets/data_2015_2018.parquet/year=2018\")"
   ]
  },
  {
   "cell_type": "markdown",
   "metadata": {},
   "source": [
    "Les transformations suivantes sont faites apres l'ecriture du fichier parquet car cela prenais trop de temps pour le faire avant : Vous pouvais observer que je fichier parquet a pris 29m29s a etre generer.\n",
    "Avec ses transformations en plus mon ordinateurs a planter au bout de 2h30 d'attente..."
   ]
  },
  {
   "cell_type": "code",
   "execution_count": 50,
   "metadata": {
    "ExecuteTime": {
     "end_time": "2020-06-07T18:02:50.039389Z",
     "start_time": "2020-06-07T18:02:50.032044Z"
    }
   },
   "outputs": [],
   "source": [
    "transformers2 = [\n",
    "    month_transformer,\n",
    "    day_of_week_transformer,\n",
    "    day_of_year_transformer,\n",
    "    hour_transformer,\n",
    "    trip_duration_transformer\n",
    "]"
   ]
  },
  {
   "cell_type": "code",
   "execution_count": 95,
   "metadata": {
    "ExecuteTime": {
     "end_time": "2020-06-07T19:40:56.355882Z",
     "start_time": "2020-06-07T19:40:56.137076Z"
    }
   },
   "outputs": [],
   "source": [
    "#transformation des types des données de 2015 et 2018\n",
    "for transformer in transformers2:\n",
    "    df2015 = transformer(df2015)\n",
    "    df2018 = transformer(df2018)"
   ]
  },
  {
   "cell_type": "markdown",
   "metadata": {},
   "source": [
    "The following longitudes and lattitudes encompass Newark and JFK airports, Northern Manhattan and Verazzano bridge."
   ]
  },
  {
   "cell_type": "code",
   "execution_count": 52,
   "metadata": {
    "ExecuteTime": {
     "end_time": "2020-06-07T18:03:05.484953Z",
     "start_time": "2020-06-07T18:03:05.477250Z"
    },
    "jupyter": {
     "outputs_hidden": false,
     "source_hidden": false
    },
    "nteract": {
     "transient": {
      "deleting": false
     }
    }
   },
   "outputs": [],
   "source": [
    "long_min = -74.10\n",
    "long_max = -73.70\n",
    "lat_min = 40.58\n",
    "lat_max = 40.90"
   ]
  },
  {
   "cell_type": "markdown",
   "metadata": {},
   "source": [
    "1. Using these boundaries, **filter the 2015 data** (using pickup and dropoff longitude and latitude) and count the number of trips for each value of `passenger_count` and make a plot of that."
   ]
  },
  {
   "cell_type": "code",
   "execution_count": 53,
   "metadata": {
    "ExecuteTime": {
     "end_time": "2020-06-07T18:03:09.072191Z",
     "start_time": "2020-06-07T18:03:08.977856Z"
    }
   },
   "outputs": [],
   "source": [
    "newdf15 = df2015.filter(df2015.pickup_longitude.between(long_min, long_max) \\\n",
    "                      & df2015.pickup_latitude.between(lat_min, lat_max) \\\n",
    "                      & df2015.dropoff_longitude.between(long_min, long_max) \\\n",
    "                      & df2015.dropoff_latitude.between(lat_min, lat_max))"
   ]
  },
  {
   "cell_type": "code",
   "execution_count": 54,
   "metadata": {
    "ExecuteTime": {
     "end_time": "2020-06-07T18:04:05.377419Z",
     "start_time": "2020-06-07T18:03:09.836363Z"
    }
   },
   "outputs": [
    {
     "name": "stdout",
     "output_type": "stream",
     "text": [
      "+---------------+---------+\n",
      "|passenger_count| count_pc|\n",
      "+---------------+---------+\n",
      "|              0|    36263|\n",
      "|              1|100741249|\n",
      "|              2| 20466215|\n",
      "|              3|  6019930|\n",
      "|              4|  2919063|\n",
      "|              5|  7847530|\n",
      "|              6|  5067361|\n",
      "|              7|      175|\n",
      "|              8|       95|\n",
      "|              9|      103|\n",
      "+---------------+---------+\n",
      "\n"
     ]
    }
   ],
   "source": [
    "data = newdf15.groupBy('passenger_count')\\\n",
    "              .agg(fn.count('passenger_count') \\\n",
    "              .alias('count_pc'))\\\n",
    "                .sort(asc('passenger_count'))\n",
    "data.show()"
   ]
  },
  {
   "cell_type": "code",
   "execution_count": 55,
   "metadata": {
    "ExecuteTime": {
     "end_time": "2020-06-07T18:06:22.548231Z",
     "start_time": "2020-06-07T18:04:49.421789Z"
    }
   },
   "outputs": [
    {
     "data": {
      "text/plain": [
       "<BarContainer object of 10 artists>"
      ]
     },
     "execution_count": 55,
     "metadata": {},
     "output_type": "execute_result"
    },
    {
     "data": {
      "image/png": "[encoded data removed]",
      "text/plain": [
       "<Figure size 432x288 with 1 Axes>"
      ]
     },
     "metadata": {
      "needs_background": "light"
     },
     "output_type": "display_data"
    }
   ],
   "source": [
    "import matplotlib.pyplot as plt\n",
    "\n",
    "x_array = [row.passenger_count for row in data.select(\"passenger_count\").collect()]\n",
    "y_array = [row.count_pc for row in data.select(\"count_pc\").collect()]\n",
    "plt.bar(x_array, height=y_array)"
   ]
  },
  {
   "cell_type": "markdown",
   "metadata": {
    "nteract": {
     "transient": {
      "deleting": false
     }
    }
   },
   "source": [
    "Trips with $0$ or larger than $7$ passengers are pretty rare.\n",
    "We suspect these to be outliers. \n",
    "We need to explore these trips further in order order to understand what might be wrong\n",
    "with them\n",
    "\n",
    "### What's special with trips with zero passengers?"
   ]
  },
  {
   "cell_type": "code",
   "execution_count": 56,
   "metadata": {
    "ExecuteTime": {
     "end_time": "2020-06-07T18:06:29.636902Z",
     "start_time": "2020-06-07T18:06:29.504879Z"
    }
   },
   "outputs": [],
   "source": [
    "df2015_0 = df2015.filter(df2015['passenger_count']==0)"
   ]
  },
  {
   "cell_type": "code",
   "execution_count": 57,
   "metadata": {
    "ExecuteTime": {
     "end_time": "2020-06-07T18:06:30.604114Z",
     "start_time": "2020-06-07T18:06:30.120261Z"
    }
   },
   "outputs": [
    {
     "name": "stdout",
     "output_type": "stream",
     "text": [
      "+--------------------+---------------------+-------------+------------+\n",
      "|tpep_pickup_datetime|tpep_dropoff_datetime|trip_distance|total_amount|\n",
      "+--------------------+---------------------+-------------+------------+\n",
      "| 2015-03-16 22:28:01|  2015-03-16 22:35:26|          1.3|         8.3|\n",
      "| 2015-03-26 22:05:14|  2015-03-26 22:10:57|          0.7|         6.8|\n",
      "| 2015-03-17 06:22:08|  2015-03-17 06:33:46|          3.5|       15.95|\n",
      "| 2015-03-18 05:56:39|  2015-03-18 06:00:42|          0.7|         6.8|\n",
      "| 2015-03-21 05:02:29|  2015-03-21 05:05:03|          0.4|        6.35|\n",
      "| 2015-03-21 08:10:54|  2015-03-21 08:26:08|          8.7|       36.73|\n",
      "| 2015-03-14 13:07:07|  2015-03-14 13:18:58|          1.7|         9.8|\n",
      "| 2015-03-28 16:43:20|  2015-03-28 16:47:57|          0.7|        7.25|\n",
      "| 2015-03-17 19:57:28|  2015-03-17 20:02:38|          0.7|         6.8|\n",
      "| 2015-03-17 20:06:32|  2015-03-17 20:20:15|          2.9|       16.55|\n",
      "| 2015-03-12 12:15:06|  2015-03-12 12:16:42|          0.3|        5.15|\n",
      "| 2015-03-06 22:35:32|  2015-03-06 22:39:24|          0.6|         5.8|\n",
      "| 2015-03-20 00:52:47|  2015-03-20 01:04:37|          3.1|       16.55|\n",
      "| 2015-03-12 11:12:12|  2015-03-12 11:12:27|          0.0|        8.16|\n",
      "| 2015-03-30 02:29:01|  2015-03-30 02:33:57|          0.8|         6.8|\n",
      "| 2015-03-14 02:05:31|  2015-03-14 02:17:45|          3.5|       17.15|\n",
      "| 2015-03-23 11:28:21|  2015-03-23 11:34:52|          1.3|        8.75|\n",
      "| 2015-03-27 22:03:37|  2015-03-27 22:14:49|          0.8|        10.3|\n",
      "| 2015-03-02 13:11:01|  2015-03-02 13:22:14|          1.5|        10.8|\n",
      "| 2015-03-11 08:23:19|  2015-03-11 08:40:40|          2.2|        15.3|\n",
      "| 2015-03-25 16:53:17|  2015-03-25 16:56:40|          0.5|         7.3|\n",
      "| 2015-03-08 18:55:26|  2015-03-08 19:03:22|          1.4|        9.95|\n",
      "| 2015-03-02 21:31:51|  2015-03-02 21:53:23|          6.2|       27.35|\n",
      "| 2015-03-23 22:51:47|  2015-03-23 23:10:36|          4.4|        21.6|\n",
      "| 2015-03-18 14:28:48|  2015-03-18 15:23:47|         11.3|        43.3|\n",
      "| 2015-03-11 18:30:28|  2015-03-11 22:30:28|          0.0|        16.3|\n",
      "| 2015-03-18 23:46:20|  2015-03-18 23:57:33|          3.2|        13.3|\n",
      "| 2015-03-19 05:49:03|  2015-03-19 05:55:45|          1.3|        9.95|\n",
      "| 2015-03-09 12:14:14|  2015-03-09 12:52:22|         17.2|       67.13|\n",
      "| 2015-03-24 09:04:02|  2015-03-24 09:10:32|          0.9|        8.75|\n",
      "| 2015-03-04 05:40:30|  2015-03-04 05:45:31|          0.5|        7.55|\n",
      "| 2015-03-24 20:50:50|  2015-03-24 20:55:58|          1.2|        10.3|\n",
      "| 2015-03-24 16:14:14|  2015-03-24 16:26:46|          2.0|       14.15|\n",
      "| 2015-03-29 03:51:54|  2015-03-29 03:56:10|          0.7|         6.3|\n",
      "| 2015-03-22 00:38:38|  2015-03-22 01:10:47|         10.5|        37.8|\n",
      "| 2015-03-10 05:33:24|  2015-03-10 05:58:30|         17.6|        70.0|\n",
      "| 2015-03-19 18:38:47|  2015-03-19 18:56:14|          2.8|        15.3|\n",
      "| 2015-03-29 12:58:01|  2015-03-29 13:06:48|          1.1|         8.8|\n",
      "| 2015-03-15 18:04:57|  2015-03-15 18:09:31|          0.7|         5.8|\n",
      "| 2015-03-19 18:59:22|  2015-03-19 19:14:57|          1.6|        14.3|\n",
      "| 2015-03-17 23:00:11|  2015-03-17 23:07:37|          1.7|         8.8|\n",
      "| 2015-03-18 00:17:20|  2015-03-18 00:28:48|          4.5|        17.8|\n",
      "| 2015-03-20 17:25:17|  2015-03-20 17:31:34|          0.6|         7.8|\n",
      "| 2015-03-16 19:02:11|  2015-03-16 19:11:18|          2.3|       13.55|\n",
      "| 2015-03-28 15:40:00|  2015-03-28 15:56:27|          2.9|       17.85|\n",
      "| 2015-03-28 17:11:31|  2015-03-28 17:29:56|          3.3|       19.85|\n",
      "| 2015-03-06 00:19:22|  2015-03-06 00:25:21|          1.1|        9.35|\n",
      "| 2015-03-15 03:22:51|  2015-03-15 03:28:52|          1.3|        10.1|\n",
      "| 2015-03-26 14:44:45|  2015-03-26 15:02:38|          1.2|       14.75|\n",
      "| 2015-03-20 04:32:59|  2015-03-20 04:42:10|          2.0|        10.8|\n",
      "| 2015-03-12 08:30:07|  2015-03-12 08:43:54|          1.8|       13.55|\n",
      "| 2015-03-31 19:08:07|  2015-03-31 19:28:10|          1.7|        14.8|\n",
      "| 2015-03-30 00:38:35|  2015-03-30 00:44:08|          2.2|        11.3|\n",
      "| 2015-03-27 00:27:04|  2015-03-27 00:49:04|          5.0|       24.35|\n",
      "| 2015-03-30 05:40:23|  2015-03-30 05:49:04|          1.5|         9.3|\n",
      "| 2015-03-06 22:35:40|  2015-03-06 22:40:38|          1.1|        8.75|\n",
      "| 2015-03-27 14:13:53|  2015-03-27 14:36:05|          3.6|       20.75|\n",
      "| 2015-03-13 07:08:20|  2015-03-13 07:13:12|          0.9|         7.3|\n",
      "| 2015-03-11 07:37:34|  2015-03-11 07:50:21|          2.8|        12.3|\n",
      "| 2015-03-09 00:51:14|  2015-03-09 00:59:48|          2.9|       15.95|\n",
      "| 2015-03-02 16:43:34|  2015-03-02 17:13:26|          9.6|       47.03|\n",
      "| 2015-03-09 09:19:29|  2015-03-09 09:28:24|          1.0|         8.3|\n",
      "| 2015-03-05 22:04:46|  2015-03-05 22:17:25|          3.0|       15.95|\n",
      "| 2015-03-18 11:23:03|  2015-03-18 11:44:04|         10.2|       43.13|\n",
      "| 2015-03-09 15:11:23|  2015-03-09 15:23:44|          1.8|       12.95|\n",
      "| 2015-03-18 15:49:37|  2015-03-18 15:55:10|          1.3|        8.75|\n",
      "| 2015-03-08 20:18:22|  2015-03-08 20:25:47|          1.3|         8.3|\n",
      "| 2015-03-18 20:19:40|  2015-03-18 20:32:30|          1.3|       11.84|\n",
      "| 2015-03-03 16:50:16|  2015-03-03 17:17:06|          2.8|        21.0|\n",
      "| 2015-03-22 03:17:26|  2015-03-22 03:17:29|          0.0|        16.3|\n",
      "| 2015-03-15 00:04:43|  2015-03-15 00:14:32|          2.6|       14.15|\n",
      "| 2015-03-15 14:13:43|  2015-03-15 14:30:05|          2.7|        15.5|\n",
      "| 2015-03-10 18:49:44|  2015-03-10 19:28:57|         14.8|        44.8|\n",
      "| 2015-03-15 18:32:25|  2015-03-15 18:42:04|          0.9|         8.3|\n",
      "| 2015-03-31 07:14:07|  2015-03-31 07:15:03|          0.0|        42.3|\n",
      "| 2015-03-18 01:56:56|  2015-03-18 01:57:31|          0.0|       170.3|\n",
      "| 2015-03-17 09:54:17|  2015-03-17 10:05:11|          1.0|         9.3|\n",
      "| 2015-03-21 10:13:32|  2015-03-21 10:17:21|          0.8|         6.8|\n",
      "| 2015-03-21 00:22:30|  2015-03-21 00:27:17|          1.3|         8.3|\n",
      "| 2015-03-21 01:45:22|  2015-03-21 01:56:13|          3.0|        13.3|\n",
      "| 2015-03-31 17:23:05|  2015-03-31 17:44:49|          2.4|        16.3|\n",
      "| 2015-03-26 16:58:56|  2015-03-26 17:01:36|          0.6|        7.25|\n",
      "| 2015-03-31 19:08:10|  2015-03-31 19:43:49|          3.0|        26.8|\n",
      "| 2015-03-22 17:24:33|  2015-03-22 17:38:16|          2.2|       14.15|\n",
      "| 2015-03-26 20:15:55|  2015-03-26 20:21:16|          0.9|        8.15|\n",
      "| 2015-03-26 23:34:28|  2015-03-26 23:45:58|          1.2|        12.7|\n",
      "| 2015-03-06 22:16:28|  2015-03-06 22:16:36|          0.0|         3.8|\n",
      "| 2015-03-27 19:18:35|  2015-03-27 19:26:56|          1.0|        9.45|\n",
      "| 2015-03-07 19:30:48|  2015-03-07 19:49:51|          4.6|        65.3|\n",
      "| 2015-03-04 23:21:37|  2015-03-04 23:23:04|          0.3|        5.75|\n",
      "| 2015-03-23 15:25:28|  2015-03-23 15:40:22|          1.5|       13.55|\n",
      "| 2015-03-23 15:56:11|  2015-03-23 16:05:58|          0.9|         8.3|\n",
      "| 2015-03-29 20:47:55|  2015-03-29 20:55:46|          1.1|         8.8|\n",
      "| 2015-03-03 07:07:12|  2015-03-03 07:12:09|          1.0|        8.15|\n",
      "| 2015-03-18 09:38:19|  2015-03-18 09:45:08|          0.8|        8.75|\n",
      "| 2015-03-18 10:29:29|  2015-03-18 10:46:26|          1.7|        12.3|\n",
      "| 2015-03-18 11:23:09|  2015-03-18 11:34:26|          1.8|       12.35|\n",
      "| 2015-03-09 13:15:07|  2015-03-09 13:40:42|          3.3|        18.3|\n",
      "| 2015-03-30 08:32:41|  2015-03-30 08:39:49|          0.8|         8.5|\n",
      "| 2015-03-11 09:11:18|  2015-03-11 09:20:48|          1.5|        11.0|\n",
      "+--------------------+---------------------+-------------+------------+\n",
      "only showing top 100 rows\n",
      "\n"
     ]
    }
   ],
   "source": [
    "df2015_0.select('tpep_pickup_datetime','tpep_dropoff_datetime','trip_distance','total_amount').show(100)"
   ]
  },
  {
   "cell_type": "markdown",
   "metadata": {},
   "source": [
    "Après analyse de ces données on peut penser que les trajets avec zero passager peuvent être:\n",
    "    - Taxis qui transportent des colis\n",
    "    - Taxis ayant oublié de mettre le nombre de personnes\n",
    "    - Trajet annulé au bout de quelques minutes\n",
    "    -...\n",
    "Quoi qu'il en soit ces données ne sont donc pas pertinentes car elle ne represente pas la majorité de nos donnée et car nous n'avons pas de controle dessus (nous ne savons pas precisement a quoi elles correspondent).\n",
    "Elles seront enlevées dans la partie 4."
   ]
  },
  {
   "cell_type": "markdown",
   "metadata": {},
   "source": [
    "### What's special with trips with more than $6$ passengers?"
   ]
  },
  {
   "cell_type": "code",
   "execution_count": 58,
   "metadata": {
    "ExecuteTime": {
     "end_time": "2020-06-07T18:06:36.207139Z",
     "start_time": "2020-06-07T18:06:34.623759Z"
    }
   },
   "outputs": [
    {
     "name": "stdout",
     "output_type": "stream",
     "text": [
      "+--------------------+---------------------+-------------+------------+\n",
      "|tpep_pickup_datetime|tpep_dropoff_datetime|trip_distance|total_amount|\n",
      "+--------------------+---------------------+-------------+------------+\n",
      "| 2015-03-28 05:27:14|  2015-03-28 05:32:14|         0.79|        90.3|\n",
      "| 2015-03-28 05:27:14|  2015-03-28 05:32:14|         0.79|       -90.3|\n",
      "| 2015-03-09 18:12:28|  2015-03-09 18:21:00|          1.6|       11.75|\n",
      "| 2015-03-07 01:06:58|  2015-03-07 01:07:36|          0.0|         8.8|\n",
      "| 2015-03-27 12:43:00|  2015-03-27 12:50:00|          0.0|        5.55|\n",
      "| 2015-03-01 18:16:32|  2015-03-01 18:16:56|          0.0|        80.8|\n",
      "| 2015-03-09 20:07:40|  2015-03-09 20:17:40|          2.8|        13.8|\n",
      "| 2015-03-12 07:16:52|  2015-03-12 07:56:50|        18.58|        88.8|\n",
      "| 2015-03-10 22:50:27|  2015-03-10 22:51:03|          0.0|         8.3|\n",
      "| 2015-03-06 00:24:41|  2015-03-06 00:25:06|          0.0|       99.13|\n",
      "+--------------------+---------------------+-------------+------------+\n",
      "only showing top 10 rows\n",
      "\n"
     ]
    }
   ],
   "source": [
    "df2015_greater_than_6 = df2015.filter(df2015['passenger_count']>6)\n",
    "df2015_greater_than_6.select('tpep_pickup_datetime','tpep_dropoff_datetime','trip_distance','total_amount').show(10)"
   ]
  },
  {
   "cell_type": "markdown",
   "metadata": {},
   "source": [
    "Après analyse de ces données on peut penser que les trajets avec plus de 6 passagers peuvent être :\n",
    "    - Taxis Limousines\n",
    "    - Taxis Van\n",
    "Quoi qu'il en soit ces données ne sont donc pas pertinentes car elle ne represente pas la majorité de nos données et car nous n'avons pas de controle dessus (nous ne savons pas precisement a quoi elles correspondent).\n",
    "Elles seront enlevées dans la partie 4."
   ]
  },
  {
   "cell_type": "markdown",
   "metadata": {},
   "source": [
    "### What is the largest distance travelled during this month? Is it the first taxi on the moon?"
   ]
  },
  {
   "cell_type": "code",
   "execution_count": 59,
   "metadata": {
    "ExecuteTime": {
     "end_time": "2020-06-07T18:07:38.530582Z",
     "start_time": "2020-06-07T18:06:49.213275Z"
    }
   },
   "outputs": [
    {
     "name": "stdout",
     "output_type": "stream",
     "text": [
      "+--------------------+---------------------+-------------+---------------+------------+\n",
      "|tpep_pickup_datetime|tpep_dropoff_datetime|trip_distance|passenger_count|total_amount|\n",
      "+--------------------+---------------------+-------------+---------------+------------+\n",
      "| 2015-11-25 14:18:41|  2015-11-25 14:23:49|1.986230136E8|              1|    93955.69|\n",
      "+--------------------+---------------------+-------------+---------------+------------+\n",
      "only showing top 1 row\n",
      "\n"
     ]
    }
   ],
   "source": [
    "df2015.sort(desc('trip_distance'))\\\n",
    ".select('tpep_pickup_datetime','tpep_dropoff_datetime','trip_distance','passenger_count','total_amount')\\\n",
    ".show(1)"
   ]
  },
  {
   "cell_type": "markdown",
   "metadata": {},
   "source": [
    "<p>1.986230136E8 = 198623013.6miles = ~319652755km</p>\n",
    "<p>distance terre-lune = 384400km</p>\n",
    "<p>319652755/384400 = ~830</p>\n",
    "Non seulement c'est peut etre le premier taxi à voyager sur la lune mais en plus il en a certainement profiter pour faire ~415 aller-retours :)"
   ]
  },
  {
   "cell_type": "markdown",
   "metadata": {},
   "source": [
    "### Plot the distribution of the `trip_distance` (using an histogram for instance) during year 2105. Focus on trips with non-zero trip distance and trip distance less than 30 miles."
   ]
  },
  {
   "cell_type": "code",
   "execution_count": 61,
   "metadata": {
    "ExecuteTime": {
     "end_time": "2020-06-07T18:08:27.399922Z",
     "start_time": "2020-06-07T18:07:50.585423Z"
    }
   },
   "outputs": [
    {
     "name": "stdout",
     "output_type": "stream",
     "text": [
      "+---------+------------------+\n",
      "|dayofyear| avg_trip_distance|\n",
      "+---------+------------------+\n",
      "|        1| 3.245232827488673|\n",
      "|        2|2.9526647081796003|\n",
      "|        3| 2.838602464813106|\n",
      "|        4|3.3186753703346303|\n",
      "|        5|3.0209419894022114|\n",
      "|        6|2.7222500890574612|\n",
      "|        7| 2.627420412675877|\n",
      "|        8| 2.650553106284003|\n",
      "|        9|2.7071106307828465|\n",
      "|       10|2.6371328282354995|\n",
      "|       11|3.0237705091131595|\n",
      "|       12|2.8001711639862257|\n",
      "|       13|2.6758177717939997|\n",
      "|       14|2.7526350894679763|\n",
      "|       15|2.8151786396018874|\n",
      "|       16| 2.803888713426653|\n",
      "|       17| 2.675526675671121|\n",
      "|       18|2.8410667829201697|\n",
      "|       19|  3.09995629468194|\n",
      "|       20| 2.794864730030914|\n",
      "+---------+------------------+\n",
      "only showing top 20 rows\n",
      "\n"
     ]
    }
   ],
   "source": [
    "data = df2015.filter((df2015['trip_distance']>0) & (df2015['trip_distance']<30))\\\n",
    "                .groupBy('dayofyear')\\\n",
    "              .agg(fn.avg('trip_distance') \\\n",
    "              .alias('avg_trip_distance'))\\\n",
    "                .sort(asc('dayofyear'))\n",
    "data.show()"
   ]
  },
  {
   "cell_type": "code",
   "execution_count": 64,
   "metadata": {
    "ExecuteTime": {
     "end_time": "2020-06-07T18:17:24.900267Z",
     "start_time": "2020-06-07T18:16:17.898770Z"
    }
   },
   "outputs": [
    {
     "data": {
      "text/plain": [
       "<BarContainer object of 365 artists>"
      ]
     },
     "execution_count": 64,
     "metadata": {},
     "output_type": "execute_result"
    },
    {
     "data": {
      "image/png": "[encoded data removed]",
      "text/plain": [
       "<Figure size 1296x360 with 1 Axes>"
      ]
     },
     "metadata": {
      "needs_background": "light"
     },
     "output_type": "display_data"
    }
   ],
   "source": [
    "f, ax = plt.subplots(figsize=(18,5))\n",
    "x_array = [row.dayofyear for row in data.select(\"dayofyear\").collect()]\n",
    "y_array = [row.avg_trip_distance for row in data.select(\"avg_trip_distance\").collect()]\n",
    "plt.bar(x_array, height=y_array)"
   ]
  },
  {
   "cell_type": "markdown",
   "metadata": {},
   "source": [
    "Let's look at what Spark does for these computations\n",
    "\n",
    "### Use the `explain` method or have a look at the [Spark UI](http://localhost:4040/SQL/) to analyze the job. You should be able to assess \n",
    "    - Parsed Logical Plan\n",
    "    - Analyzed Logical Plan\n",
    "    - Optimized Logical Plan\n",
    "    - Physical Plan"
   ]
  },
  {
   "cell_type": "code",
   "execution_count": 65,
   "metadata": {
    "ExecuteTime": {
     "end_time": "2020-06-07T18:17:38.119906Z",
     "start_time": "2020-06-07T18:17:38.018529Z"
    }
   },
   "outputs": [
    {
     "name": "stdout",
     "output_type": "stream",
     "text": [
      "== Parsed Logical Plan ==\n",
      "'Project [VendorID#3930, tpep_pickup_datetime#3931, tpep_dropoff_datetime#3932, passenger_count#3933, trip_distance#3934, pickup_longitude#3935, pickup_latitude#3936, RateCodeID#3937, store_and_fwd_flag#3938, dropoff_longitude#3939, dropoff_latitude#3940, payment_type#3941, fare_amount#3942, extra#3943, mta_tax#3944, tip_amount#3945, tolls_amount#3946, improvement_surcharge#3947, total_amount#3948, month#4006, day_of_week#4048, dayofyear#4091, hour#4135, ((cast('tpep_dropoff_datetime as bigint) - cast('tpep_pickup_datetime as bigint)) / 60) AS trip_duration_minutes#4180]\n",
      "+- Project [VendorID#3930, tpep_pickup_datetime#3931, tpep_dropoff_datetime#3932, passenger_count#3933, trip_distance#3934, pickup_longitude#3935, pickup_latitude#3936, RateCodeID#3937, store_and_fwd_flag#3938, dropoff_longitude#3939, dropoff_latitude#3940, payment_type#3941, fare_amount#3942, extra#3943, mta_tax#3944, tip_amount#3945, tolls_amount#3946, improvement_surcharge#3947, total_amount#3948, month#4006, day_of_week#4048, dayofyear#4091, hour(tpep_pickup_datetime#3931, Some(GMT)) AS hour#4135]\n",
      "   +- Project [VendorID#3930, tpep_pickup_datetime#3931, tpep_dropoff_datetime#3932, passenger_count#3933, trip_distance#3934, pickup_longitude#3935, pickup_latitude#3936, RateCodeID#3937, store_and_fwd_flag#3938, dropoff_longitude#3939, dropoff_latitude#3940, payment_type#3941, fare_amount#3942, extra#3943, mta_tax#3944, tip_amount#3945, tolls_amount#3946, improvement_surcharge#3947, total_amount#3948, month#4006, day_of_week#4048, dayofyear(cast(tpep_pickup_datetime#3931 as date)) AS dayofyear#4091]\n",
      "      +- Project [VendorID#3930, tpep_pickup_datetime#3931, tpep_dropoff_datetime#3932, passenger_count#3933, trip_distance#3934, pickup_longitude#3935, pickup_latitude#3936, RateCodeID#3937, store_and_fwd_flag#3938, dropoff_longitude#3939, dropoff_latitude#3940, payment_type#3941, fare_amount#3942, extra#3943, mta_tax#3944, tip_amount#3945, tolls_amount#3946, improvement_surcharge#3947, total_amount#3948, month#4006, dayofweek(cast(tpep_pickup_datetime#3931 as date)) AS day_of_week#4048]\n",
      "         +- Project [VendorID#3930, tpep_pickup_datetime#3931, tpep_dropoff_datetime#3932, passenger_count#3933, trip_distance#3934, pickup_longitude#3935, pickup_latitude#3936, RateCodeID#3937, store_and_fwd_flag#3938, dropoff_longitude#3939, dropoff_latitude#3940, payment_type#3941, fare_amount#3942, extra#3943, mta_tax#3944, tip_amount#3945, tolls_amount#3946, improvement_surcharge#3947, total_amount#3948, month(cast(tpep_pickup_datetime#3931 as date)) AS month#4006]\n",
      "            +- Relation[VendorID#3930,tpep_pickup_datetime#3931,tpep_dropoff_datetime#3932,passenger_count#3933,trip_distance#3934,pickup_longitude#3935,pickup_latitude#3936,RateCodeID#3937,store_and_fwd_flag#3938,dropoff_longitude#3939,dropoff_latitude#3940,payment_type#3941,fare_amount#3942,extra#3943,mta_tax#3944,tip_amount#3945,tolls_amount#3946,improvement_surcharge#3947,total_amount#3948] parquet\n",
      "\n",
      "== Analyzed Logical Plan ==\n",
      "VendorID: int, tpep_pickup_datetime: timestamp, tpep_dropoff_datetime: timestamp, passenger_count: int, trip_distance: double, pickup_longitude: double, pickup_latitude: double, RateCodeID: int, store_and_fwd_flag: string, dropoff_longitude: double, dropoff_latitude: double, payment_type: int, fare_amount: double, extra: double, mta_tax: double, tip_amount: double, tolls_amount: double, improvement_surcharge: double, total_amount: double, month: int, day_of_week: int, dayofyear: int, hour: int, trip_duration_minutes: double\n",
      "Project [VendorID#3930, tpep_pickup_datetime#3931, tpep_dropoff_datetime#3932, passenger_count#3933, trip_distance#3934, pickup_longitude#3935, pickup_latitude#3936, RateCodeID#3937, store_and_fwd_flag#3938, dropoff_longitude#3939, dropoff_latitude#3940, payment_type#3941, fare_amount#3942, extra#3943, mta_tax#3944, tip_amount#3945, tolls_amount#3946, improvement_surcharge#3947, total_amount#3948, month#4006, day_of_week#4048, dayofyear#4091, hour#4135, (cast((cast(tpep_dropoff_datetime#3932 as bigint) - cast(tpep_pickup_datetime#3931 as bigint)) as double) / cast(60 as double)) AS trip_duration_minutes#4180]\n",
      "+- Project [VendorID#3930, tpep_pickup_datetime#3931, tpep_dropoff_datetime#3932, passenger_count#3933, trip_distance#3934, pickup_longitude#3935, pickup_latitude#3936, RateCodeID#3937, store_and_fwd_flag#3938, dropoff_longitude#3939, dropoff_latitude#3940, payment_type#3941, fare_amount#3942, extra#3943, mta_tax#3944, tip_amount#3945, tolls_amount#3946, improvement_surcharge#3947, total_amount#3948, month#4006, day_of_week#4048, dayofyear#4091, hour(tpep_pickup_datetime#3931, Some(GMT)) AS hour#4135]\n",
      "   +- Project [VendorID#3930, tpep_pickup_datetime#3931, tpep_dropoff_datetime#3932, passenger_count#3933, trip_distance#3934, pickup_longitude#3935, pickup_latitude#3936, RateCodeID#3937, store_and_fwd_flag#3938, dropoff_longitude#3939, dropoff_latitude#3940, payment_type#3941, fare_amount#3942, extra#3943, mta_tax#3944, tip_amount#3945, tolls_amount#3946, improvement_surcharge#3947, total_amount#3948, month#4006, day_of_week#4048, dayofyear(cast(tpep_pickup_datetime#3931 as date)) AS dayofyear#4091]\n",
      "      +- Project [VendorID#3930, tpep_pickup_datetime#3931, tpep_dropoff_datetime#3932, passenger_count#3933, trip_distance#3934, pickup_longitude#3935, pickup_latitude#3936, RateCodeID#3937, store_and_fwd_flag#3938, dropoff_longitude#3939, dropoff_latitude#3940, payment_type#3941, fare_amount#3942, extra#3943, mta_tax#3944, tip_amount#3945, tolls_amount#3946, improvement_surcharge#3947, total_amount#3948, month#4006, dayofweek(cast(tpep_pickup_datetime#3931 as date)) AS day_of_week#4048]\n",
      "         +- Project [VendorID#3930, tpep_pickup_datetime#3931, tpep_dropoff_datetime#3932, passenger_count#3933, trip_distance#3934, pickup_longitude#3935, pickup_latitude#3936, RateCodeID#3937, store_and_fwd_flag#3938, dropoff_longitude#3939, dropoff_latitude#3940, payment_type#3941, fare_amount#3942, extra#3943, mta_tax#3944, tip_amount#3945, tolls_amount#3946, improvement_surcharge#3947, total_amount#3948, month(cast(tpep_pickup_datetime#3931 as date)) AS month#4006]\n",
      "            +- Relation[VendorID#3930,tpep_pickup_datetime#3931,tpep_dropoff_datetime#3932,passenger_count#3933,trip_distance#3934,pickup_longitude#3935,pickup_latitude#3936,RateCodeID#3937,store_and_fwd_flag#3938,dropoff_longitude#3939,dropoff_latitude#3940,payment_type#3941,fare_amount#3942,extra#3943,mta_tax#3944,tip_amount#3945,tolls_amount#3946,improvement_surcharge#3947,total_amount#3948] parquet\n",
      "\n",
      "== Optimized Logical Plan ==\n",
      "Project [VendorID#3930, tpep_pickup_datetime#3931, tpep_dropoff_datetime#3932, passenger_count#3933, trip_distance#3934, pickup_longitude#3935, pickup_latitude#3936, RateCodeID#3937, store_and_fwd_flag#3938, dropoff_longitude#3939, dropoff_latitude#3940, payment_type#3941, fare_amount#3942, extra#3943, mta_tax#3944, tip_amount#3945, tolls_amount#3946, improvement_surcharge#3947, total_amount#3948, month(cast(tpep_pickup_datetime#3931 as date)) AS month#4006, dayofweek(cast(tpep_pickup_datetime#3931 as date)) AS day_of_week#4048, dayofyear(cast(tpep_pickup_datetime#3931 as date)) AS dayofyear#4091, hour(tpep_pickup_datetime#3931, Some(GMT)) AS hour#4135, (cast((cast(tpep_dropoff_datetime#3932 as bigint) - cast(tpep_pickup_datetime#3931 as bigint)) as double) / 60.0) AS trip_duration_minutes#4180]\n",
      "+- Relation[VendorID#3930,tpep_pickup_datetime#3931,tpep_dropoff_datetime#3932,passenger_count#3933,trip_distance#3934,pickup_longitude#3935,pickup_latitude#3936,RateCodeID#3937,store_and_fwd_flag#3938,dropoff_longitude#3939,dropoff_latitude#3940,payment_type#3941,fare_amount#3942,extra#3943,mta_tax#3944,tip_amount#3945,tolls_amount#3946,improvement_surcharge#3947,total_amount#3948] parquet\n",
      "\n",
      "== Physical Plan ==\n",
      "*(1) Project [VendorID#3930, tpep_pickup_datetime#3931, tpep_dropoff_datetime#3932, passenger_count#3933, trip_distance#3934, pickup_longitude#3935, pickup_latitude#3936, RateCodeID#3937, store_and_fwd_flag#3938, dropoff_longitude#3939, dropoff_latitude#3940, payment_type#3941, fare_amount#3942, extra#3943, mta_tax#3944, tip_amount#3945, tolls_amount#3946, improvement_surcharge#3947, total_amount#3948, month(cast(tpep_pickup_datetime#3931 as date)) AS month#4006, dayofweek(cast(tpep_pickup_datetime#3931 as date)) AS day_of_week#4048, dayofyear(cast(tpep_pickup_datetime#3931 as date)) AS dayofyear#4091, hour(tpep_pickup_datetime#3931, Some(GMT)) AS hour#4135, (cast((cast(tpep_dropoff_datetime#3932 as bigint) - cast(tpep_pickup_datetime#3931 as bigint)) as double) / 60.0) AS trip_duration_minutes#4180]\n",
      "+- *(1) FileScan parquet [VendorID#3930,tpep_pickup_datetime#3931,tpep_dropoff_datetime#3932,passenger_count#3933,trip_distance#3934,pickup_longitude#3935,pickup_latitude#3936,RateCodeID#3937,store_and_fwd_flag#3938,dropoff_longitude#3939,dropoff_latitude#3940,payment_type#3941,fare_amount#3942,extra#3943,mta_tax#3944,tip_amount#3945,tolls_amount#3946,improvement_surcharge#3947,total_amount#3948] Batched: true, Format: Parquet, Location: InMemoryFileIndex[file:/opt/polynote/notebooks/hw3/parquets/data_2015_2018.parquet/year=2015], PartitionFilters: [], PushedFilters: [], ReadSchema: struct<VendorID:int,tpep_pickup_datetime:timestamp,tpep_dropoff_datetime:timestamp,passenger_coun...\n"
     ]
    }
   ],
   "source": [
    "#Obtenir les 4 types de plans (parsed logical, analyzed logical, optimized logicial, physical)\n",
    "df2015.explain(True)"
   ]
  },
  {
   "cell_type": "markdown",
   "metadata": {},
   "source": [
    "### Do the Analyzed Logical Plan and Optimized Logical Plan differ? Spot the differences if any. How would a RDBMS proceed with such a query?"
   ]
  },
  {
   "cell_type": "markdown",
   "metadata": {},
   "source": [
    "Il y a une différence entre le plan logique Analyzed (analysé par Catalyst) et le plan logique Optimized : dans le plan analyzed, il y a la relation (nom de la colonne suivi de # et d'un nombre) et chaque colonne et son type dans df2015 alors que df2018 contient seulement la relation. Pour passer d'un plan logique parsé en un plan Analyzed, Catalyst effectue une résolution des types et une résolution des noms dans la requête. Pour passer d'un plan logique Analyzed en un plan logique Optimized, l'optimisateur Catalyst applique des règles d'optimisation, qui modifient le TreeNode dans Spark SQL."
   ]
  },
  {
   "cell_type": "markdown",
   "metadata": {},
   "source": [
    "### How does the physical plan differ from the Optimized Logical Plan? What are the keywords you would not expects in a RDBMS? What is their meaning? "
   ]
  },
  {
   "cell_type": "markdown",
   "metadata": {},
   "source": [
    "Dans le plan physique, en plus de la relation du type de chaque colonne du df2015, il y a également une indication \"FileScan\" sur l'exécution de la requête, et il y a des informations générales : le format de fichier, sa localisation dans l'ordinateur, la liste des filtres PartitionFilter, la liste des filtres PushedFilters etc. Le plan physique est celui qui exécuté pour produire le résultat de la requête SQL."
   ]
  },
  {
   "cell_type": "markdown",
   "metadata": {},
   "source": [
    "### Inspect the stages on [Spark UI](http://localhost:4040/stages/stage). How many *stages* are necessary to complete the Spark job? What are the roles of `HashAggregate` and `Exchange hashpartitioning`?"
   ]
  },
  {
   "cell_type": "markdown",
   "metadata": {},
   "source": [
    "Pour compléter le Spark job, il faut 7 stages. HashAggregate et Exchange hashpartitioning sont des opérations de plan d'exécution."
   ]
  },
  {
   "cell_type": "markdown",
   "metadata": {},
   "source": [
    "L'opération HashAggregate utilise une table de hachage temporaire pour grouper les enregistrements. Cette opération ne requiert pas de données pré-triées. Elle utilise une grande quantité de mémoire pour matérialiser le résultat intermédiaire (sans pipeline). La sortie n'est pas triée."
   ]
  },
  {
   "cell_type": "markdown",
   "metadata": {},
   "source": [
    "L'Exchange signfie échange de shuffle entre les jobs. Le hashpartitioning est une technique de partitionnement dans lequel une clef de hachage est utilisée pour distribuer les lignes de manière homogène à travers les différentes partitions."
   ]
  },
  {
   "cell_type": "markdown",
   "metadata": {},
   "source": [
    "### Does the physical plan perform `shuffle` operations? If yes how many?"
   ]
  },
  {
   "cell_type": "markdown",
   "metadata": {},
   "source": [
    "### What are tasks with respect to stages (in Spark language)? How many tasks are your stages made of?"
   ]
  },
  {
   "cell_type": "markdown",
   "metadata": {},
   "source": [
    "Un stage est une séquence de tâches qui peuvent être exécutées ensemble, sans shuffle. Une tâche est une opération (map ou filter) qui se produit dans une partition RDD spécifique. Mes stages sont tous constitués d'une seule task."
   ]
  },
  {
   "cell_type": "markdown",
   "metadata": {
    "nteract": {
     "transient": {
      "deleting": false
     }
    }
   },
   "source": [
    "Now, compute the following and produce relevant plots:\n",
    "\n",
    "### Break down the trip distance distribution for each day of week"
   ]
  },
  {
   "cell_type": "code",
   "execution_count": 74,
   "metadata": {
    "ExecuteTime": {
     "end_time": "2020-06-07T18:29:51.694644Z",
     "start_time": "2020-06-07T18:28:50.437255Z"
    }
   },
   "outputs": [
    {
     "name": "stdout",
     "output_type": "stream",
     "text": [
      "+-----------+------------------+\n",
      "|day_of_week|avg(trip_distance)|\n",
      "+-----------+------------------+\n",
      "|          1|12.745210951069941|\n",
      "|          6|16.859580858945353|\n",
      "|          3|10.099516353342999|\n",
      "|          5| 8.206047034952496|\n",
      "|          4| 22.35314032663415|\n",
      "|          7|  8.50561287121055|\n",
      "|          2|13.427910992803914|\n",
      "+-----------+------------------+\n",
      "\n",
      "+-----------+------------------+\n",
      "|day_of_week|avg(trip_distance)|\n",
      "+-----------+------------------+\n",
      "|          1|3.2286792124743116|\n",
      "|          6| 2.365530029648971|\n",
      "|          3|2.8812497482459882|\n",
      "|          5|1.0765866704388722|\n",
      "|          4|2.8964429888639005|\n",
      "|          7|1.0789530426117189|\n",
      "|          2|1.7152620023940133|\n",
      "+-----------+------------------+\n",
      "\n"
     ]
    }
   ],
   "source": [
    "df2015_by_day_no_filter = df2015.select('day_of_week', 'trip_distance')\n",
    "df2015_by_day = df2015.select('day_of_week', 'trip_distance').filter(df2015['trip_distance']<150)\n",
    "\n",
    "df2015_by_day_no_filter = df2015_by_day_no_filter.groupBy(\"day_of_week\").agg({'trip_distance':'avg'})\n",
    "df2015_by_day = df2015_by_day.groupBy(\"day_of_week\").agg({'trip_distance':'avg'})\n",
    "df2015_by_day_no_filter.show()\n",
    "df2015_by_day.show()"
   ]
  },
  {
   "cell_type": "code",
   "execution_count": 81,
   "metadata": {
    "ExecuteTime": {
     "end_time": "2020-06-07T19:10:55.945968Z",
     "start_time": "2020-06-07T19:10:55.762397Z"
    }
   },
   "outputs": [],
   "source": [
    "from pyspark.sql.functions import lit\n",
    "df2015_by_day = df2015_by_day.withColumn(\"filter\",lit(\"trip distance < 150miles\"))\n",
    "df2015_by_day_no_filter = df2015_by_day_no_filter.withColumn(\"filter\",lit(\"no filter\"))\n",
    "df2015_by_day_final = df2015_by_day.union(df2015_by_day_no_filter)"
   ]
  },
  {
   "cell_type": "code",
   "execution_count": 82,
   "metadata": {
    "ExecuteTime": {
     "end_time": "2020-06-07T19:11:52.666321Z",
     "start_time": "2020-06-07T19:10:59.133295Z"
    }
   },
   "outputs": [
    {
     "data": {
      "image/png": "[encoded data removed]",
      "text/plain": [
       "<Figure size 432x288 with 1 Axes>"
      ]
     },
     "metadata": {},
     "output_type": "display_data"
    }
   ],
   "source": [
    "pd_df2015_by_day_final = df2015_by_day_final.toPandas()\n",
    "sns.set()\n",
    "q = sns.lineplot(x = \"day_of_week\",\n",
    "                 y = \"avg(trip_distance)\",\n",
    "                 hue= \"filter\",\n",
    "                 data = pd_df2015_by_day_final)\n",
    "\n",
    "q.set_title(\"trip distance distribution for each day of week\")\n",
    "plt.show(q)"
   ]
  },
  {
   "cell_type": "markdown",
   "metadata": {},
   "source": [
    "### Count the number of distinct pickup location\n",
    "Apres recherche on a que :\n",
    "<p>Si 2 position long/lat differe a 0.1 pres alors elle sont a environ 10km de distance\n",
    "(ex:une ville/un quartier difference)</p>\n",
    "<p>Si 2 position long/lat differe a 0.01 pres alors elle sont a environ 1km de distance (ex:quelque patés de maison de difference)</p>\n",
    "<p>Si 2 position long/lat differe a 0.001 pres alors elle sont a environ 100m de distance (ex:une rue de difference)</p>\n",
    "\n",
    "On va utiliser ses mesures pour definir ce qu'est 2 position distincts\n",
    "\n",
    "source : https://en.wikipedia.org/wiki/Decimal_degrees"
   ]
  },
  {
   "cell_type": "code",
   "execution_count": 88,
   "metadata": {
    "ExecuteTime": {
     "end_time": "2020-06-07T19:31:27.268145Z",
     "start_time": "2020-06-07T19:29:26.371802Z"
    }
   },
   "outputs": [
    {
     "data": {
      "text/plain": [
       "2501"
      ]
     },
     "execution_count": 88,
     "metadata": {},
     "output_type": "execute_result"
    }
   ],
   "source": [
    "#Arrondi a 0.1 pres\n",
    "df2015.select(\"*\", round(col('pickup_longitude'),1),round(col('pickup_latitude'),1))\\\n",
    "            .select('round(pickup_longitude, 1)','round(pickup_latitude, 1)')\\\n",
    "            .distinct().count()"
   ]
  },
  {
   "cell_type": "code",
   "execution_count": 89,
   "metadata": {
    "ExecuteTime": {
     "end_time": "2020-06-07T19:33:13.576700Z",
     "start_time": "2020-06-07T19:31:27.273279Z"
    }
   },
   "outputs": [
    {
     "data": {
      "text/plain": [
       "8959"
      ]
     },
     "execution_count": 89,
     "metadata": {},
     "output_type": "execute_result"
    }
   ],
   "source": [
    "#Arrondi a 0.01 pres\n",
    "df2015.select(\"*\", round(col('pickup_longitude'),2),round(col('pickup_latitude'),2))\\\n",
    "            .select('round(pickup_longitude, 2)','round(pickup_latitude, 2)')\\\n",
    "            .distinct().count()"
   ]
  },
  {
   "cell_type": "code",
   "execution_count": 90,
   "metadata": {
    "ExecuteTime": {
     "end_time": "2020-06-07T19:35:13.559373Z",
     "start_time": "2020-06-07T19:33:13.582959Z"
    }
   },
   "outputs": [
    {
     "data": {
      "text/plain": [
       "80748"
      ]
     },
     "execution_count": 90,
     "metadata": {},
     "output_type": "execute_result"
    }
   ],
   "source": [
    "#Arrondi a 0.001 pres\n",
    "df2015.select(\"*\", round(col('pickup_longitude'),3),round(col('pickup_latitude'),3))\\\n",
    "            .select('round(pickup_longitude, 3)','round(pickup_latitude, 3)')\\\n",
    "            .distinct().count()"
   ]
  },
  {
   "cell_type": "markdown",
   "metadata": {},
   "source": [
    "### Compute and display tips and profits as a function of the pickup location"
   ]
  },
  {
   "cell_type": "markdown",
   "metadata": {
    "nteract": {
     "transient": {
      "deleting": false
     }
    }
   },
   "source": [
    "# Investigate one month of trips data in 2015 and 2018\n",
    "\n",
    " Consider one month of trips data from `yellow` taxis for each year"
   ]
  },
  {
   "cell_type": "markdown",
   "metadata": {},
   "source": [
    "### Filter and cache/persist the result"
   ]
  },
  {
   "cell_type": "code",
   "execution_count": 97,
   "metadata": {
    "ExecuteTime": {
     "end_time": "2020-06-07T19:41:12.541106Z",
     "start_time": "2020-06-07T19:41:12.297141Z"
    }
   },
   "outputs": [],
   "source": [
    "new_df = df2015.filter(df2015['passenger_count'].between(1,6))\\\n",
    ".filter((df2015['trip_distance']>0)&(df2015['trip_distance']<150))\\\n",
    ".filter(df2015['month']==12)\\\n",
    ".union(df2018)\\\n",
    ".drop('VendorID','passenger_count','RateCodeID','store_and_fwd_flag','extra','mta_tax','tolls_amount','improvement_surcharge')\\\n",
    ".cache()"
   ]
  },
  {
   "cell_type": "markdown",
   "metadata": {},
   "source": [
    "## Assessing seasonalities and looking at time series\n",
    "\n",
    "Compute and plot the following time series indexed by day of the week and hour of day:"
   ]
  },
  {
   "cell_type": "markdown",
   "metadata": {},
   "source": [
    "### The number of pickups"
   ]
  },
  {
   "cell_type": "code",
   "execution_count": 99,
   "metadata": {
    "ExecuteTime": {
     "end_time": "2020-06-07T19:46:13.217787Z",
     "start_time": "2020-06-07T19:42:01.746474Z"
    }
   },
   "outputs": [
    {
     "data": {
      "image/png": "[encoded data removed]",
      "text/plain": [
       "<Figure size 432x288 with 1 Axes>"
      ]
     },
     "metadata": {},
     "output_type": "display_data"
    }
   ],
   "source": [
    "pd_data_by_day_hour = new_df.groupBy(\"day_of_week\",\"hour\").agg({'trip_distance':'count'}).toPandas()\n",
    "palette = sns.color_palette(\"hls\", 7)\n",
    "\n",
    "fig = sns.lineplot(x='hour', \n",
    "             y='count(trip_distance)',\n",
    "             hue='day_of_week',\n",
    "            palette=palette,\n",
    "             data=pd_data_by_day_hour)\n",
    "\n",
    "ax = plt.ylabel(\"number of pickups\")\n"
   ]
  },
  {
   "cell_type": "markdown",
   "metadata": {},
   "source": [
    "### The average fare"
   ]
  },
  {
   "cell_type": "code",
   "execution_count": 100,
   "metadata": {
    "ExecuteTime": {
     "end_time": "2020-06-07T19:46:27.891200Z",
     "start_time": "2020-06-07T19:46:21.848234Z"
    }
   },
   "outputs": [
    {
     "data": {
      "image/png": "[encoded data removed]",
      "text/plain": [
       "<Figure size 432x288 with 1 Axes>"
      ]
     },
     "metadata": {},
     "output_type": "display_data"
    }
   ],
   "source": [
    "pd_data_by_day_hour = new_df.groupBy(\"day_of_week\",\"hour\").agg({'fare_amount':'avg'}).toPandas()\n",
    "palette = sns.color_palette(\"hls\", 7)\n",
    "\n",
    "fig = sns.lineplot(x='hour', \n",
    "             y='avg(fare_amount)',\n",
    "             hue='day_of_week',\n",
    "            palette=palette,\n",
    "             data=pd_data_by_day_hour)\n",
    "\n",
    "ax = plt.ylabel(\"average fare\")"
   ]
  },
  {
   "cell_type": "markdown",
   "metadata": {},
   "source": [
    "### The average trip duration"
   ]
  },
  {
   "cell_type": "code",
   "execution_count": 104,
   "metadata": {
    "ExecuteTime": {
     "end_time": "2020-06-07T19:48:00.720524Z",
     "start_time": "2020-06-07T19:47:54.379377Z"
    }
   },
   "outputs": [
    {
     "data": {
      "image/png": "[encoded data removed]",
      "text/plain": [
       "<Figure size 432x288 with 1 Axes>"
      ]
     },
     "metadata": {},
     "output_type": "display_data"
    }
   ],
   "source": [
    "pd_data_by_day_hour = new_df.groupBy(\"day_of_week\",\"hour\").agg({'trip_duration_minutes':'avg'}).toPandas()\n",
    "palette = sns.color_palette(\"hls\", 7)\n",
    "\n",
    "fig = sns.lineplot(x='hour', \n",
    "             y='avg(trip_duration_minutes)',\n",
    "             hue='day_of_week',\n",
    "            palette=palette,\n",
    "             data=pd_data_by_day_hour)\n",
    "\n",
    "ax = plt.ylabel(\"average trip duration in minutes\")"
   ]
  },
  {
   "cell_type": "markdown",
   "metadata": {},
   "source": [
    "### Plot the average number of ongoing trips"
   ]
  },
  {
   "cell_type": "markdown",
   "metadata": {},
   "source": [
    "## Rides to the airports\n",
    "\n",
    "In order to find the longitude and lattitude of JFK and Newark airport as well as the longitude and magnitudes \n",
    "of Manhattan, you can use a service like [geojson.io](http://geojson.io/).\n",
    "Plot the following time series, indexed the day of the week and hour of the day"
   ]
  },
  {
   "cell_type": "markdown",
   "metadata": {},
   "source": [
    "Nous allons nous ici utiliser notre fichier shape contenant les données des endroits de NY."
   ]
  },
  {
   "cell_type": "code",
   "execution_count": 105,
   "metadata": {
    "ExecuteTime": {
     "end_time": "2020-06-07T19:48:18.669010Z",
     "start_time": "2020-06-07T19:48:18.558579Z"
    }
   },
   "outputs": [],
   "source": [
    "array = ['Newark Airport', 'JFK Airport']\n",
    "airport = pd_df_loc.loc[pd_df_loc['zone'].isin(array)]\n",
    "array = ['Midtown Center', 'Midtown East', 'Midtown North', 'Midtown South']\n",
    "midtown = pd_df_loc.loc[pd_df_loc['zone'].isin(array)]"
   ]
  },
  {
   "cell_type": "code",
   "execution_count": 106,
   "metadata": {
    "ExecuteTime": {
     "end_time": "2020-06-07T19:48:19.106294Z",
     "start_time": "2020-06-07T19:48:18.992819Z"
    }
   },
   "outputs": [
    {
     "data": {
      "text/html": [
       "<div>\n",
       "<style scoped>\n",
       "    .dataframe tbody tr th:only-of-type {\n",
       "        vertical-align: middle;\n",
       "    }\n",
       "\n",
       "    .dataframe tbody tr th {\n",
       "        vertical-align: top;\n",
       "    }\n",
       "\n",
       "    .dataframe thead th {\n",
       "        text-align: right;\n",
       "    }\n",
       "</style>\n",
       "<table border=\"1\" class=\"dataframe\">\n",
       "  <thead>\n",
       "    <tr style=\"text-align: right;\">\n",
       "      <th></th>\n",
       "      <th>zone</th>\n",
       "      <th>longitude</th>\n",
       "      <th>latitude</th>\n",
       "    </tr>\n",
       "  </thead>\n",
       "  <tbody>\n",
       "    <tr>\n",
       "      <td>0</td>\n",
       "      <td>Newark Airport</td>\n",
       "      <td>-74.17</td>\n",
       "      <td>40.69</td>\n",
       "    </tr>\n",
       "    <tr>\n",
       "      <td>131</td>\n",
       "      <td>JFK Airport</td>\n",
       "      <td>-73.79</td>\n",
       "      <td>40.64</td>\n",
       "    </tr>\n",
       "  </tbody>\n",
       "</table>\n",
       "</div>"
      ],
      "text/plain": [
       "               zone  longitude  latitude\n",
       "0    Newark Airport     -74.17     40.69\n",
       "131     JFK Airport     -73.79     40.64"
      ]
     },
     "execution_count": 106,
     "metadata": {},
     "output_type": "execute_result"
    }
   ],
   "source": [
    "airport[['zone', 'longitude', 'latitude']].round(2)"
   ]
  },
  {
   "cell_type": "code",
   "execution_count": 107,
   "metadata": {
    "ExecuteTime": {
     "end_time": "2020-06-07T19:48:21.328499Z",
     "start_time": "2020-06-07T19:48:21.303550Z"
    }
   },
   "outputs": [
    {
     "data": {
      "text/html": [
       "<div>\n",
       "<style scoped>\n",
       "    .dataframe tbody tr th:only-of-type {\n",
       "        vertical-align: middle;\n",
       "    }\n",
       "\n",
       "    .dataframe tbody tr th {\n",
       "        vertical-align: top;\n",
       "    }\n",
       "\n",
       "    .dataframe thead th {\n",
       "        text-align: right;\n",
       "    }\n",
       "</style>\n",
       "<table border=\"1\" class=\"dataframe\">\n",
       "  <thead>\n",
       "    <tr style=\"text-align: right;\">\n",
       "      <th></th>\n",
       "      <th>zone</th>\n",
       "      <th>longitude</th>\n",
       "      <th>latitude</th>\n",
       "    </tr>\n",
       "  </thead>\n",
       "  <tbody>\n",
       "    <tr>\n",
       "      <td>160</td>\n",
       "      <td>Midtown Center</td>\n",
       "      <td>-73.98</td>\n",
       "      <td>40.76</td>\n",
       "    </tr>\n",
       "    <tr>\n",
       "      <td>161</td>\n",
       "      <td>Midtown East</td>\n",
       "      <td>-73.97</td>\n",
       "      <td>40.76</td>\n",
       "    </tr>\n",
       "    <tr>\n",
       "      <td>162</td>\n",
       "      <td>Midtown North</td>\n",
       "      <td>-73.98</td>\n",
       "      <td>40.76</td>\n",
       "    </tr>\n",
       "    <tr>\n",
       "      <td>163</td>\n",
       "      <td>Midtown South</td>\n",
       "      <td>-73.99</td>\n",
       "      <td>40.75</td>\n",
       "    </tr>\n",
       "  </tbody>\n",
       "</table>\n",
       "</div>"
      ],
      "text/plain": [
       "               zone  longitude  latitude\n",
       "160  Midtown Center     -73.98     40.76\n",
       "161    Midtown East     -73.97     40.76\n",
       "162   Midtown North     -73.98     40.76\n",
       "163   Midtown South     -73.99     40.75"
      ]
     },
     "execution_count": 107,
     "metadata": {},
     "output_type": "execute_result"
    }
   ],
   "source": [
    "midtown[['zone', 'longitude', 'latitude']].round(2)"
   ]
  },
  {
   "cell_type": "markdown",
   "metadata": {},
   "source": [
    "###  Median duration of taxi trip leaving Midtown (Southern Manhattan) headed for JFK Airport"
   ]
  },
  {
   "cell_type": "code",
   "execution_count": 110,
   "metadata": {
    "ExecuteTime": {
     "end_time": "2020-06-07T19:49:57.799731Z",
     "start_time": "2020-06-07T19:49:57.509592Z"
    }
   },
   "outputs": [],
   "source": [
    "from pyspark.sql.functions import row_number, monotonically_increasing_id\n",
    "w = Window.orderBy(\"trip_duration_minutes\")\n",
    "\n",
    "midtown_to_jfk = new_df.filter(new_df['pickup_longitude'].between(-74,-73.96) \\\n",
    "                               & new_df['pickup_latitude'].between(40.74,40.77)\\\n",
    "                               & new_df['dropoff_longitude'].between(-73.80,-73.78)\\\n",
    "                               & new_df['dropoff_latitude'].between(40.63,40.65))\\\n",
    "                .select('trip_duration_minutes').sort(asc('trip_duration_minutes'))\\\n",
    "                .withColumn(\"index\", row_number().over(w))"
   ]
  },
  {
   "cell_type": "code",
   "execution_count": 111,
   "metadata": {
    "ExecuteTime": {
     "end_time": "2020-06-07T19:50:07.900129Z",
     "start_time": "2020-06-07T19:50:02.097217Z"
    }
   },
   "outputs": [],
   "source": [
    "nb = midtown_to_jfk.count()"
   ]
  },
  {
   "cell_type": "code",
   "execution_count": 113,
   "metadata": {
    "ExecuteTime": {
     "end_time": "2020-06-07T19:50:20.122178Z",
     "start_time": "2020-06-07T19:50:15.831419Z"
    }
   },
   "outputs": [
    {
     "name": "stdout",
     "output_type": "stream",
     "text": [
      "+-----------------+\n",
      "|           Median|\n",
      "+-----------------+\n",
      "|45.46666666666667|\n",
      "+-----------------+\n",
      "\n"
     ]
    }
   ],
   "source": [
    "midtown_to_jfk.where(col(\"index\") == int(nb/2)).drop('index').selectExpr('trip_duration_minutes as Median').show()"
   ]
  },
  {
   "cell_type": "markdown",
   "metadata": {},
   "source": [
    "### Median taxi duration of trip leaving from JFK Airport to Midtown (Southern Manhattan)"
   ]
  },
  {
   "cell_type": "code",
   "execution_count": 114,
   "metadata": {
    "ExecuteTime": {
     "end_time": "2020-06-07T19:50:30.394084Z",
     "start_time": "2020-06-07T19:50:30.149318Z"
    }
   },
   "outputs": [],
   "source": [
    "jfk_to_midtown = new_df.filter(new_df['dropoff_longitude'].between(-74,-73.96) \\\n",
    "                               & new_df['dropoff_latitude'].between(40.74,40.77)\\\n",
    "                               & new_df['pickup_longitude'].between(-73.80,-73.78)\\\n",
    "                               & new_df['pickup_latitude'].between(40.63,40.65))\\\n",
    "                .select('trip_duration_minutes').sort(asc('trip_duration_minutes'))\\\n",
    "                .withColumn(\"index\", row_number().over(w))"
   ]
  },
  {
   "cell_type": "code",
   "execution_count": 115,
   "metadata": {
    "ExecuteTime": {
     "end_time": "2020-06-07T19:50:35.931570Z",
     "start_time": "2020-06-07T19:50:31.150453Z"
    }
   },
   "outputs": [],
   "source": [
    "nb2 = jfk_to_midtown.count()"
   ]
  },
  {
   "cell_type": "code",
   "execution_count": 116,
   "metadata": {
    "ExecuteTime": {
     "end_time": "2020-06-07T19:50:42.324339Z",
     "start_time": "2020-06-07T19:50:37.375760Z"
    }
   },
   "outputs": [
    {
     "name": "stdout",
     "output_type": "stream",
     "text": [
      "+------+\n",
      "|Median|\n",
      "+------+\n",
      "|  52.4|\n",
      "+------+\n",
      "\n"
     ]
    }
   ],
   "source": [
    "jfk_to_midtown.where(col(\"index\") == int(nb2/2)).drop('index').selectExpr('trip_duration_minutes as Median').show()"
   ]
  },
  {
   "cell_type": "markdown",
   "metadata": {},
   "source": [
    "## Geographic information\n",
    "\n",
    "For this, you will need to find tools to display maps and to build choropeth maps.\n",
    "We let you look and find relevant tools to do this."
   ]
  },
  {
   "cell_type": "markdown",
   "metadata": {},
   "source": [
    "### Build a heatmap where color is a function of\n",
    "1. number of `pickups`\n",
    "2. number of `dropoffs`\n",
    "3. number of `pickups` with dropoff at some airport (JFK, LaGuardia, Newark)"
   ]
  },
  {
   "cell_type": "code",
   "execution_count": 152,
   "metadata": {
    "ExecuteTime": {
     "end_time": "2020-06-07T20:34:43.866858Z",
     "start_time": "2020-06-07T20:34:43.856850Z"
    }
   },
   "outputs": [],
   "source": [
    "latmin = 40.48\n",
    "lonmin = -74.28\n",
    "latmax = 40.93\n",
    "lonmax = -73.65"
   ]
  },
  {
   "cell_type": "code",
   "execution_count": 213,
   "metadata": {
    "ExecuteTime": {
     "end_time": "2020-06-07T21:43:50.862801Z",
     "start_time": "2020-06-07T21:43:50.737244Z"
    }
   },
   "outputs": [],
   "source": [
    "pickup = new_df\\\n",
    "            .select(\"*\", round(col('pickup_longitude'),2),round(col('pickup_latitude'),2))\\\n",
    "            .select('round(pickup_longitude, 2)','round(pickup_latitude, 2)','trip_duration_minutes')\\\n",
    "            .groupBy(\"round(pickup_longitude, 2)\",\"round(pickup_latitude, 2)\")\\\n",
    "            .agg({'trip_duration_minutes':'count'})"
   ]
  },
  {
   "cell_type": "code",
   "execution_count": 210,
   "metadata": {
    "ExecuteTime": {
     "end_time": "2020-06-07T21:43:06.452115Z",
     "start_time": "2020-06-07T21:43:06.429587Z"
    }
   },
   "outputs": [],
   "source": [
    "pickup = pickup.na.drop()"
   ]
  },
  {
   "cell_type": "code",
   "execution_count": 218,
   "metadata": {
    "ExecuteTime": {
     "end_time": "2020-06-07T21:52:06.178423Z",
     "start_time": "2020-06-07T21:51:40.608487Z"
    }
   },
   "outputs": [
    {
     "data": {
      "text/plain": [
       "(39.98, 41.43)"
      ]
     },
     "execution_count": 218,
     "metadata": {},
     "output_type": "execute_result"
    },
    {
     "data": {
      "image/png": "[encoded data removed]",
      "text/plain": [
       "<Figure size 432x288 with 1 Axes>"
      ]
     },
     "metadata": {},
     "output_type": "display_data"
    }
   ],
   "source": [
    "map_df2 = pickup.select(\"*\").toPandas()\n",
    "map_df2.plot.scatter(x='round(pickup_longitude, 2)',\n",
    "                  y = 'round(pickup_latitude, 2)',\n",
    "                   c='blue')\n",
    "plt.xlim(lonmin-0.5, lonmax+0.5)\n",
    "plt.ylim(latmin-0.5, latmax+0.5)"
   ]
  },
  {
   "cell_type": "code",
   "execution_count": 207,
   "metadata": {
    "ExecuteTime": {
     "end_time": "2020-06-07T21:41:41.070812Z",
     "start_time": "2020-06-07T21:41:39.793443Z"
    }
   },
   "outputs": [
    {
     "data": {
      "text/plain": [
       "<matplotlib.axes._subplots.AxesSubplot at 0x7f132db49d10>"
      ]
     },
     "execution_count": 207,
     "metadata": {},
     "output_type": "execute_result"
    },
    {
     "data": {
      "image/png": "[encoded data removed]",
      "text/plain": [
       "<Figure size 432x288 with 1 Axes>"
      ]
     },
     "metadata": {},
     "output_type": "display_data"
    }
   ],
   "source": [
    "fp = \"shape/taxi_zones.shp\"\n",
    "#reading the file stored in variable fp\n",
    "map_df = gpd.read_file(fp)\n",
    "# check data type so we can see that this is not a normal dataframe, but a GEOdataframe\n",
    "map_df.head()\n",
    "#plotting the map of the shape file preview of the maps without data in it\n",
    "map_df.plot()"
   ]
  },
  {
   "cell_type": "markdown",
   "metadata": {},
   "source": [
    "### Build a choropeth map where color is a function of\n",
    "1. number of pickups in the area\n",
    "1. ratio of number of payments by card/number of cash payments for pickups in the area\n",
    "2. ratio of total fare/trip duration for dropoff in the area"
   ]
  },
  {
   "cell_type": "markdown",
   "metadata": {},
   "source": [
    "### Build an interactive chorophet with a slider allowing the user to select an `hour of day` and where the color is a function of\n",
    "1. average number of dropoffs in the area during that hour the day\n",
    "2. average ratio of tip over total fare amount for pickups in the area at given hour of the day"
   ]
  }
 ],
 "metadata": {
  "kernelspec": {
   "display_name": "Python 3",
   "language": "python",
   "name": "python3"
  },
  "language_info": {
   "codemirror_mode": {
    "name": "ipython",
    "version": 3
   },
   "file_extension": ".py",
   "mimetype": "text/x-python",
   "name": "python",
   "nbconvert_exporter": "python",
   "pygments_lexer": "ipython3",
   "version": "3.7.5"
  },
  "toc": {
   "base_numbering": 1,
   "nav_menu": {
    "height": "63px",
    "width": "160px"
   },
   "number_sections": true,
   "sideBar": true,
   "skip_h1_title": false,
   "title_cell": "Table of Contents",
   "title_sidebar": "Contents",
   "toc_cell": false,
   "toc_position": {
    "height": "calc(100% - 180px)",
    "left": "10px",
    "top": "150px",
    "width": "378.391px"
   },
   "toc_section_display": true,
   "toc_window_display": false
  }
 },
 "nbformat": 4,
 "nbformat_minor": 1
}
