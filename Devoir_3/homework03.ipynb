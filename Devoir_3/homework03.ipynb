{
 "cells": [
  {
   "cell_type": "markdown",
   "metadata": {
    "nteract": {
     "transient": {
      "deleting": false
     }
    }
   },
   "source": [
    "# New York taxis trips\n",
    "\n",
    "This homework is about New York taxi trips. Here is something from [Todd Schneider](https://toddwschneider.com/posts/analyzing-1-1-billion-nyc-taxi-and-uber-trips-with-a-vengeance/):\n",
    "\n",
    "> The New York City Taxi & Limousine Commission has released a  detailed historical dataset covering over 1 billion individual taxi trips in the city from January 2009 through December 2019. \n",
    "Taken as a whole, the detailed trip-level data is more than just a vast list of taxi pickup and drop off coordinates: it's a story of a City. \n",
    "How bad is the rush hour traffic from Midtown to JFK? \n",
    "Where does the Bridge and Tunnel crowd hang out on Saturday nights?\n",
    "What time do investment bankers get to work? How has Uber changed the landscape for taxis?\n",
    "The dataset addresses all of these questions and many more.\n",
    "\n",
    "The NY taxi trips dataset has been plowed by series of distinguished data scientists.\n",
    "The dataset is available from on Amazon S3 (Amazon's cloud storage service).\n",
    "The link for each file has the following form:\n",
    "\n",
    "    https://s3.amazonaws.com/nyc-tlc/trip+data/yellow_tripdata_{year}-{month}.csv\n",
    "\n",
    "There is one CSV file for each NY taxi service (`yellow`, `green`, `fhv`) and each calendar month (replacing `{year}` and `{month}` by the desired ones).\n",
    "Each file is moderately large, a few gigabytes. \n",
    "The full dataset is relatively large if it has to be handled on a laptop (several hundred gigabytes).\n",
    "\n",
    "You will focus on the `yellow` taxi service and a pair of months, from year 2015 and from year 2018. \n",
    "Between those two years, for hire vehicles services have taken off and carved a huge marketshare.\n",
    "\n",
    "Whatever the framework you use, `CSV` files prove hard to handle. \n",
    "After downloading the appropriate files (this takes time, but this is routine), a first step will consist in converting the csv files into a more Spark friendly format such as `parquet`.\n",
    "\n",
    "Saving into one of those formats require decisions about bucketing, partitioning and so on. Such decisions influence performance. It is your call.\n",
    "Many people have been working on this dataset, to cite but a few:\n",
    "\n",
    "\n",
    "- [1 billion trips with a vengeance](https://toddwschneider.com/posts/analyzing-1-1-billion-nyc-taxi-and-uber-trips-with-a-vengeance/)\n",
    "- [1 billion trips with R and SQL ](http://freerangestats.info/blog/2019/12/22/nyc-taxis-sql)\n",
    "- [1 billion trips with redshift](https://tech.marksblogg.com/billion-nyc-taxi-rides-redshift.html)\n",
    "- [nyc-taxi](https://github.com/fmaletski/nyc-taxi-map)"
   ]
  },
  {
   "cell_type": "markdown",
   "metadata": {},
   "source": [
    "Depending on your internet connection, **download the files** corresponding to **\"yellow\" taxis** for the years 2015 and 2018. Download **at least one month** (the same) for 2015 and 2018, if you can download all of them.\n",
    "\n",
    "**Hint.** The 12 csv for 2015 are about 23GB in total, but the corresponding parquet file, if you can create it for all 12 months, is only about 3GB."
   ]
  },
  {
   "cell_type": "markdown",
   "metadata": {},
   "source": [
    "You **might** need the following stuff in order to work with GPS coordinates and to plot things easily."
   ]
  },
  {
   "cell_type": "code",
   "execution_count": null,
   "metadata": {
    "ExecuteTime": {
     "end_time": "2020-06-04T19:58:24.062384Z",
     "start_time": "2020-06-04T19:58:20.027805Z"
    }
   },
   "outputs": [],
   "source": [
    "!pip install geojson geopandas plotly geopy ipyleaflet"
   ]
  },
  {
   "cell_type": "code",
   "execution_count": null,
   "metadata": {
    "ExecuteTime": {
     "end_time": "2020-06-04T19:58:46.446300Z",
     "start_time": "2020-06-04T19:58:44.192697Z"
    },
    "scrolled": true
   },
   "outputs": [],
   "source": [
    "!pip install pyshp"
   ]
  },
  {
   "cell_type": "code",
   "execution_count": null,
   "metadata": {
    "ExecuteTime": {
     "end_time": "2020-06-04T23:40:00.568751Z",
     "start_time": "2020-06-04T23:40:00.175270Z"
    }
   },
   "outputs": [],
   "source": [
    "# import the usual suspects\n",
    "import pandas as pd\n",
    "import numpy as np\n",
    "import matplotlib.pyplot as plt\n",
    "import random as rand\n",
    "import os\n",
    "from pathlib import Path\n",
    "import sys\n",
    "import timeit\n",
    "import shapefile\n",
    "import urllib.request\n",
    "import zipfile\n",
    "import random\n",
    "import itertools\n",
    "import math\n",
    "import geopandas as gpd\n",
    "import seaborn as sns\n",
    "from pathlib import Path\n",
    "# spark\n",
    "from pyspark import SparkConf, SparkContext\n",
    "from pyspark.sql.functions import asc, desc\n",
    "from pyspark.sql.functions import year\n",
    "from pyspark import StorageLevel\n",
    "from pyspark.sql import SparkSession\n",
    "from pyspark.sql import Window\n",
    "from pyspark.sql.functions import col\n",
    "import pyspark.sql.functions as fn\n",
    "from pyspark.sql.catalog import Catalog\n",
    "from pyspark.sql.types import StructType, StructField\n",
    "from pyspark.sql.types import IntegerType, StringType\n",
    "from pyspark.sql.types import *\n",
    "from pyspark.sql.functions import isnan, when, count, col\n",
    "from pyspark.sql import SQLContext"
   ]
  },
  {
   "cell_type": "code",
   "execution_count": null,
   "metadata": {
    "ExecuteTime": {
     "end_time": "2020-06-04T22:39:38.371804Z",
     "start_time": "2020-06-04T22:39:38.348951Z"
    }
   },
   "outputs": [],
   "source": [
    "#telechargement du fichier de données de decembre 2015\n",
    "data_2015_12_path = Path('yellow_tripdata_2015-12.csv')\n",
    "if not data_2015_12_path.exists():\n",
    "    urllib.request.urlretrieve(\"https://s3.amazonaws.com/nyc-tlc/trip+data/yellow_tripdata_2015-12.csv\", \"yellow_tripdata_2015-12.csv\")"
   ]
  },
  {
   "cell_type": "code",
   "execution_count": null,
   "metadata": {
    "ExecuteTime": {
     "end_time": "2020-06-04T22:39:39.985160Z",
     "start_time": "2020-06-04T22:39:39.972568Z"
    }
   },
   "outputs": [],
   "source": [
    "#telechargement du fichier de données de decembre 2018\n",
    "data_2018_12_path = Path('yellow_tripdata_2018-12.csv')\n",
    "if not data_2018_12_path.exists():\n",
    "    urllib.request.urlretrieve(\"https://s3.amazonaws.com/nyc-tlc/trip+data/yellow_tripdata_2018-12.csv\", \"yellow_tripdata_2018-12.csv\")"
   ]
  },
  {
   "cell_type": "markdown",
   "metadata": {},
   "source": [
    "For this homework **we will let you decide on the tools to use** (expected for Spark) and to **find out information all by yourself** (but don't hesitate to ask questions on the `slack` channel)."
   ]
  },
  {
   "cell_type": "code",
   "execution_count": null,
   "metadata": {
    "ExecuteTime": {
     "end_time": "2020-06-04T22:39:52.908039Z",
     "start_time": "2020-06-04T22:39:42.052046Z"
    }
   },
   "outputs": [],
   "source": [
    "conf = SparkConf().setAppName(\"Spark NY Taxis trips\")\n",
    "conf.set(\"spark.driver.memory\", \"4g\")\n",
    "sc = SparkContext(conf=conf)\n",
    "\n",
    "spark = (SparkSession\n",
    "    .builder\n",
    "    .appName(\"Spark NY Taxis trips\")\n",
    "    .getOrCreate()\n",
    ")"
   ]
  },
  {
   "cell_type": "markdown",
   "metadata": {
    "nteract": {
     "transient": {
      "deleting": false
     }
    }
   },
   "source": [
    "# Loading data as parquet files\n",
    "\n",
    "We want to organize the data on a per year and per service basis. \n",
    "We want to end up with one `parquet` file for each year and each taxi service, since parquet is much better than CSV files.\n",
    "\n",
    "**Hint.** Depending on your internet connection and your laptop, you can use only the \"yellow\" service and use one month of 2015 and 2018\n",
    "\n",
    "CSV files can contain corrupted lines. You may have to work in order to perform ETL (Extract-Transform-Load) in order obtain a properly typed data frame.\n",
    "\n",
    "You are invited to proceed as follows:\n",
    "\n",
    "1. Try to read the CSV file without imposing a schema. \n",
    "1. Inspect the inferred schema. Do you agree with Spark's typing decision?\n",
    "1. Eventually correct the schema and read again the data\n",
    "1. Save the data into parquet files\n",
    "1. In the rest of your work, **you will only use the parquet files you created**, not the csv files (don't forget to choose a partitioning column and a number of partitions when creating the parquet files).\n",
    "\n",
    "**Hint.** Don't forget to ask `Spark` to use all the memory and ressources from your computer.\n",
    "\n",
    "**Hint.** Don't foreget that you should specify a partitioning column and a number of partitions when creating the parquet files.\n",
    "\n",
    "**Hint.** Note that the schemas of the 2015 and 2018 data are different...\n",
    "\n",
    "**Hint.** When working on this, ask you and answer to the following questions:\n",
    "\n",
    "1. What is the `StorageLevel` of the dataframe after reading the csv files?\n",
    "1. What is the number of partitions of the dataframe? \n",
    "1. Is it possible to tune this number at loading time? \n",
    "1. Why would we want to modify the number of partitions when creating the parquet files?"
   ]
  },
  {
   "cell_type": "markdown",
   "metadata": {},
   "source": [
    "## Try to read the CSV file without imposing a schema. "
   ]
  },
  {
   "cell_type": "code",
   "execution_count": null,
   "metadata": {
    "ExecuteTime": {
     "end_time": "2020-06-05T01:32:09.363244Z",
     "start_time": "2020-06-05T01:32:09.347290Z"
    }
   },
   "outputs": [],
   "source": [
    "def read_csv (input_file_name):\n",
    "    df = spark.read.load(\n",
    "    input_file_name,\n",
    "    format=\"csv\", \n",
    "    sep=\",\", \n",
    "    inferSchema=\"false\", \n",
    "    header=\"true\"\n",
    "    )\n",
    "    return df"
   ]
  },
  {
   "cell_type": "code",
   "execution_count": null,
   "metadata": {
    "ExecuteTime": {
     "end_time": "2020-06-05T01:26:13.982173Z",
     "start_time": "2020-06-05T01:26:12.379058Z"
    }
   },
   "outputs": [],
   "source": [
    "#Lecture données de 2015\n",
    "df_2015_12 = read_csv(\"yellow_tripdata_2015-12.csv\")\n",
    "df_2015_12.first()"
   ]
  },
  {
   "cell_type": "code",
   "execution_count": null,
   "metadata": {
    "ExecuteTime": {
     "end_time": "2020-06-05T01:32:13.009877Z",
     "start_time": "2020-06-05T01:32:11.655110Z"
    }
   },
   "outputs": [],
   "source": [
    "#Lecture données de 2018\n",
    "df_2018_12 = read_csv(\"yellow_tripdata_2018-12.csv\")\n",
    "df_2018_12.first()"
   ]
  },
  {
   "cell_type": "markdown",
   "metadata": {},
   "source": [
    "### What is the StorageLevel of the dataframe after reading the csv files?"
   ]
  },
  {
   "cell_type": "code",
   "execution_count": null,
   "metadata": {
    "ExecuteTime": {
     "end_time": "2020-06-05T01:24:52.418563Z",
     "start_time": "2020-06-05T01:24:51.258857Z"
    }
   },
   "outputs": [],
   "source": [
    "# 1. Le storageLevel par défaut est MEMORY_ONLY: Serialized 1x Replicated.\n",
    "print(df_2018_12.rdd.getStorageLevel())"
   ]
  },
  {
   "cell_type": "markdown",
   "metadata": {},
   "source": [
    "### What is the number of partitions of the dataframe? \n",
    "6 partitions pour 12-2018 et 14 pour 12-2015"
   ]
  },
  {
   "cell_type": "code",
   "execution_count": null,
   "metadata": {
    "ExecuteTime": {
     "end_time": "2020-06-05T01:31:55.172480Z",
     "start_time": "2020-06-05T01:31:54.853625Z"
    }
   },
   "outputs": [],
   "source": [
    "print(df_2018_12.rdd.getNumPartitions())\n",
    "print(df_2015_12.rdd.getNumPartitions())"
   ]
  },
  {
   "cell_type": "markdown",
   "metadata": {},
   "source": [
    "### Is it possible to tune this number at loading time?\n",
    "Oui en utilisant la methode .repartition(Nombre_De_Partition) lors du read"
   ]
  },
  {
   "cell_type": "markdown",
   "metadata": {},
   "source": [
    "## Inspect the inferred schema. Do you agree with Spark's typing decision?\n",
    "Reponse:\n",
    "Pour ces deux dataframes, le schéma contient seulement des colonnes\n",
    "de données de type string.\n",
    "Avoir un type \"général\" pour les données est pratique pour les collecter mais pas pour les utiliser \n",
    "ensuite, par exemple pour utiliser les dates, les nombres.\n",
    "Il faut donc proceder a une convertion de type pour mieux exploiter les données"
   ]
  },
  {
   "cell_type": "code",
   "execution_count": null,
   "metadata": {
    "ExecuteTime": {
     "end_time": "2020-06-04T22:40:16.754275Z",
     "start_time": "2020-06-04T22:40:16.714577Z"
    }
   },
   "outputs": [],
   "source": [
    "#Inspection du schema de 2015\n",
    "df_2015_12.printSchema()"
   ]
  },
  {
   "cell_type": "code",
   "execution_count": null,
   "metadata": {
    "ExecuteTime": {
     "end_time": "2020-06-04T22:40:18.379242Z",
     "start_time": "2020-06-04T22:40:18.358771Z"
    }
   },
   "outputs": [],
   "source": [
    "#Inspection du schema de 2018\n",
    "df_2018_12.printSchema()"
   ]
  },
  {
   "cell_type": "markdown",
   "metadata": {},
   "source": [
    "On remarque :\n",
    "\n",
    "Le schema de 2015 comporte 4 colonnes qui ne sont pas dans 2018\n",
    "pickup_longitude, pickup_latitude, \n",
    "dropoff_longitude, dropoff_latitude\n",
    "\n",
    "Le schema de 2018 comporte 2 colonnes qui ne sont pas dans 2015\n",
    "PULocationID, DOLocationID\n",
    "\n",
    "Apres plusieurs recherche on comprend que PULocationID et DOLocationID sont des id d'endroit precis dans NY. Grace a un fochier definnissant les lat et long en fonction des ID on va donc pouvoir ramener le schema de 2018 au meme que celui de 2015.\n",
    "Ainsi PULocationID nous donnera les colonnes pickup_longitude, pickup_latitude.\n",
    "Et DOLocationID nous donnera les colonnes dropoff_longitude, dropoff_latitude."
   ]
  },
  {
   "cell_type": "markdown",
   "metadata": {},
   "source": [
    "## Convert data_2018_12 from old schema to same schema as data_2015_12"
   ]
  },
  {
   "cell_type": "code",
   "execution_count": null,
   "metadata": {
    "ExecuteTime": {
     "end_time": "2020-06-04T22:40:22.632147Z",
     "start_time": "2020-06-04T22:40:22.597288Z"
    }
   },
   "outputs": [],
   "source": [
    "#telechargement du fichier de données qui nous permettera\n",
    "# d'avoir le meme schema pour les df de 2018 et 2015\n",
    "shape_path = Path('shape')\n",
    "if not shape_path.exists():\n",
    "    urllib.request.urlretrieve(\"https://data.cityofnewyork.us/api/geospatial/d3c5-ddgc?method=export&format=Original\", \"taxi_zones.zip\")\n",
    "    with zipfile.ZipFile(\"taxi_zones.zip\",\"r\") as zip_ref:\n",
    "        zip_ref.extractall(\"./shape\")"
   ]
  },
  {
   "cell_type": "markdown",
   "metadata": {},
   "source": [
    "Lecture du fichier shape"
   ]
  },
  {
   "cell_type": "code",
   "execution_count": null,
   "metadata": {
    "ExecuteTime": {
     "end_time": "2020-06-04T22:40:28.075710Z",
     "start_time": "2020-06-04T22:40:25.161145Z"
    }
   },
   "outputs": [],
   "source": [
    "def get_lat_lon(sf):\n",
    "    content = []\n",
    "    for sr in sf.shapeRecords():\n",
    "        shape = sr.shape\n",
    "        rec = sr.record\n",
    "        loc_id = rec[shp_dic['LocationID']]\n",
    "        \n",
    "        x = (shape.bbox[0]+shape.bbox[2])/2\n",
    "        y = (shape.bbox[1]+shape.bbox[3])/2\n",
    "        \n",
    "        content.append((loc_id, x, y))\n",
    "    return pd.DataFrame(content, columns=[\"LocationID\", \"longitude\", \"latitude\"])\n",
    "\n",
    "gpd.read_file('shape/taxi_zones.shp').to_crs(epsg=4326).to_file(\"shape/taxi_zones_4326.shp\")\n",
    "sf_4326 = shapefile.Reader(\"shape/taxi_zones_4326.shp\")\n",
    "\n",
    "\n",
    "fields_name = [field[0] for field in sf_4326.fields[1:]]\n",
    "shp_dic = dict(zip(fields_name, list(range(len(fields_name)))))\n",
    "attributes = sf_4326.records()\n",
    "shp_attr = [dict(zip(fields_name, attr)) for attr in attributes]\n",
    "\n",
    "pd_df_loc = pd.DataFrame(shp_attr).join(get_lat_lon(sf_4326)\\\n",
    "                                        .set_index(\"LocationID\"), on=\"LocationID\")\n",
    "sp_df_loc = spark.createDataFrame(data=pd_df_loc)\n",
    "sp_df_loc = sp_df_loc\\\n",
    "            .withColumn('LocationID', sp_df_loc['LocationID'].cast(IntegerType()))\n",
    "sp_df_loc = sp_df_loc.groupBy(\"LocationID\").agg({'longitude':'avg', 'latitude':'avg'})\n",
    "sp_df_loc = sp_df_loc.withColumnRenamed(\"AVG(longitude)\", \"longitude\")\\\n",
    "            .withColumnRenamed(\"AVG(latitude)\", \"latitude\")\n",
    "PULocationID = sp_df_loc.selectExpr('LocationID as PULocationID','longitude as pickup_longitude','latitude as pickup_latitude')\n",
    "DOLocationID = sp_df_loc.selectExpr('LocationID as DOLocationID','longitude as dropoff_longitude','latitude as dropoff_latitude')"
   ]
  },
  {
   "cell_type": "code",
   "execution_count": null,
   "metadata": {
    "ExecuteTime": {
     "end_time": "2020-06-04T22:42:32.098223Z",
     "start_time": "2020-06-04T22:42:31.382386Z"
    }
   },
   "outputs": [],
   "source": [
    "sp_df_loc.show(2)"
   ]
  },
  {
   "cell_type": "code",
   "execution_count": null,
   "metadata": {
    "ExecuteTime": {
     "end_time": "2020-06-04T22:40:28.923379Z",
     "start_time": "2020-06-04T22:40:28.899421Z"
    }
   },
   "outputs": [],
   "source": [
    "PULocationID.printSchema()\n",
    "DOLocationID.printSchema()"
   ]
  },
  {
   "cell_type": "code",
   "execution_count": null,
   "metadata": {
    "ExecuteTime": {
     "end_time": "2020-06-04T22:40:30.021772Z",
     "start_time": "2020-06-04T22:40:29.962873Z"
    }
   },
   "outputs": [],
   "source": [
    "#Preparation de la jointure des deux df\n",
    "df_2018_12 = df_2018_12\\\n",
    "            .withColumn('PULocationID', df_2018_12['PULocationID'].cast(IntegerType()))\\\n",
    "            .withColumn('DOLocationID', df_2018_12['DOLocationID'].cast(IntegerType()))"
   ]
  },
  {
   "cell_type": "code",
   "execution_count": null,
   "metadata": {
    "ExecuteTime": {
     "end_time": "2020-06-04T22:40:41.317611Z",
     "start_time": "2020-06-04T22:40:32.067025Z"
    }
   },
   "outputs": [],
   "source": [
    "#Affichage du nombre de ligne pour garder un oeil sur la perte de donnée apres jointure\n",
    "print(df_2018_12.count())"
   ]
  },
  {
   "cell_type": "code",
   "execution_count": null,
   "metadata": {
    "ExecuteTime": {
     "end_time": "2020-06-04T22:40:42.851436Z",
     "start_time": "2020-06-04T22:40:42.636352Z"
    }
   },
   "outputs": [],
   "source": [
    "#jointure\n",
    "df_2018_12 = df_2018_12.join(PULocationID, on=['PULocationID'], how='inner')\n",
    "df_2018_12 = df_2018_12.join(DOLocationID, on=['DOLocationID'], how='inner')\n",
    "df_2018_12 = df_2018_12.select('VendorID','tpep_pickup_datetime','tpep_dropoff_datetime','passenger_count','trip_distance','pickup_longitude','pickup_latitude','RateCodeID','store_and_fwd_flag','dropoff_longitude','dropoff_latitude','payment_type','fare_amount','extra','mta_tax','tip_amount','tolls_amount','improvement_surcharge','total_amount')"
   ]
  },
  {
   "cell_type": "code",
   "execution_count": null,
   "metadata": {
    "ExecuteTime": {
     "end_time": "2020-06-04T22:41:22.475021Z",
     "start_time": "2020-06-04T22:40:45.171368Z"
    }
   },
   "outputs": [],
   "source": [
    "print(df_2018_12.count())"
   ]
  },
  {
   "cell_type": "markdown",
   "metadata": {},
   "source": [
    "Conclusion:\n",
    "On a donc perdu quelque données apres la jointure.\n",
    "Apres recherche, on explique cela par le fait que dans le fichier data_2018 nous avons des PULocationID et DOLocationID qui ont pour valeur 264;265.\n",
    "Ses ID ne sont pas present dans le fichier shape pris depuis le site NYC open data.\n",
    "Par conséquent ses lignes la sont perdu lors de la jointure."
   ]
  },
  {
   "cell_type": "code",
   "execution_count": null,
   "metadata": {
    "ExecuteTime": {
     "end_time": "2020-06-04T22:45:58.916096Z",
     "start_time": "2020-06-04T22:45:58.897945Z"
    }
   },
   "outputs": [],
   "source": [
    "#Inspection du schema de 2018\n",
    "df_2018_12.printSchema()"
   ]
  },
  {
   "cell_type": "markdown",
   "metadata": {},
   "source": [
    "## Eventually correct the schema and read again the data\n",
    "Nous avons donc a present deux fichier de données de schema identique dont nous allons maintenant changer les type afin de mieux pouvoir exploiter les données par la suite."
   ]
  },
  {
   "cell_type": "code",
   "execution_count": null,
   "metadata": {
    "ExecuteTime": {
     "end_time": "2020-06-04T23:04:50.742245Z",
     "start_time": "2020-06-04T23:04:50.700648Z"
    }
   },
   "outputs": [],
   "source": [
    "def type_transformer(df):\n",
    "    df = df\\\n",
    "    .withColumn('VendorID', df['VendorID'].cast(IntegerType()))\\\n",
    "    .withColumn('tpep_pickup_datetime', df['tpep_pickup_datetime'].cast(TimestampType()))\\\n",
    "    .withColumn('tpep_dropoff_datetime', df['tpep_dropoff_datetime'].cast(TimestampType()))\\\n",
    "    .withColumn('passenger_count', df['passenger_count'].cast(IntegerType()))\\\n",
    "    .withColumn('trip_distance', df['trip_distance'].cast(DoubleType()))\\\n",
    "    .withColumn('pickup_longitude', df['pickup_longitude'].cast(DoubleType()))\\\n",
    "    .withColumn('pickup_latitude', df['pickup_latitude'].cast(DoubleType()))\\\n",
    "    .withColumn('RateCodeID', df['RateCodeID'].cast(IntegerType()))\\\n",
    "    .withColumn('dropoff_longitude', df['dropoff_longitude'].cast(DoubleType()))\\\n",
    "    .withColumn('dropoff_latitude', df['dropoff_latitude'].cast(DoubleType()))\\\n",
    "    .withColumn('payment_type', df['payment_type'].cast(IntegerType()))\\\n",
    "    .withColumn('fare_amount', df['fare_amount'].cast(DoubleType()))\\\n",
    "    .withColumn('extra', df['extra'].cast(DoubleType()))\\\n",
    "    .withColumn('mta_tax', df['mta_tax'].cast(DoubleType()))\\\n",
    "    .withColumn('tip_amount', df['tip_amount'].cast(DoubleType()))\\\n",
    "    .withColumn('tolls_amount', df['tolls_amount'].cast(DoubleType()))\\\n",
    "    .withColumn('improvement_surcharge', df['improvement_surcharge'].cast(DoubleType()))\\\n",
    "    .withColumn('total_amount', df['total_amount'].cast(DoubleType()))\n",
    "    return df\n",
    "\n",
    "def year_transformer(df):\n",
    "    year_col = year(col('tpep_pickup_datetime'))\n",
    "    df = df.withColumn('year', year_col)\n",
    "    return df"
   ]
  },
  {
   "cell_type": "code",
   "execution_count": null,
   "metadata": {
    "ExecuteTime": {
     "end_time": "2020-06-04T23:04:52.931251Z",
     "start_time": "2020-06-04T23:04:52.925364Z"
    }
   },
   "outputs": [],
   "source": [
    "transformers = [\n",
    "    type_transformer,\n",
    "    year_transformer\n",
    "]"
   ]
  },
  {
   "cell_type": "code",
   "execution_count": null,
   "metadata": {
    "ExecuteTime": {
     "end_time": "2020-06-04T23:08:01.917856Z",
     "start_time": "2020-06-04T23:08:00.990942Z"
    }
   },
   "outputs": [],
   "source": [
    "#transformation des types des données de 2015 et 2018\n",
    "for transformer in transformers:\n",
    "    df_2015_12 = transformer(df_2015_12)\n",
    "    df_2018_12 = transformer(df_2018_12)\n",
    "\n",
    "df_2015_12.printSchema()\n",
    "df_2018_12.printSchema()"
   ]
  },
  {
   "cell_type": "markdown",
   "metadata": {},
   "source": [
    "## Save the data into parquet files"
   ]
  },
  {
   "cell_type": "code",
   "execution_count": null,
   "metadata": {
    "ExecuteTime": {
     "end_time": "2020-06-04T23:23:50.696042Z",
     "start_time": "2020-06-04T23:23:50.637256Z"
    }
   },
   "outputs": [],
   "source": [
    "df_records = df_2015_12.union(df_2018_12)"
   ]
  },
  {
   "cell_type": "markdown",
   "metadata": {},
   "source": [
    "Nos données que nous allons etudier sont donc maintenant dans le dataframes df_records.\n",
    "Nous allons donc maintenant creer notre fichier parquet avec un partitionby year afin de pouvoir exploiter ensuite les données selon l'année pour facilement."
   ]
  },
  {
   "cell_type": "markdown",
   "metadata": {},
   "source": [
    "### Why would we want to modify the number of partitions when creating the parquet files?\n",
    "On voudrait modifier le nombre de partitions par défaut (la valeur par défaut de spark.sql.shuffle.partitions est 200) pour l'adapter au dataframe : si c'est un \"petit\" dataframe, 200 c'est trop et si c'est un grand dataframe"
   ]
  },
  {
   "cell_type": "code",
   "execution_count": null,
   "metadata": {
    "ExecuteTime": {
     "end_time": "2020-06-05T00:28:37.422530Z",
     "start_time": "2020-06-05T00:18:46.049316Z"
    }
   },
   "outputs": [],
   "source": [
    "df_records.write.partitionBy(\"year\").parquet('parquets/data_2015_2018_12.parquet')"
   ]
  },
  {
   "cell_type": "markdown",
   "metadata": {
    "nteract": {
     "transient": {
      "deleting": false
     }
    }
   },
   "source": [
    "# Investigate (at least) one month of data in 2015\n",
    "\n",
    "From now on, you will be using **the parquet files you created for 2015**.\n",
    "\n",
    "We shall visualize several features of taxi traffic during one calendar month\n",
    "in 2015 and the same calendar month in 2018.\n",
    "\n",
    "**Hint.** In order to build appealing graphics, you may stick to `matplotlib + seaborn`, you can use also\n",
    "`plotly`, which is used a lot to build interactive graphics, but you can use whatever you want."
   ]
  },
  {
   "cell_type": "code",
   "execution_count": null,
   "metadata": {
    "ExecuteTime": {
     "end_time": "2020-06-05T01:42:01.272758Z",
     "start_time": "2020-06-05T01:41:57.048181Z"
    }
   },
   "outputs": [],
   "source": [
    "df = spark.read.parquet('parquets/data_2015_2018_12.parquet')\n",
    "df2015 = spark.read.parquet(\"parquets/data_2015_2018_12.parquet/year=2015\")\n",
    "df2018 = spark.read.parquet(\"parquets/data_2015_2018_12.parquet/year=2018\")"
   ]
  },
  {
   "cell_type": "markdown",
   "metadata": {},
   "source": [
    "The following longitudes and lattitudes encompass Newark and JFK airports, Northern Manhattan and Verazzano bridge."
   ]
  },
  {
   "cell_type": "code",
   "execution_count": null,
   "metadata": {
    "ExecuteTime": {
     "end_time": "2020-06-05T01:42:24.865096Z",
     "start_time": "2020-06-05T01:42:24.818131Z"
    },
    "jupyter": {
     "outputs_hidden": false,
     "source_hidden": false
    },
    "nteract": {
     "transient": {
      "deleting": false
     }
    }
   },
   "outputs": [],
   "source": [
    "long_min = -74.10\n",
    "long_max = -73.70\n",
    "lat_min = 40.58\n",
    "lat_max = 40.90"
   ]
  },
  {
   "cell_type": "markdown",
   "metadata": {},
   "source": [
    "1. Using these boundaries, **filter the 2015 data** (using pickup and dropoff longitude and latitude) and count the number of trips for each value of `passenger_count` and make a plot of that."
   ]
  },
  {
   "cell_type": "code",
   "execution_count": null,
   "metadata": {
    "ExecuteTime": {
     "end_time": "2020-06-05T01:42:27.429765Z",
     "start_time": "2020-06-05T01:42:27.185611Z"
    }
   },
   "outputs": [],
   "source": [
    "newdf15 = df2015.filter(df2015.pickup_longitude.between(long_min, long_max) \\\n",
    "                      & df2015.pickup_latitude.between(lat_min, lat_max) \\\n",
    "                      & df2015.dropoff_longitude.between(long_min, long_max) \\\n",
    "                      & df2015.dropoff_latitude.between(lat_min, lat_max))"
   ]
  },
  {
   "cell_type": "code",
   "execution_count": null,
   "metadata": {
    "ExecuteTime": {
     "end_time": "2020-06-05T01:43:26.392888Z",
     "start_time": "2020-06-05T01:43:21.356765Z"
    }
   },
   "outputs": [],
   "source": [
    "data = newdf15.groupBy('passenger_count')\\\n",
    "              .agg(fn.count('passenger_count') \\\n",
    "              .alias('count_pc'))\\\n",
    "                .sort(asc('passenger_count'))\n",
    "data.show()"
   ]
  },
  {
   "cell_type": "code",
   "execution_count": null,
   "metadata": {
    "ExecuteTime": {
     "end_time": "2020-06-05T01:44:00.622621Z",
     "start_time": "2020-06-05T01:43:45.036779Z"
    }
   },
   "outputs": [],
   "source": [
    "import matplotlib.pyplot as plt\n",
    "\n",
    "x_array = [row.passenger_count for row in data.select(\"passenger_count\").collect()]\n",
    "y_array = [row.count_pc for row in data.select(\"count_pc\").collect()]\n",
    "plt.bar(x_array, height=y_array)"
   ]
  },
  {
   "cell_type": "markdown",
   "metadata": {
    "nteract": {
     "transient": {
      "deleting": false
     }
    }
   },
   "source": [
    "Trips with $0$ or larger than $7$ passengers are pretty rare.\n",
    "We suspect these to be outliers. \n",
    "We need to explore these trips further in order order to understand what might be wrong\n",
    "with them\n",
    "\n",
    "1. What's special with trips with zero passengers?\n",
    "1. What's special with trips with more than $6$ passengers?\n",
    "1. What is the largest distance travelled during this month? Is it the first taxi on the moon?\n",
    "1. Plot the distribution of the `trip_distance` (using an histogram for instance) during year 2105. Focus on trips with non-zero trip distance and trip distance less than 30 miles."
   ]
  },
  {
   "cell_type": "markdown",
   "metadata": {},
   "source": [
    "Let's look at what Spark does for these computations\n",
    "\n",
    "1. Use the `explain` method or have a look at the [Spark UI](http://localhost:4040/SQL/) to analyze the job. You should be able to assess \n",
    "    - Parsed Logical Plan\n",
    "    - Analyzed Logical Plan\n",
    "    - Optimized Logical Plan\n",
    "    - Physical Plan\n",
    "1. Do the Analyzed Logical Plan and Optimized Logical Plan differ? Spot the differences if any. How would a RDBMS proceed with such a query?\n",
    "1. How does the physical plan differ from the Optimized Logical Plan? What are the keywords you would not expects in a RDBMS? What is their meaning? \n",
    "1. Inspect the stages on [Spark UI](http://localhost:4040/stages/stage). How many *stages* are necessary to complete the Spark job? What are the roles of `HashAggregate` and `Exchange hashpartitioning`?\n",
    "1. Does the physical plan perform `shuffle` operations? If yes how many?\n",
    "1. What are tasks with respect to stages (in Spark language)? How many tasks are your stages made of?"
   ]
  },
  {
   "cell_type": "markdown",
   "metadata": {
    "nteract": {
     "transient": {
      "deleting": false
     }
    }
   },
   "source": [
    "Now, compute the following and produce relevant plots:\n",
    "\n",
    "1. Break down the trip distance distribution for each day of week\n",
    "1. Count the number of distinct pickup location\n",
    "1. Compute and display tips and profits as a function of the pickup location"
   ]
  },
  {
   "cell_type": "markdown",
   "metadata": {
    "nteract": {
     "transient": {
      "deleting": false
     }
    }
   },
   "source": [
    "# Investigate one month of trips data in 2015 and 2018\n",
    "\n",
    " Consider one month of trips data from `yellow` taxis for each year\n",
    "\n",
    "1. Filter and cache/persist the result\n",
    "\n",
    "## Assessing seasonalities and looking at time series\n",
    "\n",
    "Compute and plot the following time series indexed by day of the week and hour of day:\n",
    "\n",
    "1. The number of pickups\n",
    "1. The average fare\n",
    "1. The average trip duration\n",
    "1. Plot the average number of ongoing trips\n",
    "\n",
    "## Rides to the airports\n",
    "\n",
    "In order to find the longitude and lattitude of JFK and Newark airport as well as the longitude and magnitudes \n",
    "of Manhattan, you can use a service like [geojson.io](http://geojson.io/).\n",
    "Plot the following time series, indexed the day of the week and hour of the day\n",
    "\n",
    "1. Median duration of taxi trip leaving Midtown (Southern Manhattan) headed for JFK Airport\n",
    "1. Median taxi duration of trip leaving from JFK Airport to Midtown (Southern Manhattan)\n",
    "\n",
    "## Geographic information\n",
    "\n",
    "For this, you will need to find tools to display maps and to build choropeth maps.\n",
    "We let you look and find relevant tools to do this.\n",
    "\n",
    "1. Build a heatmap where color is a function of\n",
    "    1. number of `pickups`\n",
    "    2. number of `dropoffs`\n",
    "    3. number of `pickups` with dropoff at some airport (JFK, LaGuardia, Newark)\n",
    "2. Build a choropeth map where color is a function of\n",
    "    1. number of pickups in the area\n",
    "    1. ratio of number of payments by card/number of cash payments for pickups in the area\n",
    "    2. ratio of total fare/trip duration for dropoff in the area\n",
    "3. Build an interactive chorophet with a slider allowing the user to select an `hour of day` and where the color is a function of\n",
    "    1. average number of dropoffs in the area during that hour the day\n",
    "    2. average ratio of tip over total fare amount for pickups in the area at given hour of the day"
   ]
  }
 ],
 "metadata": {
  "kernelspec": {
   "display_name": "Python 3",
   "language": "python",
   "name": "python3"
  },
  "language_info": {
   "codemirror_mode": {
    "name": "ipython",
    "version": 3
   },
   "file_extension": ".py",
   "mimetype": "text/x-python",
   "name": "python",
   "nbconvert_exporter": "python",
   "pygments_lexer": "ipython3",
   "version": "3.7.5"
  },
  "toc": {
   "base_numbering": 1,
   "nav_menu": {},
   "number_sections": true,
   "sideBar": true,
   "skip_h1_title": false,
   "title_cell": "Table of Contents",
   "title_sidebar": "Contents",
   "toc_cell": false,
   "toc_position": {
    "height": "calc(100% - 180px)",
    "left": "10px",
    "top": "150px",
    "width": "167.391px"
   },
   "toc_section_display": true,
   "toc_window_display": false
  }
 },
 "nbformat": 4,
 "nbformat_minor": 1
}
