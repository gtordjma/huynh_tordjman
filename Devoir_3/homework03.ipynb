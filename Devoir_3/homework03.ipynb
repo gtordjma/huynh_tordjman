{
 "cells": [
  {
   "cell_type": "markdown",
   "metadata": {
    "nteract": {
     "transient": {
      "deleting": false
     }
    }
   },
   "source": [
    "# New York taxis trips\n",
    "\n",
    "This homework is about New York taxi trips. Here is something from [Todd Schneider](https://toddwschneider.com/posts/analyzing-1-1-billion-nyc-taxi-and-uber-trips-with-a-vengeance/):\n",
    "\n",
    "> The New York City Taxi & Limousine Commission has released a  detailed historical dataset covering over 1 billion individual taxi trips in the city from January 2009 through December 2019. \n",
    "Taken as a whole, the detailed trip-level data is more than just a vast list of taxi pickup and drop off coordinates: it's a story of a City. \n",
    "How bad is the rush hour traffic from Midtown to JFK? \n",
    "Where does the Bridge and Tunnel crowd hang out on Saturday nights?\n",
    "What time do investment bankers get to work? How has Uber changed the landscape for taxis?\n",
    "The dataset addresses all of these questions and many more.\n",
    "\n",
    "The NY taxi trips dataset has been plowed by series of distinguished data scientists.\n",
    "The dataset is available from on Amazon S3 (Amazon's cloud storage service).\n",
    "The link for each file has the following form:\n",
    "\n",
    "    https://s3.amazonaws.com/nyc-tlc/trip+data/yellow_tripdata_{year}-{month}.csv\n",
    "\n",
    "There is one CSV file for each NY taxi service (`yellow`, `green`, `fhv`) and each calendar month (replacing `{year}` and `{month}` by the desired ones).\n",
    "Each file is moderately large, a few gigabytes. \n",
    "The full dataset is relatively large if it has to be handled on a laptop (several hundred gigabytes).\n",
    "\n",
    "You will focus on the `yellow` taxi service and a pair of months, from year 2015 and from year 2018. \n",
    "Between those two years, for hire vehicles services have taken off and carved a huge marketshare.\n",
    "\n",
    "Whatever the framework you use, `CSV` files prove hard to handle. \n",
    "After downloading the appropriate files (this takes time, but this is routine), a first step will consist in converting the csv files into a more Spark friendly format such as `parquet`.\n",
    "\n",
    "Saving into one of those formats require decisions about bucketing, partitioning and so on. Such decisions influence performance. It is your call.\n",
    "Many people have been working on this dataset, to cite but a few:\n",
    "\n",
    "\n",
    "- [1 billion trips with a vengeance](https://toddwschneider.com/posts/analyzing-1-1-billion-nyc-taxi-and-uber-trips-with-a-vengeance/)\n",
    "- [1 billion trips with R and SQL ](http://freerangestats.info/blog/2019/12/22/nyc-taxis-sql)\n",
    "- [1 billion trips with redshift](https://tech.marksblogg.com/billion-nyc-taxi-rides-redshift.html)\n",
    "- [nyc-taxi](https://github.com/fmaletski/nyc-taxi-map)"
   ]
  },
  {
   "cell_type": "markdown",
   "metadata": {},
   "source": [
    "Depending on your internet connection, **download the files** corresponding to **\"yellow\" taxis** for the years 2015 and 2018. Download **at least one month** (the same) for 2015 and 2018, if you can download all of them.\n",
    "\n",
    "**Hint.** The 12 csv for 2015 are about 23GB in total, but the corresponding parquet file, if you can create it for all 12 months, is only about 3GB."
   ]
  },
  {
   "cell_type": "markdown",
   "metadata": {},
   "source": [
    "You **might** need the following stuff in order to work with GPS coordinates and to plot things easily."
   ]
  },
  {
   "cell_type": "code",
   "execution_count": null,
   "metadata": {
    "ExecuteTime": {
     "end_time": "2020-06-04T19:58:24.062384Z",
     "start_time": "2020-06-04T19:58:20.027805Z"
    }
   },
   "outputs": [],
   "source": [
    "!pip install geojson geopandas plotly geopy ipyleaflet"
   ]
  },
  {
   "cell_type": "code",
   "execution_count": null,
   "metadata": {
    "ExecuteTime": {
     "end_time": "2020-06-04T19:58:46.446300Z",
     "start_time": "2020-06-04T19:58:44.192697Z"
    },
    "scrolled": true
   },
   "outputs": [],
   "source": [
    "!pip install pyshp"
   ]
  },
  {
   "cell_type": "code",
   "execution_count": 6,
   "metadata": {
    "ExecuteTime": {
     "end_time": "2020-06-05T07:59:39.027144Z",
     "start_time": "2020-06-05T07:59:32.502622Z"
    }
   },
   "outputs": [],
   "source": [
    "# import the usual suspects\n",
    "import pandas as pd\n",
    "import numpy as np\n",
    "import matplotlib.pyplot as plt\n",
    "import random as rand\n",
    "import os\n",
    "from pathlib import Path\n",
    "import sys\n",
    "import timeit\n",
    "import shapefile\n",
    "import urllib.request\n",
    "import zipfile\n",
    "import random\n",
    "import itertools\n",
    "import math\n",
    "import geopandas as gpd\n",
    "import seaborn as sns\n",
    "from pathlib import Path\n",
    "# spark\n",
    "from pyspark import SparkConf, SparkContext\n",
    "from pyspark.sql.functions import asc, desc\n",
    "from pyspark.sql.functions import year, dayofweek\n",
    "from pyspark import StorageLevel\n",
    "from pyspark.sql import SparkSession\n",
    "from pyspark.sql import Window\n",
    "from pyspark.sql.functions import col\n",
    "import pyspark.sql.functions as fn\n",
    "from pyspark.sql.catalog import Catalog\n",
    "from pyspark.sql.types import StructType, StructField\n",
    "from pyspark.sql.types import IntegerType, StringType\n",
    "from pyspark.sql.types import *\n",
    "from pyspark.sql.functions import isnan, when, count, col\n",
    "from pyspark.sql import SQLContext"
   ]
  },
  {
   "cell_type": "code",
   "execution_count": 7,
   "metadata": {
    "ExecuteTime": {
     "end_time": "2020-06-05T07:59:53.003983Z",
     "start_time": "2020-06-05T07:59:52.993180Z"
    }
   },
   "outputs": [],
   "source": [
    "#telechargement du fichier de données de decembre 2015\n",
    "data_2015_12_path = Path('yellow_tripdata_2015-12.csv')\n",
    "if not data_2015_12_path.exists():\n",
    "    urllib.request.urlretrieve(\"https://s3.amazonaws.com/nyc-tlc/trip+data/yellow_tripdata_2015-12.csv\", \"yellow_tripdata_2015-12.csv\")"
   ]
  },
  {
   "cell_type": "code",
   "execution_count": 8,
   "metadata": {
    "ExecuteTime": {
     "end_time": "2020-06-05T08:01:47.582952Z",
     "start_time": "2020-06-05T08:00:00.725370Z"
    }
   },
   "outputs": [
    {
     "ename": "KeyboardInterrupt",
     "evalue": "",
     "output_type": "error",
     "traceback": [
      "\u001b[0;31m---------------------------------------------------------------------------\u001b[0m",
      "\u001b[0;31mKeyboardInterrupt\u001b[0m                         Traceback (most recent call last)",
      "\u001b[0;32m<ipython-input-8-ac094cc60e13>\u001b[0m in \u001b[0;36m<module>\u001b[0;34m\u001b[0m\n\u001b[1;32m      2\u001b[0m \u001b[0mdata_2018_12_path\u001b[0m \u001b[0;34m=\u001b[0m \u001b[0mPath\u001b[0m\u001b[0;34m(\u001b[0m\u001b[0;34m'yellow_tripdata_2018-12.csv'\u001b[0m\u001b[0;34m)\u001b[0m\u001b[0;34m\u001b[0m\u001b[0;34m\u001b[0m\u001b[0m\n\u001b[1;32m      3\u001b[0m \u001b[0;32mif\u001b[0m \u001b[0;32mnot\u001b[0m \u001b[0mdata_2018_12_path\u001b[0m\u001b[0;34m.\u001b[0m\u001b[0mexists\u001b[0m\u001b[0;34m(\u001b[0m\u001b[0;34m)\u001b[0m\u001b[0;34m:\u001b[0m\u001b[0;34m\u001b[0m\u001b[0;34m\u001b[0m\u001b[0m\n\u001b[0;32m----> 4\u001b[0;31m     \u001b[0murllib\u001b[0m\u001b[0;34m.\u001b[0m\u001b[0mrequest\u001b[0m\u001b[0;34m.\u001b[0m\u001b[0murlretrieve\u001b[0m\u001b[0;34m(\u001b[0m\u001b[0;34m\"https://s3.amazonaws.com/nyc-tlc/trip+data/yellow_tripdata_2018-12.csv\"\u001b[0m\u001b[0;34m,\u001b[0m \u001b[0;34m\"yellow_tripdata_2018-12.csv\"\u001b[0m\u001b[0;34m)\u001b[0m\u001b[0;34m\u001b[0m\u001b[0;34m\u001b[0m\u001b[0m\n\u001b[0m",
      "\u001b[0;32m/usr/lib/python3.7/urllib/request.py\u001b[0m in \u001b[0;36murlretrieve\u001b[0;34m(url, filename, reporthook, data)\u001b[0m\n\u001b[1;32m    274\u001b[0m \u001b[0;34m\u001b[0m\u001b[0m\n\u001b[1;32m    275\u001b[0m             \u001b[0;32mwhile\u001b[0m \u001b[0;32mTrue\u001b[0m\u001b[0;34m:\u001b[0m\u001b[0;34m\u001b[0m\u001b[0;34m\u001b[0m\u001b[0m\n\u001b[0;32m--> 276\u001b[0;31m                 \u001b[0mblock\u001b[0m \u001b[0;34m=\u001b[0m \u001b[0mfp\u001b[0m\u001b[0;34m.\u001b[0m\u001b[0mread\u001b[0m\u001b[0;34m(\u001b[0m\u001b[0mbs\u001b[0m\u001b[0;34m)\u001b[0m\u001b[0;34m\u001b[0m\u001b[0;34m\u001b[0m\u001b[0m\n\u001b[0m\u001b[1;32m    277\u001b[0m                 \u001b[0;32mif\u001b[0m \u001b[0;32mnot\u001b[0m \u001b[0mblock\u001b[0m\u001b[0;34m:\u001b[0m\u001b[0;34m\u001b[0m\u001b[0;34m\u001b[0m\u001b[0m\n\u001b[1;32m    278\u001b[0m                     \u001b[0;32mbreak\u001b[0m\u001b[0;34m\u001b[0m\u001b[0;34m\u001b[0m\u001b[0m\n",
      "\u001b[0;32m/usr/lib/python3.7/http/client.py\u001b[0m in \u001b[0;36mread\u001b[0;34m(self, amt)\u001b[0m\n\u001b[1;32m    455\u001b[0m             \u001b[0;31m# Amount is given, implement using readinto\u001b[0m\u001b[0;34m\u001b[0m\u001b[0;34m\u001b[0m\u001b[0;34m\u001b[0m\u001b[0m\n\u001b[1;32m    456\u001b[0m             \u001b[0mb\u001b[0m \u001b[0;34m=\u001b[0m \u001b[0mbytearray\u001b[0m\u001b[0;34m(\u001b[0m\u001b[0mamt\u001b[0m\u001b[0;34m)\u001b[0m\u001b[0;34m\u001b[0m\u001b[0;34m\u001b[0m\u001b[0m\n\u001b[0;32m--> 457\u001b[0;31m             \u001b[0mn\u001b[0m \u001b[0;34m=\u001b[0m \u001b[0mself\u001b[0m\u001b[0;34m.\u001b[0m\u001b[0mreadinto\u001b[0m\u001b[0;34m(\u001b[0m\u001b[0mb\u001b[0m\u001b[0;34m)\u001b[0m\u001b[0;34m\u001b[0m\u001b[0;34m\u001b[0m\u001b[0m\n\u001b[0m\u001b[1;32m    458\u001b[0m             \u001b[0;32mreturn\u001b[0m \u001b[0mmemoryview\u001b[0m\u001b[0;34m(\u001b[0m\u001b[0mb\u001b[0m\u001b[0;34m)\u001b[0m\u001b[0;34m[\u001b[0m\u001b[0;34m:\u001b[0m\u001b[0mn\u001b[0m\u001b[0;34m]\u001b[0m\u001b[0;34m.\u001b[0m\u001b[0mtobytes\u001b[0m\u001b[0;34m(\u001b[0m\u001b[0;34m)\u001b[0m\u001b[0;34m\u001b[0m\u001b[0;34m\u001b[0m\u001b[0m\n\u001b[1;32m    459\u001b[0m         \u001b[0;32melse\u001b[0m\u001b[0;34m:\u001b[0m\u001b[0;34m\u001b[0m\u001b[0;34m\u001b[0m\u001b[0m\n",
      "\u001b[0;32m/usr/lib/python3.7/http/client.py\u001b[0m in \u001b[0;36mreadinto\u001b[0;34m(self, b)\u001b[0m\n\u001b[1;32m    499\u001b[0m         \u001b[0;31m# connection, and the user is reading more bytes than will be provided\u001b[0m\u001b[0;34m\u001b[0m\u001b[0;34m\u001b[0m\u001b[0;34m\u001b[0m\u001b[0m\n\u001b[1;32m    500\u001b[0m         \u001b[0;31m# (for example, reading in 1k chunks)\u001b[0m\u001b[0;34m\u001b[0m\u001b[0;34m\u001b[0m\u001b[0;34m\u001b[0m\u001b[0m\n\u001b[0;32m--> 501\u001b[0;31m         \u001b[0mn\u001b[0m \u001b[0;34m=\u001b[0m \u001b[0mself\u001b[0m\u001b[0;34m.\u001b[0m\u001b[0mfp\u001b[0m\u001b[0;34m.\u001b[0m\u001b[0mreadinto\u001b[0m\u001b[0;34m(\u001b[0m\u001b[0mb\u001b[0m\u001b[0;34m)\u001b[0m\u001b[0;34m\u001b[0m\u001b[0;34m\u001b[0m\u001b[0m\n\u001b[0m\u001b[1;32m    502\u001b[0m         \u001b[0;32mif\u001b[0m \u001b[0;32mnot\u001b[0m \u001b[0mn\u001b[0m \u001b[0;32mand\u001b[0m \u001b[0mb\u001b[0m\u001b[0;34m:\u001b[0m\u001b[0;34m\u001b[0m\u001b[0;34m\u001b[0m\u001b[0m\n\u001b[1;32m    503\u001b[0m             \u001b[0;31m# Ideally, we would raise IncompleteRead if the content-length\u001b[0m\u001b[0;34m\u001b[0m\u001b[0;34m\u001b[0m\u001b[0;34m\u001b[0m\u001b[0m\n",
      "\u001b[0;32m/usr/lib/python3.7/socket.py\u001b[0m in \u001b[0;36mreadinto\u001b[0;34m(self, b)\u001b[0m\n\u001b[1;32m    587\u001b[0m         \u001b[0;32mwhile\u001b[0m \u001b[0;32mTrue\u001b[0m\u001b[0;34m:\u001b[0m\u001b[0;34m\u001b[0m\u001b[0;34m\u001b[0m\u001b[0m\n\u001b[1;32m    588\u001b[0m             \u001b[0;32mtry\u001b[0m\u001b[0;34m:\u001b[0m\u001b[0;34m\u001b[0m\u001b[0;34m\u001b[0m\u001b[0m\n\u001b[0;32m--> 589\u001b[0;31m                 \u001b[0;32mreturn\u001b[0m \u001b[0mself\u001b[0m\u001b[0;34m.\u001b[0m\u001b[0m_sock\u001b[0m\u001b[0;34m.\u001b[0m\u001b[0mrecv_into\u001b[0m\u001b[0;34m(\u001b[0m\u001b[0mb\u001b[0m\u001b[0;34m)\u001b[0m\u001b[0;34m\u001b[0m\u001b[0;34m\u001b[0m\u001b[0m\n\u001b[0m\u001b[1;32m    590\u001b[0m             \u001b[0;32mexcept\u001b[0m \u001b[0mtimeout\u001b[0m\u001b[0;34m:\u001b[0m\u001b[0;34m\u001b[0m\u001b[0;34m\u001b[0m\u001b[0m\n\u001b[1;32m    591\u001b[0m                 \u001b[0mself\u001b[0m\u001b[0;34m.\u001b[0m\u001b[0m_timeout_occurred\u001b[0m \u001b[0;34m=\u001b[0m \u001b[0;32mTrue\u001b[0m\u001b[0;34m\u001b[0m\u001b[0;34m\u001b[0m\u001b[0m\n",
      "\u001b[0;32m/usr/lib/python3.7/ssl.py\u001b[0m in \u001b[0;36mrecv_into\u001b[0;34m(self, buffer, nbytes, flags)\u001b[0m\n\u001b[1;32m   1069\u001b[0m                   \u001b[0;34m\"non-zero flags not allowed in calls to recv_into() on %s\"\u001b[0m \u001b[0;34m%\u001b[0m\u001b[0;34m\u001b[0m\u001b[0;34m\u001b[0m\u001b[0m\n\u001b[1;32m   1070\u001b[0m                   self.__class__)\n\u001b[0;32m-> 1071\u001b[0;31m             \u001b[0;32mreturn\u001b[0m \u001b[0mself\u001b[0m\u001b[0;34m.\u001b[0m\u001b[0mread\u001b[0m\u001b[0;34m(\u001b[0m\u001b[0mnbytes\u001b[0m\u001b[0;34m,\u001b[0m \u001b[0mbuffer\u001b[0m\u001b[0;34m)\u001b[0m\u001b[0;34m\u001b[0m\u001b[0;34m\u001b[0m\u001b[0m\n\u001b[0m\u001b[1;32m   1072\u001b[0m         \u001b[0;32melse\u001b[0m\u001b[0;34m:\u001b[0m\u001b[0;34m\u001b[0m\u001b[0;34m\u001b[0m\u001b[0m\n\u001b[1;32m   1073\u001b[0m             \u001b[0;32mreturn\u001b[0m \u001b[0msuper\u001b[0m\u001b[0;34m(\u001b[0m\u001b[0;34m)\u001b[0m\u001b[0;34m.\u001b[0m\u001b[0mrecv_into\u001b[0m\u001b[0;34m(\u001b[0m\u001b[0mbuffer\u001b[0m\u001b[0;34m,\u001b[0m \u001b[0mnbytes\u001b[0m\u001b[0;34m,\u001b[0m \u001b[0mflags\u001b[0m\u001b[0;34m)\u001b[0m\u001b[0;34m\u001b[0m\u001b[0;34m\u001b[0m\u001b[0m\n",
      "\u001b[0;32m/usr/lib/python3.7/ssl.py\u001b[0m in \u001b[0;36mread\u001b[0;34m(self, len, buffer)\u001b[0m\n\u001b[1;32m    927\u001b[0m         \u001b[0;32mtry\u001b[0m\u001b[0;34m:\u001b[0m\u001b[0;34m\u001b[0m\u001b[0;34m\u001b[0m\u001b[0m\n\u001b[1;32m    928\u001b[0m             \u001b[0;32mif\u001b[0m \u001b[0mbuffer\u001b[0m \u001b[0;32mis\u001b[0m \u001b[0;32mnot\u001b[0m \u001b[0;32mNone\u001b[0m\u001b[0;34m:\u001b[0m\u001b[0;34m\u001b[0m\u001b[0;34m\u001b[0m\u001b[0m\n\u001b[0;32m--> 929\u001b[0;31m                 \u001b[0;32mreturn\u001b[0m \u001b[0mself\u001b[0m\u001b[0;34m.\u001b[0m\u001b[0m_sslobj\u001b[0m\u001b[0;34m.\u001b[0m\u001b[0mread\u001b[0m\u001b[0;34m(\u001b[0m\u001b[0mlen\u001b[0m\u001b[0;34m,\u001b[0m \u001b[0mbuffer\u001b[0m\u001b[0;34m)\u001b[0m\u001b[0;34m\u001b[0m\u001b[0;34m\u001b[0m\u001b[0m\n\u001b[0m\u001b[1;32m    930\u001b[0m             \u001b[0;32melse\u001b[0m\u001b[0;34m:\u001b[0m\u001b[0;34m\u001b[0m\u001b[0;34m\u001b[0m\u001b[0m\n\u001b[1;32m    931\u001b[0m                 \u001b[0;32mreturn\u001b[0m \u001b[0mself\u001b[0m\u001b[0;34m.\u001b[0m\u001b[0m_sslobj\u001b[0m\u001b[0;34m.\u001b[0m\u001b[0mread\u001b[0m\u001b[0;34m(\u001b[0m\u001b[0mlen\u001b[0m\u001b[0;34m)\u001b[0m\u001b[0;34m\u001b[0m\u001b[0;34m\u001b[0m\u001b[0m\n",
      "\u001b[0;31mKeyboardInterrupt\u001b[0m: "
     ]
    }
   ],
   "source": [
    "#telechargement du fichier de données de decembre 2018\n",
    "data_2018_12_path = Path('yellow_tripdata_2018-12.csv')\n",
    "if not data_2018_12_path.exists():\n",
    "    urllib.request.urlretrieve(\"https://s3.amazonaws.com/nyc-tlc/trip+data/yellow_tripdata_2018-12.csv\", \"yellow_tripdata_2018-12.csv\")"
   ]
  },
  {
   "cell_type": "markdown",
   "metadata": {},
   "source": [
    "For this homework **we will let you decide on the tools to use** (expected for Spark) and to **find out information all by yourself** (but don't hesitate to ask questions on the `slack` channel)."
   ]
  },
  {
   "cell_type": "code",
   "execution_count": 9,
   "metadata": {
    "ExecuteTime": {
     "end_time": "2020-06-05T08:02:07.944076Z",
     "start_time": "2020-06-05T08:01:54.040044Z"
    }
   },
   "outputs": [],
   "source": [
    "conf = SparkConf().setAppName(\"Spark NY Taxis trips\")\n",
    "conf.set(\"spark.driver.memory\", \"4g\")\n",
    "sc = SparkContext(conf=conf)\n",
    "\n",
    "spark = (SparkSession\n",
    "    .builder\n",
    "    .appName(\"Spark NY Taxis trips\")\n",
    "    .getOrCreate()\n",
    ")"
   ]
  },
  {
   "cell_type": "markdown",
   "metadata": {
    "nteract": {
     "transient": {
      "deleting": false
     }
    }
   },
   "source": [
    "# Loading data as parquet files\n",
    "\n",
    "We want to organize the data on a per year and per service basis. \n",
    "We want to end up with one `parquet` file for each year and each taxi service, since parquet is much better than CSV files.\n",
    "\n",
    "**Hint.** Depending on your internet connection and your laptop, you can use only the \"yellow\" service and use one month of 2015 and 2018\n",
    "\n",
    "CSV files can contain corrupted lines. You may have to work in order to perform ETL (Extract-Transform-Load) in order obtain a properly typed data frame.\n",
    "\n",
    "You are invited to proceed as follows:\n",
    "\n",
    "1. Try to read the CSV file without imposing a schema. \n",
    "1. Inspect the inferred schema. Do you agree with Spark's typing decision?\n",
    "1. Eventually correct the schema and read again the data\n",
    "1. Save the data into parquet files\n",
    "1. In the rest of your work, **you will only use the parquet files you created**, not the csv files (don't forget to choose a partitioning column and a number of partitions when creating the parquet files).\n",
    "\n",
    "**Hint.** Don't forget to ask `Spark` to use all the memory and ressources from your computer.\n",
    "\n",
    "**Hint.** Don't foreget that you should specify a partitioning column and a number of partitions when creating the parquet files.\n",
    "\n",
    "**Hint.** Note that the schemas of the 2015 and 2018 data are different...\n",
    "\n",
    "**Hint.** When working on this, ask you and answer to the following questions:\n",
    "\n",
    "1. What is the `StorageLevel` of the dataframe after reading the csv files?\n",
    "1. What is the number of partitions of the dataframe? \n",
    "1. Is it possible to tune this number at loading time? \n",
    "1. Why would we want to modify the number of partitions when creating the parquet files?"
   ]
  },
  {
   "cell_type": "markdown",
   "metadata": {},
   "source": [
    "## Try to read the CSV file without imposing a schema. "
   ]
  },
  {
   "cell_type": "code",
   "execution_count": null,
   "metadata": {
    "ExecuteTime": {
     "end_time": "2020-06-05T06:33:53.798152Z",
     "start_time": "2020-06-05T06:12:40.978Z"
    }
   },
   "outputs": [],
   "source": [
    "def read_csv (input_file_name):\n",
    "    df = spark.read.load(\n",
    "    input_file_name,\n",
    "    format=\"csv\", \n",
    "    sep=\",\", \n",
    "    inferSchema=\"false\", \n",
    "    header=\"true\"\n",
    "    )\n",
    "    return df"
   ]
  },
  {
   "cell_type": "code",
   "execution_count": null,
   "metadata": {
    "ExecuteTime": {
     "end_time": "2020-06-05T06:33:53.800744Z",
     "start_time": "2020-06-05T06:12:40.983Z"
    }
   },
   "outputs": [],
   "source": [
    "#Lecture données de 2015\n",
    "df_2015_12 = read_csv(\"yellow_tripdata_2015-12.csv\")\n",
    "df_2015_12.first()"
   ]
  },
  {
   "cell_type": "code",
   "execution_count": null,
   "metadata": {
    "ExecuteTime": {
     "end_time": "2020-06-05T06:33:53.803382Z",
     "start_time": "2020-06-05T06:12:40.988Z"
    }
   },
   "outputs": [],
   "source": [
    "#Lecture données de 2018\n",
    "df_2018_12 = read_csv(\"yellow_tripdata_2018-12.csv\")\n",
    "df_2018_12.first()"
   ]
  },
  {
   "cell_type": "markdown",
   "metadata": {},
   "source": [
    "### What is the StorageLevel of the dataframe after reading the csv files?"
   ]
  },
  {
   "cell_type": "code",
   "execution_count": null,
   "metadata": {
    "ExecuteTime": {
     "end_time": "2020-06-05T06:33:53.805671Z",
     "start_time": "2020-06-05T06:12:40.993Z"
    }
   },
   "outputs": [],
   "source": [
    "# 1. Le storageLevel par défaut est MEMORY_ONLY: Serialized 1x Replicated.\n",
    "print(df_2018_12.rdd.getStorageLevel())"
   ]
  },
  {
   "cell_type": "markdown",
   "metadata": {},
   "source": [
    "### What is the number of partitions of the dataframe? \n",
    "6 partitions pour 12-2018 et 14 pour 12-2015"
   ]
  },
  {
   "cell_type": "code",
   "execution_count": null,
   "metadata": {
    "ExecuteTime": {
     "end_time": "2020-06-05T06:33:53.808219Z",
     "start_time": "2020-06-05T06:12:41.000Z"
    }
   },
   "outputs": [],
   "source": [
    "print(df_2018_12.rdd.getNumPartitions())\n",
    "print(df_2015_12.rdd.getNumPartitions())"
   ]
  },
  {
   "cell_type": "markdown",
   "metadata": {},
   "source": [
    "### Is it possible to tune this number at loading time?\n",
    "Oui en utilisant la methode .repartition(Nombre_De_Partition) lors du read"
   ]
  },
  {
   "cell_type": "markdown",
   "metadata": {},
   "source": [
    "## Inspect the inferred schema. Do you agree with Spark's typing decision?\n",
    "Reponse:\n",
    "Pour ces deux dataframes, le schéma contient seulement des colonnes\n",
    "de données de type string.\n",
    "Avoir un type \"général\" pour les données est pratique pour les collecter mais pas pour les utiliser \n",
    "ensuite, par exemple pour utiliser les dates, les nombres.\n",
    "Il faut donc proceder a une convertion de type pour mieux exploiter les données"
   ]
  },
  {
   "cell_type": "code",
   "execution_count": null,
   "metadata": {
    "ExecuteTime": {
     "end_time": "2020-06-05T06:33:53.810995Z",
     "start_time": "2020-06-05T06:12:41.008Z"
    }
   },
   "outputs": [],
   "source": [
    "#Inspection du schema de 2015\n",
    "df_2015_12.printSchema()"
   ]
  },
  {
   "cell_type": "code",
   "execution_count": null,
   "metadata": {
    "ExecuteTime": {
     "end_time": "2020-06-05T06:33:53.813350Z",
     "start_time": "2020-06-05T06:12:41.013Z"
    }
   },
   "outputs": [],
   "source": [
    "#Inspection du schema de 2018\n",
    "df_2018_12.printSchema()"
   ]
  },
  {
   "cell_type": "markdown",
   "metadata": {},
   "source": [
    "On remarque :\n",
    "\n",
    "Le schema de 2015 comporte 4 colonnes qui ne sont pas dans 2018\n",
    "pickup_longitude, pickup_latitude, \n",
    "dropoff_longitude, dropoff_latitude\n",
    "\n",
    "Le schema de 2018 comporte 2 colonnes qui ne sont pas dans 2015\n",
    "PULocationID, DOLocationID\n",
    "\n",
    "Apres plusieurs recherche on comprend que PULocationID et DOLocationID sont des id d'endroit precis dans NY. Grace a un fochier definnissant les lat et long en fonction des ID on va donc pouvoir ramener le schema de 2018 au meme que celui de 2015.\n",
    "Ainsi PULocationID nous donnera les colonnes pickup_longitude, pickup_latitude.\n",
    "Et DOLocationID nous donnera les colonnes dropoff_longitude, dropoff_latitude."
   ]
  },
  {
   "cell_type": "markdown",
   "metadata": {},
   "source": [
    "## Convert data_2018_12 from old schema to same schema as data_2015_12"
   ]
  },
  {
   "cell_type": "code",
   "execution_count": null,
   "metadata": {
    "ExecuteTime": {
     "end_time": "2020-06-05T06:33:53.815820Z",
     "start_time": "2020-06-05T06:12:41.019Z"
    }
   },
   "outputs": [],
   "source": [
    "#telechargement du fichier de données qui nous permettera\n",
    "# d'avoir le meme schema pour les df de 2018 et 2015\n",
    "shape_path = Path('shape')\n",
    "if not shape_path.exists():\n",
    "    urllib.request.urlretrieve(\"https://data.cityofnewyork.us/api/geospatial/d3c5-ddgc?method=export&format=Original\", \"taxi_zones.zip\")\n",
    "    with zipfile.ZipFile(\"taxi_zones.zip\",\"r\") as zip_ref:\n",
    "        zip_ref.extractall(\"./shape\")"
   ]
  },
  {
   "cell_type": "markdown",
   "metadata": {},
   "source": [
    "Lecture du fichier shape"
   ]
  },
  {
   "cell_type": "code",
   "execution_count": null,
   "metadata": {
    "ExecuteTime": {
     "end_time": "2020-06-05T06:33:53.818406Z",
     "start_time": "2020-06-05T06:12:41.024Z"
    }
   },
   "outputs": [],
   "source": [
    "def get_lat_lon(sf):\n",
    "    content = []\n",
    "    for sr in sf.shapeRecords():\n",
    "        shape = sr.shape\n",
    "        rec = sr.record\n",
    "        loc_id = rec[shp_dic['LocationID']]\n",
    "        \n",
    "        x = (shape.bbox[0]+shape.bbox[2])/2\n",
    "        y = (shape.bbox[1]+shape.bbox[3])/2\n",
    "        \n",
    "        content.append((loc_id, x, y))\n",
    "    return pd.DataFrame(content, columns=[\"LocationID\", \"longitude\", \"latitude\"])\n",
    "\n",
    "gpd.read_file('shape/taxi_zones.shp').to_crs(epsg=4326).to_file(\"shape/taxi_zones_4326.shp\")\n",
    "sf_4326 = shapefile.Reader(\"shape/taxi_zones_4326.shp\")\n",
    "\n",
    "\n",
    "fields_name = [field[0] for field in sf_4326.fields[1:]]\n",
    "shp_dic = dict(zip(fields_name, list(range(len(fields_name)))))\n",
    "attributes = sf_4326.records()\n",
    "shp_attr = [dict(zip(fields_name, attr)) for attr in attributes]\n",
    "\n",
    "pd_df_loc = pd.DataFrame(shp_attr).join(get_lat_lon(sf_4326)\\\n",
    "                                        .set_index(\"LocationID\"), on=\"LocationID\")\n",
    "sp_df_loc = spark.createDataFrame(data=pd_df_loc)\n",
    "sp_df_loc = sp_df_loc\\\n",
    "            .withColumn('LocationID', sp_df_loc['LocationID'].cast(IntegerType()))\n",
    "sp_df_loc = sp_df_loc.groupBy(\"LocationID\").agg({'longitude':'avg', 'latitude':'avg'})\n",
    "sp_df_loc = sp_df_loc.withColumnRenamed(\"AVG(longitude)\", \"longitude\")\\\n",
    "            .withColumnRenamed(\"AVG(latitude)\", \"latitude\")\n",
    "PULocationID = sp_df_loc.selectExpr('LocationID as PULocationID','longitude as pickup_longitude','latitude as pickup_latitude')\n",
    "DOLocationID = sp_df_loc.selectExpr('LocationID as DOLocationID','longitude as dropoff_longitude','latitude as dropoff_latitude')"
   ]
  },
  {
   "cell_type": "code",
   "execution_count": null,
   "metadata": {
    "ExecuteTime": {
     "end_time": "2020-06-05T06:33:53.820758Z",
     "start_time": "2020-06-05T06:12:41.029Z"
    }
   },
   "outputs": [],
   "source": [
    "sp_df_loc.show(2)"
   ]
  },
  {
   "cell_type": "code",
   "execution_count": null,
   "metadata": {
    "ExecuteTime": {
     "end_time": "2020-06-05T06:33:53.822970Z",
     "start_time": "2020-06-05T06:12:41.033Z"
    }
   },
   "outputs": [],
   "source": [
    "PULocationID.printSchema()\n",
    "DOLocationID.printSchema()"
   ]
  },
  {
   "cell_type": "code",
   "execution_count": null,
   "metadata": {
    "ExecuteTime": {
     "end_time": "2020-06-05T06:33:53.826003Z",
     "start_time": "2020-06-05T06:12:41.036Z"
    }
   },
   "outputs": [],
   "source": [
    "#Preparation de la jointure des deux df\n",
    "df_2018_12 = df_2018_12\\\n",
    "            .withColumn('PULocationID', df_2018_12['PULocationID'].cast(IntegerType()))\\\n",
    "            .withColumn('DOLocationID', df_2018_12['DOLocationID'].cast(IntegerType()))"
   ]
  },
  {
   "cell_type": "code",
   "execution_count": null,
   "metadata": {
    "ExecuteTime": {
     "end_time": "2020-06-05T06:33:53.828902Z",
     "start_time": "2020-06-05T06:12:41.040Z"
    }
   },
   "outputs": [],
   "source": [
    "#Affichage du nombre de ligne pour garder un oeil sur la perte de donnée apres jointure\n",
    "print(df_2018_12.count())"
   ]
  },
  {
   "cell_type": "code",
   "execution_count": null,
   "metadata": {
    "ExecuteTime": {
     "end_time": "2020-06-05T06:33:53.831959Z",
     "start_time": "2020-06-05T06:12:41.044Z"
    }
   },
   "outputs": [],
   "source": [
    "#jointure\n",
    "df_2018_12 = df_2018_12.join(PULocationID, on=['PULocationID'], how='inner')\n",
    "df_2018_12 = df_2018_12.join(DOLocationID, on=['DOLocationID'], how='inner')\n",
    "df_2018_12 = df_2018_12.select('VendorID','tpep_pickup_datetime','tpep_dropoff_datetime','passenger_count','trip_distance','pickup_longitude','pickup_latitude','RateCodeID','store_and_fwd_flag','dropoff_longitude','dropoff_latitude','payment_type','fare_amount','extra','mta_tax','tip_amount','tolls_amount','improvement_surcharge','total_amount')"
   ]
  },
  {
   "cell_type": "code",
   "execution_count": null,
   "metadata": {
    "ExecuteTime": {
     "end_time": "2020-06-05T06:33:53.834823Z",
     "start_time": "2020-06-05T06:12:41.049Z"
    }
   },
   "outputs": [],
   "source": [
    "print(df_2018_12.count())"
   ]
  },
  {
   "cell_type": "markdown",
   "metadata": {},
   "source": [
    "Conclusion:\n",
    "On a donc perdu quelque données apres la jointure.\n",
    "Apres recherche, on explique cela par le fait que dans le fichier data_2018 nous avons des PULocationID et DOLocationID qui ont pour valeur 264;265.\n",
    "Ses ID ne sont pas present dans le fichier shape pris depuis le site NYC open data.\n",
    "Par conséquent ses lignes la sont perdu lors de la jointure."
   ]
  },
  {
   "cell_type": "code",
   "execution_count": null,
   "metadata": {
    "ExecuteTime": {
     "end_time": "2020-06-05T06:33:53.837453Z",
     "start_time": "2020-06-05T06:12:41.055Z"
    }
   },
   "outputs": [],
   "source": [
    "#Inspection du schema de 2018\n",
    "df_2018_12.printSchema()"
   ]
  },
  {
   "cell_type": "markdown",
   "metadata": {},
   "source": [
    "## Eventually correct the schema and read again the data\n",
    "Nous avons donc a present deux fichier de données de schema identique dont nous allons maintenant changer les type afin de mieux pouvoir exploiter les données par la suite."
   ]
  },
  {
   "cell_type": "code",
   "execution_count": null,
   "metadata": {
    "ExecuteTime": {
     "end_time": "2020-06-05T06:33:53.839540Z",
     "start_time": "2020-06-05T06:12:41.059Z"
    }
   },
   "outputs": [],
   "source": [
    "def type_transformer(df):\n",
    "    df = df\\\n",
    "    .withColumn('VendorID', df['VendorID'].cast(IntegerType()))\\\n",
    "    .withColumn('tpep_pickup_datetime', df['tpep_pickup_datetime'].cast(TimestampType()))\\\n",
    "    .withColumn('tpep_dropoff_datetime', df['tpep_dropoff_datetime'].cast(TimestampType()))\\\n",
    "    .withColumn('passenger_count', df['passenger_count'].cast(IntegerType()))\\\n",
    "    .withColumn('trip_distance', df['trip_distance'].cast(DoubleType()))\\\n",
    "    .withColumn('pickup_longitude', df['pickup_longitude'].cast(DoubleType()))\\\n",
    "    .withColumn('pickup_latitude', df['pickup_latitude'].cast(DoubleType()))\\\n",
    "    .withColumn('RateCodeID', df['RateCodeID'].cast(IntegerType()))\\\n",
    "    .withColumn('dropoff_longitude', df['dropoff_longitude'].cast(DoubleType()))\\\n",
    "    .withColumn('dropoff_latitude', df['dropoff_latitude'].cast(DoubleType()))\\\n",
    "    .withColumn('payment_type', df['payment_type'].cast(IntegerType()))\\\n",
    "    .withColumn('fare_amount', df['fare_amount'].cast(DoubleType()))\\\n",
    "    .withColumn('extra', df['extra'].cast(DoubleType()))\\\n",
    "    .withColumn('mta_tax', df['mta_tax'].cast(DoubleType()))\\\n",
    "    .withColumn('tip_amount', df['tip_amount'].cast(DoubleType()))\\\n",
    "    .withColumn('tolls_amount', df['tolls_amount'].cast(DoubleType()))\\\n",
    "    .withColumn('improvement_surcharge', df['improvement_surcharge'].cast(DoubleType()))\\\n",
    "    .withColumn('total_amount', df['total_amount'].cast(DoubleType()))\n",
    "    return df\n",
    "\n",
    "def year_transformer(df):\n",
    "    year_col = year(col('tpep_pickup_datetime'))\n",
    "    df = df.withColumn('year', year_col)\n",
    "    return df"
   ]
  },
  {
   "cell_type": "code",
   "execution_count": null,
   "metadata": {
    "ExecuteTime": {
     "end_time": "2020-06-05T06:33:53.845463Z",
     "start_time": "2020-06-05T06:12:41.063Z"
    }
   },
   "outputs": [],
   "source": [
    "transformers = [\n",
    "    type_transformer,\n",
    "    year_transformer\n",
    "]"
   ]
  },
  {
   "cell_type": "code",
   "execution_count": null,
   "metadata": {
    "ExecuteTime": {
     "end_time": "2020-06-05T06:33:53.848110Z",
     "start_time": "2020-06-05T06:12:41.069Z"
    }
   },
   "outputs": [],
   "source": [
    "#transformation des types des données de 2015 et 2018\n",
    "for transformer in transformers:\n",
    "    df_2015_12 = transformer(df_2015_12)\n",
    "    df_2018_12 = transformer(df_2018_12)\n",
    "\n",
    "df_2015_12.printSchema()\n",
    "df_2018_12.printSchema()"
   ]
  },
  {
   "cell_type": "markdown",
   "metadata": {},
   "source": [
    "## Save the data into parquet files"
   ]
  },
  {
   "cell_type": "code",
   "execution_count": null,
   "metadata": {
    "ExecuteTime": {
     "end_time": "2020-06-05T06:33:53.850525Z",
     "start_time": "2020-06-05T06:12:41.074Z"
    }
   },
   "outputs": [],
   "source": [
    "df_records = df_2015_12.union(df_2018_12)"
   ]
  },
  {
   "cell_type": "markdown",
   "metadata": {},
   "source": [
    "Nos données que nous allons etudier sont donc maintenant dans le dataframes df_records.\n",
    "Nous allons donc maintenant creer notre fichier parquet avec un partitionby year afin de pouvoir exploiter ensuite les données selon l'année pour facilement."
   ]
  },
  {
   "cell_type": "markdown",
   "metadata": {},
   "source": [
    "### Why would we want to modify the number of partitions when creating the parquet files?\n",
    "On voudrait modifier le nombre de partitions par défaut (la valeur par défaut de spark.sql.shuffle.partitions est 200) pour l'adapter au dataframe : si c'est un \"petit\" dataframe, 200 c'est trop et si c'est un grand dataframe"
   ]
  },
  {
   "cell_type": "code",
   "execution_count": null,
   "metadata": {
    "ExecuteTime": {
     "end_time": "2020-06-05T06:33:53.853226Z",
     "start_time": "2020-06-05T06:12:41.079Z"
    }
   },
   "outputs": [],
   "source": [
    "df_records.write.partitionBy(\"year\").parquet('parquets/data_2015_2018_12.parquet')"
   ]
  },
  {
   "cell_type": "markdown",
   "metadata": {
    "nteract": {
     "transient": {
      "deleting": false
     }
    }
   },
   "source": [
    "# Investigate (at least) one month of data in 2015\n",
    "\n",
    "From now on, you will be using **the parquet files you created for 2015**.\n",
    "\n",
    "We shall visualize several features of taxi traffic during one calendar month\n",
    "in 2015 and the same calendar month in 2018.\n",
    "\n",
    "**Hint.** In order to build appealing graphics, you may stick to `matplotlib + seaborn`, you can use also\n",
    "`plotly`, which is used a lot to build interactive graphics, but you can use whatever you want."
   ]
  },
  {
   "cell_type": "code",
   "execution_count": 16,
   "metadata": {
    "ExecuteTime": {
     "end_time": "2020-06-05T10:05:35.393732Z",
     "start_time": "2020-06-05T10:05:34.611357Z"
    }
   },
   "outputs": [],
   "source": [
    "df = spark.read.parquet('parquets/data_2015_2018_12.parquet')\n",
    "df2015 = spark.read.parquet(\"parquets/data_2015_2018_12.parquet/year=2015\")\n",
    "df2018 = spark.read.parquet(\"parquets/data_2015_2018_12.parquet/year=2018\")"
   ]
  },
  {
   "cell_type": "markdown",
   "metadata": {},
   "source": [
    "The following longitudes and lattitudes encompass Newark and JFK airports, Northern Manhattan and Verazzano bridge."
   ]
  },
  {
   "cell_type": "code",
   "execution_count": null,
   "metadata": {
    "ExecuteTime": {
     "end_time": "2020-06-05T07:54:45.588144Z",
     "start_time": "2020-06-05T07:54:45.575Z"
    },
    "jupyter": {
     "outputs_hidden": false,
     "source_hidden": false
    },
    "nteract": {
     "transient": {
      "deleting": false
     }
    }
   },
   "outputs": [],
   "source": [
    "long_min = -74.10\n",
    "long_max = -73.70\n",
    "lat_min = 40.58\n",
    "lat_max = 40.90"
   ]
  },
  {
   "cell_type": "markdown",
   "metadata": {},
   "source": [
    "1. Using these boundaries, **filter the 2015 data** (using pickup and dropoff longitude and latitude) and count the number of trips for each value of `passenger_count` and make a plot of that."
   ]
  },
  {
   "cell_type": "code",
   "execution_count": 3,
   "metadata": {
    "ExecuteTime": {
     "end_time": "2020-06-05T07:54:45.741883Z",
     "start_time": "2020-06-05T07:54:45.692193Z"
    }
   },
   "outputs": [
    {
     "ename": "NameError",
     "evalue": "name 'df2015' is not defined",
     "output_type": "error",
     "traceback": [
      "\u001b[0;31m---------------------------------------------------------------------------\u001b[0m",
      "\u001b[0;31mNameError\u001b[0m                                 Traceback (most recent call last)",
      "\u001b[0;32m<ipython-input-3-0a2f61ad6a43>\u001b[0m in \u001b[0;36m<module>\u001b[0;34m\u001b[0m\n\u001b[0;32m----> 1\u001b[0;31m newdf15 = df2015.filter(df2015.pickup_longitude.between(long_min, long_max) \\\n\u001b[0m\u001b[1;32m      2\u001b[0m                       \u001b[0;34m&\u001b[0m \u001b[0mdf2015\u001b[0m\u001b[0;34m.\u001b[0m\u001b[0mpickup_latitude\u001b[0m\u001b[0;34m.\u001b[0m\u001b[0mbetween\u001b[0m\u001b[0;34m(\u001b[0m\u001b[0mlat_min\u001b[0m\u001b[0;34m,\u001b[0m \u001b[0mlat_max\u001b[0m\u001b[0;34m)\u001b[0m\u001b[0;31m \u001b[0m\u001b[0;31m\\\u001b[0m\u001b[0;34m\u001b[0m\u001b[0;34m\u001b[0m\u001b[0m\n\u001b[1;32m      3\u001b[0m                       \u001b[0;34m&\u001b[0m \u001b[0mdf2015\u001b[0m\u001b[0;34m.\u001b[0m\u001b[0mdropoff_longitude\u001b[0m\u001b[0;34m.\u001b[0m\u001b[0mbetween\u001b[0m\u001b[0;34m(\u001b[0m\u001b[0mlong_min\u001b[0m\u001b[0;34m,\u001b[0m \u001b[0mlong_max\u001b[0m\u001b[0;34m)\u001b[0m\u001b[0;31m \u001b[0m\u001b[0;31m\\\u001b[0m\u001b[0;34m\u001b[0m\u001b[0;34m\u001b[0m\u001b[0m\n\u001b[1;32m      4\u001b[0m                       & df2015.dropoff_latitude.between(lat_min, lat_max))\n",
      "\u001b[0;31mNameError\u001b[0m: name 'df2015' is not defined"
     ]
    }
   ],
   "source": [
    "newdf15 = df2015.filter(df2015.pickup_longitude.between(long_min, long_max) \\\n",
    "                      & df2015.pickup_latitude.between(lat_min, lat_max) \\\n",
    "                      & df2015.dropoff_longitude.between(long_min, long_max) \\\n",
    "                      & df2015.dropoff_latitude.between(lat_min, lat_max))"
   ]
  },
  {
   "cell_type": "code",
   "execution_count": null,
   "metadata": {
    "ExecuteTime": {
     "end_time": "2020-06-05T07:54:45.745712Z",
     "start_time": "2020-06-05T07:54:45.588Z"
    }
   },
   "outputs": [],
   "source": [
    "data = newdf15.groupBy('passenger_count')\\\n",
    "              .agg(fn.count('passenger_count') \\\n",
    "              .alias('count_pc'))\\\n",
    "                .sort(asc('passenger_count'))\n",
    "data.show()"
   ]
  },
  {
   "cell_type": "code",
   "execution_count": null,
   "metadata": {
    "ExecuteTime": {
     "end_time": "2020-06-05T07:54:45.750471Z",
     "start_time": "2020-06-05T07:54:45.595Z"
    }
   },
   "outputs": [],
   "source": [
    "import matplotlib.pyplot as plt\n",
    "\n",
    "x_array = [row.passenger_count for row in data.select(\"passenger_count\").collect()]\n",
    "y_array = [row.count_pc for row in data.select(\"count_pc\").collect()]\n",
    "plt.bar(x_array, height=y_array)"
   ]
  },
  {
   "cell_type": "markdown",
   "metadata": {
    "nteract": {
     "transient": {
      "deleting": false
     }
    }
   },
   "source": [
    "Trips with $0$ or larger than $7$ passengers are pretty rare.\n",
    "We suspect these to be outliers. \n",
    "We need to explore these trips further in order order to understand what might be wrong\n",
    "with them\n",
    "\n",
    "1. What's special with trips with zero passengers?\n",
    "1. What's special with trips with more than $6$ passengers?\n",
    "1. What is the largest distance travelled during this month? Is it the first taxi on the moon?\n",
    "1. Plot the distribution of the `trip_distance` (using an histogram for instance) during year 2015. :Focus on trips with non-zero trip distance and trip distance less than 30 miles."
   ]
  },
  {
   "cell_type": "code",
   "execution_count": 18,
   "metadata": {
    "ExecuteTime": {
     "end_time": "2020-06-05T10:17:32.682331Z",
     "start_time": "2020-06-05T10:17:31.904678Z"
    }
   },
   "outputs": [],
   "source": [
    "df2015_0 = df2015.filter(df2015['passenger_count']==0)"
   ]
  },
  {
   "cell_type": "code",
   "execution_count": 19,
   "metadata": {
    "ExecuteTime": {
     "end_time": "2020-06-05T10:17:38.296520Z",
     "start_time": "2020-06-05T10:17:34.718392Z"
    }
   },
   "outputs": [
    {
     "name": "stdout",
     "output_type": "stream",
     "text": [
      "+--------------------+---------------------+-------------+------------+\n",
      "|tpep_pickup_datetime|tpep_dropoff_datetime|trip_distance|total_amount|\n",
      "+--------------------+---------------------+-------------+------------+\n",
      "| 2015-12-23 14:19:57|  2015-12-23 14:21:30|          0.1|         0.3|\n",
      "| 2015-12-23 14:54:17|  2015-12-23 14:54:17|          0.0|        70.3|\n",
      "| 2015-12-23 15:40:03|  2015-12-23 15:44:20|          0.0|        11.8|\n",
      "| 2015-12-23 15:57:11|  2015-12-23 15:57:11|          0.0|         9.0|\n",
      "| 2015-12-23 16:21:11|  2015-12-23 16:21:23|          0.0|        50.8|\n",
      "| 2015-12-26 20:57:58|  2015-12-26 21:11:29|          1.8|        11.8|\n",
      "| 2015-12-23 20:44:02|  2015-12-23 20:44:05|          0.0|         8.3|\n",
      "| 2015-12-23 20:50:20|  2015-12-23 20:50:42|          0.0|         0.3|\n",
      "| 2015-12-23 22:54:24|  2015-12-23 22:55:18|          0.0|        0.31|\n",
      "| 2015-12-23 23:31:45|  2015-12-23 23:55:17|        12.42|       100.8|\n",
      "| 2015-12-23 23:44:46|  2015-12-23 23:46:24|          0.0|         8.3|\n",
      "| 2015-12-24 00:30:49|  2015-12-24 00:37:35|         0.19|        14.3|\n",
      "| 2015-12-24 00:30:49|  2015-12-24 00:37:35|         0.19|       -14.3|\n",
      "| 2015-12-24 00:41:25|  2015-12-24 00:41:29|         0.03|       12.96|\n",
      "| 2015-12-24 02:10:25|  2015-12-25 01:38:35|          0.0|        50.3|\n",
      "| 2015-12-24 02:19:32|  2015-12-24 02:20:38|          0.0|        56.3|\n",
      "| 2015-12-26 21:48:50|  2015-12-26 21:52:35|          0.5|         5.8|\n",
      "| 2015-12-26 22:03:04|  2015-12-26 22:13:33|          1.8|       12.35|\n",
      "| 2015-12-26 22:49:05|  2015-12-26 23:08:01|          1.2|       15.96|\n",
      "| 2015-12-24 13:39:15|  2015-12-24 13:55:41|          2.4|        5.85|\n",
      "| 2015-12-24 19:41:26|  2015-12-24 19:41:30|         35.1|       180.3|\n",
      "| 2015-12-27 00:04:42|  2015-12-27 00:17:05|          1.6|        13.5|\n",
      "| 2015-12-27 00:18:14|  2015-12-27 00:21:45|          0.6|        6.95|\n",
      "| 2015-12-27 00:44:27|  2015-12-27 00:50:36|          0.6|         6.8|\n",
      "| 2015-12-27 00:53:13|  2015-12-27 00:53:21|          0.0|        13.8|\n",
      "| 2015-12-27 00:53:34|  2015-12-27 01:00:53|          1.6|       10.55|\n",
      "| 2015-12-27 01:07:35|  2015-12-27 01:39:03|          6.5|       31.55|\n",
      "| 2015-12-27 01:46:03|  2015-12-27 01:51:35|          1.1|         7.8|\n",
      "| 2015-12-27 02:11:59|  2015-12-27 02:19:45|          1.3|         8.8|\n",
      "| 2015-12-27 02:18:29|  2015-12-27 02:19:11|          0.0|        0.31|\n",
      "| 2015-12-27 02:23:01|  2015-12-27 02:23:08|          0.0|        25.3|\n",
      "| 2015-12-27 02:54:49|  2015-12-27 03:10:52|          3.4|        14.8|\n",
      "| 2015-12-27 03:01:54|  2015-12-27 03:02:07|          0.0|        9.95|\n",
      "| 2015-12-27 03:14:38|  2015-12-27 03:18:18|          1.1|         6.8|\n",
      "| 2015-12-27 03:25:43|  2015-12-27 03:25:50|          0.0|       23.16|\n",
      "| 2015-12-27 03:42:08|  2015-12-27 03:55:14|          3.6|       18.35|\n",
      "| 2015-12-27 04:18:07|  2015-12-27 05:02:18|         34.2|       150.3|\n",
      "| 2015-12-27 04:32:47|  2015-12-27 04:32:47|          0.0|        48.3|\n",
      "| 2015-12-27 04:48:37|  2015-12-27 04:48:40|          0.0|        39.0|\n",
      "| 2015-12-27 10:34:58|  2015-12-27 10:35:05|          1.0|         0.3|\n",
      "| 2015-12-27 17:22:52|  2015-12-27 17:23:25|          0.0|        15.8|\n",
      "| 2015-12-27 18:47:58|  2015-12-27 20:02:29|         21.8|         0.3|\n",
      "| 2015-12-27 20:38:36|  2015-12-27 20:39:46|          0.1|         0.3|\n",
      "| 2015-12-28 00:55:42|  2015-12-28 02:03:15|         22.3|       10.81|\n",
      "| 2015-12-28 01:55:21|  2015-12-28 02:29:55|         14.8|        5.84|\n",
      "| 2015-12-28 02:06:10|  2015-12-28 02:10:38|          0.0|        16.3|\n",
      "| 2015-12-28 02:17:20|  2015-12-28 02:17:58|          0.0|       18.98|\n",
      "| 2015-12-28 03:28:59|  2015-12-28 03:29:00|          2.8|        80.3|\n",
      "| 2015-12-28 13:39:53|  2015-12-28 13:40:05|          0.0|        0.31|\n",
      "| 2015-12-28 13:54:31|  2015-12-28 13:58:03|          0.3|        0.31|\n",
      "| 2015-12-28 06:19:10|  2015-12-28 06:19:17|          1.4|        95.3|\n",
      "| 2015-12-28 09:30:23|  2015-12-28 09:30:33|          0.0|         0.3|\n",
      "| 2015-12-28 17:10:08|  2015-12-28 17:10:12|          0.0|       12.36|\n",
      "| 2015-12-28 18:04:25|  2015-12-28 18:04:29|          0.0|        28.3|\n",
      "| 2015-12-28 18:34:06|  2015-12-28 18:34:18|          0.0|        15.8|\n",
      "| 2015-12-28 19:22:25|  2015-12-28 19:22:29|         11.2|       54.35|\n",
      "| 2015-12-28 19:46:44|  2015-12-28 20:14:49|          7.3|       507.3|\n",
      "| 2015-12-29 01:09:45|  2015-12-29 01:10:13|          0.0|         8.8|\n",
      "| 2015-12-29 02:22:41|  2015-12-29 02:41:18|          9.9|       10.81|\n",
      "| 2015-12-29 03:26:36|  2015-12-29 03:28:24|          0.6|         0.3|\n",
      "| 2015-12-29 04:16:22|  2015-12-29 04:16:29|          0.0|        15.8|\n",
      "| 2015-12-29 07:06:10|  2015-12-29 07:06:30|          1.0|         0.3|\n",
      "| 2015-12-29 18:03:26|  2015-12-29 18:03:31|         19.1|        68.6|\n",
      "| 2015-12-29 18:41:15|  2015-12-29 18:44:18|          0.1|         0.3|\n",
      "| 2015-12-29 18:57:26|  2015-12-29 19:14:51|         3.56|        0.31|\n",
      "| 2015-12-29 23:49:22|  2015-12-30 03:49:22|          0.0|         8.8|\n",
      "| 2015-12-30 01:09:31|  2015-12-30 01:11:19|          0.3|       13.35|\n",
      "| 2015-12-30 01:31:48|  2015-12-30 01:31:51|          0.0|       56.84|\n",
      "| 2015-12-30 11:44:33|  2015-12-30 15:44:33|          0.0|        6.36|\n",
      "| 2015-12-30 12:57:28|  2015-12-30 12:59:16|          0.0|        0.31|\n",
      "| 2015-12-30 16:13:20|  2015-12-30 20:13:20|          0.0|      180.96|\n",
      "| 2015-12-30 17:00:46|  2015-12-30 17:00:54|          2.7|        20.3|\n",
      "| 2015-12-30 17:27:05|  2015-12-30 17:27:08|          0.0|         8.3|\n",
      "| 2015-12-30 18:28:48|  2015-12-30 18:28:59|          0.9|         0.3|\n",
      "| 2015-12-30 19:27:47|  2015-12-30 19:27:58|          0.0|       87.43|\n",
      "| 2015-12-30 19:29:32|  2015-12-30 19:29:35|          0.0|        19.3|\n",
      "| 2015-12-30 19:46:00|  2015-12-30 19:46:23|          0.0|         0.8|\n",
      "| 2015-12-30 19:46:00|  2015-12-30 19:46:23|          0.0|        -0.8|\n",
      "| 2015-12-31 00:36:39|  2015-12-31 00:36:46|          3.0|         0.3|\n",
      "| 2015-12-13 01:43:53|  2015-12-13 01:44:36|          0.0|        21.3|\n",
      "| 2015-12-13 02:24:52|  2015-12-13 02:25:19|          0.0|       25.46|\n",
      "| 2015-12-13 03:42:44|  2015-12-13 03:44:10|          0.0|        39.8|\n",
      "| 2015-12-13 04:01:52|  2015-12-13 04:05:53|          0.4|         1.3|\n",
      "| 2015-12-13 04:23:27|  2015-12-13 04:46:15|          5.9|        0.31|\n",
      "| 2015-12-13 12:23:24|  2015-12-13 12:23:31|          0.3|         0.3|\n",
      "| 2015-12-13 12:48:35|  2015-12-13 12:48:41|          0.3|         0.3|\n",
      "| 2015-12-13 13:07:34|  2015-12-13 13:50:14|         21.1|       12.81|\n",
      "| 2015-12-13 13:53:24|  2015-12-13 13:54:02|          4.7|         0.3|\n",
      "| 2015-12-13 15:15:16|  2015-12-13 15:15:21|          0.9|        61.3|\n",
      "| 2015-12-13 15:27:23|  2015-12-13 15:27:32|         0.27|        81.3|\n",
      "| 2015-12-13 15:30:11|  2015-12-13 19:30:11|          0.0|       34.75|\n",
      "| 2015-12-13 16:26:24|  2015-12-13 20:26:24|          0.0|        16.8|\n",
      "| 2015-12-13 17:45:58|  2015-12-13 17:46:05|          0.0|       11.16|\n",
      "| 2015-12-13 17:50:31|  2015-12-13 17:50:40|          0.0|        0.37|\n",
      "| 2015-12-13 18:02:40|  2015-12-13 18:02:45|         13.5|        35.3|\n",
      "| 2015-12-13 18:06:56|  2015-12-13 18:42:48|        18.15|       103.3|\n",
      "| 2015-12-13 18:09:48|  2015-12-13 18:37:23|        15.87|      115.01|\n",
      "| 2015-12-13 19:11:52|  2015-12-13 19:12:14|          0.1|         0.3|\n",
      "| 2015-12-14 01:41:39|  2015-12-14 01:41:46|          1.4|         0.3|\n",
      "| 2015-12-14 06:52:51|  2015-12-14 06:53:12|          0.1|         0.3|\n",
      "+--------------------+---------------------+-------------+------------+\n",
      "only showing top 100 rows\n",
      "\n"
     ]
    }
   ],
   "source": [
    "df2015_0.select('tpep_pickup_datetime','tpep_dropoff_datetime','trip_distance','total_amount').show(100)"
   ]
  },
  {
   "cell_type": "code",
   "execution_count": null,
   "metadata": {
    "ExecuteTime": {
     "end_time": "2020-06-05T07:54:45.757479Z",
     "start_time": "2020-06-05T07:54:45.610Z"
    }
   },
   "outputs": [],
   "source": [
    "df2015_greater_than_6 = df2015.filter(df2015['passenger_count']>6)\n",
    "df2015_greater_than_6.select('tpep_pickup_datetime','tpep_dropoff_datetime','trip_distance','total_amount').show(100)"
   ]
  },
  {
   "cell_type": "code",
   "execution_count": 25,
   "metadata": {
    "ExecuteTime": {
     "end_time": "2020-06-05T17:05:11.367578Z",
     "start_time": "2020-06-05T17:05:06.183078Z"
    }
   },
   "outputs": [
    {
     "name": "stdout",
     "output_type": "stream",
     "text": [
      "+--------------------+---------------------+-------------+---------------+------------+\n",
      "|tpep_pickup_datetime|tpep_dropoff_datetime|trip_distance|passenger_count|total_amount|\n",
      "+--------------------+---------------------+-------------+---------------+------------+\n",
      "| 2015-12-05 02:07:42|  2015-12-05 12:48:17|    1.52004E7|              1|        25.3|\n",
      "+--------------------+---------------------+-------------+---------------+------------+\n",
      "only showing top 1 row\n",
      "\n"
     ]
    }
   ],
   "source": [
    "df2015.sort(desc('trip_distance'))\\\n",
    ".select('tpep_pickup_datetime','tpep_dropoff_datetime','trip_distance','passenger_count','total_amount')\\\n",
    ".show(1)"
   ]
  },
  {
   "cell_type": "markdown",
   "metadata": {},
   "source": [
    "Let's look at what Spark does for these computations\n",
    "\n",
    "1. Use the `explain` method or have a look at the [Spark UI](http://localhost:4040/SQL/) to analyze the job. You should be able to assess \n",
    "    - Parsed Logical Plan\n",
    "    - Analyzed Logical Plan\n",
    "    - Optimized Logical Plan\n",
    "    - Physical Plan\n",
    "1. Do the Analyzed Logical Plan and Optimized Logical Plan differ? Spot the differences if any. How would a RDBMS proceed with such a query?\n",
    "1. How does the physical plan differ from the Optimized Logical Plan? What are the keywords you would not expects in a RDBMS? What is their meaning? \n",
    "1. Inspect the stages on [Spark UI](http://localhost:4040/stages/stage). How many *stages* are necessary to complete the Spark job? What are the roles of `HashAggregate` and `Exchange hashpartitioning`?\n",
    "1. Does the physical plan perform `shuffle` operations? If yes how many?\n",
    "1. What are tasks with respect to stages (in Spark language)? How many tasks are your stages made of?"
   ]
  },
  {
   "cell_type": "code",
   "execution_count": 15,
   "metadata": {
    "ExecuteTime": {
     "end_time": "2020-06-05T08:14:04.478694Z",
     "start_time": "2020-06-05T08:14:04.409098Z"
    }
   },
   "outputs": [
    {
     "name": "stdout",
     "output_type": "stream",
     "text": [
      "== Parsed Logical Plan ==\n",
      "Relation[VendorID#40,tpep_pickup_datetime#41,tpep_dropoff_datetime#42,passenger_count#43,trip_distance#44,pickup_longitude#45,pickup_latitude#46,RateCodeID#47,store_and_fwd_flag#48,dropoff_longitude#49,dropoff_latitude#50,payment_type#51,fare_amount#52,extra#53,mta_tax#54,tip_amount#55,tolls_amount#56,improvement_surcharge#57,total_amount#58] parquet\n",
      "\n",
      "== Analyzed Logical Plan ==\n",
      "VendorID: int, tpep_pickup_datetime: timestamp, tpep_dropoff_datetime: timestamp, passenger_count: int, trip_distance: double, pickup_longitude: double, pickup_latitude: double, RateCodeID: int, store_and_fwd_flag: string, dropoff_longitude: double, dropoff_latitude: double, payment_type: int, fare_amount: double, extra: double, mta_tax: double, tip_amount: double, tolls_amount: double, improvement_surcharge: double, total_amount: double\n",
      "Relation[VendorID#40,tpep_pickup_datetime#41,tpep_dropoff_datetime#42,passenger_count#43,trip_distance#44,pickup_longitude#45,pickup_latitude#46,RateCodeID#47,store_and_fwd_flag#48,dropoff_longitude#49,dropoff_latitude#50,payment_type#51,fare_amount#52,extra#53,mta_tax#54,tip_amount#55,tolls_amount#56,improvement_surcharge#57,total_amount#58] parquet\n",
      "\n",
      "== Optimized Logical Plan ==\n",
      "Relation[VendorID#40,tpep_pickup_datetime#41,tpep_dropoff_datetime#42,passenger_count#43,trip_distance#44,pickup_longitude#45,pickup_latitude#46,RateCodeID#47,store_and_fwd_flag#48,dropoff_longitude#49,dropoff_latitude#50,payment_type#51,fare_amount#52,extra#53,mta_tax#54,tip_amount#55,tolls_amount#56,improvement_surcharge#57,total_amount#58] parquet\n",
      "\n",
      "== Physical Plan ==\n",
      "*(1) FileScan parquet [VendorID#40,tpep_pickup_datetime#41,tpep_dropoff_datetime#42,passenger_count#43,trip_distance#44,pickup_longitude#45,pickup_latitude#46,RateCodeID#47,store_and_fwd_flag#48,dropoff_longitude#49,dropoff_latitude#50,payment_type#51,fare_amount#52,extra#53,mta_tax#54,tip_amount#55,tolls_amount#56,improvement_surcharge#57,total_amount#58] Batched: true, Format: Parquet, Location: InMemoryFileIndex[file:/opt/polynote/notebooks/homeworks/huynh_tordjman/Devoir_3/parquets/data_20..., PartitionFilters: [], PushedFilters: [], ReadSchema: struct<VendorID:int,tpep_pickup_datetime:timestamp,tpep_dropoff_datetime:timestamp,passenger_coun...\n"
     ]
    }
   ],
   "source": [
    "#Obtenir les 4 types de plans (parsed logical, analyzed logical, optimized logicial, physical)\n",
    "df2015.explain(True)"
   ]
  },
  {
   "cell_type": "markdown",
   "metadata": {},
   "source": [
    "2. Il y a une différence entre le plan logique Analyzed (analysé par Catalyst) et le plan logique Optimized : dans le plan analyzed, il y a la relation (nom de la colonne suivi de # et d'un nombre) et chaque colonne et son type dans df2015 alors que df2018 contient seulement la relation. Pour passer d'un plan logique parsé en un plan Analyzed, Catalyst effectue une résolution des types et une résolution des noms dans la requête. Pour passer d'un plan logique Analyzed en un plan logique Optimized, l'optimisateur Catalyst applique des règles d'optimisation, qui modifient le TreeNode dans Spark SQL.\n",
    "\n",
    "3. Dans le plan physique, en plus de la relation du type de chaque colonne du df2015, il y a également une indication \"FileScan\" sur l'exécution de la requête, et il y a des informations générales : le format de fichier, sa localisation dans l'ordinateur, la liste des filtres PartitionFilter, la liste des filtres PushedFilters etc. Le plan physique est celui qui exécuté pour produire le résultat de la requête SQL.\n",
    "\n",
    "4. \n",
    "- Pour compléter le Spark job, il faut 7 stages. HashAggregate et Exchange hashpartitioning sont des opérations de plan d'exécution. \n",
    "- L'opération HashAggregate utilise une table de hachage temporaire pour grouper les enregistrements. Cette opération ne requiert pas de données pré-triées. Elle utilise une grande quantité de mémoire pour matérialiser le résultat intermédiaire (sans pipeline). La sortie n'est pas triée. \n",
    "- L'Exchange signfie échange de shuffle entre les jobs. Le hashpartitioning est une technique de partitionnement dans lequel une clef de hachage est utilisée pour distribuer les lignes de manière homogène à travers les différentes partitions.\n",
    "\n",
    "6. Un stage est une séquence de tâches qui peuvent être exécutées ensemble, sans shuffle. Une tâche est une opération (map ou filter) qui se produit dans une partition RDD spécifique.\n",
    "Mes stages sont tous constitués d'une seule task."
   ]
  },
  {
   "cell_type": "markdown",
   "metadata": {
    "nteract": {
     "transient": {
      "deleting": false
     }
    }
   },
   "source": [
    "Now, compute the following and produce relevant plots:\n",
    "\n",
    "1. Break down the trip distance distribution for each day of week\n",
    "1. Count the number of distinct pickup location\n",
    "1. Compute and display tips and profits as a function of the pickup location"
   ]
  },
  {
   "cell_type": "code",
   "execution_count": 20,
   "metadata": {
    "ExecuteTime": {
     "end_time": "2020-06-05T17:01:43.242737Z",
     "start_time": "2020-06-05T17:01:43.237856Z"
    }
   },
   "outputs": [],
   "source": [
    "def day_transformer(df):\n",
    "    day_col = dayofweek(col('tpep_pickup_datetime'))\n",
    "    df = df.withColumn('day', day_col)\n",
    "    return df"
   ]
  },
  {
   "cell_type": "code",
   "execution_count": 21,
   "metadata": {
    "ExecuteTime": {
     "end_time": "2020-06-05T17:01:45.637649Z",
     "start_time": "2020-06-05T17:01:45.332668Z"
    }
   },
   "outputs": [],
   "source": [
    "df2015_by_day = day_transformer(df2015)"
   ]
  },
  {
   "cell_type": "code",
   "execution_count": 22,
   "metadata": {
    "ExecuteTime": {
     "end_time": "2020-06-05T17:01:48.161172Z",
     "start_time": "2020-06-05T17:01:47.795800Z"
    }
   },
   "outputs": [],
   "source": [
    "df2015_by_day = df2015_by_day.select('day', 'trip_distance')\n",
    "df2015_by_day = df2015_by_day.groupBy(\"day\").agg({'trip_distance':'avg'})"
   ]
  },
  {
   "cell_type": "code",
   "execution_count": 23,
   "metadata": {
    "ExecuteTime": {
     "end_time": "2020-06-05T17:01:55.162652Z",
     "start_time": "2020-06-05T17:01:49.720606Z"
    }
   },
   "outputs": [
    {
     "name": "stdout",
     "output_type": "stream",
     "text": [
      "+---+------------------+\n",
      "|day|avg(trip_distance)|\n",
      "+---+------------------+\n",
      "|  1|3.1934650208295294|\n",
      "|  6| 3.021697094749542|\n",
      "|  3|  3.85574937009389|\n",
      "|  5|3.7894362870142873|\n",
      "|  4|2.9455406114047697|\n",
      "|  7|17.434449965094867|\n",
      "|  2|3.0739559960710205|\n",
      "+---+------------------+\n",
      "\n"
     ]
    }
   ],
   "source": [
    "df2015_by_day.show()"
   ]
  },
  {
   "cell_type": "code",
   "execution_count": 24,
   "metadata": {
    "ExecuteTime": {
     "end_time": "2020-06-05T17:03:26.680546Z",
     "start_time": "2020-06-05T17:03:22.859188Z"
    }
   },
   "outputs": [
    {
     "data": {
      "image/png": "[encoded data removed]",
      "text/plain": [
       "<Figure size 432x288 with 1 Axes>"
      ]
     },
     "metadata": {},
     "output_type": "display_data"
    }
   ],
   "source": [
    "pd_df2015_by_day = df2015_by_day.toPandas()\n",
    "sns.set()\n",
    "q = sns.lineplot(x = \"day\",\n",
    "                 y = \"avg(trip_distance)\",\n",
    "                 data = pd_df2015_by_day)\n",
    "\n",
    "q.set_title(\"trip distance distribution for each day of week\")\n",
    "plt.show(q)"
   ]
  },
  {
   "cell_type": "code",
   "execution_count": null,
   "metadata": {
    "ExecuteTime": {
     "end_time": "2020-06-05T07:54:45.775519Z",
     "start_time": "2020-06-05T07:54:45.649Z"
    }
   },
   "outputs": [],
   "source": [
    "df2015.select('pickup_longitude','pickup_latitude').distinct().count()"
   ]
  },
  {
   "cell_type": "markdown",
   "metadata": {
    "heading_collapsed": true,
    "nteract": {
     "transient": {
      "deleting": false
     }
    }
   },
   "source": [
    "# Investigate one month of trips data in 2015 and 2018\n",
    "\n",
    " Consider one month of trips data from `yellow` taxis for each year\n",
    "\n",
    "1. Filter and cache/persist the result\n",
    "\n",
    "## Assessing seasonalities and looking at time series\n",
    "\n",
    "Compute and plot the following time series indexed by day of the week and hour of day:\n",
    "\n",
    "1. The number of pickups\n",
    "1. The average fare\n",
    "1. The average trip duration\n",
    "1. Plot the average number of ongoing trips\n",
    "\n",
    "## Rides to the airports\n",
    "\n",
    "In order to find the longitude and lattitude of JFK and Newark airport as well as the longitude and magnitudes \n",
    "of Manhattan, you can use a service like [geojson.io](http://geojson.io/).\n",
    "Plot the following time series, indexed the day of the week and hour of the day\n",
    "\n",
    "1. Median duration of taxi trip leaving Midtown (Southern Manhattan) headed for JFK Airport\n",
    "1. Median taxi duration of trip leaving from JFK Airport to Midtown (Southern Manhattan)\n",
    "\n",
    "## Geographic information\n",
    "\n",
    "For this, you will need to find tools to display maps and to build choropeth maps.\n",
    "We let you look and find relevant tools to do this.\n",
    "\n",
    "1. Build a heatmap where color is a function of\n",
    "    1. number of `pickups`\n",
    "    2. number of `dropoffs`\n",
    "    3. number of `pickups` with dropoff at some airport (JFK, LaGuardia, Newark)\n",
    "2. Build a choropeth map where color is a function of\n",
    "    1. number of pickups in the area\n",
    "    1. ratio of number of payments by card/number of cash payments for pickups in the area\n",
    "    2. ratio of total fare/trip duration for dropoff in the area\n",
    "3. Build an interactive chorophet with a slider allowing the user to select an `hour of day` and where the color is a function of\n",
    "    1. average number of dropoffs in the area during that hour the day\n",
    "    2. average ratio of tip over total fare amount for pickups in the area at given hour of the day"
   ]
  }
 ],
 "metadata": {
  "kernelspec": {
   "display_name": "Python 3",
   "language": "python",
   "name": "python3"
  },
  "language_info": {
   "codemirror_mode": {
    "name": "ipython",
    "version": 3
   },
   "file_extension": ".py",
   "mimetype": "text/x-python",
   "name": "python",
   "nbconvert_exporter": "python",
   "pygments_lexer": "ipython3",
   "version": "3.7.5"
  },
  "toc": {
   "base_numbering": 1,
   "nav_menu": {},
   "number_sections": true,
   "sideBar": true,
   "skip_h1_title": false,
   "title_cell": "Table of Contents",
   "title_sidebar": "Contents",
   "toc_cell": false,
   "toc_position": {
    "height": "calc(100% - 180px)",
    "left": "10px",
    "top": "150px",
    "width": "167.391px"
   },
   "toc_section_display": true,
   "toc_window_display": false
  }
 },
 "nbformat": 4,
 "nbformat_minor": 1
}
