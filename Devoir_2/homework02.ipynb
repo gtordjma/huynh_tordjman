{
 "cells": [
  {
   "cell_type": "markdown",
   "metadata": {
    "format": "text/markdown"
   },
   "source": [
    "\n",
    "\n",
    "# Propaganda, start the `spark` session\n",
    "\n",
    "> For SQL users, Spark SQL provides state-of-the-art SQL performance and maintains compatibility with Shark/Hive. In particular, like Shark, Spark SQL supports all existing Hive data formats, user-defined functions (UDF), and the Hive metastore.\n",
    "\n",
    "> For Spark users, Spark SQL becomes the narrow-waist for manipulating (semi-) structured data as well as ingesting data from sources that provide schema, such as JSON, Parquet, Hive, or EDWs. It truly unifies SQL and sophisticated analysis, allowing users to mix and match SQL and more imperative programming APIs for advanced analytics.\n",
    "\n",
    "> For open source hackers, Spark SQL proposes a novel, elegant way of building query planners. It is incredibly easy to add new optimizations under this framework.\n",
    "\n",
    "> Internally, a structured query is a Catalyst tree of (logical and physical) relational operators and expressions.\n",
    "\n",
    "\n"
   ]
  },
  {
   "cell_type": "code",
   "execution_count": 1,
   "metadata": {
    "ExecuteTime": {
     "end_time": "2020-03-10T09:36:28.785550Z",
     "start_time": "2020-03-10T09:36:23.211039Z"
    },
    "autoscroll": "auto",
    "options": {
     "caption": false,
     "complete": true,
     "display_data": true,
     "display_stream": true,
     "dpi": 200,
     "echo": true,
     "evaluate": false,
     "f_env": null,
     "f_pos": "htpb",
     "f_size": [
      6,
      4
     ],
     "f_spines": true,
     "fig": true,
     "include": true,
     "name": null,
     "option_string": "evaluate=False",
     "results": "verbatim",
     "term": false,
     "wrap": "output"
    }
   },
   "outputs": [],
   "source": [
    "# import the usual suspects\n",
    "import pandas as pd\n",
    "import numpy as np\n",
    "import matplotlib.pyplot as plt\n",
    "import os\n",
    "from pathlib import Path\n",
    "import sys\n",
    "import timeit\n",
    "\n",
    "%matplotlib inline\n",
    "import seaborn as sns\n",
    "\n",
    "sns.set_context(\"notebook\", font_scale=1.2)"
   ]
  },
  {
   "cell_type": "markdown",
   "metadata": {
    "format": "text/markdown"
   },
   "source": [
    "During the session, we will use classes and functions exported by `pyspark`\n"
   ]
  },
  {
   "cell_type": "code",
   "execution_count": 2,
   "metadata": {
    "ExecuteTime": {
     "end_time": "2020-03-10T09:36:29.140987Z",
     "start_time": "2020-03-10T09:36:28.797111Z"
    },
    "autoscroll": "auto",
    "options": {
     "caption": false,
     "complete": true,
     "display_data": true,
     "display_stream": true,
     "dpi": 200,
     "echo": true,
     "evaluate": false,
     "f_env": null,
     "f_pos": "htpb",
     "f_size": [
      6,
      4
     ],
     "f_spines": true,
     "fig": true,
     "include": true,
     "name": null,
     "option_string": "evaluate=False",
     "results": "verbatim",
     "term": false,
     "wrap": "output"
    }
   },
   "outputs": [],
   "source": [
    "# spark\n",
    "from pyspark import SparkConf, SparkContext\n",
    "from pyspark.sql import SparkSession\n",
    "from pyspark.sql import Window\n",
    "from pyspark.sql.functions import col\n",
    "import pyspark.sql.functions as fn\n",
    "from pyspark.sql.catalog import Catalog\n",
    "from pyspark.sql.types import StructType, StructField\n",
    "from pyspark.sql.types import IntegerType, StringType"
   ]
  },
  {
   "cell_type": "markdown",
   "metadata": {},
   "source": [
    "Start the `SparkSession`"
   ]
  },
  {
   "cell_type": "code",
   "execution_count": 3,
   "metadata": {
    "ExecuteTime": {
     "end_time": "2020-03-10T09:36:54.339919Z",
     "start_time": "2020-03-10T09:36:30.267478Z"
    },
    "autoscroll": "auto",
    "options": {
     "caption": false,
     "complete": true,
     "display_data": true,
     "display_stream": true,
     "dpi": 200,
     "echo": true,
     "evaluate": false,
     "f_env": null,
     "f_pos": "htpb",
     "f_size": [
      6,
      4
     ],
     "f_spines": true,
     "fig": true,
     "include": true,
     "name": null,
     "option_string": "evaluate=False",
     "results": "verbatim",
     "term": false,
     "wrap": "output"
    }
   },
   "outputs": [],
   "source": [
    "conf = SparkConf().setAppName(\"Spark SQL Illustrations\")\n",
    "sc = SparkContext(conf=conf)\n",
    "\n",
    "spark = (SparkSession\n",
    "    .builder\n",
    "    .appName(\"Spark SQL\")\n",
    "    .getOrCreate()\n",
    ")"
   ]
  },
  {
   "cell_type": "markdown",
   "metadata": {
    "format": "text/markdown"
   },
   "source": [
    "US Baby Names 1880-2017\n",
    "=======================\n",
    "\n",
    "\n",
    "Description\n",
    ": US baby names provided by the SSA. \n",
    "\n",
    "This dataset contains all names used\n",
    "for at least 5 children of either sex during a year. \n",
    "\n",
    "\n",
    "The file is made of `1924665` lines and  4 columns.\n",
    "\n",
    "```\n",
    "|-- name: string (nullable = true)\n",
    "    |-- n: integer (nullable = true)\n",
    "    |-- sex: string (nullable = true)\n",
    "    |-- year: integer (nullable = true)\n",
    "```\n",
    "\n",
    "Each row indicates for a given name, sex, and year the number of babies \n",
    "of the given sex who were given that name during the given year. Names \n",
    "with less than 5 occurrences during the year were note recorded. \n",
    "\n",
    "|    name|  n|sex|year|\n",
    "|:--------|:---:|:---:|:----:|\n",
    "|  Emilia|112|  F|1985|\n",
    "|   Kelsi|112|  F|1985|\n",
    "|  Margot|112|  F|1985|\n",
    "|  Mariam|112|  F|1985|\n",
    "|Scarlett|112|  F|1985|\n",
    "\n",
    "First, we download the data if it's not there yet"
   ]
  },
  {
   "cell_type": "code",
   "execution_count": 4,
   "metadata": {
    "ExecuteTime": {
     "end_time": "2020-03-10T09:36:59.820994Z",
     "start_time": "2020-03-10T09:36:54.354804Z"
    }
   },
   "outputs": [],
   "source": [
    "import requests, zipfile, io\n",
    "from pathlib import Path\n",
    "\n",
    "path = Path('babynames_short.csv')\n",
    "if not path.exists():\n",
    "    url = \"https://stephanegaiffas.github.io/big_data_course/data/babynames_short.csv.zip\"\n",
    "    r = requests.get(url)\n",
    "    z = zipfile.ZipFile(io.BytesIO(r.content))\n",
    "    z.extractall(path='./')"
   ]
  },
  {
   "cell_type": "markdown",
   "metadata": {
    "format": "text/markdown"
   },
   "source": [
    "Load `babynames` from a `csv` file"
   ]
  },
  {
   "cell_type": "code",
   "execution_count": 5,
   "metadata": {
    "ExecuteTime": {
     "end_time": "2020-03-10T09:37:31.405390Z",
     "start_time": "2020-03-10T09:36:59.825662Z"
    },
    "autoscroll": "auto",
    "options": {
     "caption": false,
     "complete": true,
     "display_data": true,
     "display_stream": true,
     "dpi": 200,
     "echo": true,
     "evaluate": false,
     "f_env": null,
     "f_pos": "htpb",
     "f_size": [
      6,
      4
     ],
     "f_spines": true,
     "fig": true,
     "include": true,
     "name": null,
     "option_string": "evaluate=False",
     "results": "verbatim",
     "term": false,
     "wrap": "output"
    },
    "scrolled": false
   },
   "outputs": [
    {
     "name": "stdout",
     "output_type": "stream",
     "text": [
      "root\n",
      " |-- name: string (nullable = true)\n",
      " |-- n: integer (nullable = true)\n",
      " |-- sex: string (nullable = true)\n",
      " |-- year: double (nullable = true)\n",
      "\n"
     ]
    }
   ],
   "source": [
    "df_sp = spark.read\\\n",
    "             .format('csv')\\\n",
    "             .option(\"header\", \"true\")\\\n",
    "             .option(\"mode\", \"FAILFAST\")\\\n",
    "             .option(\"inferSchema\", \"true\")\\\n",
    "             .option(\"sep\", \",\")\\\n",
    "             .load(\"babynames_short.csv\")\n",
    "\n",
    "df_sp.printSchema()\n",
    "# faire sauvegarde par key ou en json..."
   ]
  },
  {
   "cell_type": "markdown",
   "metadata": {
    "format": "text/markdown"
   },
   "source": [
    "\n",
    "Ensure that the dataframe has the following schema:\n",
    "\n",
    "    root\n",
    "        |-- name: string (nullable = true)\n",
    "        |-- n: integer (nullable = true)\n",
    "        |-- sex: string (nullable = true)\n",
    "        |-- year: integer (nullable = true)\n",
    "\n",
    "\n"
   ]
  },
  {
   "cell_type": "code",
   "execution_count": 6,
   "metadata": {
    "ExecuteTime": {
     "end_time": "2020-03-10T10:23:11.424428Z",
     "start_time": "2020-03-10T10:23:08.603026Z"
    },
    "autoscroll": "auto",
    "options": {
     "caption": false,
     "complete": true,
     "display_data": true,
     "display_stream": true,
     "dpi": 200,
     "echo": true,
     "evaluate": false,
     "f_env": null,
     "f_pos": "htpb",
     "f_size": [
      6,
      4
     ],
     "f_spines": true,
     "fig": true,
     "include": true,
     "name": null,
     "option_string": "evaluate=False",
     "results": "verbatim",
     "term": false,
     "wrap": "output"
    }
   },
   "outputs": [
    {
     "name": "stdout",
     "output_type": "stream",
     "text": [
      "root\n",
      " |-- name: string (nullable = true)\n",
      " |-- n: integer (nullable = true)\n",
      " |-- sex: string (nullable = true)\n",
      " |-- year: integer (nullable = true)\n",
      "\n"
     ]
    }
   ],
   "source": [
    "# retypage de year en int\n",
    "# Select cast(year as int) year, sex, name, n\n",
    "# from table\n",
    "\n",
    "df_sp = df_sp.withColumn(\"year\", df_sp.year.cast(\"int\"))\n",
    "\n",
    "df_sp.printSchema()"
   ]
  },
  {
   "cell_type": "markdown",
   "metadata": {
    "format": "text/markdown"
   },
   "source": [
    "SQL versus spark-Dataframe API\n",
    "=================================\n",
    "\n",
    ">  Dataset API vs SQL\n",
    "\n",
    "> Spark SQL supports two \"modes\" to write structured queries: Dataset API and SQL. SQL Mode is used to express structured queries using SQL statements using SparkSession.sql operator, expr standard function and spark-sql command-line tool.\n",
    "\n",
    "> Some structured queries can be expressed much easier using Dataset API, but there are some that are only possible in SQL. In other words, you may find mixing Dataset API and SQL modes challenging yet rewarding.\n",
    "\n",
    "> What is important, and one of the reasons why Spark SQL has been so successful, is that there is no performance difference between the modes. Whatever mode you use to write your structured queries, they all end up as a tree of Catalyst relational data structures. And, yes, you could consider writing structured queries using Catalyst directly, but that could quickly become unwieldy for maintenance (i.e. finding Spark SQL developers who could be comfortable with it as well as being fairly low-level and therefore possibly too dependent on a specific Spark SQL version).\n",
    "\n",
    "Warmup:  compute the 10 most popular names given to babies in year 2000.\n",
    "======================================================================\n",
    "\n",
    "## Using `spark.sql()`\n",
    "\n",
    "In order to use mode `sql`, create a temporary view from the `DataFrame`.\n",
    "\n",
    "1. What are temporary views made of?\n",
    "1. Are there other kind of views in spark's world?"
   ]
  },
  {
   "cell_type": "code",
   "execution_count": 7,
   "metadata": {
    "ExecuteTime": {
     "end_time": "2020-03-10T10:23:35.478179Z",
     "start_time": "2020-03-10T10:23:33.456480Z"
    },
    "autoscroll": "auto",
    "options": {
     "caption": false,
     "complete": true,
     "display_data": true,
     "display_stream": true,
     "dpi": 200,
     "echo": true,
     "evaluate": false,
     "f_env": null,
     "f_pos": "htpb",
     "f_size": [
      6,
      4
     ],
     "f_spines": true,
     "fig": true,
     "include": true,
     "name": null,
     "option_string": "evaluate=False",
     "results": "verbatim",
     "term": false,
     "wrap": "output"
    }
   },
   "outputs": [
    {
     "data": {
      "text/plain": [
       "[]"
      ]
     },
     "execution_count": 7,
     "metadata": {},
     "output_type": "execute_result"
    }
   ],
   "source": [
    "Catalog(spark).listTables()\n",
    "# Metabase vide pour l'instant, on ajoute babynames à l'entrée suivante"
   ]
  },
  {
   "cell_type": "code",
   "execution_count": 8,
   "metadata": {
    "ExecuteTime": {
     "end_time": "2020-03-10T10:25:57.907143Z",
     "start_time": "2020-03-10T10:25:57.068603Z"
    }
   },
   "outputs": [
    {
     "data": {
      "text/plain": [
       "[Table(name='babynames', database=None, description=None, tableType='TEMPORARY', isTemporary=True)]"
      ]
     },
     "execution_count": 8,
     "metadata": {},
     "output_type": "execute_result"
    }
   ],
   "source": [
    "# TODO: \n",
    "df_sp.createOrReplaceTempView(\"babynames\")\n",
    "Catalog(spark).listTables()"
   ]
  },
  {
   "cell_type": "markdown",
   "metadata": {
    "format": "text/markdown"
   },
   "source": [
    "\n",
    "## A query is a plain SQL query embodied in a string.\n",
    "\n"
   ]
  },
  {
   "cell_type": "code",
   "execution_count": 22,
   "metadata": {
    "ExecuteTime": {
     "end_time": "2020-03-10T10:46:18.233599Z",
     "start_time": "2020-03-10T10:46:18.223761Z"
    },
    "autoscroll": "auto",
    "options": {
     "caption": false,
     "complete": true,
     "display_data": true,
     "display_stream": true,
     "dpi": 200,
     "echo": true,
     "evaluate": false,
     "f_env": null,
     "f_pos": "htpb",
     "f_size": [
      6,
      4
     ],
     "f_spines": true,
     "fig": true,
     "include": true,
     "name": null,
     "option_string": "evaluate=False",
     "results": "verbatim",
     "term": false,
     "wrap": "output"
    }
   },
   "outputs": [],
   "source": [
    "# Sans séparer les prénoms par genre \\ juste du genre indiqué\n",
    "query = \"\"\"\n",
    "SELECT name, sex, n\n",
    "FROM babynames \n",
    "WHERE year == {0} and sex == {1}\n",
    "ORDER BY n DESC\n",
    "LIMIT 10\"\"\" # 10 premiers"
   ]
  },
  {
   "cell_type": "code",
   "execution_count": 26,
   "metadata": {
    "ExecuteTime": {
     "end_time": "2020-03-10T10:47:58.551920Z",
     "start_time": "2020-03-10T10:47:50.601949Z"
    }
   },
   "outputs": [
    {
     "name": "stdout",
     "output_type": "stream",
     "text": [
      "+-----------+---+-----+\n",
      "|       name|sex|    n|\n",
      "+-----------+---+-----+\n",
      "|      Emily|  F|25953|\n",
      "|     Hannah|  F|23080|\n",
      "|    Madison|  F|19967|\n",
      "|     Ashley|  F|17997|\n",
      "|      Sarah|  F|17697|\n",
      "|     Alexis|  F|17629|\n",
      "|   Samantha|  F|17266|\n",
      "|    Jessica|  F|15709|\n",
      "|  Elizabeth|  F|15094|\n",
      "|     Taylor|  F|15078|\n",
      "|      Jacob|  M|34471|\n",
      "|    Michael|  M|32035|\n",
      "|    Matthew|  M|28572|\n",
      "|     Joshua|  M|27538|\n",
      "|Christopher|  M|24931|\n",
      "|   Nicholas|  M|24652|\n",
      "|     Andrew|  M|23639|\n",
      "|     Joseph|  M|22825|\n",
      "|     Daniel|  M|22312|\n",
      "|      Tyler|  M|21503|\n",
      "+-----------+---+-----+\n",
      "\n"
     ]
    }
   ],
   "source": [
    "spam = spark.sql(query.format(2000, '\\\"F\\\"'))\n",
    "egg = spark.sql(query.format(2000, '\\\"M\\\"'))\n",
    "spam.union(egg).show()"
   ]
  },
  {
   "cell_type": "markdown",
   "metadata": {
    "format": "text/markdown"
   },
   "source": [
    "\n",
    "> This phrasing is not consistent with the DRY principle. Fix this using formatted strings.\n",
    "\n",
    "## Using the dataframe/dataset API\n",
    "\n",
    "This can also be done using Spark SQL API.\n",
    "\n",
    "### Pedestrian approach\n",
    "\n",
    "1. First select `10` most popular names for girls in year `2000`, define `spark` dataframe\n",
    "`top10_2000_f`.\n",
    "1. Does the definition of `top10_2000_f` involve _transformations_, _actions_ or both?\n",
    "1. What is the type of the result returned by `top10_2000_f.take(2)`? the type of elements of the result?\n",
    "\n"
   ]
  },
  {
   "cell_type": "code",
   "execution_count": 16,
   "metadata": {
    "ExecuteTime": {
     "end_time": "2020-03-10T10:40:16.499370Z",
     "start_time": "2020-03-10T10:40:16.331803Z"
    },
    "autoscroll": "auto",
    "options": {
     "caption": false,
     "complete": true,
     "display_data": true,
     "display_stream": true,
     "dpi": 200,
     "echo": true,
     "evaluate": false,
     "f_env": null,
     "f_pos": "htpb",
     "f_size": [
      6,
      4
     ],
     "f_spines": true,
     "fig": true,
     "include": true,
     "name": null,
     "option_string": "evaluate=False",
     "results": "verbatim",
     "term": false,
     "wrap": "output"
    }
   },
   "outputs": [],
   "source": [
    "# top10_2000_f = TODO:\n",
    "top10_2000_f = df_sp.where('sex == \"F\"')\\\n",
    "                    .where('year == 2000')\\\n",
    "                    .orderBy(df_sp.n.desc())\\\n",
    "                    .limit(10)\\"
   ]
  },
  {
   "cell_type": "code",
   "execution_count": 17,
   "metadata": {
    "ExecuteTime": {
     "end_time": "2020-03-10T10:40:50.257308Z",
     "start_time": "2020-03-10T10:40:43.708181Z"
    }
   },
   "outputs": [
    {
     "name": "stdout",
     "output_type": "stream",
     "text": [
      "+---------+-----+---+----+\n",
      "|     name|    n|sex|year|\n",
      "+---------+-----+---+----+\n",
      "|    Emily|25953|  F|2000|\n",
      "|   Hannah|23080|  F|2000|\n",
      "|  Madison|19967|  F|2000|\n",
      "|   Ashley|17997|  F|2000|\n",
      "|    Sarah|17697|  F|2000|\n",
      "|   Alexis|17629|  F|2000|\n",
      "| Samantha|17266|  F|2000|\n",
      "|  Jessica|15709|  F|2000|\n",
      "|Elizabeth|15094|  F|2000|\n",
      "|   Taylor|15078|  F|2000|\n",
      "+---------+-----+---+----+\n",
      "\n"
     ]
    }
   ],
   "source": [
    "top10_2000_f.show()"
   ]
  },
  {
   "cell_type": "markdown",
   "metadata": {
    "format": "text/markdown"
   },
   "source": [
    "\n",
    "1. Do the same thing for boys.\n",
    "\n"
   ]
  },
  {
   "cell_type": "code",
   "execution_count": 18,
   "metadata": {
    "ExecuteTime": {
     "end_time": "2020-03-10T10:41:14.744012Z",
     "start_time": "2020-03-10T10:41:14.659047Z"
    },
    "autoscroll": "auto",
    "options": {
     "caption": false,
     "complete": true,
     "display_data": true,
     "display_stream": true,
     "dpi": 200,
     "echo": true,
     "evaluate": false,
     "f_env": null,
     "f_pos": "htpb",
     "f_size": [
      6,
      4
     ],
     "f_spines": true,
     "fig": true,
     "include": true,
     "name": null,
     "option_string": "evaluate=False",
     "results": "verbatim",
     "term": false,
     "wrap": "output"
    }
   },
   "outputs": [],
   "source": [
    "# top10_2000_m = TODO:\n",
    "top10_2000_m = df_sp.where('sex == \"M\"')\\\n",
    "                    .where('year == 2000')\\\n",
    "                    .orderBy(df_sp.n.desc())\\\n",
    "                    .limit(10)\\"
   ]
  },
  {
   "cell_type": "code",
   "execution_count": 19,
   "metadata": {
    "ExecuteTime": {
     "end_time": "2020-03-10T10:41:28.776271Z",
     "start_time": "2020-03-10T10:41:24.473582Z"
    }
   },
   "outputs": [
    {
     "name": "stdout",
     "output_type": "stream",
     "text": [
      "+-----------+-----+---+----+\n",
      "|       name|    n|sex|year|\n",
      "+-----------+-----+---+----+\n",
      "|      Jacob|34471|  M|2000|\n",
      "|    Michael|32035|  M|2000|\n",
      "|    Matthew|28572|  M|2000|\n",
      "|     Joshua|27538|  M|2000|\n",
      "|Christopher|24931|  M|2000|\n",
      "|   Nicholas|24652|  M|2000|\n",
      "|     Andrew|23639|  M|2000|\n",
      "|     Joseph|22825|  M|2000|\n",
      "|     Daniel|22312|  M|2000|\n",
      "|      Tyler|21503|  M|2000|\n",
      "+-----------+-----+---+----+\n",
      "\n"
     ]
    }
   ],
   "source": [
    "top10_2000_m.show()"
   ]
  },
  {
   "cell_type": "markdown",
   "metadata": {
    "format": "text/markdown"
   },
   "source": [
    "\n",
    "1. Compute the _union_ of the two spark dataframes. Store the result in\n",
    "dataframe `top10_2000`\n",
    "\n"
   ]
  },
  {
   "cell_type": "code",
   "execution_count": 20,
   "metadata": {
    "ExecuteTime": {
     "end_time": "2020-03-10T10:42:12.345698Z",
     "start_time": "2020-03-10T10:42:12.198001Z"
    },
    "autoscroll": "auto",
    "options": {
     "caption": false,
     "complete": true,
     "display_data": true,
     "display_stream": true,
     "dpi": 200,
     "echo": true,
     "evaluate": false,
     "f_env": null,
     "f_pos": "htpb",
     "f_size": [
      6,
      4
     ],
     "f_spines": true,
     "fig": true,
     "include": true,
     "name": null,
     "option_string": "evaluate=False",
     "results": "verbatim",
     "term": false,
     "wrap": "output"
    }
   },
   "outputs": [],
   "source": [
    "# top10_2000 = TODO:\n",
    "top10_2000 = top10_2000_f.union(top10_2000_m)"
   ]
  },
  {
   "cell_type": "code",
   "execution_count": 21,
   "metadata": {
    "ExecuteTime": {
     "end_time": "2020-03-10T10:42:30.333857Z",
     "start_time": "2020-03-10T10:42:22.398521Z"
    }
   },
   "outputs": [
    {
     "name": "stdout",
     "output_type": "stream",
     "text": [
      "+-----------+-----+---+----+\n",
      "|       name|    n|sex|year|\n",
      "+-----------+-----+---+----+\n",
      "|      Emily|25953|  F|2000|\n",
      "|     Hannah|23080|  F|2000|\n",
      "|    Madison|19967|  F|2000|\n",
      "|     Ashley|17997|  F|2000|\n",
      "|      Sarah|17697|  F|2000|\n",
      "|     Alexis|17629|  F|2000|\n",
      "|   Samantha|17266|  F|2000|\n",
      "|    Jessica|15709|  F|2000|\n",
      "|  Elizabeth|15094|  F|2000|\n",
      "|     Taylor|15078|  F|2000|\n",
      "|      Jacob|34471|  M|2000|\n",
      "|    Michael|32035|  M|2000|\n",
      "|    Matthew|28572|  M|2000|\n",
      "|     Joshua|27538|  M|2000|\n",
      "|Christopher|24931|  M|2000|\n",
      "|   Nicholas|24652|  M|2000|\n",
      "|     Andrew|23639|  M|2000|\n",
      "|     Joseph|22825|  M|2000|\n",
      "|     Daniel|22312|  M|2000|\n",
      "|      Tyler|21503|  M|2000|\n",
      "+-----------+-----+---+----+\n",
      "\n"
     ]
    }
   ],
   "source": [
    "top10_2000.show()"
   ]
  },
  {
   "cell_type": "markdown",
   "metadata": {
    "format": "text/markdown"
   },
   "source": [
    "\n",
    "### Do it again, complying  with DRY principle\n",
    "\n"
   ]
  },
  {
   "cell_type": "code",
   "execution_count": null,
   "metadata": {
    "ExecuteTime": {
     "end_time": "2020-03-09T13:24:57.142207Z",
     "start_time": "2020-03-09T13:24:57.139678Z"
    },
    "autoscroll": "auto",
    "options": {
     "caption": false,
     "complete": true,
     "display_data": true,
     "display_stream": true,
     "dpi": 200,
     "echo": true,
     "evaluate": false,
     "f_env": null,
     "f_pos": "htpb",
     "f_size": [
      6,
      4
     ],
     "f_spines": true,
     "fig": true,
     "include": true,
     "name": null,
     "option_string": "evaluate=False",
     "results": "verbatim",
     "term": false,
     "wrap": "output"
    }
   },
   "outputs": [],
   "source": [
    "# DRY -> ne pas se répéter\n",
    "# TODO:\n"
   ]
  },
  {
   "cell_type": "markdown",
   "metadata": {
    "format": "text/markdown"
   },
   "source": [
    "\n",
    "\n",
    "Name portfolio through ages\n",
    "===========================\n",
    "\n",
    "1. Compute for each year and sex the number of distinct names given that year.\n",
    "\n"
   ]
  },
  {
   "cell_type": "code",
   "execution_count": 30,
   "metadata": {
    "ExecuteTime": {
     "end_time": "2020-03-10T11:00:38.296401Z",
     "start_time": "2020-03-10T11:00:38.289726Z"
    },
    "autoscroll": "auto",
    "options": {
     "caption": false,
     "complete": true,
     "display_data": true,
     "display_stream": true,
     "dpi": 200,
     "echo": true,
     "evaluate": false,
     "f_env": null,
     "f_pos": "htpb",
     "f_size": [
      6,
      4
     ],
     "f_spines": true,
     "fig": true,
     "include": true,
     "name": null,
     "option_string": "evaluate=False",
     "results": "verbatim",
     "term": false,
     "wrap": "output"
    }
   },
   "outputs": [],
   "source": [
    "# nb_names_year_sex = TODO: \n",
    "# En SQL\n",
    "query_portfolio = \"\"\"\n",
    "SELECT year, sex, COUNT(name) AS n_distinct\n",
    "FROM babynames\n",
    "GROUP BY year, sex\n",
    "ORDER BY year, sex\n",
    "\"\"\""
   ]
  },
  {
   "cell_type": "code",
   "execution_count": 31,
   "metadata": {
    "ExecuteTime": {
     "end_time": "2020-03-10T11:00:49.674277Z",
     "start_time": "2020-03-10T11:00:39.162852Z"
    }
   },
   "outputs": [
    {
     "name": "stdout",
     "output_type": "stream",
     "text": [
      "+----+---+----------+\n",
      "|year|sex|n_distinct|\n",
      "+----+---+----------+\n",
      "|1880|  F|       942|\n",
      "|1880|  M|      1058|\n",
      "|1881|  F|       938|\n",
      "|1881|  M|       997|\n",
      "|1882|  F|      1028|\n",
      "+----+---+----------+\n",
      "only showing top 5 rows\n",
      "\n"
     ]
    }
   ],
   "source": [
    "spark.sql(query_portfolio).show(5)"
   ]
  },
  {
   "cell_type": "code",
   "execution_count": 38,
   "metadata": {
    "ExecuteTime": {
     "end_time": "2020-03-10T11:03:06.625904Z",
     "start_time": "2020-03-10T11:03:00.463849Z"
    }
   },
   "outputs": [
    {
     "name": "stdout",
     "output_type": "stream",
     "text": [
      "+----+---+----------+\n",
      "|year|sex|n_distinct|\n",
      "+----+---+----------+\n",
      "|1880|  F|       942|\n",
      "|1880|  M|      1058|\n",
      "|1881|  F|       938|\n",
      "|1881|  M|       997|\n",
      "|1882|  F|      1028|\n",
      "+----+---+----------+\n",
      "only showing top 5 rows\n",
      "\n"
     ]
    }
   ],
   "source": [
    "# En spark\n",
    "df_sp.groupBy(col(\"year\"), col(\"sex\"))\\\n",
    "     .agg(fn.count(col(\"name\")).alias(\"n_distinct\"))\\\n",
    "     .orderBy(col(\"year\"), col(\"sex\")).show(5)"
   ]
  },
  {
   "cell_type": "code",
   "execution_count": 43,
   "metadata": {
    "ExecuteTime": {
     "end_time": "2020-03-10T11:07:26.843367Z",
     "start_time": "2020-03-10T11:07:26.803041Z"
    }
   },
   "outputs": [],
   "source": [
    "nb_names_year_sex = df_sp.groupBy([df_sp.year, df_sp.sex])\\\n",
    "                         .count()"
   ]
  },
  {
   "cell_type": "code",
   "execution_count": 44,
   "metadata": {
    "ExecuteTime": {
     "end_time": "2020-03-10T11:07:33.445326Z",
     "start_time": "2020-03-10T11:07:28.086008Z"
    }
   },
   "outputs": [
    {
     "name": "stdout",
     "output_type": "stream",
     "text": [
      "+----+---+-----+\n",
      "|year|sex|count|\n",
      "+----+---+-----+\n",
      "|1880|  F|  942|\n",
      "|1880|  M| 1058|\n",
      "|1881|  F|  938|\n",
      "|1881|  M|  997|\n",
      "|1882|  F| 1028|\n",
      "+----+---+-----+\n",
      "only showing top 5 rows\n",
      "\n"
     ]
    }
   ],
   "source": [
    "nb_names_year_sex.orderBy(col(\"year\"), col(\"sex\")).show(5)"
   ]
  },
  {
   "cell_type": "markdown",
   "metadata": {
    "format": "text/markdown"
   },
   "source": [
    "\n",
    "1. Plot the evolution of the number of distinct names as a function of `year`.\n",
    "Use some aesthetics to distinguish sexes.\n",
    "\n",
    "\n"
   ]
  },
  {
   "cell_type": "code",
   "execution_count": 50,
   "metadata": {
    "ExecuteTime": {
     "end_time": "2020-03-10T11:15:49.875975Z",
     "start_time": "2020-03-10T11:15:47.633845Z"
    },
    "autoscroll": "auto",
    "options": {
     "caption": false,
     "complete": true,
     "display_data": true,
     "display_stream": true,
     "dpi": 200,
     "echo": true,
     "evaluate": false,
     "f_env": null,
     "f_pos": "htpb",
     "f_size": [
      6,
      4
     ],
     "f_spines": true,
     "fig": true,
     "include": true,
     "name": null,
     "option_string": "evaluate=False",
     "results": "verbatim",
     "term": false,
     "wrap": "output"
    }
   },
   "outputs": [
    {
     "data": {
      "image/png": "[encoded data removed]",
      "text/plain": [
       "<Figure size 432x288 with 1 Axes>"
      ]
     },
     "metadata": {},
     "output_type": "display_data"
    }
   ],
   "source": [
    "# TODO:\n",
    "nb_names_year_sex_pd = nb_names_year_sex.toPandas()\n",
    "\n",
    "sns.set()\n",
    "q = sns.lineplot(x = \"year\",\n",
    "                 y = \"count\",\n",
    "                 hue = \"sex\",\n",
    "                 style = \"sex\",\n",
    "                 data = nb_names_year_sex_pd)\n",
    "\n",
    "q.set_title(\"Number of distinct names with more than 5 occurrences\")\n",
    "plt.ylabel(\"Number of distinct given names\") # mettre en millier ?\n",
    "plt.show(q)"
   ]
  },
  {
   "cell_type": "markdown",
   "metadata": {
    "format": "text/markdown"
   },
   "source": [
    "\n",
    "\n",
    "Assessing popularity through time\n",
    "=================================\n",
    "\n",
    "1. For each year and sex, compute the total number of births\n",
    "1. Plot the evolution of the sex ratio over time\n",
    "1. For each year, sex, and name compute the percentage of newborns\n",
    "given that name for that given year.\n",
    "\n",
    "\n",
    "> Use `Window` functions.\n",
    "\n"
   ]
  },
  {
   "cell_type": "code",
   "execution_count": null,
   "metadata": {
    "ExecuteTime": {
     "end_time": "2020-03-09T13:24:59.635054Z",
     "start_time": "2020-03-09T13:24:59.632434Z"
    },
    "autoscroll": "auto",
    "options": {
     "caption": false,
     "complete": true,
     "display_data": true,
     "display_stream": true,
     "dpi": 200,
     "echo": true,
     "evaluate": false,
     "f_env": null,
     "f_pos": "htpb",
     "f_size": [
      6,
      4
     ],
     "f_spines": true,
     "fig": true,
     "include": true,
     "name": null,
     "option_string": "evaluate=False",
     "results": "verbatim",
     "term": false,
     "wrap": "output"
    }
   },
   "outputs": [],
   "source": [
    "# TODO:"
   ]
  },
  {
   "cell_type": "markdown",
   "metadata": {
    "format": "text/markdown"
   },
   "source": [
    "\n",
    "\n"
   ]
  },
  {
   "cell_type": "code",
   "execution_count": 54,
   "metadata": {
    "ExecuteTime": {
     "end_time": "2020-03-10T11:22:51.495832Z",
     "start_time": "2020-03-10T11:22:51.382239Z"
    },
    "autoscroll": "auto",
    "options": {
     "caption": false,
     "complete": true,
     "display_data": true,
     "display_stream": true,
     "dpi": 200,
     "echo": true,
     "evaluate": false,
     "f_env": null,
     "f_pos": "htpb",
     "f_size": [
      6,
      4
     ],
     "f_spines": true,
     "fig": true,
     "include": true,
     "name": null,
     "option_string": "evaluate=False",
     "results": "verbatim",
     "term": false,
     "wrap": "output"
    }
   },
   "outputs": [],
   "source": [
    "# %%\n",
    "# TODO: plot sex ratio\n",
    "df_sex_ratio = df_sp.groupBy(col(\"year\"), col(\"sex\"))\\\n",
    "                    .agg(fn.sum(col(\"n\")).alias(\"total\"))\\\n",
    "                    .orderBy(col(\"year\"), col(\"sex\"))\n",
    "# %%\n",
    "# SQL\n",
    "\"\"\"\n",
    "WITH filles AS (SELECT year, total FROM df_sex_ratio WHERE sex ='F')\n",
    "     garçons AS (SELECT year, total FROM df_sex_ratio WHERE sex ='M')\n",
    "SELECT year, garçons.total/filles.total as sex.ratio\n",
    "FROM garçons JOIN filles ON (year)\n",
    "\"\"\"\n"
   ]
  },
  {
   "cell_type": "code",
   "execution_count": 61,
   "metadata": {
    "ExecuteTime": {
     "end_time": "2020-03-10T11:33:04.807646Z",
     "start_time": "2020-03-10T11:32:38.572488Z"
    }
   },
   "outputs": [
    {
     "name": "stdout",
     "output_type": "stream",
     "text": [
      "+----+-------+-------+---------+\n",
      "|year|      F|      M|sex_ratio|\n",
      "+----+-------+-------+---------+\n",
      "|1959|2023092|2133342|     1.05|\n",
      "|1896| 237918| 119567|      0.5|\n",
      "|1990|1898046|2052946|     1.08|\n",
      "|1903| 261971| 119233|     0.46|\n",
      "|1884| 129020| 114442|     0.89|\n",
      "+----+-------+-------+---------+\n",
      "only showing top 5 rows\n",
      "\n"
     ]
    }
   ],
   "source": [
    "# Autre possibilité : pivot\n",
    "# pivot.groupBy(\"year\").pivot(\"sex\").withcolumn(\"sex_ratio\")\n",
    "df_sex_ratio.groupBy(\"year\")\\\n",
    "  .pivot(\"sex\")\\\n",
    "  .sum(\"total\")\\\n",
    "  .withColumn(\"sex_ratio\", fn.round(col(\"M\")/col(\"F\"), 2))\\\n",
    "  .show(5)"
   ]
  },
  {
   "cell_type": "code",
   "execution_count": 55,
   "metadata": {
    "ExecuteTime": {
     "end_time": "2020-03-10T11:22:58.399894Z",
     "start_time": "2020-03-10T11:22:51.875338Z"
    }
   },
   "outputs": [
    {
     "name": "stdout",
     "output_type": "stream",
     "text": [
      "+----+---+------+\n",
      "|year|sex| total|\n",
      "+----+---+------+\n",
      "|1880|  F| 90993|\n",
      "|1880|  M|110491|\n",
      "|1881|  F| 91953|\n",
      "|1881|  M|100743|\n",
      "|1882|  F|107847|\n",
      "+----+---+------+\n",
      "only showing top 5 rows\n",
      "\n"
     ]
    }
   ],
   "source": [
    "df_sex_ratio.show(5)"
   ]
  },
  {
   "cell_type": "markdown",
   "metadata": {
    "format": "text/markdown"
   },
   "source": [
    "\n",
    "1. Compute for each year, sex and name  the `row_number`, `rank`, and `dense_rank`\n",
    "of the name within that year and sex category, when names are sorted by increasing popularity.\n",
    "\n"
   ]
  },
  {
   "cell_type": "code",
   "execution_count": null,
   "metadata": {
    "ExecuteTime": {
     "end_time": "2020-03-09T13:25:00.180831Z",
     "start_time": "2020-03-09T13:25:00.177889Z"
    },
    "autoscroll": "auto",
    "options": {
     "caption": false,
     "complete": true,
     "display_data": true,
     "display_stream": true,
     "dpi": 200,
     "echo": true,
     "evaluate": false,
     "f_env": null,
     "f_pos": "htpb",
     "f_size": [
      6,
      4
     ],
     "f_spines": true,
     "fig": true,
     "include": true,
     "name": null,
     "option_string": "evaluate=False",
     "results": "verbatim",
     "term": false,
     "wrap": "output"
    }
   },
   "outputs": [],
   "source": [
    "# TODO:"
   ]
  },
  {
   "cell_type": "markdown",
   "metadata": {
    "format": "text/markdown"
   },
   "source": [
    "\n",
    "\n",
    "\n",
    "Evolution of top popular names through the century\n",
    "==================================================\n",
    "\n",
    "\n",
    "1. For each sex, select the ten most popular names in year 2000, and plot the proportion\n",
    "of newborns given that name over time. Take into account that some names might have\n",
    "zero occurrence during certain years.\n",
    "\n"
   ]
  },
  {
   "cell_type": "code",
   "execution_count": null,
   "metadata": {
    "ExecuteTime": {
     "end_time": "2020-03-09T13:25:00.429980Z",
     "start_time": "2020-03-09T13:25:00.427263Z"
    },
    "autoscroll": "auto",
    "options": {
     "caption": false,
     "complete": true,
     "display_data": true,
     "display_stream": true,
     "dpi": 200,
     "echo": true,
     "evaluate": false,
     "f_env": null,
     "f_pos": "htpb",
     "f_size": [
      6,
      4
     ],
     "f_spines": true,
     "fig": true,
     "include": true,
     "name": null,
     "option_string": "evaluate=False",
     "results": "verbatim",
     "term": false,
     "wrap": "output"
    }
   },
   "outputs": [],
   "source": [
    "# TODO:"
   ]
  },
  {
   "cell_type": "markdown",
   "metadata": {
    "format": "text/markdown"
   },
   "source": [
    "\n",
    "1. Use `explain()` to determine the joining strategy used by spark.\n",
    "\n",
    "\n",
    "Plot  the popularity of each of the top ten achievers from year 2000 with respect to time\n",
    "==================================================================================\n",
    "\n",
    "\n"
   ]
  },
  {
   "cell_type": "code",
   "execution_count": null,
   "metadata": {
    "ExecuteTime": {
     "end_time": "2020-03-09T13:25:00.680650Z",
     "start_time": "2020-03-09T13:25:00.677469Z"
    },
    "autoscroll": "auto",
    "options": {
     "caption": false,
     "complete": true,
     "display_data": true,
     "display_stream": true,
     "dpi": 200,
     "echo": true,
     "evaluate": false,
     "f_env": null,
     "f_pos": "htpb",
     "f_size": [
      6,
      4
     ],
     "f_spines": true,
     "fig": true,
     "include": true,
     "name": null,
     "option_string": "evaluate=False",
     "results": "verbatim",
     "term": false,
     "wrap": "output"
    }
   },
   "outputs": [],
   "source": [
    "# %%\n",
    "# TODO:\n",
    "# %%"
   ]
  },
  {
   "cell_type": "markdown",
   "metadata": {
    "format": "text/markdown"
   },
   "source": [
    "\n",
    "\n",
    "Plot the total popularity of the top ten achievers from year 2000 with respect to time\n",
    "==================================================================================\n",
    "\n",
    "\n"
   ]
  },
  {
   "cell_type": "code",
   "execution_count": null,
   "metadata": {
    "ExecuteTime": {
     "end_time": "2020-03-09T13:25:00.924571Z",
     "start_time": "2020-03-09T13:25:00.917339Z"
    },
    "autoscroll": "auto",
    "options": {
     "caption": false,
     "complete": true,
     "display_data": true,
     "display_stream": true,
     "dpi": 200,
     "echo": true,
     "evaluate": false,
     "f_env": null,
     "f_pos": "htpb",
     "f_size": [
      6,
      4
     ],
     "f_spines": true,
     "fig": true,
     "include": true,
     "name": null,
     "option_string": "evaluate=False",
     "results": "verbatim",
     "term": false,
     "wrap": "output"
    }
   },
   "outputs": [],
   "source": [
    "# %%\n",
    "# TODO:\n",
    "# %%"
   ]
  },
  {
   "cell_type": "markdown",
   "metadata": {
    "format": "text/markdown"
   },
   "source": [
    "\n",
    "\n",
    "Plot lorenz curves\n",
    "=====================\n",
    "\n",
    "Every year, the name counts define a discrete probability distribution.\n",
    "This distribution, just as income or wealth distribution,\n",
    "is (usually) far from being uniform. We want to assess how uneven it is.\n",
    "We use the tools developed in econometrics.\n",
    "\n",
    "Without loss of generality, that we handle a distribution over $1, \\ldots, n$\n",
    "where $n$ is the number of distinct names given during a year.\n",
    "We assume that frequencies $p_1, p_2, \\ldots, p_n$ are given in ascending order.\n",
    "\n",
    "The Lorenz function maps $[0, 1] \\to [0, 1]$.\n",
    "$$L(x) = \\sum_{i=1}^{\\lfloor nx \\rfloor} p_i$$.\n",
    "\n",
    "1. Design a query that adds a column \"lorenz\" to the dataframe , and for each\n",
    "row computes the value of the Lorenz function defined by `year`  and `sex`.\n",
    "\n",
    "\n"
   ]
  },
  {
   "cell_type": "code",
   "execution_count": null,
   "metadata": {
    "ExecuteTime": {
     "end_time": "2020-03-09T13:25:01.172487Z",
     "start_time": "2020-03-09T13:25:01.169864Z"
    },
    "autoscroll": "auto",
    "options": {
     "caption": false,
     "complete": true,
     "display_data": true,
     "display_stream": true,
     "dpi": 200,
     "echo": true,
     "evaluate": false,
     "f_env": null,
     "f_pos": "htpb",
     "f_size": [
      6,
      4
     ],
     "f_spines": true,
     "fig": true,
     "include": true,
     "name": null,
     "option_string": "evaluate=False",
     "results": "verbatim",
     "term": false,
     "wrap": "output"
    }
   },
   "outputs": [],
   "source": [
    "# TODO:"
   ]
  },
  {
   "cell_type": "markdown",
   "metadata": {
    "format": "text/markdown"
   },
   "source": [
    "\n",
    "\n",
    "1. Design a function that takes as input a `year` and plots the Lorenz curve\n",
    "for that year for both sexes.\n",
    "\n"
   ]
  },
  {
   "cell_type": "code",
   "execution_count": null,
   "metadata": {
    "ExecuteTime": {
     "end_time": "2020-03-09T13:25:01.435478Z",
     "start_time": "2020-03-09T13:25:01.432499Z"
    },
    "autoscroll": "auto",
    "options": {
     "caption": false,
     "complete": true,
     "display_data": true,
     "display_stream": true,
     "dpi": 200,
     "echo": true,
     "evaluate": false,
     "f_env": null,
     "f_pos": "htpb",
     "f_size": [
      6,
      4
     ],
     "f_spines": true,
     "fig": true,
     "include": true,
     "name": null,
     "option_string": "evaluate=False",
     "results": "verbatim",
     "term": false,
     "wrap": "output"
    }
   },
   "outputs": [],
   "source": [
    "# %%\n",
    "# TODO:\n",
    "# %%"
   ]
  },
  {
   "cell_type": "markdown",
   "metadata": {
    "format": "text/markdown"
   },
   "source": [
    "\n",
    "Gini index\n",
    "==========\n",
    "\n",
    "The [Gini index](https://en.wikipedia.org/wiki/Gini_coefficient) is twice the surface of the area comprised between curves $y=x$\n",
    "and $y=L(x)$.\n",
    "\n",
    "Choose a formula that allows you to compute it efficiently.\n",
    "\n",
    "$$G={\\frac {2\\sum _{i=1}^{n}iy_{i}}{n\\sum _{i=1}^{n}y_{i}}}-{\\frac {n+1}{n}}.$$\n",
    "\n",
    "1. Design a query that computes the Gini index of the `babynames` distribution\n",
    "for every `year` and `sex`.\n",
    "\n",
    "1. Plot Gini index over time\n",
    "\n",
    "\n"
   ]
  },
  {
   "cell_type": "code",
   "execution_count": null,
   "metadata": {
    "ExecuteTime": {
     "end_time": "2020-03-09T13:25:01.689514Z",
     "start_time": "2020-03-09T13:25:01.686509Z"
    },
    "autoscroll": "auto",
    "options": {
     "caption": false,
     "complete": true,
     "display_data": true,
     "display_stream": true,
     "dpi": 200,
     "echo": true,
     "evaluate": false,
     "f_env": null,
     "f_pos": "htpb",
     "f_size": [
      6,
      4
     ],
     "f_spines": true,
     "fig": true,
     "include": true,
     "name": null,
     "option_string": "evaluate=False",
     "results": "verbatim",
     "term": false,
     "wrap": "output"
    }
   },
   "outputs": [],
   "source": [
    "# TODO:"
   ]
  },
  {
   "cell_type": "markdown",
   "metadata": {
    "format": "text/markdown"
   },
   "source": [
    "\n",
    "\n"
   ]
  },
  {
   "cell_type": "code",
   "execution_count": null,
   "metadata": {
    "ExecuteTime": {
     "end_time": "2020-03-09T13:25:01.959724Z",
     "start_time": "2020-03-09T13:25:01.957043Z"
    },
    "autoscroll": "auto",
    "options": {
     "caption": false,
     "complete": true,
     "display_data": true,
     "display_stream": true,
     "dpi": 200,
     "echo": true,
     "evaluate": false,
     "f_env": null,
     "f_pos": "htpb",
     "f_size": [
      6,
      4
     ],
     "f_spines": true,
     "fig": true,
     "include": true,
     "name": null,
     "option_string": "evaluate=False",
     "results": "verbatim",
     "term": false,
     "wrap": "output"
    }
   },
   "outputs": [],
   "source": [
    "# %%\n",
    "# TODO:\n",
    "# %%"
   ]
  },
  {
   "cell_type": "markdown",
   "metadata": {
    "format": "text/markdown"
   },
   "source": [
    "\n",
    "\n",
    "\n",
    "Close the door, leave work area clean\n",
    "=====================================\n"
   ]
  },
  {
   "cell_type": "code",
   "execution_count": null,
   "metadata": {
    "ExecuteTime": {
     "end_time": "2020-03-09T13:25:02.615664Z",
     "start_time": "2020-03-09T13:25:02.216564Z"
    }
   },
   "outputs": [],
   "source": [
    "spark.stop()"
   ]
  }
 ],
 "metadata": {
  "kernel_info": {
   "name": "python3"
  },
  "kernelspec": {
   "display_name": "Python 3",
   "language": "python",
   "name": "python3"
  },
  "language_info": {
   "codemirror_mode": {
    "name": "ipython",
    "version": 3
   },
   "file_extension": ".py",
   "mimetype": "text/x-python",
   "name": "python",
   "nbconvert_exporter": "python",
   "pygments_lexer": "ipython3",
   "version": "3.7.5"
  },
  "toc": {
   "base_numbering": 1,
   "nav_menu": {},
   "number_sections": true,
   "sideBar": true,
   "skip_h1_title": false,
   "title_cell": "Table of Contents",
   "title_sidebar": "Contents",
   "toc_cell": false,
   "toc_position": {},
   "toc_section_display": true,
   "toc_window_display": true
  }
 },
 "nbformat": 4,
 "nbformat_minor": 1
}
