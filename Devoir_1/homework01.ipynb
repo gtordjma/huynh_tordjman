{
 "cells": [
  {
   "cell_type": "markdown",
   "metadata": {
    "slideshow": {
     "slide_type": "slide"
    }
   },
   "source": [
    "# The `Titanic` dataset\n",
    "\n",
    "Go to the following `kaggle` webpage [https://www.kaggle.com/c/titanic/data](https://www.kaggle.com/c/titanic/data)\n",
    "\n",
    "If you don't have a `kaggle` account, create one.\n",
    "\n",
    "Download the `train.csv` dataset.\n",
    "\n",
    "Answer the following questions using the libraries `pandas`, `seaborn` and/or any other library that you like.\n",
    "We expect you to produce **nice looking plots**, at least **readable** and perform the required computations\n",
    " as concisely as possible using the `pandas` API. This is the way we will evaluate this homework.\n",
    "\n",
    "Before boarding on the homework, import (install them if needed)\n",
    "the next modules.\n",
    "\n",
    "\n"
   ]
  },
  {
   "cell_type": "code",
   "execution_count": 125,
   "metadata": {
    "ExecuteTime": {
     "end_time": "2020-02-23T21:34:33.797136Z",
     "start_time": "2020-02-23T21:34:33.777515Z"
    },
    "autoscroll": "auto",
    "options": {
     "caption": false,
     "complete": true,
     "display_data": true,
     "display_stream": true,
     "dpi": 200,
     "echo": true,
     "evaluate": false,
     "f_env": null,
     "f_pos": "htpb",
     "f_size": [
      6,
      4
     ],
     "f_spines": true,
     "fig": true,
     "include": true,
     "name": null,
     "option_string": "evaluate=False",
     "results": "verbatim",
     "term": false,
     "wrap": "output"
    },
    "slideshow": {
     "slide_type": "subslide"
    }
   },
   "outputs": [],
   "source": [
    "import numpy as np\n",
    "import pandas as pd\n",
    "\n",
    "%matplotlib inline\n",
    "import matplotlib.pyplot as plt\n",
    "import seaborn as sns\n",
    "#import pdpipe as pdp\n",
    "\n",
    "import requests\n",
    "\n",
    "import re\n",
    "import os\n",
    "from collections import namedtuple\n",
    "from collections import abc\n",
    "from statsmodels.graphics.mosaicplot import mosaic\n",
    "\n",
    "sns.set_context(\"notebook\", font_scale=1.2)"
   ]
  },
  {
   "cell_type": "markdown",
   "metadata": {
    "slideshow": {
     "slide_type": "slide"
    }
   },
   "source": [
    "The first thing to do is to read the description of\n",
    "the columns and understand what the dataset is about and what it contains.\n",
    "\n",
    "## Question : inspecting a DataFrame\n",
    "\n",
    "Open the dataframe with `pandas`, check the first lines of the dataset\n",
    "\n",
    "### Answer"
   ]
  },
  {
   "cell_type": "code",
   "execution_count": 126,
   "metadata": {
    "ExecuteTime": {
     "end_time": "2020-02-23T21:34:34.831693Z",
     "start_time": "2020-02-23T21:34:34.781116Z"
    },
    "autoscroll": "auto",
    "options": {
     "caption": false,
     "complete": true,
     "display_data": true,
     "display_stream": true,
     "dpi": 200,
     "echo": true,
     "evaluate": false,
     "f_env": null,
     "f_pos": "htpb",
     "f_size": [
      6,
      4
     ],
     "f_spines": true,
     "fig": true,
     "include": true,
     "name": null,
     "option_string": "evaluate=False",
     "results": "verbatim",
     "term": false,
     "wrap": "output"
    },
    "slideshow": {
     "slide_type": "subslide"
    }
   },
   "outputs": [
    {
     "data": {
      "text/html": [
       "<div>\n",
       "<style scoped>\n",
       "    .dataframe tbody tr th:only-of-type {\n",
       "        vertical-align: middle;\n",
       "    }\n",
       "\n",
       "    .dataframe tbody tr th {\n",
       "        vertical-align: top;\n",
       "    }\n",
       "\n",
       "    .dataframe thead th {\n",
       "        text-align: right;\n",
       "    }\n",
       "</style>\n",
       "<table border=\"1\" class=\"dataframe\">\n",
       "  <thead>\n",
       "    <tr style=\"text-align: right;\">\n",
       "      <th></th>\n",
       "      <th>PassengerId</th>\n",
       "      <th>Survived</th>\n",
       "      <th>Pclass</th>\n",
       "      <th>Name</th>\n",
       "      <th>Sex</th>\n",
       "      <th>Age</th>\n",
       "      <th>SibSp</th>\n",
       "      <th>Parch</th>\n",
       "      <th>Ticket</th>\n",
       "      <th>Fare</th>\n",
       "      <th>Cabin</th>\n",
       "      <th>Embarked</th>\n",
       "    </tr>\n",
       "  </thead>\n",
       "  <tbody>\n",
       "    <tr>\n",
       "      <td>0</td>\n",
       "      <td>1</td>\n",
       "      <td>0</td>\n",
       "      <td>3</td>\n",
       "      <td>Braund, Mr. Owen Harris</td>\n",
       "      <td>male</td>\n",
       "      <td>22.0</td>\n",
       "      <td>1</td>\n",
       "      <td>0</td>\n",
       "      <td>A/5 21171</td>\n",
       "      <td>7.2500</td>\n",
       "      <td>NaN</td>\n",
       "      <td>S</td>\n",
       "    </tr>\n",
       "    <tr>\n",
       "      <td>1</td>\n",
       "      <td>2</td>\n",
       "      <td>1</td>\n",
       "      <td>1</td>\n",
       "      <td>Cumings, Mrs. John Bradley (Florence Briggs Th...</td>\n",
       "      <td>female</td>\n",
       "      <td>38.0</td>\n",
       "      <td>1</td>\n",
       "      <td>0</td>\n",
       "      <td>PC 17599</td>\n",
       "      <td>71.2833</td>\n",
       "      <td>C85</td>\n",
       "      <td>C</td>\n",
       "    </tr>\n",
       "    <tr>\n",
       "      <td>2</td>\n",
       "      <td>3</td>\n",
       "      <td>1</td>\n",
       "      <td>3</td>\n",
       "      <td>Heikkinen, Miss. Laina</td>\n",
       "      <td>female</td>\n",
       "      <td>26.0</td>\n",
       "      <td>0</td>\n",
       "      <td>0</td>\n",
       "      <td>STON/O2. 3101282</td>\n",
       "      <td>7.9250</td>\n",
       "      <td>NaN</td>\n",
       "      <td>S</td>\n",
       "    </tr>\n",
       "    <tr>\n",
       "      <td>3</td>\n",
       "      <td>4</td>\n",
       "      <td>1</td>\n",
       "      <td>1</td>\n",
       "      <td>Futrelle, Mrs. Jacques Heath (Lily May Peel)</td>\n",
       "      <td>female</td>\n",
       "      <td>35.0</td>\n",
       "      <td>1</td>\n",
       "      <td>0</td>\n",
       "      <td>113803</td>\n",
       "      <td>53.1000</td>\n",
       "      <td>C123</td>\n",
       "      <td>S</td>\n",
       "    </tr>\n",
       "    <tr>\n",
       "      <td>4</td>\n",
       "      <td>5</td>\n",
       "      <td>0</td>\n",
       "      <td>3</td>\n",
       "      <td>Allen, Mr. William Henry</td>\n",
       "      <td>male</td>\n",
       "      <td>35.0</td>\n",
       "      <td>0</td>\n",
       "      <td>0</td>\n",
       "      <td>373450</td>\n",
       "      <td>8.0500</td>\n",
       "      <td>NaN</td>\n",
       "      <td>S</td>\n",
       "    </tr>\n",
       "    <tr>\n",
       "      <td>5</td>\n",
       "      <td>6</td>\n",
       "      <td>0</td>\n",
       "      <td>3</td>\n",
       "      <td>Moran, Mr. James</td>\n",
       "      <td>male</td>\n",
       "      <td>NaN</td>\n",
       "      <td>0</td>\n",
       "      <td>0</td>\n",
       "      <td>330877</td>\n",
       "      <td>8.4583</td>\n",
       "      <td>NaN</td>\n",
       "      <td>Q</td>\n",
       "    </tr>\n",
       "    <tr>\n",
       "      <td>6</td>\n",
       "      <td>7</td>\n",
       "      <td>0</td>\n",
       "      <td>1</td>\n",
       "      <td>McCarthy, Mr. Timothy J</td>\n",
       "      <td>male</td>\n",
       "      <td>54.0</td>\n",
       "      <td>0</td>\n",
       "      <td>0</td>\n",
       "      <td>17463</td>\n",
       "      <td>51.8625</td>\n",
       "      <td>E46</td>\n",
       "      <td>S</td>\n",
       "    </tr>\n",
       "    <tr>\n",
       "      <td>7</td>\n",
       "      <td>8</td>\n",
       "      <td>0</td>\n",
       "      <td>3</td>\n",
       "      <td>Palsson, Master. Gosta Leonard</td>\n",
       "      <td>male</td>\n",
       "      <td>2.0</td>\n",
       "      <td>3</td>\n",
       "      <td>1</td>\n",
       "      <td>349909</td>\n",
       "      <td>21.0750</td>\n",
       "      <td>NaN</td>\n",
       "      <td>S</td>\n",
       "    </tr>\n",
       "    <tr>\n",
       "      <td>8</td>\n",
       "      <td>9</td>\n",
       "      <td>1</td>\n",
       "      <td>3</td>\n",
       "      <td>Johnson, Mrs. Oscar W (Elisabeth Vilhelmina Berg)</td>\n",
       "      <td>female</td>\n",
       "      <td>27.0</td>\n",
       "      <td>0</td>\n",
       "      <td>2</td>\n",
       "      <td>347742</td>\n",
       "      <td>11.1333</td>\n",
       "      <td>NaN</td>\n",
       "      <td>S</td>\n",
       "    </tr>\n",
       "    <tr>\n",
       "      <td>9</td>\n",
       "      <td>10</td>\n",
       "      <td>1</td>\n",
       "      <td>2</td>\n",
       "      <td>Nasser, Mrs. Nicholas (Adele Achem)</td>\n",
       "      <td>female</td>\n",
       "      <td>14.0</td>\n",
       "      <td>1</td>\n",
       "      <td>0</td>\n",
       "      <td>237736</td>\n",
       "      <td>30.0708</td>\n",
       "      <td>NaN</td>\n",
       "      <td>C</td>\n",
       "    </tr>\n",
       "  </tbody>\n",
       "</table>\n",
       "</div>"
      ],
      "text/plain": [
       "   PassengerId  Survived  Pclass  \\\n",
       "0            1         0       3   \n",
       "1            2         1       1   \n",
       "2            3         1       3   \n",
       "3            4         1       1   \n",
       "4            5         0       3   \n",
       "5            6         0       3   \n",
       "6            7         0       1   \n",
       "7            8         0       3   \n",
       "8            9         1       3   \n",
       "9           10         1       2   \n",
       "\n",
       "                                                Name     Sex   Age  SibSp  \\\n",
       "0                            Braund, Mr. Owen Harris    male  22.0      1   \n",
       "1  Cumings, Mrs. John Bradley (Florence Briggs Th...  female  38.0      1   \n",
       "2                             Heikkinen, Miss. Laina  female  26.0      0   \n",
       "3       Futrelle, Mrs. Jacques Heath (Lily May Peel)  female  35.0      1   \n",
       "4                           Allen, Mr. William Henry    male  35.0      0   \n",
       "5                                   Moran, Mr. James    male   NaN      0   \n",
       "6                            McCarthy, Mr. Timothy J    male  54.0      0   \n",
       "7                     Palsson, Master. Gosta Leonard    male   2.0      3   \n",
       "8  Johnson, Mrs. Oscar W (Elisabeth Vilhelmina Berg)  female  27.0      0   \n",
       "9                Nasser, Mrs. Nicholas (Adele Achem)  female  14.0      1   \n",
       "\n",
       "   Parch            Ticket     Fare Cabin Embarked  \n",
       "0      0         A/5 21171   7.2500   NaN        S  \n",
       "1      0          PC 17599  71.2833   C85        C  \n",
       "2      0  STON/O2. 3101282   7.9250   NaN        S  \n",
       "3      0            113803  53.1000  C123        S  \n",
       "4      0            373450   8.0500   NaN        S  \n",
       "5      0            330877   8.4583   NaN        Q  \n",
       "6      0             17463  51.8625   E46        S  \n",
       "7      1            349909  21.0750   NaN        S  \n",
       "8      2            347742  11.1333   NaN        S  \n",
       "9      0            237736  30.0708   NaN        C  "
      ]
     },
     "execution_count": 126,
     "metadata": {},
     "output_type": "execute_result"
    }
   ],
   "source": [
    "df = pd.read_csv(\"train.csv\")\n",
    "df.head(10)"
   ]
  },
  {
   "cell_type": "markdown",
   "metadata": {
    "slideshow": {
     "slide_type": "subslide"
    }
   },
   "source": [
    "\n",
    "Method `info`  print a a concise summary of a `DataFrame`.\n",
    "With optional parameter `memory_usage`, you can get an estimate\n",
    "of the amount of memory used by the `DataFrame`. Beware that\n",
    "the resulting estimate depends on the argument fed.\n",
    "\n"
   ]
  },
  {
   "cell_type": "code",
   "execution_count": 127,
   "metadata": {
    "ExecuteTime": {
     "end_time": "2020-02-23T21:34:35.165517Z",
     "start_time": "2020-02-23T21:34:35.150998Z"
    },
    "autoscroll": "auto",
    "options": {
     "caption": false,
     "complete": true,
     "display_data": true,
     "display_stream": true,
     "dpi": 200,
     "echo": true,
     "evaluate": false,
     "f_env": null,
     "f_pos": "htpb",
     "f_size": [
      6,
      4
     ],
     "f_spines": true,
     "fig": true,
     "include": true,
     "name": null,
     "option_string": "evaluate=False",
     "results": "verbatim",
     "term": false,
     "wrap": "output"
    },
    "slideshow": {
     "slide_type": "subslide"
    }
   },
   "outputs": [
    {
     "name": "stdout",
     "output_type": "stream",
     "text": [
      "<class 'pandas.core.frame.DataFrame'>\n",
      "RangeIndex: 891 entries, 0 to 890\n",
      "Data columns (total 12 columns):\n",
      "PassengerId    891 non-null int64\n",
      "Survived       891 non-null int64\n",
      "Pclass         891 non-null int64\n",
      "Name           891 non-null object\n",
      "Sex            891 non-null object\n",
      "Age            714 non-null float64\n",
      "SibSp          891 non-null int64\n",
      "Parch          891 non-null int64\n",
      "Ticket         891 non-null object\n",
      "Fare           891 non-null float64\n",
      "Cabin          204 non-null object\n",
      "Embarked       889 non-null object\n",
      "dtypes: float64(2), int64(5), object(5)\n",
      "memory usage: 83.7+ KB\n"
     ]
    }
   ],
   "source": [
    "df.info(memory_usage=True)"
   ]
  },
  {
   "cell_type": "markdown",
   "metadata": {
    "slideshow": {
     "slide_type": "slide"
    }
   },
   "source": [
    "\n",
    "## Question: Checking the types of columns\n",
    "\n",
    "Check the types of the columns.\n",
    "\n",
    "- How do you obtain the type of a column?\n",
    "- How do you obtain the datatype (`dtype`) of elements of a column?\n",
    "\n",
    "### Answer\n",
    "\n"
   ]
  },
  {
   "cell_type": "code",
   "execution_count": 128,
   "metadata": {
    "ExecuteTime": {
     "end_time": "2020-02-23T21:34:35.498014Z",
     "start_time": "2020-02-23T21:34:35.484270Z"
    },
    "autoscroll": "auto",
    "options": {
     "caption": false,
     "complete": true,
     "display_data": true,
     "display_stream": true,
     "dpi": 200,
     "echo": true,
     "evaluate": false,
     "f_env": null,
     "f_pos": "htpb",
     "f_size": [
      6,
      4
     ],
     "f_spines": true,
     "fig": true,
     "include": true,
     "name": null,
     "option_string": "evaluate=False",
     "results": "verbatim",
     "term": false,
     "wrap": "output"
    },
    "slideshow": {
     "slide_type": "subslide"
    }
   },
   "outputs": [
    {
     "name": "stdout",
     "output_type": "stream",
     "text": [
      "<class 'pandas.core.series.Series'>\n"
     ]
    },
    {
     "data": {
      "text/plain": [
       "dtype('O')"
      ]
     },
     "execution_count": 128,
     "metadata": {},
     "output_type": "execute_result"
    }
   ],
   "source": [
    "# type of a column\n",
    "print(type(df['Name']))\n",
    "# datatype (dtype) of elements of a column\n",
    "df['Name'].dtype"
   ]
  },
  {
   "cell_type": "markdown",
   "metadata": {
    "slideshow": {
     "slide_type": "slide"
    }
   },
   "source": [
    "## Question: selecting columns according to datatype\n",
    "\n",
    "Project (in the SQL sense)  the DataFrame on columns with a specified datatype.\n",
    "For example, project (as in the SQL `SELECT`)\n",
    "the Titanic `DataFrame` on the  numerical columns.\n",
    "\n",
    "Hint: method `select_dtypes`\n",
    "\n",
    "### Answer\n"
   ]
  },
  {
   "cell_type": "code",
   "execution_count": 129,
   "metadata": {
    "ExecuteTime": {
     "end_time": "2020-02-23T21:34:35.849987Z",
     "start_time": "2020-02-23T21:34:35.816509Z"
    }
   },
   "outputs": [
    {
     "data": {
      "text/html": [
       "<div>\n",
       "<style scoped>\n",
       "    .dataframe tbody tr th:only-of-type {\n",
       "        vertical-align: middle;\n",
       "    }\n",
       "\n",
       "    .dataframe tbody tr th {\n",
       "        vertical-align: top;\n",
       "    }\n",
       "\n",
       "    .dataframe thead th {\n",
       "        text-align: right;\n",
       "    }\n",
       "</style>\n",
       "<table border=\"1\" class=\"dataframe\">\n",
       "  <thead>\n",
       "    <tr style=\"text-align: right;\">\n",
       "      <th></th>\n",
       "      <th>PassengerId</th>\n",
       "      <th>Survived</th>\n",
       "      <th>Pclass</th>\n",
       "      <th>Age</th>\n",
       "      <th>SibSp</th>\n",
       "      <th>Parch</th>\n",
       "      <th>Fare</th>\n",
       "    </tr>\n",
       "  </thead>\n",
       "  <tbody>\n",
       "    <tr>\n",
       "      <td>0</td>\n",
       "      <td>1</td>\n",
       "      <td>0</td>\n",
       "      <td>3</td>\n",
       "      <td>22.0</td>\n",
       "      <td>1</td>\n",
       "      <td>0</td>\n",
       "      <td>7.2500</td>\n",
       "    </tr>\n",
       "    <tr>\n",
       "      <td>1</td>\n",
       "      <td>2</td>\n",
       "      <td>1</td>\n",
       "      <td>1</td>\n",
       "      <td>38.0</td>\n",
       "      <td>1</td>\n",
       "      <td>0</td>\n",
       "      <td>71.2833</td>\n",
       "    </tr>\n",
       "    <tr>\n",
       "      <td>2</td>\n",
       "      <td>3</td>\n",
       "      <td>1</td>\n",
       "      <td>3</td>\n",
       "      <td>26.0</td>\n",
       "      <td>0</td>\n",
       "      <td>0</td>\n",
       "      <td>7.9250</td>\n",
       "    </tr>\n",
       "    <tr>\n",
       "      <td>3</td>\n",
       "      <td>4</td>\n",
       "      <td>1</td>\n",
       "      <td>1</td>\n",
       "      <td>35.0</td>\n",
       "      <td>1</td>\n",
       "      <td>0</td>\n",
       "      <td>53.1000</td>\n",
       "    </tr>\n",
       "    <tr>\n",
       "      <td>4</td>\n",
       "      <td>5</td>\n",
       "      <td>0</td>\n",
       "      <td>3</td>\n",
       "      <td>35.0</td>\n",
       "      <td>0</td>\n",
       "      <td>0</td>\n",
       "      <td>8.0500</td>\n",
       "    </tr>\n",
       "    <tr>\n",
       "      <td>...</td>\n",
       "      <td>...</td>\n",
       "      <td>...</td>\n",
       "      <td>...</td>\n",
       "      <td>...</td>\n",
       "      <td>...</td>\n",
       "      <td>...</td>\n",
       "      <td>...</td>\n",
       "    </tr>\n",
       "    <tr>\n",
       "      <td>886</td>\n",
       "      <td>887</td>\n",
       "      <td>0</td>\n",
       "      <td>2</td>\n",
       "      <td>27.0</td>\n",
       "      <td>0</td>\n",
       "      <td>0</td>\n",
       "      <td>13.0000</td>\n",
       "    </tr>\n",
       "    <tr>\n",
       "      <td>887</td>\n",
       "      <td>888</td>\n",
       "      <td>1</td>\n",
       "      <td>1</td>\n",
       "      <td>19.0</td>\n",
       "      <td>0</td>\n",
       "      <td>0</td>\n",
       "      <td>30.0000</td>\n",
       "    </tr>\n",
       "    <tr>\n",
       "      <td>888</td>\n",
       "      <td>889</td>\n",
       "      <td>0</td>\n",
       "      <td>3</td>\n",
       "      <td>NaN</td>\n",
       "      <td>1</td>\n",
       "      <td>2</td>\n",
       "      <td>23.4500</td>\n",
       "    </tr>\n",
       "    <tr>\n",
       "      <td>889</td>\n",
       "      <td>890</td>\n",
       "      <td>1</td>\n",
       "      <td>1</td>\n",
       "      <td>26.0</td>\n",
       "      <td>0</td>\n",
       "      <td>0</td>\n",
       "      <td>30.0000</td>\n",
       "    </tr>\n",
       "    <tr>\n",
       "      <td>890</td>\n",
       "      <td>891</td>\n",
       "      <td>0</td>\n",
       "      <td>3</td>\n",
       "      <td>32.0</td>\n",
       "      <td>0</td>\n",
       "      <td>0</td>\n",
       "      <td>7.7500</td>\n",
       "    </tr>\n",
       "  </tbody>\n",
       "</table>\n",
       "<p>891 rows × 7 columns</p>\n",
       "</div>"
      ],
      "text/plain": [
       "     PassengerId  Survived  Pclass   Age  SibSp  Parch     Fare\n",
       "0              1         0       3  22.0      1      0   7.2500\n",
       "1              2         1       1  38.0      1      0  71.2833\n",
       "2              3         1       3  26.0      0      0   7.9250\n",
       "3              4         1       1  35.0      1      0  53.1000\n",
       "4              5         0       3  35.0      0      0   8.0500\n",
       "..           ...       ...     ...   ...    ...    ...      ...\n",
       "886          887         0       2  27.0      0      0  13.0000\n",
       "887          888         1       1  19.0      0      0  30.0000\n",
       "888          889         0       3   NaN      1      2  23.4500\n",
       "889          890         1       1  26.0      0      0  30.0000\n",
       "890          891         0       3  32.0      0      0   7.7500\n",
       "\n",
       "[891 rows x 7 columns]"
      ]
     },
     "execution_count": 129,
     "metadata": {},
     "output_type": "execute_result"
    }
   ],
   "source": [
    "# Selection des colonnes de type int\n",
    "df.select_dtypes(include=[int,'float64'])"
   ]
  },
  {
   "cell_type": "markdown",
   "metadata": {
    "slideshow": {
     "slide_type": "slide"
    }
   },
   "source": [
    "\n",
    "## Question: computing number of distinct values in each column\n",
    "\n",
    "For each column with non-numerical datatype compute the number of unique values\n",
    "in the column.\n",
    "\n",
    "### Answer\n",
    "\n"
   ]
  },
  {
   "cell_type": "code",
   "execution_count": 130,
   "metadata": {
    "ExecuteTime": {
     "end_time": "2020-02-23T21:34:36.214629Z",
     "start_time": "2020-02-23T21:34:36.188318Z"
    },
    "autoscroll": "auto",
    "options": {
     "caption": false,
     "complete": true,
     "display_data": true,
     "display_stream": true,
     "dpi": 200,
     "echo": true,
     "evaluate": false,
     "f_env": null,
     "f_pos": "htpb",
     "f_size": [
      6,
      4
     ],
     "f_spines": true,
     "fig": true,
     "include": true,
     "name": null,
     "option_string": "evaluate=False",
     "results": "verbatim",
     "term": false,
     "wrap": "output"
    },
    "slideshow": {
     "slide_type": "subslide"
    }
   },
   "outputs": [
    {
     "data": {
      "text/plain": [
       "Name        891\n",
       "Sex           2\n",
       "Ticket      681\n",
       "Cabin       147\n",
       "Embarked      3\n",
       "dtype: int64"
      ]
     },
     "execution_count": 130,
     "metadata": {},
     "output_type": "execute_result"
    }
   ],
   "source": [
    "#garder les colonnes à valeurs non-numériques\n",
    "columns = df.select_dtypes(exclude=[int, float])\n",
    "#compter les valeurs uniques\n",
    "columns.nunique(axis=0)"
   ]
  },
  {
   "cell_type": "markdown",
   "metadata": {
    "slideshow": {
     "slide_type": "slide"
    }
   },
   "source": [
    "\n",
    "## Question: spotting categorical columns\n",
    "\n",
    "What are the indices and column names of columns\n",
    "with less than `10` distinct vakues ?\n",
    "\n",
    "### Answer\n",
    "\n"
   ]
  },
  {
   "cell_type": "code",
   "execution_count": 131,
   "metadata": {
    "ExecuteTime": {
     "end_time": "2020-02-23T21:34:36.577183Z",
     "start_time": "2020-02-23T21:34:36.550280Z"
    },
    "autoscroll": "auto",
    "options": {
     "caption": false,
     "complete": true,
     "display_data": true,
     "display_stream": true,
     "dpi": 200,
     "echo": true,
     "evaluate": false,
     "f_env": null,
     "f_pos": "htpb",
     "f_size": [
      6,
      4
     ],
     "f_spines": true,
     "fig": true,
     "include": true,
     "name": null,
     "option_string": "evaluate=False",
     "results": "verbatim",
     "term": false,
     "wrap": "output"
    },
    "slideshow": {
     "slide_type": "subslide"
    }
   },
   "outputs": [
    {
     "name": "stdout",
     "output_type": "stream",
     "text": [
      "Survived: [0 1]\n",
      "Pclass: [3 1 2]\n",
      "Sex: ['male' 'female']\n",
      "SibSp: [1 0 3 4 2 5 8]\n",
      "Parch: [0 1 2 5 3 4 6]\n",
      "Embarked: ['S' 'C' 'Q' nan]\n"
     ]
    }
   ],
   "source": [
    "for x in df.columns:\n",
    "    if df[x].nunique() <= 10 :\n",
    "        print( x + ': '+ str(df[x].unique()))"
   ]
  },
  {
   "cell_type": "markdown",
   "metadata": {
    "slideshow": {
     "slide_type": "slide"
    }
   },
   "source": [
    "\n",
    "## Question: coercing column datatypes\n",
    "\n",
    "- `Name` should be of type `string`\n",
    "- `Sex` is a categorical variable with values `Female, Male, None`\n",
    "- `Embarked` is a categorical variable with values `Cherbourg, Southampton, ..., None`\n",
    "- `Ticket` should be a string\n",
    "- `Cabin` should be a string\n",
    "- `Survived` should be of type `bool`\n",
    "- `Pclass` is a categorical variable (ordered)\n",
    "- `Sibsp` could a categorical variable (ordered)\n",
    "- `Parch` could a categorical variable (ordered)\n",
    "\n",
    "Attempt to automatically infer better types fails.\n",
    "\n"
   ]
  },
  {
   "cell_type": "markdown",
   "metadata": {
    "slideshow": {
     "slide_type": "subslide"
    }
   },
   "source": [
    "\n",
    "### Answer\n",
    "\n"
   ]
  },
  {
   "cell_type": "code",
   "execution_count": 132,
   "metadata": {
    "ExecuteTime": {
     "end_time": "2020-02-23T21:34:37.075518Z",
     "start_time": "2020-02-23T21:34:37.038321Z"
    },
    "autoscroll": "auto",
    "options": {
     "caption": false,
     "complete": true,
     "display_data": true,
     "display_stream": true,
     "dpi": 200,
     "echo": true,
     "evaluate": false,
     "f_env": null,
     "f_pos": "htpb",
     "f_size": [
      6,
      4
     ],
     "f_spines": true,
     "fig": true,
     "include": true,
     "name": null,
     "option_string": "evaluate=False",
     "results": "verbatim",
     "term": false,
     "wrap": "output"
    },
    "slideshow": {
     "slide_type": "subslide"
    }
   },
   "outputs": [
    {
     "data": {
      "text/plain": [
       "PassengerId       int64\n",
       "Survived           bool\n",
       "Pclass            int64\n",
       "Name             object\n",
       "Sex            category\n",
       "Age             float64\n",
       "SibSp             int64\n",
       "Parch             int64\n",
       "Ticket           object\n",
       "Fare            float64\n",
       "Cabin            object\n",
       "Embarked         object\n",
       "dtype: object"
      ]
     },
     "execution_count": 132,
     "metadata": {},
     "output_type": "execute_result"
    }
   ],
   "source": [
    "# Capitalisation des valeurs contenues dans la colonne Sex\n",
    "SexValues = [\"Female\", \"Male\", np.nan]\n",
    "df.Sex = [v.capitalize() for v in df.Sex]\n",
    "df[\"Sex\"] = df.Sex.astype(\"category\")\n",
    "\n",
    "df[\"Name\"] = df.Name.astype(np.str)\n",
    "df[\"Ticket\"] = df.Ticket.astype(np.str)\n",
    "df[\"Cabin\"] = df.Cabin.astype(np.str)\n",
    "\n",
    "df.Survived = df.Survived.astype(\"bool\")\n",
    "df.dtypes"
   ]
  },
  {
   "cell_type": "markdown",
   "metadata": {
    "slideshow": {
     "slide_type": "slide"
    }
   },
   "source": [
    "\n",
    "## Question: coercing column datatypes\n",
    "\n",
    "All suspicious columns could be converted to `category`.\n",
    "Some of the categories have to be ordered.\n",
    "\n",
    "\n",
    "### Answer\n"
   ]
  },
  {
   "cell_type": "code",
   "execution_count": 133,
   "metadata": {
    "ExecuteTime": {
     "end_time": "2020-02-23T21:34:37.391296Z",
     "start_time": "2020-02-23T21:34:37.354038Z"
    },
    "autoscroll": "auto",
    "options": {
     "caption": false,
     "complete": true,
     "display_data": true,
     "display_stream": true,
     "dpi": 200,
     "echo": true,
     "evaluate": false,
     "f_env": null,
     "f_pos": "htpb",
     "f_size": [
      6,
      4
     ],
     "f_spines": true,
     "fig": true,
     "include": true,
     "name": null,
     "option_string": "evaluate=False",
     "results": "verbatim",
     "term": false,
     "wrap": "output"
    },
    "slideshow": {
     "slide_type": "subslide"
    }
   },
   "outputs": [
    {
     "data": {
      "text/plain": [
       "PassengerId       int64\n",
       "Survived           bool\n",
       "Pclass         category\n",
       "Name             object\n",
       "Sex            category\n",
       "Age             float64\n",
       "SibSp          category\n",
       "Parch          category\n",
       "Ticket           object\n",
       "Fare            float64\n",
       "Cabin            object\n",
       "Embarked       category\n",
       "dtype: object"
      ]
     },
     "execution_count": 133,
     "metadata": {},
     "output_type": "execute_result"
    }
   ],
   "source": [
    "df.Embarked = df.Embarked.astype(\"category\")\n",
    "df.Pclass = df.Pclass.astype(\"category\")\n",
    "df.SibSp = df.SibSp.astype(\"category\")\n",
    "df.Parch = df.Parch.astype(\"category\")\n",
    "df.Embarked = df.Embarked.astype(\"category\")\n",
    "\n",
    "pd.Categorical(df.Pclass, ordered=True)\n",
    "pd.Categorical(df.SibSp, ordered=True)\n",
    "pd.Categorical(df.Parch, ordered=True)\n",
    "\n",
    "df.dtypes"
   ]
  },
  {
   "cell_type": "markdown",
   "metadata": {
    "slideshow": {
     "slide_type": "slide"
    }
   },
   "source": [
    "\n",
    "## Question: categorizing columns using functions\n",
    "\n",
    "Define a function that takes as arguments a `Dataframe` and a list of\n",
    "of column names and attempts to cast the corresponding columns to 'category'.\n",
    "\n",
    "### Answer\n",
    "\n",
    "\n"
   ]
  },
  {
   "cell_type": "code",
   "execution_count": 193,
   "metadata": {
    "ExecuteTime": {
     "end_time": "2020-02-23T22:35:16.910745Z",
     "start_time": "2020-02-23T22:35:16.901234Z"
    },
    "autoscroll": "auto",
    "options": {
     "caption": false,
     "complete": true,
     "display_data": true,
     "display_stream": true,
     "dpi": 200,
     "echo": true,
     "evaluate": false,
     "f_env": null,
     "f_pos": "htpb",
     "f_size": [
      6,
      4
     ],
     "f_spines": true,
     "fig": true,
     "include": true,
     "name": null,
     "option_string": "evaluate=False",
     "results": "verbatim",
     "term": false,
     "wrap": "output"
    },
    "slideshow": {
     "slide_type": "subslide"
    }
   },
   "outputs": [],
   "source": [
    "def categorize(df, l) :\n",
    "    try:\n",
    "        for colName in l:\n",
    "            df[colName] = df[colName].astype(\"category\")\n",
    "    except KeyError:\n",
    "        df"
   ]
  },
  {
   "cell_type": "markdown",
   "metadata": {
    "slideshow": {
     "slide_type": "slide"
    }
   },
   "source": [
    "\n",
    "## Question: enforcing datatypes at loading time\n",
    "\n",
    "\n",
    "Function `read_csv` from `Pandas` has many optional keyword arguments that\n",
    "can be used to tweak the resulting `Dataframe` during (or just after load).\n",
    "\n",
    "Improve your import of the data: for instance,\n",
    "categorical columns (a column with a small number of modalities)\n",
    "should have the `category` type.\n",
    "\n",
    "### Answer\n"
   ]
  },
  {
   "cell_type": "code",
   "execution_count": 135,
   "metadata": {
    "ExecuteTime": {
     "end_time": "2020-02-23T21:34:38.056401Z",
     "start_time": "2020-02-23T21:34:38.018092Z"
    },
    "autoscroll": "auto",
    "options": {
     "caption": false,
     "complete": true,
     "display_data": true,
     "display_stream": true,
     "dpi": 200,
     "echo": true,
     "evaluate": false,
     "f_env": null,
     "f_pos": "htpb",
     "f_size": [
      6,
      4
     ],
     "f_spines": true,
     "fig": true,
     "include": true,
     "name": null,
     "option_string": "evaluate=False",
     "results": "verbatim",
     "term": false,
     "wrap": "output"
    },
    "slideshow": {
     "slide_type": "subslide"
    }
   },
   "outputs": [
    {
     "data": {
      "text/plain": [
       "PassengerId       int64\n",
       "Survived          int64\n",
       "Pclass         category\n",
       "Name             object\n",
       "Sex            category\n",
       "Age             float64\n",
       "SibSp          category\n",
       "Parch          category\n",
       "Ticket           object\n",
       "Fare            float64\n",
       "Cabin            object\n",
       "Embarked       category\n",
       "dtype: object"
      ]
     },
     "execution_count": 135,
     "metadata": {},
     "output_type": "execute_result"
    }
   ],
   "source": [
    "df2 = pd.read_csv(\"train.csv\", dtype={'Pclass' : 'category', 'Sex' : 'category', 'SibSp' : 'category', 'Parch' : 'category',  'Embarked' : 'category'})\n",
    "\n",
    "df2.dtypes"
   ]
  },
  {
   "cell_type": "markdown",
   "metadata": {
    "slideshow": {
     "slide_type": "slide"
    }
   },
   "source": [
    "## Question: Count the number of missing values in each column\n",
    "\n",
    "Display the distribution of `Pclass`  and `Cabin == NaN` in\n",
    "the subpopulation defined by the missingness of `Age`.\n",
    "\n",
    "Hint: you may use function `mosaic` from package `statsmodels`. See \n",
    "`from statsmodels.graphics.mosaicplot import mosaic`\n",
    "\n",
    "### Answer"
   ]
  },
  {
   "cell_type": "code",
   "execution_count": 136,
   "metadata": {
    "ExecuteTime": {
     "end_time": "2020-02-23T21:34:38.620350Z",
     "start_time": "2020-02-23T21:34:38.336146Z"
    },
    "autoscroll": "auto",
    "options": {
     "caption": false,
     "complete": true,
     "display_data": true,
     "display_stream": true,
     "dpi": 200,
     "echo": true,
     "evaluate": false,
     "f_env": null,
     "f_pos": "htpb",
     "f_size": [
      6,
      4
     ],
     "f_spines": true,
     "fig": true,
     "include": true,
     "name": null,
     "option_string": "evaluate=False",
     "results": "verbatim",
     "term": false,
     "wrap": "output"
    },
    "slideshow": {
     "slide_type": "subslide"
    }
   },
   "outputs": [
    {
     "data": {
      "text/plain": [
       "(<Figure size 432x288 with 3 Axes>,\n",
       " OrderedDict([(('3',), (0.0, 0.0, 0.7607540415058455, 1.0)),\n",
       "              (('2',), (0.7657045365553504, 0.0, 0.06153157688650219, 1.0)),\n",
       "              (('1',), (0.8321866084913576, 0.0, 0.16781339150864238, 1.0))]))"
      ]
     },
     "execution_count": 136,
     "metadata": {},
     "output_type": "execute_result"
    },
    {
     "data": {
      "image/png": "[encoded data removed]",
      "text/plain": [
       "<Figure size 432x288 with 3 Axes>"
      ]
     },
     "metadata": {
      "needs_background": "light"
     },
     "output_type": "display_data"
    }
   ],
   "source": [
    "from statsmodels.graphics.mosaicplot import mosaic\n",
    "# Sous-population sans Age\n",
    "df_copy = df.copy()\n",
    "SansAge = df_copy[df_copy[\"Age\"].isna()]\n",
    "\n",
    "# Distribution de Pclass et Cabin == NaN\n",
    "mosaic(SansAge, [\"Pclass\"])"
   ]
  },
  {
   "cell_type": "markdown",
   "metadata": {
    "slideshow": {
     "slide_type": "slide"
    }
   },
   "source": [
    "\n",
    "\n",
    "## Question: number of missing values per row\n",
    "\n",
    "It is also possible to determine the number of NA values per row.\n",
    "List the rows with at least two missing values. Can you complete\n",
    "some dots?\n",
    "\n",
    "### Answer"
   ]
  },
  {
   "cell_type": "code",
   "execution_count": 194,
   "metadata": {
    "ExecuteTime": {
     "end_time": "2020-02-23T22:35:29.793318Z",
     "start_time": "2020-02-23T22:35:29.748303Z"
    },
    "autoscroll": "auto",
    "options": {
     "caption": false,
     "complete": true,
     "display_data": true,
     "display_stream": true,
     "dpi": 200,
     "echo": true,
     "evaluate": false,
     "f_env": null,
     "f_pos": "htpb",
     "f_size": [
      6,
      4
     ],
     "f_spines": true,
     "fig": true,
     "include": true,
     "name": null,
     "option_string": "evaluate=False",
     "results": "verbatim",
     "term": false,
     "wrap": "output"
    },
    "slideshow": {
     "slide_type": "subslide"
    }
   },
   "outputs": [
    {
     "name": "stdout",
     "output_type": "stream",
     "text": [
      "[Pandas(Index=5, PassengerId=6, Survived=False, Pclass=3, Name='Moran, Mr. James', Sex='Male', Age=nan, Status=nan, SibSp=0, Parch=0, Ticket='330877', Fare=8.4583, Cabin='nan', Embarked='Q', Roomates=nan), Pandas(Index=17, PassengerId=18, Survived=True, Pclass=2, Name='Williams, Mr. Charles Eugene', Sex='Male', Age=nan, Status=nan, SibSp=0, Parch=0, Ticket='244373', Fare=13.0, Cabin='nan', Embarked='S', Roomates=nan), Pandas(Index=19, PassengerId=20, Survived=True, Pclass=3, Name='Masselmani, Mrs. Fatima', Sex='Female', Age=nan, Status=nan, SibSp=0, Parch=0, Ticket='2649', Fare=7.225, Cabin='nan', Embarked='C', Roomates=nan), Pandas(Index=26, PassengerId=27, Survived=False, Pclass=3, Name='Emir, Mr. Farred Chehab', Sex='Male', Age=nan, Status=nan, SibSp=0, Parch=0, Ticket='2631', Fare=7.225, Cabin='nan', Embarked='C', Roomates=nan), Pandas(Index=28, PassengerId=29, Survived=True, Pclass=3, Name='O\\'Dwyer, Miss. Ellen \"Nellie\"', Sex='Female', Age=nan, Status=nan, SibSp=0, Parch=0, Ticket='330959', Fare=7.8792, Cabin='nan', Embarked='Q', Roomates=nan), Pandas(Index=29, PassengerId=30, Survived=False, Pclass=3, Name='Todoroff, Mr. Lalio', Sex='Male', Age=nan, Status=nan, SibSp=0, Parch=0, Ticket='349216', Fare=7.8958, Cabin='nan', Embarked='S', Roomates=nan), Pandas(Index=31, PassengerId=32, Survived=True, Pclass=1, Name='Spencer, Mrs. William Augustus (Marie Eugenie)', Sex='Female', Age=nan, Status=nan, SibSp=1, Parch=0, Ticket='PC 17569', Fare=146.5208, Cabin='B78', Embarked='C', Roomates=1.0), Pandas(Index=32, PassengerId=33, Survived=True, Pclass=3, Name='Glynn, Miss. Mary Agatha', Sex='Female', Age=nan, Status=nan, SibSp=0, Parch=0, Ticket='335677', Fare=7.75, Cabin='nan', Embarked='Q', Roomates=nan), Pandas(Index=36, PassengerId=37, Survived=True, Pclass=3, Name='Mamee, Mr. Hanna', Sex='Male', Age=nan, Status=nan, SibSp=0, Parch=0, Ticket='2677', Fare=7.2292, Cabin='nan', Embarked='C', Roomates=nan), Pandas(Index=42, PassengerId=43, Survived=False, Pclass=3, Name='Kraeff, Mr. Theodor', Sex='Male', Age=nan, Status=nan, SibSp=0, Parch=0, Ticket='349253', Fare=7.8958, Cabin='nan', Embarked='C', Roomates=nan), Pandas(Index=45, PassengerId=46, Survived=False, Pclass=3, Name='Rogers, Mr. William John', Sex='Male', Age=nan, Status=nan, SibSp=0, Parch=0, Ticket='S.C./A.4. 23567', Fare=8.05, Cabin='nan', Embarked='S', Roomates=nan), Pandas(Index=46, PassengerId=47, Survived=False, Pclass=3, Name='Lennon, Mr. Denis', Sex='Male', Age=nan, Status=nan, SibSp=1, Parch=0, Ticket='370371', Fare=15.5, Cabin='nan', Embarked='Q', Roomates=nan), Pandas(Index=47, PassengerId=48, Survived=True, Pclass=3, Name=\"O'Driscoll, Miss. Bridget\", Sex='Female', Age=nan, Status=nan, SibSp=0, Parch=0, Ticket='14311', Fare=7.75, Cabin='nan', Embarked='Q', Roomates=nan), Pandas(Index=48, PassengerId=49, Survived=False, Pclass=3, Name='Samaan, Mr. Youssef', Sex='Male', Age=nan, Status=nan, SibSp=2, Parch=0, Ticket='2662', Fare=21.6792, Cabin='nan', Embarked='C', Roomates=nan), Pandas(Index=55, PassengerId=56, Survived=True, Pclass=1, Name='Woolner, Mr. Hugh', Sex='Male', Age=nan, Status=nan, SibSp=0, Parch=0, Ticket='19947', Fare=35.5, Cabin='C52', Embarked='S', Roomates=2.0), Pandas(Index=64, PassengerId=65, Survived=False, Pclass=1, Name='Stewart, Mr. Albert A', Sex='Male', Age=nan, Status=nan, SibSp=0, Parch=0, Ticket='PC 17605', Fare=27.7208, Cabin='nan', Embarked='C', Roomates=nan), Pandas(Index=65, PassengerId=66, Survived=True, Pclass=3, Name='Moubarek, Master. Gerios', Sex='Male', Age=nan, Status=nan, SibSp=1, Parch=1, Ticket='2661', Fare=15.2458, Cabin='nan', Embarked='C', Roomates=nan), Pandas(Index=76, PassengerId=77, Survived=False, Pclass=3, Name='Staneff, Mr. Ivan', Sex='Male', Age=nan, Status=nan, SibSp=0, Parch=0, Ticket='349208', Fare=7.8958, Cabin='nan', Embarked='S', Roomates=nan), Pandas(Index=77, PassengerId=78, Survived=False, Pclass=3, Name='Moutal, Mr. Rahamin Haim', Sex='Male', Age=nan, Status=nan, SibSp=0, Parch=0, Ticket='374746', Fare=8.05, Cabin='nan', Embarked='S', Roomates=nan), Pandas(Index=82, PassengerId=83, Survived=True, Pclass=3, Name='McDermott, Miss. Brigdet Delia', Sex='Female', Age=nan, Status=nan, SibSp=0, Parch=0, Ticket='330932', Fare=7.7875, Cabin='nan', Embarked='Q', Roomates=nan), Pandas(Index=87, PassengerId=88, Survived=False, Pclass=3, Name='Slocovski, Mr. Selman Francis', Sex='Male', Age=nan, Status=nan, SibSp=0, Parch=0, Ticket='SOTON/OQ 392086', Fare=8.05, Cabin='nan', Embarked='S', Roomates=nan), Pandas(Index=95, PassengerId=96, Survived=False, Pclass=3, Name='Shorney, Mr. Charles Joseph', Sex='Male', Age=nan, Status=nan, SibSp=0, Parch=0, Ticket='374910', Fare=8.05, Cabin='nan', Embarked='S', Roomates=nan), Pandas(Index=101, PassengerId=102, Survived=False, Pclass=3, Name='Petroff, Mr. Pastcho (\"Pentcho\")', Sex='Male', Age=nan, Status=nan, SibSp=0, Parch=0, Ticket='349215', Fare=7.8958, Cabin='nan', Embarked='S', Roomates=nan), Pandas(Index=107, PassengerId=108, Survived=True, Pclass=3, Name='Moss, Mr. Albert Johan', Sex='Male', Age=nan, Status=nan, SibSp=0, Parch=0, Ticket='312991', Fare=7.775, Cabin='nan', Embarked='S', Roomates=nan), Pandas(Index=109, PassengerId=110, Survived=True, Pclass=3, Name='Moran, Miss. Bertha', Sex='Female', Age=nan, Status=nan, SibSp=1, Parch=0, Ticket='371110', Fare=24.15, Cabin='nan', Embarked='Q', Roomates=nan), Pandas(Index=121, PassengerId=122, Survived=False, Pclass=3, Name='Moore, Mr. Leonard Charles', Sex='Male', Age=nan, Status=nan, SibSp=0, Parch=0, Ticket='A4. 54510', Fare=8.05, Cabin='nan', Embarked='S', Roomates=nan), Pandas(Index=126, PassengerId=127, Survived=False, Pclass=3, Name='McMahon, Mr. Martin', Sex='Male', Age=nan, Status=nan, SibSp=0, Parch=0, Ticket='370372', Fare=7.75, Cabin='nan', Embarked='Q', Roomates=nan), Pandas(Index=128, PassengerId=129, Survived=True, Pclass=3, Name='Peter, Miss. Anna', Sex='Female', Age=nan, Status=nan, SibSp=1, Parch=1, Ticket='2668', Fare=22.3583, Cabin='F E69', Embarked='C', Roomates=1.0), Pandas(Index=140, PassengerId=141, Survived=False, Pclass=3, Name='Boulos, Mrs. Joseph (Sultana)', Sex='Female', Age=nan, Status=nan, SibSp=0, Parch=2, Ticket='2678', Fare=15.2458, Cabin='nan', Embarked='C', Roomates=nan), Pandas(Index=154, PassengerId=155, Survived=False, Pclass=3, Name='Olsen, Mr. Ole Martin', Sex='Male', Age=nan, Status=nan, SibSp=0, Parch=0, Ticket='Fa 265302', Fare=7.3125, Cabin='nan', Embarked='S', Roomates=nan), Pandas(Index=158, PassengerId=159, Survived=False, Pclass=3, Name='Smiljanic, Mr. Mile', Sex='Male', Age=nan, Status=nan, SibSp=0, Parch=0, Ticket='315037', Fare=8.6625, Cabin='nan', Embarked='S', Roomates=nan), Pandas(Index=159, PassengerId=160, Survived=False, Pclass=3, Name='Sage, Master. Thomas Henry', Sex='Male', Age=nan, Status=nan, SibSp=8, Parch=2, Ticket='CA. 2343', Fare=69.55, Cabin='nan', Embarked='S', Roomates=nan), Pandas(Index=166, PassengerId=167, Survived=True, Pclass=1, Name='Chibnall, Mrs. (Edith Martha Bowerman)', Sex='Female', Age=nan, Status=nan, SibSp=0, Parch=1, Ticket='113505', Fare=55.0, Cabin='E33', Embarked='S', Roomates=2.0), Pandas(Index=168, PassengerId=169, Survived=False, Pclass=1, Name='Baumann, Mr. John D', Sex='Male', Age=nan, Status=nan, SibSp=0, Parch=0, Ticket='PC 17318', Fare=25.925, Cabin='nan', Embarked='S', Roomates=nan), Pandas(Index=176, PassengerId=177, Survived=False, Pclass=3, Name='Lefebre, Master. Henry Forbes', Sex='Male', Age=nan, Status=nan, SibSp=3, Parch=1, Ticket='4133', Fare=25.4667, Cabin='nan', Embarked='S', Roomates=nan), Pandas(Index=180, PassengerId=181, Survived=False, Pclass=3, Name='Sage, Miss. Constance Gladys', Sex='Female', Age=nan, Status=nan, SibSp=8, Parch=2, Ticket='CA. 2343', Fare=69.55, Cabin='nan', Embarked='S', Roomates=nan), Pandas(Index=181, PassengerId=182, Survived=False, Pclass=2, Name='Pernot, Mr. Rene', Sex='Male', Age=nan, Status=nan, SibSp=0, Parch=0, Ticket='SC/PARIS 2131', Fare=15.05, Cabin='nan', Embarked='C', Roomates=nan), Pandas(Index=185, PassengerId=186, Survived=False, Pclass=1, Name='Rood, Mr. Hugh Roscoe', Sex='Male', Age=nan, Status=nan, SibSp=0, Parch=0, Ticket='113767', Fare=50.0, Cabin='A32', Embarked='S', Roomates=1.0), Pandas(Index=186, PassengerId=187, Survived=True, Pclass=3, Name='O\\'Brien, Mrs. Thomas (Johanna \"Hannah\" Godfrey)', Sex='Female', Age=nan, Status=nan, SibSp=1, Parch=0, Ticket='370365', Fare=15.5, Cabin='nan', Embarked='Q', Roomates=nan), Pandas(Index=196, PassengerId=197, Survived=False, Pclass=3, Name='Mernagh, Mr. Robert', Sex='Male', Age=nan, Status=nan, SibSp=0, Parch=0, Ticket='368703', Fare=7.75, Cabin='nan', Embarked='Q', Roomates=nan), Pandas(Index=198, PassengerId=199, Survived=True, Pclass=3, Name='Madigan, Miss. Margaret \"Maggie\"', Sex='Female', Age=nan, Status=nan, SibSp=0, Parch=0, Ticket='370370', Fare=7.75, Cabin='nan', Embarked='Q', Roomates=nan), Pandas(Index=201, PassengerId=202, Survived=False, Pclass=3, Name='Sage, Mr. Frederick', Sex='Male', Age=nan, Status=nan, SibSp=8, Parch=2, Ticket='CA. 2343', Fare=69.55, Cabin='nan', Embarked='S', Roomates=nan), Pandas(Index=214, PassengerId=215, Survived=False, Pclass=3, Name='Kiernan, Mr. Philip', Sex='Male', Age=nan, Status=nan, SibSp=1, Parch=0, Ticket='367229', Fare=7.75, Cabin='nan', Embarked='Q', Roomates=nan), Pandas(Index=223, PassengerId=224, Survived=False, Pclass=3, Name='Nenkoff, Mr. Christo', Sex='Male', Age=nan, Status=nan, SibSp=0, Parch=0, Ticket='349234', Fare=7.8958, Cabin='nan', Embarked='S', Roomates=nan), Pandas(Index=229, PassengerId=230, Survived=False, Pclass=3, Name='Lefebre, Miss. Mathilde', Sex='Female', Age=nan, Status=nan, SibSp=3, Parch=1, Ticket='4133', Fare=25.4667, Cabin='nan', Embarked='S', Roomates=nan), Pandas(Index=235, PassengerId=236, Survived=False, Pclass=3, Name='Harknett, Miss. Alice Phoebe', Sex='Female', Age=nan, Status=nan, SibSp=0, Parch=0, Ticket='W./C. 6609', Fare=7.55, Cabin='nan', Embarked='S', Roomates=nan), Pandas(Index=240, PassengerId=241, Survived=False, Pclass=3, Name='Zabour, Miss. Thamine', Sex='Female', Age=nan, Status=nan, SibSp=1, Parch=0, Ticket='2665', Fare=14.4542, Cabin='nan', Embarked='C', Roomates=nan), Pandas(Index=241, PassengerId=242, Survived=True, Pclass=3, Name='Murphy, Miss. Katherine \"Kate\"', Sex='Female', Age=nan, Status=nan, SibSp=1, Parch=0, Ticket='367230', Fare=15.5, Cabin='nan', Embarked='Q', Roomates=nan), Pandas(Index=250, PassengerId=251, Survived=False, Pclass=3, Name='Reed, Mr. James George', Sex='Male', Age=nan, Status=nan, SibSp=0, Parch=0, Ticket='362316', Fare=7.25, Cabin='nan', Embarked='S', Roomates=nan), Pandas(Index=256, PassengerId=257, Survived=True, Pclass=1, Name='Thorne, Mrs. Gertrude Maybelle', Sex='Female', Age=nan, Status=nan, SibSp=0, Parch=0, Ticket='PC 17585', Fare=79.2, Cabin='nan', Embarked='C', Roomates=nan), Pandas(Index=260, PassengerId=261, Survived=False, Pclass=3, Name='Smith, Mr. Thomas', Sex='Male', Age=nan, Status=nan, SibSp=0, Parch=0, Ticket='384461', Fare=7.75, Cabin='nan', Embarked='Q', Roomates=nan), Pandas(Index=264, PassengerId=265, Survived=False, Pclass=3, Name='Henry, Miss. Delia', Sex='Female', Age=nan, Status=nan, SibSp=0, Parch=0, Ticket='382649', Fare=7.75, Cabin='nan', Embarked='Q', Roomates=nan), Pandas(Index=270, PassengerId=271, Survived=False, Pclass=1, Name='Cairns, Mr. Alexander', Sex='Male', Age=nan, Status=nan, SibSp=0, Parch=0, Ticket='113798', Fare=31.0, Cabin='nan', Embarked='S', Roomates=nan), Pandas(Index=274, PassengerId=275, Survived=True, Pclass=3, Name='Healy, Miss. Hanora \"Nora\"', Sex='Female', Age=nan, Status=nan, SibSp=0, Parch=0, Ticket='370375', Fare=7.75, Cabin='nan', Embarked='Q', Roomates=nan), Pandas(Index=277, PassengerId=278, Survived=False, Pclass=2, Name='Parkes, Mr. Francis \"Frank\"', Sex='Male', Age=nan, Status=nan, SibSp=0, Parch=0, Ticket='239853', Fare=0.0, Cabin='nan', Embarked='S', Roomates=nan), Pandas(Index=284, PassengerId=285, Survived=False, Pclass=1, Name='Smith, Mr. Richard William', Sex='Male', Age=nan, Status=nan, SibSp=0, Parch=0, Ticket='113056', Fare=26.0, Cabin='A19', Embarked='S', Roomates=1.0), Pandas(Index=295, PassengerId=296, Survived=False, Pclass=1, Name='Lewy, Mr. Ervin G', Sex='Male', Age=nan, Status=nan, SibSp=0, Parch=0, Ticket='PC 17612', Fare=27.7208, Cabin='nan', Embarked='C', Roomates=nan), Pandas(Index=298, PassengerId=299, Survived=True, Pclass=1, Name='Saalfeld, Mr. Adolphe', Sex='Male', Age=nan, Status=nan, SibSp=0, Parch=0, Ticket='19988', Fare=30.5, Cabin='C106', Embarked='S', Roomates=1.0), Pandas(Index=300, PassengerId=301, Survived=True, Pclass=3, Name='Kelly, Miss. Anna Katherine \"Annie Kate\"', Sex='Female', Age=nan, Status=nan, SibSp=0, Parch=0, Ticket='9234', Fare=7.75, Cabin='nan', Embarked='Q', Roomates=nan), Pandas(Index=301, PassengerId=302, Survived=True, Pclass=3, Name='McCoy, Mr. Bernard', Sex='Male', Age=nan, Status=nan, SibSp=2, Parch=0, Ticket='367226', Fare=23.25, Cabin='nan', Embarked='Q', Roomates=nan), Pandas(Index=303, PassengerId=304, Survived=True, Pclass=2, Name='Keane, Miss. Nora A', Sex='Female', Age=nan, Status=nan, SibSp=0, Parch=0, Ticket='226593', Fare=12.35, Cabin='E101', Embarked='Q', Roomates=3.0), Pandas(Index=304, PassengerId=305, Survived=False, Pclass=3, Name='Williams, Mr. Howard Hugh \"Harry\"', Sex='Male', Age=nan, Status=nan, SibSp=0, Parch=0, Ticket='A/5 2466', Fare=8.05, Cabin='nan', Embarked='S', Roomates=nan), Pandas(Index=306, PassengerId=307, Survived=True, Pclass=1, Name='Fleming, Miss. Margaret', Sex='Female', Age=nan, Status=nan, SibSp=0, Parch=0, Ticket='17421', Fare=110.8833, Cabin='nan', Embarked='C', Roomates=nan), Pandas(Index=324, PassengerId=325, Survived=False, Pclass=3, Name='Sage, Mr. George John Jr', Sex='Male', Age=nan, Status=nan, SibSp=8, Parch=2, Ticket='CA. 2343', Fare=69.55, Cabin='nan', Embarked='S', Roomates=nan), Pandas(Index=330, PassengerId=331, Survived=True, Pclass=3, Name='McCoy, Miss. Agnes', Sex='Female', Age=nan, Status=nan, SibSp=2, Parch=0, Ticket='367226', Fare=23.25, Cabin='nan', Embarked='Q', Roomates=nan), Pandas(Index=334, PassengerId=335, Survived=True, Pclass=1, Name='Frauenthal, Mrs. Henry William (Clara Heinsheimer)', Sex='Female', Age=nan, Status=nan, SibSp=1, Parch=0, Ticket='PC 17611', Fare=133.65, Cabin='nan', Embarked='S', Roomates=nan), Pandas(Index=335, PassengerId=336, Survived=False, Pclass=3, Name='Denkoff, Mr. Mitto', Sex='Male', Age=nan, Status=nan, SibSp=0, Parch=0, Ticket='349225', Fare=7.8958, Cabin='nan', Embarked='S', Roomates=nan), Pandas(Index=347, PassengerId=348, Survived=True, Pclass=3, Name='Davison, Mrs. Thomas Henry (Mary E Finck)', Sex='Female', Age=nan, Status=nan, SibSp=1, Parch=0, Ticket='386525', Fare=16.1, Cabin='nan', Embarked='S', Roomates=nan), Pandas(Index=351, PassengerId=352, Survived=False, Pclass=1, Name='Williams-Lambert, Mr. Fletcher Fellows', Sex='Male', Age=nan, Status=nan, SibSp=0, Parch=0, Ticket='113510', Fare=35.0, Cabin='C128', Embarked='S', Roomates=1.0), Pandas(Index=354, PassengerId=355, Survived=False, Pclass=3, Name='Yousif, Mr. Wazli', Sex='Male', Age=nan, Status=nan, SibSp=0, Parch=0, Ticket='2647', Fare=7.225, Cabin='nan', Embarked='C', Roomates=nan), Pandas(Index=358, PassengerId=359, Survived=True, Pclass=3, Name='McGovern, Miss. Mary', Sex='Female', Age=nan, Status=nan, SibSp=0, Parch=0, Ticket='330931', Fare=7.8792, Cabin='nan', Embarked='Q', Roomates=nan), Pandas(Index=359, PassengerId=360, Survived=True, Pclass=3, Name='Mockler, Miss. Helen Mary \"Ellie\"', Sex='Female', Age=nan, Status=nan, SibSp=0, Parch=0, Ticket='330980', Fare=7.8792, Cabin='nan', Embarked='Q', Roomates=nan), Pandas(Index=364, PassengerId=365, Survived=False, Pclass=3, Name=\"O'Brien, Mr. Thomas\", Sex='Male', Age=nan, Status=nan, SibSp=1, Parch=0, Ticket='370365', Fare=15.5, Cabin='nan', Embarked='Q', Roomates=nan), Pandas(Index=367, PassengerId=368, Survived=True, Pclass=3, Name='Moussa, Mrs. (Mantoura Boulos)', Sex='Female', Age=nan, Status=nan, SibSp=0, Parch=0, Ticket='2626', Fare=7.2292, Cabin='nan', Embarked='C', Roomates=nan), Pandas(Index=368, PassengerId=369, Survived=True, Pclass=3, Name='Jermyn, Miss. Annie', Sex='Female', Age=nan, Status=nan, SibSp=0, Parch=0, Ticket='14313', Fare=7.75, Cabin='nan', Embarked='Q', Roomates=nan), Pandas(Index=375, PassengerId=376, Survived=True, Pclass=1, Name='Meyer, Mrs. Edgar Joseph (Leila Saks)', Sex='Female', Age=nan, Status=nan, SibSp=1, Parch=0, Ticket='PC 17604', Fare=82.1708, Cabin='nan', Embarked='C', Roomates=nan), Pandas(Index=384, PassengerId=385, Survived=False, Pclass=3, Name='Plotcharsky, Mr. Vasil', Sex='Male', Age=nan, Status=nan, SibSp=0, Parch=0, Ticket='349227', Fare=7.8958, Cabin='nan', Embarked='S', Roomates=nan), Pandas(Index=388, PassengerId=389, Survived=False, Pclass=3, Name='Sadlier, Mr. Matthew', Sex='Male', Age=nan, Status=nan, SibSp=0, Parch=0, Ticket='367655', Fare=7.7292, Cabin='nan', Embarked='Q', Roomates=nan), Pandas(Index=409, PassengerId=410, Survived=False, Pclass=3, Name='Lefebre, Miss. Ida', Sex='Female', Age=nan, Status=nan, SibSp=3, Parch=1, Ticket='4133', Fare=25.4667, Cabin='nan', Embarked='S', Roomates=nan), Pandas(Index=410, PassengerId=411, Survived=False, Pclass=3, Name='Sdycoff, Mr. Todor', Sex='Male', Age=nan, Status=nan, SibSp=0, Parch=0, Ticket='349222', Fare=7.8958, Cabin='nan', Embarked='S', Roomates=nan), Pandas(Index=411, PassengerId=412, Survived=False, Pclass=3, Name='Hart, Mr. Henry', Sex='Male', Age=nan, Status=nan, SibSp=0, Parch=0, Ticket='394140', Fare=6.8583, Cabin='nan', Embarked='Q', Roomates=nan), Pandas(Index=413, PassengerId=414, Survived=False, Pclass=2, Name='Cunningham, Mr. Alfred Fleming', Sex='Male', Age=nan, Status=nan, SibSp=0, Parch=0, Ticket='239853', Fare=0.0, Cabin='nan', Embarked='S', Roomates=nan), Pandas(Index=415, PassengerId=416, Survived=False, Pclass=3, Name='Meek, Mrs. Thomas (Annie Louise Rowley)', Sex='Female', Age=nan, Status=nan, SibSp=0, Parch=0, Ticket='343095', Fare=8.05, Cabin='nan', Embarked='S', Roomates=nan), Pandas(Index=420, PassengerId=421, Survived=False, Pclass=3, Name='Gheorgheff, Mr. Stanio', Sex='Male', Age=nan, Status=nan, SibSp=0, Parch=0, Ticket='349254', Fare=7.8958, Cabin='nan', Embarked='C', Roomates=nan), Pandas(Index=425, PassengerId=426, Survived=False, Pclass=3, Name='Wiseman, Mr. Phillippe', Sex='Male', Age=nan, Status=nan, SibSp=0, Parch=0, Ticket='A/4. 34244', Fare=7.25, Cabin='nan', Embarked='S', Roomates=nan), Pandas(Index=428, PassengerId=429, Survived=False, Pclass=3, Name='Flynn, Mr. James', Sex='Male', Age=nan, Status=nan, SibSp=0, Parch=0, Ticket='364851', Fare=7.75, Cabin='nan', Embarked='Q', Roomates=nan), Pandas(Index=431, PassengerId=432, Survived=True, Pclass=3, Name='Thorneycroft, Mrs. Percival (Florence Kate White)', Sex='Female', Age=nan, Status=nan, SibSp=1, Parch=0, Ticket='376564', Fare=16.1, Cabin='nan', Embarked='S', Roomates=nan), Pandas(Index=444, PassengerId=445, Survived=True, Pclass=3, Name='Johannesen-Bratthammer, Mr. Bernt', Sex='Male', Age=nan, Status=nan, SibSp=0, Parch=0, Ticket='65306', Fare=8.1125, Cabin='nan', Embarked='S', Roomates=nan), Pandas(Index=451, PassengerId=452, Survived=False, Pclass=3, Name='Hagland, Mr. Ingvald Olai Olsen', Sex='Male', Age=nan, Status=nan, SibSp=1, Parch=0, Ticket='65303', Fare=19.9667, Cabin='nan', Embarked='S', Roomates=nan), Pandas(Index=454, PassengerId=455, Survived=False, Pclass=3, Name='Peduzzi, Mr. Joseph', Sex='Male', Age=nan, Status=nan, SibSp=0, Parch=0, Ticket='A/5 2817', Fare=8.05, Cabin='nan', Embarked='S', Roomates=nan), Pandas(Index=457, PassengerId=458, Survived=True, Pclass=1, Name='Kenyon, Mrs. Frederick R (Marion)', Sex='Female', Age=nan, Status=nan, SibSp=1, Parch=0, Ticket='17464', Fare=51.8625, Cabin='D21', Embarked='S', Roomates=1.0), Pandas(Index=459, PassengerId=460, Survived=False, Pclass=3, Name=\"O'Connor, Mr. Maurice\", Sex='Male', Age=nan, Status=nan, SibSp=0, Parch=0, Ticket='371060', Fare=7.75, Cabin='nan', Embarked='Q', Roomates=nan), Pandas(Index=464, PassengerId=465, Survived=False, Pclass=3, Name='Maisner, Mr. Simon', Sex='Male', Age=nan, Status=nan, SibSp=0, Parch=0, Ticket='A/S 2816', Fare=8.05, Cabin='nan', Embarked='S', Roomates=nan), Pandas(Index=466, PassengerId=467, Survived=False, Pclass=2, Name='Campbell, Mr. William', Sex='Male', Age=nan, Status=nan, SibSp=0, Parch=0, Ticket='239853', Fare=0.0, Cabin='nan', Embarked='S', Roomates=nan), Pandas(Index=468, PassengerId=469, Survived=False, Pclass=3, Name='Scanlan, Mr. James', Sex='Male', Age=nan, Status=nan, SibSp=0, Parch=0, Ticket='36209', Fare=7.725, Cabin='nan', Embarked='Q', Roomates=nan), Pandas(Index=470, PassengerId=471, Survived=False, Pclass=3, Name='Keefe, Mr. Arthur', Sex='Male', Age=nan, Status=nan, SibSp=0, Parch=0, Ticket='323592', Fare=7.25, Cabin='nan', Embarked='S', Roomates=nan), Pandas(Index=475, PassengerId=476, Survived=False, Pclass=1, Name='Clifford, Mr. George Quincy', Sex='Male', Age=nan, Status=nan, SibSp=0, Parch=0, Ticket='110465', Fare=52.0, Cabin='A14', Embarked='S', Roomates=1.0), Pandas(Index=481, PassengerId=482, Survived=False, Pclass=2, Name='Frost, Mr. Anthony Wood \"Archie\"', Sex='Male', Age=nan, Status=nan, SibSp=0, Parch=0, Ticket='239854', Fare=0.0, Cabin='nan', Embarked='S', Roomates=nan), Pandas(Index=485, PassengerId=486, Survived=False, Pclass=3, Name='Lefebre, Miss. Jeannie', Sex='Female', Age=nan, Status=nan, SibSp=3, Parch=1, Ticket='4133', Fare=25.4667, Cabin='nan', Embarked='S', Roomates=nan), Pandas(Index=490, PassengerId=491, Survived=False, Pclass=3, Name='Hagland, Mr. Konrad Mathias Reiersen', Sex='Male', Age=nan, Status=nan, SibSp=1, Parch=0, Ticket='65304', Fare=19.9667, Cabin='nan', Embarked='S', Roomates=nan), Pandas(Index=495, PassengerId=496, Survived=False, Pclass=3, Name='Yousseff, Mr. Gerious', Sex='Male', Age=nan, Status=nan, SibSp=0, Parch=0, Ticket='2627', Fare=14.4583, Cabin='nan', Embarked='C', Roomates=nan), Pandas(Index=497, PassengerId=498, Survived=False, Pclass=3, Name='Shellard, Mr. Frederick William', Sex='Male', Age=nan, Status=nan, SibSp=0, Parch=0, Ticket='C.A. 6212', Fare=15.1, Cabin='nan', Embarked='S', Roomates=nan), Pandas(Index=502, PassengerId=503, Survived=False, Pclass=3, Name=\"O'Sullivan, Miss. Bridget Mary\", Sex='Female', Age=nan, Status=nan, SibSp=0, Parch=0, Ticket='330909', Fare=7.6292, Cabin='nan', Embarked='Q', Roomates=nan), Pandas(Index=507, PassengerId=508, Survived=True, Pclass=1, Name='Bradley, Mr. George (\"George Arthur Brayton\")', Sex='Male', Age=nan, Status=nan, SibSp=0, Parch=0, Ticket='111427', Fare=26.55, Cabin='nan', Embarked='S', Roomates=nan), Pandas(Index=511, PassengerId=512, Survived=False, Pclass=3, Name='Webber, Mr. James', Sex='Male', Age=nan, Status=nan, SibSp=0, Parch=0, Ticket='SOTON/OQ 3101316', Fare=8.05, Cabin='nan', Embarked='S', Roomates=nan), Pandas(Index=517, PassengerId=518, Survived=False, Pclass=3, Name='Ryan, Mr. Patrick', Sex='Male', Age=nan, Status=nan, SibSp=0, Parch=0, Ticket='371110', Fare=24.15, Cabin='nan', Embarked='Q', Roomates=nan), Pandas(Index=522, PassengerId=523, Survived=False, Pclass=3, Name='Lahoud, Mr. Sarkis', Sex='Male', Age=nan, Status=nan, SibSp=0, Parch=0, Ticket='2624', Fare=7.225, Cabin='nan', Embarked='C', Roomates=nan), Pandas(Index=524, PassengerId=525, Survived=False, Pclass=3, Name='Kassem, Mr. Fared', Sex='Male', Age=nan, Status=nan, SibSp=0, Parch=0, Ticket='2700', Fare=7.2292, Cabin='nan', Embarked='C', Roomates=nan), Pandas(Index=527, PassengerId=528, Survived=False, Pclass=1, Name='Farthing, Mr. John', Sex='Male', Age=nan, Status=nan, SibSp=0, Parch=0, Ticket='PC 17483', Fare=221.7792, Cabin='C95', Embarked='S', Roomates=1.0), Pandas(Index=531, PassengerId=532, Survived=False, Pclass=3, Name='Toufik, Mr. Nakli', Sex='Male', Age=nan, Status=nan, SibSp=0, Parch=0, Ticket='2641', Fare=7.2292, Cabin='nan', Embarked='C', Roomates=nan), Pandas(Index=533, PassengerId=534, Survived=True, Pclass=3, Name='Peter, Mrs. Catherine (Catherine Rizk)', Sex='Female', Age=nan, Status=nan, SibSp=0, Parch=2, Ticket='2668', Fare=22.3583, Cabin='nan', Embarked='C', Roomates=nan), Pandas(Index=538, PassengerId=539, Survived=False, Pclass=3, Name='Risien, Mr. Samuel Beard', Sex='Male', Age=nan, Status=nan, SibSp=0, Parch=0, Ticket='364498', Fare=14.5, Cabin='nan', Embarked='S', Roomates=nan), Pandas(Index=547, PassengerId=548, Survived=True, Pclass=2, Name='Padro y Manent, Mr. Julian', Sex='Male', Age=nan, Status=nan, SibSp=0, Parch=0, Ticket='SC/PARIS 2146', Fare=13.8625, Cabin='nan', Embarked='C', Roomates=nan), Pandas(Index=552, PassengerId=553, Survived=False, Pclass=3, Name=\"O'Brien, Mr. Timothy\", Sex='Male', Age=nan, Status=nan, SibSp=0, Parch=0, Ticket='330979', Fare=7.8292, Cabin='nan', Embarked='Q', Roomates=nan), Pandas(Index=557, PassengerId=558, Survived=False, Pclass=1, Name='Robbins, Mr. Victor', Sex='Male', Age=nan, Status=nan, SibSp=0, Parch=0, Ticket='PC 17757', Fare=227.525, Cabin='nan', Embarked='C', Roomates=nan), Pandas(Index=560, PassengerId=561, Survived=False, Pclass=3, Name='Morrow, Mr. Thomas Rowan', Sex='Male', Age=nan, Status=nan, SibSp=0, Parch=0, Ticket='372622', Fare=7.75, Cabin='nan', Embarked='Q', Roomates=nan), Pandas(Index=563, PassengerId=564, Survived=False, Pclass=3, Name='Simmons, Mr. John', Sex='Male', Age=nan, Status=nan, SibSp=0, Parch=0, Ticket='SOTON/OQ 392082', Fare=8.05, Cabin='nan', Embarked='S', Roomates=nan), Pandas(Index=564, PassengerId=565, Survived=False, Pclass=3, Name='Meanwell, Miss. (Marion Ogden)', Sex='Female', Age=nan, Status=nan, SibSp=0, Parch=0, Ticket='SOTON/O.Q. 392087', Fare=8.05, Cabin='nan', Embarked='S', Roomates=nan), Pandas(Index=568, PassengerId=569, Survived=False, Pclass=3, Name='Doharr, Mr. Tannous', Sex='Male', Age=nan, Status=nan, SibSp=0, Parch=0, Ticket='2686', Fare=7.2292, Cabin='nan', Embarked='C', Roomates=nan), Pandas(Index=573, PassengerId=574, Survived=True, Pclass=3, Name='Kelly, Miss. Mary', Sex='Female', Age=nan, Status=nan, SibSp=0, Parch=0, Ticket='14312', Fare=7.75, Cabin='nan', Embarked='Q', Roomates=nan), Pandas(Index=578, PassengerId=579, Survived=False, Pclass=3, Name='Caram, Mrs. Joseph (Maria Elias)', Sex='Female', Age=nan, Status=nan, SibSp=1, Parch=0, Ticket='2689', Fare=14.4583, Cabin='nan', Embarked='C', Roomates=nan), Pandas(Index=584, PassengerId=585, Survived=False, Pclass=3, Name='Paulner, Mr. Uscher', Sex='Male', Age=nan, Status=nan, SibSp=0, Parch=0, Ticket='3411', Fare=8.7125, Cabin='nan', Embarked='C', Roomates=nan), Pandas(Index=589, PassengerId=590, Survived=False, Pclass=3, Name='Murdlin, Mr. Joseph', Sex='Male', Age=nan, Status=nan, SibSp=0, Parch=0, Ticket='A./5. 3235', Fare=8.05, Cabin='nan', Embarked='S', Roomates=nan), Pandas(Index=593, PassengerId=594, Survived=False, Pclass=3, Name='Bourke, Miss. Mary', Sex='Female', Age=nan, Status=nan, SibSp=0, Parch=2, Ticket='364848', Fare=7.75, Cabin='nan', Embarked='Q', Roomates=nan), Pandas(Index=596, PassengerId=597, Survived=True, Pclass=2, Name='Leitch, Miss. Jessie Wills', Sex='Female', Age=nan, Status=nan, SibSp=0, Parch=0, Ticket='248727', Fare=33.0, Cabin='nan', Embarked='S', Roomates=nan), Pandas(Index=598, PassengerId=599, Survived=False, Pclass=3, Name='Boulos, Mr. Hanna', Sex='Male', Age=nan, Status=nan, SibSp=0, Parch=0, Ticket='2664', Fare=7.225, Cabin='nan', Embarked='C', Roomates=nan), Pandas(Index=601, PassengerId=602, Survived=False, Pclass=3, Name='Slabenoff, Mr. Petco', Sex='Male', Age=nan, Status=nan, SibSp=0, Parch=0, Ticket='349214', Fare=7.8958, Cabin='nan', Embarked='S', Roomates=nan), Pandas(Index=602, PassengerId=603, Survived=False, Pclass=1, Name='Harrington, Mr. Charles H', Sex='Male', Age=nan, Status=nan, SibSp=0, Parch=0, Ticket='113796', Fare=42.4, Cabin='nan', Embarked='S', Roomates=nan), Pandas(Index=611, PassengerId=612, Survived=False, Pclass=3, Name='Jardin, Mr. Jose Neto', Sex='Male', Age=nan, Status=nan, SibSp=0, Parch=0, Ticket='SOTON/O.Q. 3101305', Fare=7.05, Cabin='nan', Embarked='S', Roomates=nan), Pandas(Index=612, PassengerId=613, Survived=True, Pclass=3, Name='Murphy, Miss. Margaret Jane', Sex='Female', Age=nan, Status=nan, SibSp=1, Parch=0, Ticket='367230', Fare=15.5, Cabin='nan', Embarked='Q', Roomates=nan), Pandas(Index=613, PassengerId=614, Survived=False, Pclass=3, Name='Horgan, Mr. John', Sex='Male', Age=nan, Status=nan, SibSp=0, Parch=0, Ticket='370377', Fare=7.75, Cabin='nan', Embarked='Q', Roomates=nan), Pandas(Index=629, PassengerId=630, Survived=False, Pclass=3, Name=\"O'Connell, Mr. Patrick D\", Sex='Male', Age=nan, Status=nan, SibSp=0, Parch=0, Ticket='334912', Fare=7.7333, Cabin='nan', Embarked='Q', Roomates=nan), Pandas(Index=633, PassengerId=634, Survived=False, Pclass=1, Name='Parr, Mr. William Henry Marsh', Sex='Male', Age=nan, Status=nan, SibSp=0, Parch=0, Ticket='112052', Fare=0.0, Cabin='nan', Embarked='S', Roomates=nan), Pandas(Index=639, PassengerId=640, Survived=False, Pclass=3, Name='Thorneycroft, Mr. Percival', Sex='Male', Age=nan, Status=nan, SibSp=1, Parch=0, Ticket='376564', Fare=16.1, Cabin='nan', Embarked='S', Roomates=nan), Pandas(Index=643, PassengerId=644, Survived=True, Pclass=3, Name='Foo, Mr. Choong', Sex='Male', Age=nan, Status=nan, SibSp=0, Parch=0, Ticket='1601', Fare=56.4958, Cabin='nan', Embarked='S', Roomates=nan), Pandas(Index=648, PassengerId=649, Survived=False, Pclass=3, Name='Willey, Mr. Edward', Sex='Male', Age=nan, Status=nan, SibSp=0, Parch=0, Ticket='S.O./P.P. 751', Fare=7.55, Cabin='nan', Embarked='S', Roomates=nan), Pandas(Index=650, PassengerId=651, Survived=False, Pclass=3, Name='Mitkoff, Mr. Mito', Sex='Male', Age=nan, Status=nan, SibSp=0, Parch=0, Ticket='349221', Fare=7.8958, Cabin='nan', Embarked='S', Roomates=nan), Pandas(Index=653, PassengerId=654, Survived=True, Pclass=3, Name='O\\'Leary, Miss. Hanora \"Norah\"', Sex='Female', Age=nan, Status=nan, SibSp=0, Parch=0, Ticket='330919', Fare=7.8292, Cabin='nan', Embarked='Q', Roomates=nan), Pandas(Index=656, PassengerId=657, Survived=False, Pclass=3, Name='Radeff, Mr. Alexander', Sex='Male', Age=nan, Status=nan, SibSp=0, Parch=0, Ticket='349223', Fare=7.8958, Cabin='nan', Embarked='S', Roomates=nan), Pandas(Index=667, PassengerId=668, Survived=False, Pclass=3, Name='Rommetvedt, Mr. Knud Paust', Sex='Male', Age=nan, Status=nan, SibSp=0, Parch=0, Ticket='312993', Fare=7.775, Cabin='nan', Embarked='S', Roomates=nan), Pandas(Index=669, PassengerId=670, Survived=True, Pclass=1, Name='Taylor, Mrs. Elmer Zebley (Juliet Cummins Wright)', Sex='Female', Age=nan, Status=nan, SibSp=1, Parch=0, Ticket='19996', Fare=52.0, Cabin='C126', Embarked='S', Roomates=2.0), Pandas(Index=674, PassengerId=675, Survived=False, Pclass=2, Name='Watson, Mr. Ennis Hastings', Sex='Male', Age=nan, Status=nan, SibSp=0, Parch=0, Ticket='239856', Fare=0.0, Cabin='nan', Embarked='S', Roomates=nan), Pandas(Index=680, PassengerId=681, Survived=False, Pclass=3, Name='Peters, Miss. Katie', Sex='Female', Age=nan, Status=nan, SibSp=0, Parch=0, Ticket='330935', Fare=8.1375, Cabin='nan', Embarked='Q', Roomates=nan), Pandas(Index=692, PassengerId=693, Survived=True, Pclass=3, Name='Lam, Mr. Ali', Sex='Male', Age=nan, Status=nan, SibSp=0, Parch=0, Ticket='1601', Fare=56.4958, Cabin='nan', Embarked='S', Roomates=nan), Pandas(Index=697, PassengerId=698, Survived=True, Pclass=3, Name='Mullens, Miss. Katherine \"Katie\"', Sex='Female', Age=nan, Status=nan, SibSp=0, Parch=0, Ticket='35852', Fare=7.7333, Cabin='nan', Embarked='Q', Roomates=nan), Pandas(Index=709, PassengerId=710, Survived=True, Pclass=3, Name='Moubarek, Master. Halim Gonios (\"William George\")', Sex='Male', Age=nan, Status=nan, SibSp=1, Parch=1, Ticket='2661', Fare=15.2458, Cabin='nan', Embarked='C', Roomates=nan), Pandas(Index=711, PassengerId=712, Survived=False, Pclass=1, Name='Klaber, Mr. Herman', Sex='Male', Age=nan, Status=nan, SibSp=0, Parch=0, Ticket='113028', Fare=26.55, Cabin='C124', Embarked='S', Roomates=2.0), Pandas(Index=718, PassengerId=719, Survived=False, Pclass=3, Name='McEvoy, Mr. Michael', Sex='Male', Age=nan, Status=nan, SibSp=0, Parch=0, Ticket='36568', Fare=15.5, Cabin='nan', Embarked='Q', Roomates=nan), Pandas(Index=727, PassengerId=728, Survived=True, Pclass=3, Name='Mannion, Miss. Margareth', Sex='Female', Age=nan, Status=nan, SibSp=0, Parch=0, Ticket='36866', Fare=7.7375, Cabin='nan', Embarked='Q', Roomates=nan), Pandas(Index=732, PassengerId=733, Survived=False, Pclass=2, Name='Knight, Mr. Robert J', Sex='Male', Age=nan, Status=nan, SibSp=0, Parch=0, Ticket='239855', Fare=0.0, Cabin='nan', Embarked='S', Roomates=nan), Pandas(Index=738, PassengerId=739, Survived=False, Pclass=3, Name='Ivanoff, Mr. Kanio', Sex='Male', Age=nan, Status=nan, SibSp=0, Parch=0, Ticket='349201', Fare=7.8958, Cabin='nan', Embarked='S', Roomates=nan), Pandas(Index=739, PassengerId=740, Survived=False, Pclass=3, Name='Nankoff, Mr. Minko', Sex='Male', Age=nan, Status=nan, SibSp=0, Parch=0, Ticket='349218', Fare=7.8958, Cabin='nan', Embarked='S', Roomates=nan), Pandas(Index=740, PassengerId=741, Survived=True, Pclass=1, Name='Hawksford, Mr. Walter James', Sex='Male', Age=nan, Status=nan, SibSp=0, Parch=0, Ticket='16988', Fare=30.0, Cabin='D45', Embarked='S', Roomates=1.0), Pandas(Index=760, PassengerId=761, Survived=False, Pclass=3, Name='Garfirth, Mr. John', Sex='Male', Age=nan, Status=nan, SibSp=0, Parch=0, Ticket='358585', Fare=14.5, Cabin='nan', Embarked='S', Roomates=nan), Pandas(Index=766, PassengerId=767, Survived=False, Pclass=1, Name='Brewe, Dr. Arthur Jackson', Sex='Male', Age=nan, Status=nan, SibSp=0, Parch=0, Ticket='112379', Fare=39.6, Cabin='nan', Embarked='C', Roomates=nan), Pandas(Index=768, PassengerId=769, Survived=False, Pclass=3, Name='Moran, Mr. Daniel J', Sex='Male', Age=nan, Status=nan, SibSp=1, Parch=0, Ticket='371110', Fare=24.15, Cabin='nan', Embarked='Q', Roomates=nan), Pandas(Index=773, PassengerId=774, Survived=False, Pclass=3, Name='Elias, Mr. Dibo', Sex='Male', Age=nan, Status=nan, SibSp=0, Parch=0, Ticket='2674', Fare=7.225, Cabin='nan', Embarked='C', Roomates=nan), Pandas(Index=776, PassengerId=777, Survived=False, Pclass=3, Name='Tobin, Mr. Roger', Sex='Male', Age=nan, Status=nan, SibSp=0, Parch=0, Ticket='383121', Fare=7.75, Cabin='F38', Embarked='Q', Roomates=1.0), Pandas(Index=778, PassengerId=779, Survived=False, Pclass=3, Name='Kilgannon, Mr. Thomas J', Sex='Male', Age=nan, Status=nan, SibSp=0, Parch=0, Ticket='36865', Fare=7.7375, Cabin='nan', Embarked='Q', Roomates=nan), Pandas(Index=783, PassengerId=784, Survived=False, Pclass=3, Name='Johnston, Mr. Andrew G', Sex='Male', Age=nan, Status=nan, SibSp=1, Parch=2, Ticket='W./C. 6607', Fare=23.45, Cabin='nan', Embarked='S', Roomates=nan), Pandas(Index=790, PassengerId=791, Survived=False, Pclass=3, Name='Keane, Mr. Andrew \"Andy\"', Sex='Male', Age=nan, Status=nan, SibSp=0, Parch=0, Ticket='12460', Fare=7.75, Cabin='nan', Embarked='Q', Roomates=nan), Pandas(Index=792, PassengerId=793, Survived=False, Pclass=3, Name='Sage, Miss. Stella Anna', Sex='Female', Age=nan, Status=nan, SibSp=8, Parch=2, Ticket='CA. 2343', Fare=69.55, Cabin='nan', Embarked='S', Roomates=nan), Pandas(Index=793, PassengerId=794, Survived=False, Pclass=1, Name='Hoyt, Mr. William Fisher', Sex='Male', Age=nan, Status=nan, SibSp=0, Parch=0, Ticket='PC 17600', Fare=30.6958, Cabin='nan', Embarked='C', Roomates=nan), Pandas(Index=815, PassengerId=816, Survived=False, Pclass=1, Name='Fry, Mr. Richard', Sex='Male', Age=nan, Status=nan, SibSp=0, Parch=0, Ticket='112058', Fare=0.0, Cabin='B102', Embarked='S', Roomates=1.0), Pandas(Index=825, PassengerId=826, Survived=False, Pclass=3, Name='Flynn, Mr. John', Sex='Male', Age=nan, Status=nan, SibSp=0, Parch=0, Ticket='368323', Fare=6.95, Cabin='nan', Embarked='Q', Roomates=nan), Pandas(Index=826, PassengerId=827, Survived=False, Pclass=3, Name='Lam, Mr. Len', Sex='Male', Age=nan, Status=nan, SibSp=0, Parch=0, Ticket='1601', Fare=56.4958, Cabin='nan', Embarked='S', Roomates=nan), Pandas(Index=828, PassengerId=829, Survived=True, Pclass=3, Name='McCormack, Mr. Thomas Joseph', Sex='Male', Age=nan, Status=nan, SibSp=0, Parch=0, Ticket='367228', Fare=7.75, Cabin='nan', Embarked='Q', Roomates=nan), Pandas(Index=832, PassengerId=833, Survived=False, Pclass=3, Name='Saad, Mr. Amin', Sex='Male', Age=nan, Status=nan, SibSp=0, Parch=0, Ticket='2671', Fare=7.2292, Cabin='nan', Embarked='C', Roomates=nan), Pandas(Index=837, PassengerId=838, Survived=False, Pclass=3, Name='Sirota, Mr. Maurice', Sex='Male', Age=nan, Status=nan, SibSp=0, Parch=0, Ticket='392092', Fare=8.05, Cabin='nan', Embarked='S', Roomates=nan), Pandas(Index=839, PassengerId=840, Survived=True, Pclass=1, Name='Marechal, Mr. Pierre', Sex='Male', Age=nan, Status=nan, SibSp=0, Parch=0, Ticket='11774', Fare=29.7, Cabin='C47', Embarked='C', Roomates=1.0), Pandas(Index=846, PassengerId=847, Survived=False, Pclass=3, Name='Sage, Mr. Douglas Bullen', Sex='Male', Age=nan, Status=nan, SibSp=8, Parch=2, Ticket='CA. 2343', Fare=69.55, Cabin='nan', Embarked='S', Roomates=nan), Pandas(Index=849, PassengerId=850, Survived=True, Pclass=1, Name='Goldenberg, Mrs. Samuel L (Edwiga Grabowska)', Sex='Female', Age=nan, Status=nan, SibSp=1, Parch=0, Ticket='17453', Fare=89.1042, Cabin='C92', Embarked='C', Roomates=2.0), Pandas(Index=859, PassengerId=860, Survived=False, Pclass=3, Name='Razi, Mr. Raihed', Sex='Male', Age=nan, Status=nan, SibSp=0, Parch=0, Ticket='2629', Fare=7.2292, Cabin='nan', Embarked='C', Roomates=nan), Pandas(Index=863, PassengerId=864, Survived=False, Pclass=3, Name='Sage, Miss. Dorothy Edith \"Dolly\"', Sex='Female', Age=nan, Status=nan, SibSp=8, Parch=2, Ticket='CA. 2343', Fare=69.55, Cabin='nan', Embarked='S', Roomates=nan), Pandas(Index=868, PassengerId=869, Survived=False, Pclass=3, Name='van Melkebeke, Mr. Philemon', Sex='Male', Age=nan, Status=nan, SibSp=0, Parch=0, Ticket='345777', Fare=9.5, Cabin='nan', Embarked='S', Roomates=nan), Pandas(Index=878, PassengerId=879, Survived=False, Pclass=3, Name='Laleff, Mr. Kristo', Sex='Male', Age=nan, Status=nan, SibSp=0, Parch=0, Ticket='349217', Fare=7.8958, Cabin='nan', Embarked='S', Roomates=nan), Pandas(Index=888, PassengerId=889, Survived=False, Pclass=3, Name='Johnston, Miss. Catherine Helen \"Carrie\"', Sex='Female', Age=nan, Status=nan, SibSp=1, Parch=2, Ticket='W./C. 6607', Fare=23.45, Cabin='nan', Embarked='S', Roomates=nan)]\n"
     ]
    }
   ],
   "source": [
    "result = []\n",
    "i  = 0\n",
    "nbNullValuesEachRow = df.isnull().sum(axis=1)\n",
    "for row in df.itertuples():\n",
    "    #Si le nombre (somme) de valeurs nulles (Nan, None)\n",
    "    #dans chaque ligne est strictement supérieur à 1\n",
    "    if nbNullValuesEachRow[i] > 1:\n",
    "        result.append(row)\n",
    "    i += 1\n",
    "print(result)"
   ]
  },
  {
   "cell_type": "markdown",
   "metadata": {
    "slideshow": {
     "slide_type": "slide"
    }
   },
   "source": [
    "\n",
    "\n",
    "## Question: describe, showing quintiles\n",
    "\n",
    "For each numerical column, show the *quintiles* (from $20\\%$ up to $80\\%$).\n",
    "\n",
    "### Answer\n",
    "\n"
   ]
  },
  {
   "cell_type": "code",
   "execution_count": 138,
   "metadata": {
    "ExecuteTime": {
     "end_time": "2020-02-23T21:34:38.786828Z",
     "start_time": "2020-02-23T21:34:38.749225Z"
    },
    "autoscroll": "auto",
    "options": {
     "caption": false,
     "complete": true,
     "display_data": true,
     "display_stream": true,
     "dpi": 200,
     "echo": true,
     "evaluate": false,
     "f_env": null,
     "f_pos": "htpb",
     "f_size": [
      6,
      4
     ],
     "f_spines": true,
     "fig": true,
     "include": true,
     "name": null,
     "option_string": "evaluate=False",
     "results": "verbatim",
     "term": false,
     "wrap": "output"
    },
    "slideshow": {
     "slide_type": "subslide"
    }
   },
   "outputs": [
    {
     "data": {
      "text/html": [
       "<div>\n",
       "<style scoped>\n",
       "    .dataframe tbody tr th:only-of-type {\n",
       "        vertical-align: middle;\n",
       "    }\n",
       "\n",
       "    .dataframe tbody tr th {\n",
       "        vertical-align: top;\n",
       "    }\n",
       "\n",
       "    .dataframe thead th {\n",
       "        text-align: right;\n",
       "    }\n",
       "</style>\n",
       "<table border=\"1\" class=\"dataframe\">\n",
       "  <thead>\n",
       "    <tr style=\"text-align: right;\">\n",
       "      <th></th>\n",
       "      <th>PassengerId</th>\n",
       "      <th>Survived</th>\n",
       "      <th>Age</th>\n",
       "      <th>Fare</th>\n",
       "    </tr>\n",
       "  </thead>\n",
       "  <tbody>\n",
       "    <tr>\n",
       "      <td>0.2</td>\n",
       "      <td>179.0</td>\n",
       "      <td>0.0</td>\n",
       "      <td>19.0</td>\n",
       "      <td>7.8542</td>\n",
       "    </tr>\n",
       "    <tr>\n",
       "      <td>0.3</td>\n",
       "      <td>268.0</td>\n",
       "      <td>0.0</td>\n",
       "      <td>22.0</td>\n",
       "      <td>8.0500</td>\n",
       "    </tr>\n",
       "    <tr>\n",
       "      <td>0.4</td>\n",
       "      <td>357.0</td>\n",
       "      <td>0.0</td>\n",
       "      <td>25.0</td>\n",
       "      <td>10.5000</td>\n",
       "    </tr>\n",
       "    <tr>\n",
       "      <td>0.5</td>\n",
       "      <td>446.0</td>\n",
       "      <td>0.0</td>\n",
       "      <td>28.0</td>\n",
       "      <td>14.4542</td>\n",
       "    </tr>\n",
       "    <tr>\n",
       "      <td>0.6</td>\n",
       "      <td>535.0</td>\n",
       "      <td>0.0</td>\n",
       "      <td>31.8</td>\n",
       "      <td>21.6792</td>\n",
       "    </tr>\n",
       "    <tr>\n",
       "      <td>0.7</td>\n",
       "      <td>624.0</td>\n",
       "      <td>1.0</td>\n",
       "      <td>36.0</td>\n",
       "      <td>27.0000</td>\n",
       "    </tr>\n",
       "    <tr>\n",
       "      <td>0.8</td>\n",
       "      <td>713.0</td>\n",
       "      <td>1.0</td>\n",
       "      <td>41.0</td>\n",
       "      <td>39.6875</td>\n",
       "    </tr>\n",
       "  </tbody>\n",
       "</table>\n",
       "</div>"
      ],
      "text/plain": [
       "     PassengerId  Survived   Age     Fare\n",
       "0.2        179.0       0.0  19.0   7.8542\n",
       "0.3        268.0       0.0  22.0   8.0500\n",
       "0.4        357.0       0.0  25.0  10.5000\n",
       "0.5        446.0       0.0  28.0  14.4542\n",
       "0.6        535.0       0.0  31.8  21.6792\n",
       "0.7        624.0       1.0  36.0  27.0000\n",
       "0.8        713.0       1.0  41.0  39.6875"
      ]
     },
     "execution_count": 138,
     "metadata": {},
     "output_type": "execute_result"
    }
   ],
   "source": [
    "df.quantile(np.arange(.2, .8, .1), numeric_only=True)"
   ]
  },
  {
   "cell_type": "markdown",
   "metadata": {
    "slideshow": {
     "slide_type": "slide"
    }
   },
   "source": [
    "\n",
    "\n",
    "## Question: binning the `Age` column\n",
    "\n",
    "Create a new categorical column named `Status`.\n",
    "\n",
    "The value should be should depend on the `Age`\n",
    "column with bins  `[0,17], (17, 40], (40, 60], (60, 100]`\n",
    "(`np.nan` for passengers whose age is unknown).\n",
    "\n",
    "### Answer\n",
    "\n",
    "\n"
   ]
  },
  {
   "cell_type": "code",
   "execution_count": 139,
   "metadata": {
    "ExecuteTime": {
     "end_time": "2020-02-23T21:34:39.355790Z",
     "start_time": "2020-02-23T21:34:38.901300Z"
    },
    "autoscroll": "auto",
    "options": {
     "caption": false,
     "complete": true,
     "display_data": true,
     "display_stream": true,
     "dpi": 200,
     "echo": true,
     "evaluate": false,
     "f_env": null,
     "f_pos": "htpb",
     "f_size": [
      6,
      4
     ],
     "f_spines": true,
     "fig": true,
     "include": true,
     "name": null,
     "option_string": "evaluate=False",
     "results": "verbatim",
     "term": false,
     "wrap": "output"
    },
    "slideshow": {
     "slide_type": "subslide"
    }
   },
   "outputs": [
    {
     "data": {
      "text/html": [
       "<div>\n",
       "<style scoped>\n",
       "    .dataframe tbody tr th:only-of-type {\n",
       "        vertical-align: middle;\n",
       "    }\n",
       "\n",
       "    .dataframe tbody tr th {\n",
       "        vertical-align: top;\n",
       "    }\n",
       "\n",
       "    .dataframe thead th {\n",
       "        text-align: right;\n",
       "    }\n",
       "</style>\n",
       "<table border=\"1\" class=\"dataframe\">\n",
       "  <thead>\n",
       "    <tr style=\"text-align: right;\">\n",
       "      <th></th>\n",
       "      <th>PassengerId</th>\n",
       "      <th>Survived</th>\n",
       "      <th>Pclass</th>\n",
       "      <th>Name</th>\n",
       "      <th>Sex</th>\n",
       "      <th>Age</th>\n",
       "      <th>Status</th>\n",
       "      <th>SibSp</th>\n",
       "      <th>Parch</th>\n",
       "      <th>Ticket</th>\n",
       "      <th>Fare</th>\n",
       "      <th>Cabin</th>\n",
       "      <th>Embarked</th>\n",
       "    </tr>\n",
       "  </thead>\n",
       "  <tbody>\n",
       "    <tr>\n",
       "      <td>0</td>\n",
       "      <td>1</td>\n",
       "      <td>False</td>\n",
       "      <td>3</td>\n",
       "      <td>Braund, Mr. Owen Harris</td>\n",
       "      <td>Male</td>\n",
       "      <td>22.0</td>\n",
       "      <td>[18, 40]</td>\n",
       "      <td>1</td>\n",
       "      <td>0</td>\n",
       "      <td>A/5 21171</td>\n",
       "      <td>7.2500</td>\n",
       "      <td>nan</td>\n",
       "      <td>S</td>\n",
       "    </tr>\n",
       "    <tr>\n",
       "      <td>1</td>\n",
       "      <td>2</td>\n",
       "      <td>True</td>\n",
       "      <td>1</td>\n",
       "      <td>Cumings, Mrs. John Bradley (Florence Briggs Th...</td>\n",
       "      <td>Female</td>\n",
       "      <td>38.0</td>\n",
       "      <td>[18, 40]</td>\n",
       "      <td>1</td>\n",
       "      <td>0</td>\n",
       "      <td>PC 17599</td>\n",
       "      <td>71.2833</td>\n",
       "      <td>C85</td>\n",
       "      <td>C</td>\n",
       "    </tr>\n",
       "    <tr>\n",
       "      <td>2</td>\n",
       "      <td>3</td>\n",
       "      <td>True</td>\n",
       "      <td>3</td>\n",
       "      <td>Heikkinen, Miss. Laina</td>\n",
       "      <td>Female</td>\n",
       "      <td>26.0</td>\n",
       "      <td>[18, 40]</td>\n",
       "      <td>0</td>\n",
       "      <td>0</td>\n",
       "      <td>STON/O2. 3101282</td>\n",
       "      <td>7.9250</td>\n",
       "      <td>nan</td>\n",
       "      <td>S</td>\n",
       "    </tr>\n",
       "    <tr>\n",
       "      <td>3</td>\n",
       "      <td>4</td>\n",
       "      <td>True</td>\n",
       "      <td>1</td>\n",
       "      <td>Futrelle, Mrs. Jacques Heath (Lily May Peel)</td>\n",
       "      <td>Female</td>\n",
       "      <td>35.0</td>\n",
       "      <td>[18, 40]</td>\n",
       "      <td>1</td>\n",
       "      <td>0</td>\n",
       "      <td>113803</td>\n",
       "      <td>53.1000</td>\n",
       "      <td>C123</td>\n",
       "      <td>S</td>\n",
       "    </tr>\n",
       "    <tr>\n",
       "      <td>4</td>\n",
       "      <td>5</td>\n",
       "      <td>False</td>\n",
       "      <td>3</td>\n",
       "      <td>Allen, Mr. William Henry</td>\n",
       "      <td>Male</td>\n",
       "      <td>35.0</td>\n",
       "      <td>[18, 40]</td>\n",
       "      <td>0</td>\n",
       "      <td>0</td>\n",
       "      <td>373450</td>\n",
       "      <td>8.0500</td>\n",
       "      <td>nan</td>\n",
       "      <td>S</td>\n",
       "    </tr>\n",
       "    <tr>\n",
       "      <td>...</td>\n",
       "      <td>...</td>\n",
       "      <td>...</td>\n",
       "      <td>...</td>\n",
       "      <td>...</td>\n",
       "      <td>...</td>\n",
       "      <td>...</td>\n",
       "      <td>...</td>\n",
       "      <td>...</td>\n",
       "      <td>...</td>\n",
       "      <td>...</td>\n",
       "      <td>...</td>\n",
       "      <td>...</td>\n",
       "      <td>...</td>\n",
       "    </tr>\n",
       "    <tr>\n",
       "      <td>886</td>\n",
       "      <td>887</td>\n",
       "      <td>False</td>\n",
       "      <td>2</td>\n",
       "      <td>Montvila, Rev. Juozas</td>\n",
       "      <td>Male</td>\n",
       "      <td>27.0</td>\n",
       "      <td>[18, 40]</td>\n",
       "      <td>0</td>\n",
       "      <td>0</td>\n",
       "      <td>211536</td>\n",
       "      <td>13.0000</td>\n",
       "      <td>nan</td>\n",
       "      <td>S</td>\n",
       "    </tr>\n",
       "    <tr>\n",
       "      <td>887</td>\n",
       "      <td>888</td>\n",
       "      <td>True</td>\n",
       "      <td>1</td>\n",
       "      <td>Graham, Miss. Margaret Edith</td>\n",
       "      <td>Female</td>\n",
       "      <td>19.0</td>\n",
       "      <td>[18, 40]</td>\n",
       "      <td>0</td>\n",
       "      <td>0</td>\n",
       "      <td>112053</td>\n",
       "      <td>30.0000</td>\n",
       "      <td>B42</td>\n",
       "      <td>S</td>\n",
       "    </tr>\n",
       "    <tr>\n",
       "      <td>888</td>\n",
       "      <td>889</td>\n",
       "      <td>False</td>\n",
       "      <td>3</td>\n",
       "      <td>Johnston, Miss. Catherine Helen \"Carrie\"</td>\n",
       "      <td>Female</td>\n",
       "      <td>NaN</td>\n",
       "      <td>NaN</td>\n",
       "      <td>1</td>\n",
       "      <td>2</td>\n",
       "      <td>W./C. 6607</td>\n",
       "      <td>23.4500</td>\n",
       "      <td>nan</td>\n",
       "      <td>S</td>\n",
       "    </tr>\n",
       "    <tr>\n",
       "      <td>889</td>\n",
       "      <td>890</td>\n",
       "      <td>True</td>\n",
       "      <td>1</td>\n",
       "      <td>Behr, Mr. Karl Howell</td>\n",
       "      <td>Male</td>\n",
       "      <td>26.0</td>\n",
       "      <td>[18, 40]</td>\n",
       "      <td>0</td>\n",
       "      <td>0</td>\n",
       "      <td>111369</td>\n",
       "      <td>30.0000</td>\n",
       "      <td>C148</td>\n",
       "      <td>C</td>\n",
       "    </tr>\n",
       "    <tr>\n",
       "      <td>890</td>\n",
       "      <td>891</td>\n",
       "      <td>False</td>\n",
       "      <td>3</td>\n",
       "      <td>Dooley, Mr. Patrick</td>\n",
       "      <td>Male</td>\n",
       "      <td>32.0</td>\n",
       "      <td>[18, 40]</td>\n",
       "      <td>0</td>\n",
       "      <td>0</td>\n",
       "      <td>370376</td>\n",
       "      <td>7.7500</td>\n",
       "      <td>nan</td>\n",
       "      <td>Q</td>\n",
       "    </tr>\n",
       "  </tbody>\n",
       "</table>\n",
       "<p>891 rows × 13 columns</p>\n",
       "</div>"
      ],
      "text/plain": [
       "     PassengerId  Survived Pclass  \\\n",
       "0              1     False      3   \n",
       "1              2      True      1   \n",
       "2              3      True      3   \n",
       "3              4      True      1   \n",
       "4              5     False      3   \n",
       "..           ...       ...    ...   \n",
       "886          887     False      2   \n",
       "887          888      True      1   \n",
       "888          889     False      3   \n",
       "889          890      True      1   \n",
       "890          891     False      3   \n",
       "\n",
       "                                                  Name     Sex   Age  \\\n",
       "0                              Braund, Mr. Owen Harris    Male  22.0   \n",
       "1    Cumings, Mrs. John Bradley (Florence Briggs Th...  Female  38.0   \n",
       "2                               Heikkinen, Miss. Laina  Female  26.0   \n",
       "3         Futrelle, Mrs. Jacques Heath (Lily May Peel)  Female  35.0   \n",
       "4                             Allen, Mr. William Henry    Male  35.0   \n",
       "..                                                 ...     ...   ...   \n",
       "886                              Montvila, Rev. Juozas    Male  27.0   \n",
       "887                       Graham, Miss. Margaret Edith  Female  19.0   \n",
       "888           Johnston, Miss. Catherine Helen \"Carrie\"  Female   NaN   \n",
       "889                              Behr, Mr. Karl Howell    Male  26.0   \n",
       "890                                Dooley, Mr. Patrick    Male  32.0   \n",
       "\n",
       "       Status SibSp Parch            Ticket     Fare Cabin Embarked  \n",
       "0    [18, 40]     1     0         A/5 21171   7.2500   nan        S  \n",
       "1    [18, 40]     1     0          PC 17599  71.2833   C85        C  \n",
       "2    [18, 40]     0     0  STON/O2. 3101282   7.9250   nan        S  \n",
       "3    [18, 40]     1     0            113803  53.1000  C123        S  \n",
       "4    [18, 40]     0     0            373450   8.0500   nan        S  \n",
       "..        ...   ...   ...               ...      ...   ...      ...  \n",
       "886  [18, 40]     0     0            211536  13.0000   nan        S  \n",
       "887  [18, 40]     0     0            112053  30.0000   B42        S  \n",
       "888       NaN     1     2        W./C. 6607  23.4500   nan        S  \n",
       "889  [18, 40]     0     0            111369  30.0000  C148        C  \n",
       "890  [18, 40]     0     0            370376   7.7500   nan        Q  \n",
       "\n",
       "[891 rows x 13 columns]"
      ]
     },
     "execution_count": 139,
     "metadata": {},
     "output_type": "execute_result"
    }
   ],
   "source": [
    "# Création d'une liste (contenant uniquement des valeurs \n",
    "# Nan de pandas) de la ta taille de df\n",
    "status = [np.nan] * len(df)\n",
    "nbRow = 0\n",
    "# Remplir la liste avec les catégories d'âge \n",
    "for _tuple in df.itertuples():\n",
    "    if _tuple.Age < 18.0:\n",
    "        status[nbRow] = \"[0, 17]\"\n",
    "    elif _tuple.Age < 41.0:\n",
    "        status[nbRow] = \"[18, 40]\"\n",
    "    elif _tuple.Age < 61.0:\n",
    "        status[nbRow] = \"[41, 60]\"\n",
    "    elif _tuple.Age < 101.0:\n",
    "        status[nbRow] = \"[61, 100]\"\n",
    "    nbRow += 1\n",
    "\n",
    "try :\n",
    "    df.insert(6, \"Status\", pd.Series(status))\n",
    "except ValueError:\n",
    "    df.Status = status\n",
    "    df\n",
    "df"
   ]
  },
  {
   "cell_type": "markdown",
   "metadata": {
    "slideshow": {
     "slide_type": "subslide"
    }
   },
   "source": [
    "\n",
    "## Question: \n",
    "\n",
    "Draw a `countplot` for each categorical column, arrange the `countplot`s in a grid \n",
    "with two rows and three columns.\n",
    "\n",
    "### Answer"
   ]
  },
  {
   "cell_type": "code",
   "execution_count": 140,
   "metadata": {
    "ExecuteTime": {
     "end_time": "2020-02-23T21:34:40.859891Z",
     "start_time": "2020-02-23T21:34:39.359502Z"
    },
    "autoscroll": "auto",
    "options": {
     "caption": false,
     "complete": true,
     "display_data": true,
     "display_stream": true,
     "dpi": 200,
     "echo": true,
     "evaluate": false,
     "f_env": null,
     "f_pos": "htpb",
     "f_size": [
      6,
      4
     ],
     "f_spines": true,
     "fig": true,
     "include": true,
     "name": null,
     "option_string": "evaluate=False",
     "results": "verbatim",
     "term": false,
     "wrap": "output"
    },
    "scrolled": true,
    "slideshow": {
     "slide_type": "subslide"
    }
   },
   "outputs": [
    {
     "data": {
      "image/png": "[encoded data removed]",
      "text/plain": [
       "<Figure size 1080x720 with 6 Axes>"
      ]
     },
     "metadata": {},
     "output_type": "display_data"
    }
   ],
   "source": [
    "sns.set(style=\"darkgrid\")\n",
    "\n",
    "plt.figure(figsize=(15, 10))\n",
    "plt.subplot(231)\n",
    "sns.countplot(x=\"Status\", data=df)\n",
    "plt.subplot(232)\n",
    "sns.countplot(x=\"Pclass\", data=df)\n",
    "plt.subplot(233)\n",
    "sns.countplot(x=\"SibSp\", data=df)\n",
    "plt.subplot(234)\n",
    "sns.countplot(x=\"Parch\", data=df)\n",
    "plt.subplot(235)\n",
    "sns.countplot(x=\"Embarked\", data=df)\n",
    "plt.subplot(236)\n",
    "sns.countplot(x=\"Sex\", data=df)\n",
    "\n",
    "plt.suptitle('Categorical Plotting')\n",
    "plt.show()"
   ]
  },
  {
   "cell_type": "markdown",
   "metadata": {
    "slideshow": {
     "slide_type": "slide"
    }
   },
   "source": [
    "\n",
    "## Question: plotting the distribution of numerical columns\n",
    "\n",
    "For each column for which it makes sense, display its distribution using `seaborn`:\n",
    "choose the most relevant type of plot for each column and display it.\n",
    "\n",
    "**Remark.** Note that the `Age` column contains missing values:\n",
    "show the number of missing / non-missing values in this column, and show the distribution of non-missing ages in a different plot.\n",
    "Also, note that there is a `notna()` method for dataframes...\n",
    "\n",
    "### Answer\n"
   ]
  },
  {
   "cell_type": "code",
   "execution_count": 141,
   "metadata": {
    "ExecuteTime": {
     "end_time": "2020-02-23T21:34:44.377675Z",
     "start_time": "2020-02-23T21:34:40.865481Z"
    },
    "autoscroll": "auto",
    "options": {
     "caption": false,
     "complete": true,
     "display_data": true,
     "display_stream": true,
     "dpi": 200,
     "echo": true,
     "evaluate": false,
     "f_env": null,
     "f_pos": "htpb",
     "f_size": [
      6,
      4
     ],
     "f_spines": true,
     "fig": true,
     "include": true,
     "name": null,
     "option_string": "evaluate=False",
     "results": "verbatim",
     "term": false,
     "wrap": "output"
    },
    "slideshow": {
     "slide_type": "subslide"
    }
   },
   "outputs": [
    {
     "data": {
      "text/plain": [
       "<matplotlib.axes._subplots.AxesSubplot at 0x7fcb919d94d0>"
      ]
     },
     "execution_count": 141,
     "metadata": {},
     "output_type": "execute_result"
    },
    {
     "data": {
      "image/png": "[encoded data removed]",
      "text/plain": [
       "<Figure size 432x288 with 1 Axes>"
      ]
     },
     "metadata": {},
     "output_type": "display_data"
    }
   ],
   "source": [
    "sns.countplot(x=df.Age, data=df)"
   ]
  },
  {
   "cell_type": "code",
   "execution_count": 142,
   "metadata": {
    "ExecuteTime": {
     "end_time": "2020-02-23T21:34:55.334712Z",
     "start_time": "2020-02-23T21:34:44.384188Z"
    }
   },
   "outputs": [
    {
     "data": {
      "text/plain": [
       "<matplotlib.axes._subplots.AxesSubplot at 0x7fcb91a92950>"
      ]
     },
     "execution_count": 142,
     "metadata": {},
     "output_type": "execute_result"
    },
    {
     "data": {
      "image/png": "[encoded data removed]",
      "text/plain": [
       "<Figure size 432x288 with 1 Axes>"
      ]
     },
     "metadata": {},
     "output_type": "display_data"
    }
   ],
   "source": [
    "sns.countplot(x=df.Fare, data=df)"
   ]
  },
  {
   "cell_type": "code",
   "execution_count": 143,
   "metadata": {
    "ExecuteTime": {
     "end_time": "2020-02-23T21:34:55.990590Z",
     "start_time": "2020-02-23T21:34:55.338535Z"
    }
   },
   "outputs": [
    {
     "data": {
      "text/plain": [
       "<matplotlib.axes._subplots.AxesSubplot at 0x7fcb924a1b10>"
      ]
     },
     "execution_count": 143,
     "metadata": {},
     "output_type": "execute_result"
    },
    {
     "data": {
      "image/png": "[encoded data removed]",
      "text/plain": [
       "<Figure size 432x288 with 1 Axes>"
      ]
     },
     "metadata": {},
     "output_type": "display_data"
    }
   ],
   "source": [
    "sns.distplot(a=df.PassengerId)"
   ]
  },
  {
   "cell_type": "markdown",
   "metadata": {
    "slideshow": {
     "slide_type": "slide"
    }
   },
   "source": [
    "\n",
    "\n",
    "## Question: plot numerical columuns according to categorical columns\n",
    "\n",
    "Do the same as in Question 4,\n",
    "but **differentiate** the plots\n",
    "for passengers the passengers that survived and the ones who did not.\n",
    "You can use the `hue` option,\n",
    "you can use a `FacetGrid`.\n",
    "Look at the `seaborn` documentation and choose the best option.\n",
    "\n",
    "### Answer\n",
    "\n",
    "#### Facets\n",
    "\n"
   ]
  },
  {
   "cell_type": "code",
   "execution_count": 195,
   "metadata": {
    "ExecuteTime": {
     "end_time": "2020-02-23T22:35:46.085650Z",
     "start_time": "2020-02-23T22:35:43.825363Z"
    },
    "autoscroll": "auto",
    "options": {
     "caption": false,
     "complete": true,
     "display_data": true,
     "display_stream": true,
     "dpi": 200,
     "echo": true,
     "evaluate": false,
     "f_env": null,
     "f_pos": "htpb",
     "f_size": [
      6,
      4
     ],
     "f_spines": true,
     "fig": true,
     "include": true,
     "name": null,
     "option_string": "evaluate=False",
     "results": "verbatim",
     "term": false,
     "wrap": "output"
    },
    "slideshow": {
     "slide_type": "subslide"
    }
   },
   "outputs": [
    {
     "name": "stderr",
     "output_type": "stream",
     "text": [
      "<string>:6: RuntimeWarning: Converting input from bool to <class 'numpy.uint8'> for compatibility.\n"
     ]
    },
    {
     "data": {
      "text/plain": [
       "<seaborn.axisgrid.FacetGrid at 0x7fcb8fb11310>"
      ]
     },
     "execution_count": 195,
     "metadata": {},
     "output_type": "execute_result"
    },
    {
     "data": {
      "image/png": "[encoded data removed]",
      "text/plain": [
       "<Figure size 432x432 with 4 Axes>"
      ]
     },
     "metadata": {},
     "output_type": "display_data"
    }
   ],
   "source": [
    "graph = sns.FacetGrid(df, row=\"Sex\", col=\"Survived\")\n",
    "graph.map(plt.hist, \"Survived\")"
   ]
  },
  {
   "cell_type": "markdown",
   "metadata": {
    "slideshow": {
     "slide_type": "subslide"
    }
   },
   "source": [
    "#### Boxplot"
   ]
  },
  {
   "cell_type": "code",
   "execution_count": 145,
   "metadata": {
    "ExecuteTime": {
     "end_time": "2020-02-23T21:34:58.755562Z",
     "start_time": "2020-02-23T21:34:58.184520Z"
    }
   },
   "outputs": [
    {
     "data": {
      "text/plain": [
       "<matplotlib.axes._subplots.AxesSubplot at 0x7fcb921fb350>"
      ]
     },
     "execution_count": 145,
     "metadata": {},
     "output_type": "execute_result"
    },
    {
     "data": {
      "image/png": "[encoded data removed]",
      "text/plain": [
       "<Figure size 432x288 with 1 Axes>"
      ]
     },
     "metadata": {},
     "output_type": "display_data"
    }
   ],
   "source": [
    "sns.boxplot(x = df.Pclass, y = df.Age, hue = df.Survived)"
   ]
  },
  {
   "cell_type": "markdown",
   "metadata": {
    "slideshow": {
     "slide_type": "subslide"
    }
   },
   "source": [
    "#### Catplot"
   ]
  },
  {
   "cell_type": "code",
   "execution_count": 146,
   "metadata": {
    "ExecuteTime": {
     "end_time": "2020-02-23T21:34:59.444508Z",
     "start_time": "2020-02-23T21:34:58.767273Z"
    },
    "autoscroll": "auto",
    "options": {
     "caption": false,
     "complete": true,
     "display_data": true,
     "display_stream": true,
     "dpi": 200,
     "echo": true,
     "evaluate": false,
     "f_env": null,
     "f_pos": "htpb",
     "f_size": [
      6,
      4
     ],
     "f_spines": true,
     "fig": true,
     "include": true,
     "name": null,
     "option_string": "evaluate=False",
     "results": "verbatim",
     "term": false,
     "wrap": "output"
    },
    "slideshow": {
     "slide_type": "subslide"
    }
   },
   "outputs": [
    {
     "data": {
      "text/plain": [
       "<seaborn.axisgrid.FacetGrid at 0x7fcb9223bb10>"
      ]
     },
     "execution_count": 146,
     "metadata": {},
     "output_type": "execute_result"
    },
    {
     "data": {
      "image/png": "[encoded data removed]",
      "text/plain": [
       "<Figure size 428.459x360 with 1 Axes>"
      ]
     },
     "metadata": {},
     "output_type": "display_data"
    }
   ],
   "source": [
    "sns.catplot(x=\"Pclass\", y=\"Fare\", hue=\"Survived\", data=df)"
   ]
  },
  {
   "cell_type": "markdown",
   "metadata": {
    "slideshow": {
     "slide_type": "slide"
    }
   },
   "source": [
    "\n",
    "\n",
    "\n",
    "## Question: categorical plots, barplots\n",
    "\n",
    "The `Titanic`  dataset may be compared with datasets generated by\n",
    "*surveys* (*questionnaires*). In such datasets, each row correspond\n",
    "to an individual. An individual is described by *demographic* variables\n",
    "and *attitudinal/response* variables. Here, `Age, Sex, Pclass, Embarked, ...`\n",
    "are considered as demographic variables while `Survived` is\n",
    "regarded as an attitudinal/response variable. It is desirable to plot the response\n",
    "variable as a function of (some of) the demographic variables.\n",
    "All variables are categorical.\n",
    "\n",
    "### Answer\n",
    "\n"
   ]
  },
  {
   "cell_type": "code",
   "execution_count": 147,
   "metadata": {
    "ExecuteTime": {
     "end_time": "2020-02-23T21:35:01.284618Z",
     "start_time": "2020-02-23T21:34:59.448612Z"
    },
    "autoscroll": "auto",
    "options": {
     "caption": false,
     "complete": true,
     "display_data": true,
     "display_stream": true,
     "dpi": 200,
     "echo": true,
     "evaluate": false,
     "f_env": null,
     "f_pos": "htpb",
     "f_size": [
      6,
      4
     ],
     "f_spines": true,
     "fig": true,
     "include": true,
     "name": null,
     "option_string": "evaluate=False",
     "results": "verbatim",
     "term": false,
     "wrap": "output"
    },
    "scrolled": true,
    "slideshow": {
     "slide_type": "subslide"
    }
   },
   "outputs": [
    {
     "data": {
      "image/png": "[encoded data removed]",
      "text/plain": [
       "<Figure size 800.35x360 with 2 Axes>"
      ]
     },
     "metadata": {},
     "output_type": "display_data"
    },
    {
     "data": {
      "image/png": "[encoded data removed]",
      "text/plain": [
       "<Figure size 810.35x360 with 2 Axes>"
      ]
     },
     "metadata": {},
     "output_type": "display_data"
    }
   ],
   "source": [
    "g1 = sns.catplot(x=\"Pclass\", hue=\"Sex\", col=\"Survived\", data=df, kind=\"count\");\n",
    "g2 = sns.catplot(x=\"Embarked\", hue=\"Status\", col=\"Survived\", data=df, kind=\"count\");"
   ]
  },
  {
   "cell_type": "markdown",
   "metadata": {
    "slideshow": {
     "slide_type": "slide"
    }
   },
   "source": [
    "\n",
    "Barplots do not give us hints about the size of the different sub-populations.\n",
    "\n",
    "\n",
    "## Question: categorical plots, mosaicplots\n",
    "\n",
    "\n",
    "\n",
    "You have drawn a `boxplot` of `Age` with respect to passenger class (`Pclass`).\n",
    "It would be nice to complement the plot with an indication of the number of missing values.\n",
    "It would also make sense to indicate the number of individuals in each subsample.\n",
    "\n",
    "Mosaicplot as delivered by module `statsmodels` is a very\n",
    "powerful tool to visualize *contingency tables*.\n",
    "\n",
    "A *two-way contingency table* and the associated `mosaicplot` reveal that\n",
    "the passengers who boarded in the three harbors (Southampton, Cherbourg, Q)\n",
    "did not buy the same kind of tickets. Half of the passengers embarked at Cherbourg\n",
    "travelled first class while at most one fourth of the passengers embarked\n",
    "at Southampton did.\n",
    "\n",
    "### Answer\n",
    "\n"
   ]
  },
  {
   "cell_type": "code",
   "execution_count": 148,
   "metadata": {
    "ExecuteTime": {
     "end_time": "2020-02-23T21:35:01.703552Z",
     "start_time": "2020-02-23T21:35:01.289350Z"
    },
    "autoscroll": "auto",
    "options": {
     "caption": false,
     "complete": true,
     "display_data": true,
     "display_stream": true,
     "dpi": 200,
     "echo": true,
     "evaluate": false,
     "f_env": null,
     "f_pos": "htpb",
     "f_size": [
      6,
      4
     ],
     "f_spines": true,
     "fig": true,
     "include": true,
     "name": null,
     "option_string": "evaluate=False",
     "results": "verbatim",
     "term": false,
     "wrap": "output"
    },
    "slideshow": {
     "slide_type": "subslide"
    }
   },
   "outputs": [
    {
     "data": {
      "image/png": "[encoded data removed]",
      "text/plain": [
       "<Figure size 432x288 with 3 Axes>"
      ]
     },
     "metadata": {},
     "output_type": "display_data"
    }
   ],
   "source": [
    "mosaic(df, [\"Embarked\", \"Pclass\"])\n",
    "plt.show()"
   ]
  },
  {
   "cell_type": "markdown",
   "metadata": {
    "slideshow": {
     "slide_type": "slide"
    }
   },
   "source": [
    "\n",
    "## Question: three-way mosaicplots\n",
    "\n",
    "A three-way contingency illustrate the association between `Sex`, `Pclass`\n",
    "and `Survived`.\n",
    "\n",
    "### Answer\n",
    "\n"
   ]
  },
  {
   "cell_type": "code",
   "execution_count": 192,
   "metadata": {
    "ExecuteTime": {
     "end_time": "2020-02-23T22:34:53.413669Z",
     "start_time": "2020-02-23T22:34:52.996461Z"
    },
    "autoscroll": "auto",
    "options": {
     "caption": false,
     "complete": true,
     "display_data": true,
     "display_stream": true,
     "dpi": 200,
     "echo": true,
     "evaluate": false,
     "f_env": null,
     "f_pos": "htpb",
     "f_size": [
      6,
      4
     ],
     "f_spines": true,
     "fig": true,
     "include": true,
     "name": null,
     "option_string": "evaluate=False",
     "results": "verbatim",
     "term": false,
     "wrap": "output"
    },
    "scrolled": true,
    "slideshow": {
     "slide_type": "subslide"
    }
   },
   "outputs": [
    {
     "data": {
      "image/png": "[encoded data removed]",
      "text/plain": [
       "<Figure size 432x288 with 3 Axes>"
      ]
     },
     "metadata": {},
     "output_type": "display_data"
    }
   ],
   "source": [
    "mosaic(df, [\"Sex\", \"Pclass\", \"Survived\"])\n",
    "plt.show()"
   ]
  },
  {
   "cell_type": "markdown",
   "metadata": {
    "slideshow": {
     "slide_type": "slide"
    }
   },
   "source": [
    "\n",
    "## Question: roommates\n",
    "\n",
    "For each passenger, compute the number of passengers in the same cabin (including himself).\n",
    "Add a column called `Roommates` that contain this information.\n",
    "When the cabin information is missing, then the `Roommates` is missing as well.\n",
    "You will need to use `groupby` and `join` operations.\n",
    "\n",
    "\n",
    "\n",
    "**Warning.** You should not `reset_index` after the `groupby` operation if you `join` with the resulting dataframe.\n",
    "\n",
    "\n",
    "We may proceed by projecting on columns\n",
    "`PassengerId,  and `Cabin` while filtering (selecting) the rows\n",
    "where `Cabin` is available. This is the `df_cabin` dataframe below.\n",
    "\n",
    "\n"
   ]
  },
  {
   "cell_type": "markdown",
   "metadata": {
    "slideshow": {
     "slide_type": "slide"
    }
   },
   "source": [
    "\n",
    "- Plot `Roommates` according to `Pclass`\n",
    "- Plot `Roommates` according to `Embarkment`\n",
    "- Plot `Roommates` according to `Sex`\n",
    "\n",
    "### Answer"
   ]
  },
  {
   "cell_type": "code",
   "execution_count": 150,
   "metadata": {
    "ExecuteTime": {
     "end_time": "2020-02-23T21:35:02.320318Z",
     "start_time": "2020-02-23T21:35:02.155717Z"
    },
    "autoscroll": "auto",
    "options": {
     "caption": false,
     "complete": true,
     "display_data": true,
     "display_stream": true,
     "dpi": 200,
     "echo": true,
     "evaluate": false,
     "f_env": null,
     "f_pos": "htpb",
     "f_size": [
      6,
      4
     ],
     "f_spines": true,
     "fig": true,
     "include": true,
     "name": null,
     "option_string": "evaluate=False",
     "results": "verbatim",
     "term": false,
     "wrap": "output"
    },
    "slideshow": {
     "slide_type": "subslide"
    }
   },
   "outputs": [
    {
     "data": {
      "text/html": [
       "<div>\n",
       "<style scoped>\n",
       "    .dataframe tbody tr th:only-of-type {\n",
       "        vertical-align: middle;\n",
       "    }\n",
       "\n",
       "    .dataframe tbody tr th {\n",
       "        vertical-align: top;\n",
       "    }\n",
       "\n",
       "    .dataframe thead th {\n",
       "        text-align: right;\n",
       "    }\n",
       "</style>\n",
       "<table border=\"1\" class=\"dataframe\">\n",
       "  <thead>\n",
       "    <tr style=\"text-align: right;\">\n",
       "      <th></th>\n",
       "      <th>PassengerId</th>\n",
       "      <th>Survived</th>\n",
       "      <th>Pclass</th>\n",
       "      <th>Name</th>\n",
       "      <th>Sex</th>\n",
       "      <th>Age</th>\n",
       "      <th>Status</th>\n",
       "      <th>SibSp</th>\n",
       "      <th>Parch</th>\n",
       "      <th>Ticket</th>\n",
       "      <th>Fare</th>\n",
       "      <th>Cabin</th>\n",
       "      <th>Embarked</th>\n",
       "      <th>Roomates</th>\n",
       "    </tr>\n",
       "  </thead>\n",
       "  <tbody>\n",
       "    <tr>\n",
       "      <td>0</td>\n",
       "      <td>1</td>\n",
       "      <td>False</td>\n",
       "      <td>3</td>\n",
       "      <td>Braund, Mr. Owen Harris</td>\n",
       "      <td>Male</td>\n",
       "      <td>22.0</td>\n",
       "      <td>[18, 40]</td>\n",
       "      <td>1</td>\n",
       "      <td>0</td>\n",
       "      <td>A/5 21171</td>\n",
       "      <td>7.2500</td>\n",
       "      <td>nan</td>\n",
       "      <td>S</td>\n",
       "      <td>NaN</td>\n",
       "    </tr>\n",
       "    <tr>\n",
       "      <td>1</td>\n",
       "      <td>2</td>\n",
       "      <td>True</td>\n",
       "      <td>1</td>\n",
       "      <td>Cumings, Mrs. John Bradley (Florence Briggs Th...</td>\n",
       "      <td>Female</td>\n",
       "      <td>38.0</td>\n",
       "      <td>[18, 40]</td>\n",
       "      <td>1</td>\n",
       "      <td>0</td>\n",
       "      <td>PC 17599</td>\n",
       "      <td>71.2833</td>\n",
       "      <td>C85</td>\n",
       "      <td>C</td>\n",
       "      <td>1.0</td>\n",
       "    </tr>\n",
       "    <tr>\n",
       "      <td>2</td>\n",
       "      <td>3</td>\n",
       "      <td>True</td>\n",
       "      <td>3</td>\n",
       "      <td>Heikkinen, Miss. Laina</td>\n",
       "      <td>Female</td>\n",
       "      <td>26.0</td>\n",
       "      <td>[18, 40]</td>\n",
       "      <td>0</td>\n",
       "      <td>0</td>\n",
       "      <td>STON/O2. 3101282</td>\n",
       "      <td>7.9250</td>\n",
       "      <td>nan</td>\n",
       "      <td>S</td>\n",
       "      <td>NaN</td>\n",
       "    </tr>\n",
       "    <tr>\n",
       "      <td>3</td>\n",
       "      <td>4</td>\n",
       "      <td>True</td>\n",
       "      <td>1</td>\n",
       "      <td>Futrelle, Mrs. Jacques Heath (Lily May Peel)</td>\n",
       "      <td>Female</td>\n",
       "      <td>35.0</td>\n",
       "      <td>[18, 40]</td>\n",
       "      <td>1</td>\n",
       "      <td>0</td>\n",
       "      <td>113803</td>\n",
       "      <td>53.1000</td>\n",
       "      <td>C123</td>\n",
       "      <td>S</td>\n",
       "      <td>2.0</td>\n",
       "    </tr>\n",
       "    <tr>\n",
       "      <td>4</td>\n",
       "      <td>5</td>\n",
       "      <td>False</td>\n",
       "      <td>3</td>\n",
       "      <td>Allen, Mr. William Henry</td>\n",
       "      <td>Male</td>\n",
       "      <td>35.0</td>\n",
       "      <td>[18, 40]</td>\n",
       "      <td>0</td>\n",
       "      <td>0</td>\n",
       "      <td>373450</td>\n",
       "      <td>8.0500</td>\n",
       "      <td>nan</td>\n",
       "      <td>S</td>\n",
       "      <td>NaN</td>\n",
       "    </tr>\n",
       "    <tr>\n",
       "      <td>...</td>\n",
       "      <td>...</td>\n",
       "      <td>...</td>\n",
       "      <td>...</td>\n",
       "      <td>...</td>\n",
       "      <td>...</td>\n",
       "      <td>...</td>\n",
       "      <td>...</td>\n",
       "      <td>...</td>\n",
       "      <td>...</td>\n",
       "      <td>...</td>\n",
       "      <td>...</td>\n",
       "      <td>...</td>\n",
       "      <td>...</td>\n",
       "      <td>...</td>\n",
       "    </tr>\n",
       "    <tr>\n",
       "      <td>886</td>\n",
       "      <td>887</td>\n",
       "      <td>False</td>\n",
       "      <td>2</td>\n",
       "      <td>Montvila, Rev. Juozas</td>\n",
       "      <td>Male</td>\n",
       "      <td>27.0</td>\n",
       "      <td>[18, 40]</td>\n",
       "      <td>0</td>\n",
       "      <td>0</td>\n",
       "      <td>211536</td>\n",
       "      <td>13.0000</td>\n",
       "      <td>nan</td>\n",
       "      <td>S</td>\n",
       "      <td>NaN</td>\n",
       "    </tr>\n",
       "    <tr>\n",
       "      <td>887</td>\n",
       "      <td>888</td>\n",
       "      <td>True</td>\n",
       "      <td>1</td>\n",
       "      <td>Graham, Miss. Margaret Edith</td>\n",
       "      <td>Female</td>\n",
       "      <td>19.0</td>\n",
       "      <td>[18, 40]</td>\n",
       "      <td>0</td>\n",
       "      <td>0</td>\n",
       "      <td>112053</td>\n",
       "      <td>30.0000</td>\n",
       "      <td>B42</td>\n",
       "      <td>S</td>\n",
       "      <td>1.0</td>\n",
       "    </tr>\n",
       "    <tr>\n",
       "      <td>888</td>\n",
       "      <td>889</td>\n",
       "      <td>False</td>\n",
       "      <td>3</td>\n",
       "      <td>Johnston, Miss. Catherine Helen \"Carrie\"</td>\n",
       "      <td>Female</td>\n",
       "      <td>NaN</td>\n",
       "      <td>NaN</td>\n",
       "      <td>1</td>\n",
       "      <td>2</td>\n",
       "      <td>W./C. 6607</td>\n",
       "      <td>23.4500</td>\n",
       "      <td>nan</td>\n",
       "      <td>S</td>\n",
       "      <td>NaN</td>\n",
       "    </tr>\n",
       "    <tr>\n",
       "      <td>889</td>\n",
       "      <td>890</td>\n",
       "      <td>True</td>\n",
       "      <td>1</td>\n",
       "      <td>Behr, Mr. Karl Howell</td>\n",
       "      <td>Male</td>\n",
       "      <td>26.0</td>\n",
       "      <td>[18, 40]</td>\n",
       "      <td>0</td>\n",
       "      <td>0</td>\n",
       "      <td>111369</td>\n",
       "      <td>30.0000</td>\n",
       "      <td>C148</td>\n",
       "      <td>C</td>\n",
       "      <td>1.0</td>\n",
       "    </tr>\n",
       "    <tr>\n",
       "      <td>890</td>\n",
       "      <td>891</td>\n",
       "      <td>False</td>\n",
       "      <td>3</td>\n",
       "      <td>Dooley, Mr. Patrick</td>\n",
       "      <td>Male</td>\n",
       "      <td>32.0</td>\n",
       "      <td>[18, 40]</td>\n",
       "      <td>0</td>\n",
       "      <td>0</td>\n",
       "      <td>370376</td>\n",
       "      <td>7.7500</td>\n",
       "      <td>nan</td>\n",
       "      <td>Q</td>\n",
       "      <td>NaN</td>\n",
       "    </tr>\n",
       "  </tbody>\n",
       "</table>\n",
       "<p>891 rows × 14 columns</p>\n",
       "</div>"
      ],
      "text/plain": [
       "     PassengerId  Survived Pclass  \\\n",
       "0              1     False      3   \n",
       "1              2      True      1   \n",
       "2              3      True      3   \n",
       "3              4      True      1   \n",
       "4              5     False      3   \n",
       "..           ...       ...    ...   \n",
       "886          887     False      2   \n",
       "887          888      True      1   \n",
       "888          889     False      3   \n",
       "889          890      True      1   \n",
       "890          891     False      3   \n",
       "\n",
       "                                                  Name     Sex   Age  \\\n",
       "0                              Braund, Mr. Owen Harris    Male  22.0   \n",
       "1    Cumings, Mrs. John Bradley (Florence Briggs Th...  Female  38.0   \n",
       "2                               Heikkinen, Miss. Laina  Female  26.0   \n",
       "3         Futrelle, Mrs. Jacques Heath (Lily May Peel)  Female  35.0   \n",
       "4                             Allen, Mr. William Henry    Male  35.0   \n",
       "..                                                 ...     ...   ...   \n",
       "886                              Montvila, Rev. Juozas    Male  27.0   \n",
       "887                       Graham, Miss. Margaret Edith  Female  19.0   \n",
       "888           Johnston, Miss. Catherine Helen \"Carrie\"  Female   NaN   \n",
       "889                              Behr, Mr. Karl Howell    Male  26.0   \n",
       "890                                Dooley, Mr. Patrick    Male  32.0   \n",
       "\n",
       "       Status SibSp Parch            Ticket     Fare Cabin Embarked  Roomates  \n",
       "0    [18, 40]     1     0         A/5 21171   7.2500   nan        S       NaN  \n",
       "1    [18, 40]     1     0          PC 17599  71.2833   C85        C       1.0  \n",
       "2    [18, 40]     0     0  STON/O2. 3101282   7.9250   nan        S       NaN  \n",
       "3    [18, 40]     1     0            113803  53.1000  C123        S       2.0  \n",
       "4    [18, 40]     0     0            373450   8.0500   nan        S       NaN  \n",
       "..        ...   ...   ...               ...      ...   ...      ...       ...  \n",
       "886  [18, 40]     0     0            211536  13.0000   nan        S       NaN  \n",
       "887  [18, 40]     0     0            112053  30.0000   B42        S       1.0  \n",
       "888       NaN     1     2        W./C. 6607  23.4500   nan        S       NaN  \n",
       "889  [18, 40]     0     0            111369  30.0000  C148        C       1.0  \n",
       "890  [18, 40]     0     0            370376   7.7500   nan        Q       NaN  \n",
       "\n",
       "[891 rows x 14 columns]"
      ]
     },
     "execution_count": 150,
     "metadata": {},
     "output_type": "execute_result"
    }
   ],
   "source": [
    "# Pour chaque valeur dans Cabin (Nan inclus), nombre d'occurrences de cette valeur\n",
    "L = df.Cabin.value_counts()\n",
    "\n",
    "# Construction d'une liste Roomates_val contenant des NaN comme valeur par défaut\n",
    "Roomates_val = [np.nan] * df.count()\n",
    "\n",
    "# Ajout de la colonne Roomates (avec 0 comme valeur par défaut) au df\n",
    "df = df.assign(Roomates=pd.Series(Roomates_val.values))\n",
    "\n",
    "# Pour chaque ligne i, on modifie Roomate[i] avec la valeur de L[key] avec key = Cabin[i]\n",
    "for i in range(0, df.PassengerId.count()):\n",
    "    if df.Cabin[i] != \"nan\":\n",
    "        df.at[i, \"Roomates\"] = L[df.Cabin[i]]\n",
    "\n",
    "# Affichage de df\n",
    "df"
   ]
  },
  {
   "cell_type": "markdown",
   "metadata": {
    "slideshow": {
     "slide_type": "slide"
    }
   },
   "source": [
    "\n",
    "\n",
    "## Question: plotting  `RoomMates` column.\n",
    "\n",
    "\n",
    "### Answer\n",
    "\n"
   ]
  },
  {
   "cell_type": "code",
   "execution_count": 151,
   "metadata": {
    "ExecuteTime": {
     "end_time": "2020-02-23T21:35:05.725473Z",
     "start_time": "2020-02-23T21:35:02.327356Z"
    },
    "autoscroll": "auto",
    "options": {
     "caption": false,
     "complete": true,
     "display_data": true,
     "display_stream": true,
     "dpi": 200,
     "echo": true,
     "evaluate": false,
     "f_env": null,
     "f_pos": "htpb",
     "f_size": [
      6,
      4
     ],
     "f_spines": true,
     "fig": true,
     "include": true,
     "name": null,
     "option_string": "evaluate=False",
     "results": "verbatim",
     "term": false,
     "wrap": "output"
    },
    "slideshow": {
     "slide_type": "subslide"
    }
   },
   "outputs": [
    {
     "ename": "IndexError",
     "evalue": "tuple index out of range",
     "output_type": "error",
     "traceback": [
      "\u001b[0;31m---------------------------------------------------------------------------\u001b[0m",
      "\u001b[0;31mIndexError\u001b[0m                                Traceback (most recent call last)",
      "\u001b[0;32m<ipython-input-151-82095714cdf0>\u001b[0m in \u001b[0;36m<module>\u001b[0;34m\u001b[0m\n\u001b[1;32m     10\u001b[0m \u001b[0mplt\u001b[0m\u001b[0;34m.\u001b[0m\u001b[0mscatter\u001b[0m\u001b[0;34m(\u001b[0m\u001b[0mnames\u001b[0m\u001b[0;34m,\u001b[0m \u001b[0mvalues\u001b[0m\u001b[0;34m)\u001b[0m\u001b[0;34m\u001b[0m\u001b[0;34m\u001b[0m\u001b[0m\n\u001b[1;32m     11\u001b[0m \u001b[0mplt\u001b[0m\u001b[0;34m.\u001b[0m\u001b[0msubplot\u001b[0m\u001b[0;34m(\u001b[0m\u001b[0;36m133\u001b[0m\u001b[0;34m)\u001b[0m\u001b[0;34m\u001b[0m\u001b[0;34m\u001b[0m\u001b[0m\n\u001b[0;32m---> 12\u001b[0;31m \u001b[0mplt\u001b[0m\u001b[0;34m.\u001b[0m\u001b[0mplot\u001b[0m\u001b[0;34m(\u001b[0m\u001b[0mnames\u001b[0m\u001b[0;34m,\u001b[0m \u001b[0mvalues\u001b[0m\u001b[0;34m)\u001b[0m\u001b[0;34m\u001b[0m\u001b[0;34m\u001b[0m\u001b[0m\n\u001b[0m\u001b[1;32m     13\u001b[0m \u001b[0mplt\u001b[0m\u001b[0;34m.\u001b[0m\u001b[0msuptitle\u001b[0m\u001b[0;34m(\u001b[0m\u001b[0;34m'Categorical Plotting'\u001b[0m\u001b[0;34m)\u001b[0m\u001b[0;34m\u001b[0m\u001b[0;34m\u001b[0m\u001b[0m\n\u001b[1;32m     14\u001b[0m \u001b[0mplt\u001b[0m\u001b[0;34m.\u001b[0m\u001b[0mshow\u001b[0m\u001b[0;34m(\u001b[0m\u001b[0;34m)\u001b[0m\u001b[0;34m\u001b[0m\u001b[0;34m\u001b[0m\u001b[0m\n",
      "\u001b[0;32m/usr/local/lib/python3.7/dist-packages/matplotlib/pyplot.py\u001b[0m in \u001b[0;36mplot\u001b[0;34m(scalex, scaley, data, *args, **kwargs)\u001b[0m\n\u001b[1;32m   2793\u001b[0m     return gca().plot(\n\u001b[1;32m   2794\u001b[0m         *args, scalex=scalex, scaley=scaley, **({\"data\": data} if data\n\u001b[0;32m-> 2795\u001b[0;31m         is not None else {}), **kwargs)\n\u001b[0m\u001b[1;32m   2796\u001b[0m \u001b[0;34m\u001b[0m\u001b[0m\n\u001b[1;32m   2797\u001b[0m \u001b[0;34m\u001b[0m\u001b[0m\n",
      "\u001b[0;32m/usr/local/lib/python3.7/dist-packages/matplotlib/axes/_axes.py\u001b[0m in \u001b[0;36mplot\u001b[0;34m(self, scalex, scaley, data, *args, **kwargs)\u001b[0m\n\u001b[1;32m   1664\u001b[0m         \"\"\"\n\u001b[1;32m   1665\u001b[0m         \u001b[0mkwargs\u001b[0m \u001b[0;34m=\u001b[0m \u001b[0mcbook\u001b[0m\u001b[0;34m.\u001b[0m\u001b[0mnormalize_kwargs\u001b[0m\u001b[0;34m(\u001b[0m\u001b[0mkwargs\u001b[0m\u001b[0;34m,\u001b[0m \u001b[0mmlines\u001b[0m\u001b[0;34m.\u001b[0m\u001b[0mLine2D\u001b[0m\u001b[0;34m.\u001b[0m\u001b[0m_alias_map\u001b[0m\u001b[0;34m)\u001b[0m\u001b[0;34m\u001b[0m\u001b[0;34m\u001b[0m\u001b[0m\n\u001b[0;32m-> 1666\u001b[0;31m         \u001b[0mlines\u001b[0m \u001b[0;34m=\u001b[0m \u001b[0;34m[\u001b[0m\u001b[0;34m*\u001b[0m\u001b[0mself\u001b[0m\u001b[0;34m.\u001b[0m\u001b[0m_get_lines\u001b[0m\u001b[0;34m(\u001b[0m\u001b[0;34m*\u001b[0m\u001b[0margs\u001b[0m\u001b[0;34m,\u001b[0m \u001b[0mdata\u001b[0m\u001b[0;34m=\u001b[0m\u001b[0mdata\u001b[0m\u001b[0;34m,\u001b[0m \u001b[0;34m**\u001b[0m\u001b[0mkwargs\u001b[0m\u001b[0;34m)\u001b[0m\u001b[0;34m]\u001b[0m\u001b[0;34m\u001b[0m\u001b[0;34m\u001b[0m\u001b[0m\n\u001b[0m\u001b[1;32m   1667\u001b[0m         \u001b[0;32mfor\u001b[0m \u001b[0mline\u001b[0m \u001b[0;32min\u001b[0m \u001b[0mlines\u001b[0m\u001b[0;34m:\u001b[0m\u001b[0;34m\u001b[0m\u001b[0;34m\u001b[0m\u001b[0m\n\u001b[1;32m   1668\u001b[0m             \u001b[0mself\u001b[0m\u001b[0;34m.\u001b[0m\u001b[0madd_line\u001b[0m\u001b[0;34m(\u001b[0m\u001b[0mline\u001b[0m\u001b[0;34m)\u001b[0m\u001b[0;34m\u001b[0m\u001b[0;34m\u001b[0m\u001b[0m\n",
      "\u001b[0;32m/usr/local/lib/python3.7/dist-packages/matplotlib/axes/_base.py\u001b[0m in \u001b[0;36m__call__\u001b[0;34m(self, *args, **kwargs)\u001b[0m\n\u001b[1;32m    223\u001b[0m                 \u001b[0mthis\u001b[0m \u001b[0;34m+=\u001b[0m \u001b[0margs\u001b[0m\u001b[0;34m[\u001b[0m\u001b[0;36m0\u001b[0m\u001b[0;34m]\u001b[0m\u001b[0;34m,\u001b[0m\u001b[0;34m\u001b[0m\u001b[0;34m\u001b[0m\u001b[0m\n\u001b[1;32m    224\u001b[0m                 \u001b[0margs\u001b[0m \u001b[0;34m=\u001b[0m \u001b[0margs\u001b[0m\u001b[0;34m[\u001b[0m\u001b[0;36m1\u001b[0m\u001b[0;34m:\u001b[0m\u001b[0;34m]\u001b[0m\u001b[0;34m\u001b[0m\u001b[0;34m\u001b[0m\u001b[0m\n\u001b[0;32m--> 225\u001b[0;31m             \u001b[0;32myield\u001b[0m \u001b[0;32mfrom\u001b[0m \u001b[0mself\u001b[0m\u001b[0;34m.\u001b[0m\u001b[0m_plot_args\u001b[0m\u001b[0;34m(\u001b[0m\u001b[0mthis\u001b[0m\u001b[0;34m,\u001b[0m \u001b[0mkwargs\u001b[0m\u001b[0;34m)\u001b[0m\u001b[0;34m\u001b[0m\u001b[0;34m\u001b[0m\u001b[0m\n\u001b[0m\u001b[1;32m    226\u001b[0m \u001b[0;34m\u001b[0m\u001b[0m\n\u001b[1;32m    227\u001b[0m     \u001b[0;32mdef\u001b[0m \u001b[0mget_next_color\u001b[0m\u001b[0;34m(\u001b[0m\u001b[0mself\u001b[0m\u001b[0;34m)\u001b[0m\u001b[0;34m:\u001b[0m\u001b[0;34m\u001b[0m\u001b[0;34m\u001b[0m\u001b[0m\n",
      "\u001b[0;32m/usr/local/lib/python3.7/dist-packages/matplotlib/axes/_base.py\u001b[0m in \u001b[0;36m_plot_args\u001b[0;34m(self, tup, kwargs)\u001b[0m\n\u001b[1;32m    397\u001b[0m             \u001b[0mfunc\u001b[0m \u001b[0;34m=\u001b[0m \u001b[0mself\u001b[0m\u001b[0;34m.\u001b[0m\u001b[0m_makefill\u001b[0m\u001b[0;34m\u001b[0m\u001b[0;34m\u001b[0m\u001b[0m\n\u001b[1;32m    398\u001b[0m \u001b[0;34m\u001b[0m\u001b[0m\n\u001b[0;32m--> 399\u001b[0;31m         \u001b[0mncx\u001b[0m\u001b[0;34m,\u001b[0m \u001b[0mncy\u001b[0m \u001b[0;34m=\u001b[0m \u001b[0mx\u001b[0m\u001b[0;34m.\u001b[0m\u001b[0mshape\u001b[0m\u001b[0;34m[\u001b[0m\u001b[0;36m1\u001b[0m\u001b[0;34m]\u001b[0m\u001b[0;34m,\u001b[0m \u001b[0my\u001b[0m\u001b[0;34m.\u001b[0m\u001b[0mshape\u001b[0m\u001b[0;34m[\u001b[0m\u001b[0;36m1\u001b[0m\u001b[0;34m]\u001b[0m\u001b[0;34m\u001b[0m\u001b[0;34m\u001b[0m\u001b[0m\n\u001b[0m\u001b[1;32m    400\u001b[0m         \u001b[0;32mif\u001b[0m \u001b[0mncx\u001b[0m \u001b[0;34m>\u001b[0m \u001b[0;36m1\u001b[0m \u001b[0;32mand\u001b[0m \u001b[0mncy\u001b[0m \u001b[0;34m>\u001b[0m \u001b[0;36m1\u001b[0m \u001b[0;32mand\u001b[0m \u001b[0mncx\u001b[0m \u001b[0;34m!=\u001b[0m \u001b[0mncy\u001b[0m\u001b[0;34m:\u001b[0m\u001b[0;34m\u001b[0m\u001b[0;34m\u001b[0m\u001b[0m\n\u001b[1;32m    401\u001b[0m             cbook.warn_deprecated(\n",
      "\u001b[0;31mIndexError\u001b[0m: tuple index out of range"
     ]
    },
    {
     "data": {
      "image/png": "[encoded data removed]",
      "text/plain": [
       "<Figure size 1080x216 with 3 Axes>"
      ]
     },
     "metadata": {},
     "output_type": "display_data"
    }
   ],
   "source": [
    "names = df.Pclass\n",
    "values = df.Roomates\n",
    "\n",
    "plt.figure(figsize=(15, 3))\n",
    "plt.xlabel = \"Pclass\"\n",
    "plt.ylabel = \"Number of Roomates\"\n",
    "plt.subplot(131)\n",
    "plt.bar(names, values, align=\"edge\")\n",
    "plt.subplot(132)\n",
    "plt.scatter(names, values)\n",
    "plt.subplot(133)\n",
    "plt.plot(names, values)\n",
    "plt.suptitle('Categorical Plotting')\n",
    "plt.show()"
   ]
  },
  {
   "cell_type": "markdown",
   "metadata": {
    "slideshow": {
     "slide_type": "slide"
    }
   },
   "source": [
    "\n",
    "\n",
    "## Question: surviving together\n",
    "\n",
    "Is there a cabin where some passengers survived while others did not?\n",
    "\n",
    "\n",
    "### Answer\n",
    "\n"
   ]
  },
  {
   "cell_type": "code",
   "execution_count": 191,
   "metadata": {
    "ExecuteTime": {
     "end_time": "2020-02-23T22:33:50.745402Z",
     "start_time": "2020-02-23T22:33:50.314723Z"
    },
    "autoscroll": "auto",
    "options": {
     "caption": false,
     "complete": true,
     "display_data": true,
     "display_stream": true,
     "dpi": 200,
     "echo": true,
     "evaluate": false,
     "f_env": null,
     "f_pos": "htpb",
     "f_size": [
      6,
      4
     ],
     "f_spines": true,
     "fig": true,
     "include": true,
     "name": null,
     "option_string": "evaluate=False",
     "results": "verbatim",
     "term": false,
     "wrap": "output"
    },
    "slideshow": {
     "slide_type": "subslide"
    }
   },
   "outputs": [
    {
     "data": {
      "text/plain": [
       "[<matplotlib.lines.Line2D at 0x7fcb8fadcb50>]"
      ]
     },
     "execution_count": 191,
     "metadata": {},
     "output_type": "execute_result"
    },
    {
     "data": {
      "image/png": "[encoded data removed]",
      "text/plain": [
       "<Figure size 432x288 with 1 Axes>"
      ]
     },
     "metadata": {},
     "output_type": "display_data"
    }
   ],
   "source": [
    "plt.plot(df.Roomates)"
   ]
  },
  {
   "cell_type": "markdown",
   "metadata": {
    "slideshow": {
     "slide_type": "slide"
    }
   },
   "source": [
    "\n",
    "\n",
    "## Question: Missing `Cabin`  value and `Age`\n",
    "\n",
    "\n",
    "The `Cabin` column is `NaN` for many rows, how are\n",
    "those missing data distributed acrross the classes?\n",
    "\n",
    "Plot the age distribution with\n",
    "respect to the availability of the `Cabin` column (`Cabin.isna()`).\n",
    "\n",
    "### Answer\n"
   ]
  },
  {
   "cell_type": "code",
   "execution_count": null,
   "metadata": {
    "autoscroll": "auto",
    "options": {
     "caption": false,
     "complete": true,
     "display_data": true,
     "display_stream": true,
     "dpi": 200,
     "echo": true,
     "evaluate": false,
     "f_env": null,
     "f_pos": "htpb",
     "f_size": [
      6,
      4
     ],
     "f_spines": true,
     "fig": true,
     "include": true,
     "name": null,
     "option_string": "evaluate=False",
     "results": "verbatim",
     "term": false,
     "wrap": "output"
    },
    "slideshow": {
     "slide_type": "subslide"
    }
   },
   "outputs": [],
   "source": []
  },
  {
   "cell_type": "markdown",
   "metadata": {
    "slideshow": {
     "slide_type": "slide"
    }
   },
   "source": [
    "\n",
    "\n",
    "## Question: Milking the `Name` column\n",
    "\n",
    "Column `Name` gathers different kind of information pertaining\n",
    "to a passenger: name, civility,\n",
    "and given name(s). For some female passengers, the apparent given names\n",
    "are actually the husband's name and the maidens name is indicated between\n",
    "parentheses.\n",
    "\n",
    "The information contained in the `Name` column Has to be extracted in a proper way:\n",
    "The string should be into three parts: the first one containing the name,\n",
    "the second one containing the civility  and, the last one\n",
    "possibly containing given names or given names plus maiden names. Passing is\n",
    "facilitated by the next observation: the name is followed by a comma, the\n",
    "civility is followed by a period. You may use regular expressions\n",
    "as providede by  module `re`  or module `regex`.\n",
    "\n",
    "\n",
    "- Split the information contained in `Name` into three columns `Name`, `Given_names`, and `Civility`.\n",
    "- Go one step further. Extract the *maiden name* and actual *given names* when information available.\n",
    "\n",
    "At the end of the day, column `Name` should contain the *maiden name* for married female passengers\n",
    "Column `Given_Names` should contain the real given names of the passenger, not the ones of the spouse.\n",
    "\n",
    "To learn more about Regular Expressions see the documentation\n",
    "of the [`re` module](https://docs.python.org/3/library/re.html#module-re)\n",
    "and the tutorial [Howto](https://docs.python.org/3/howto/regex.html#regex-howto)\n",
    "\n",
    "Understand the difference between a `string` and a `raw string`.\n",
    "\n"
   ]
  },
  {
   "cell_type": "code",
   "execution_count": null,
   "metadata": {
    "ExecuteTime": {
     "end_time": "2020-02-23T21:35:05.733241Z",
     "start_time": "2020-02-23T21:34:58.996Z"
    },
    "autoscroll": "auto",
    "options": {
     "caption": false,
     "complete": true,
     "display_data": true,
     "display_stream": true,
     "dpi": 200,
     "echo": true,
     "evaluate": false,
     "f_env": null,
     "f_pos": "htpb",
     "f_size": [
      6,
      4
     ],
     "f_spines": true,
     "fig": true,
     "include": true,
     "name": null,
     "option_string": "evaluate=False",
     "results": "verbatim",
     "term": false,
     "wrap": "output"
    },
    "slideshow": {
     "slide_type": "subslide"
    }
   },
   "outputs": [],
   "source": [
    "print(r\"\\n is not a newline\", \"\\nis a newline\\n\", \"\\\\\\\\n is not a newline\\n\")\n"
   ]
  },
  {
   "cell_type": "markdown",
   "metadata": {
    "slideshow": {
     "slide_type": "subslide"
    }
   },
   "source": [
    "\n",
    "### Answer\n",
    "\n"
   ]
  },
  {
   "cell_type": "code",
   "execution_count": 182,
   "metadata": {
    "ExecuteTime": {
     "end_time": "2020-02-23T22:22:41.601145Z",
     "start_time": "2020-02-23T22:22:41.578607Z"
    },
    "autoscroll": "auto",
    "options": {
     "caption": false,
     "complete": true,
     "display_data": true,
     "display_stream": true,
     "dpi": 200,
     "echo": true,
     "evaluate": false,
     "f_env": null,
     "f_pos": "htpb",
     "f_size": [
      6,
      4
     ],
     "f_spines": true,
     "fig": true,
     "include": true,
     "name": null,
     "option_string": "evaluate=False",
     "results": "verbatim",
     "term": false,
     "wrap": "output"
    },
    "slideshow": {
     "slide_type": "subslide"
    }
   },
   "outputs": [],
   "source": [
    "import re\n",
    "\n",
    "def parse_name(s):\n",
    "    \"\"\"Parse name field in Titanic data frame.\n",
    "\n",
    "    ACHTUNG: there are some outliers with given names containing parenthsized items. Some people travelled under pseudonyms (see [Henry Samuel Morley](https://www.encyclopedia-titanica.org/titanic-victim/henry-samuel-morley.html)).\n",
    "    \"\"\"\n",
    "    name = s\n",
    "    civility, Spouse_name, Maiden_name, given_names = None, None, None, None\n",
    "    # TODO:\n",
    "    s=s.strip()\n",
    "    m = re.match(r\"(?P<name>[A-z \\'-]+), (?P<civility>[A-z]+). (?P<given_names>.*)\", s)\n",
    "    if m:\n",
    "        name = m.group(\"name\")\n",
    "        civility = m.group(\"civility\")\n",
    "        given_names = m.group(\"given_names\")\n",
    "        if \"Mrs\" in civility:\n",
    "            m2 = re.match(r\"(?P<spouss>[A-z \\'-]+)\\((?P<n>[A-z \\'-]+)\\)\", given_names)\n",
    "            if m2:\n",
    "                Spouse_name = m2.group(\"spouss\").strip()\n",
    "                gn = m2.group(\"n\")\n",
    "                gn = gn.split(' ')\n",
    "                given_names = ' '.join(gn[:-1])\n",
    "                Maiden_name = ' '.join(gn[-1:])\n",
    "                name = Maiden_name\n",
    "                \n",
    "            \n",
    "    return {'Name': name,\n",
    "            'Civility': civility,\n",
    "            'Given_names': given_names,\n",
    "            'Spouse_name': Spouse_name,\n",
    "            'Maiden_name': Maiden_name}\n"
   ]
  },
  {
   "cell_type": "code",
   "execution_count": 183,
   "metadata": {
    "ExecuteTime": {
     "end_time": "2020-02-23T22:22:44.674905Z",
     "start_time": "2020-02-23T22:22:44.535067Z"
    }
   },
   "outputs": [
    {
     "name": "stdout",
     "output_type": "stream",
     "text": [
      "Braund;Mr;Owen Harris;None;None\n",
      "Thayer;Mrs;Florence Briggs;John Bradley;Thayer\n",
      "Heikkinen;Miss;Laina;None;None\n",
      "Peel;Mrs;Lily May;Jacques Heath;Peel\n",
      "Allen;Mr;William Henry;None;None\n",
      "Moran;Mr;James;None;None\n",
      "McCarthy;Mr;Timothy J;None;None\n",
      "Palsson;Master;Gosta Leonard;None;None\n",
      "Berg;Mrs;Elisabeth Vilhelmina;Oscar W;Berg\n",
      "Achem;Mrs;Adele;Nicholas;Achem\n",
      "Sandstrom;Miss;Marguerite Rut;None;None\n",
      "Bonnell;Miss;Elizabeth;None;None\n",
      "Saundercock;Mr;William Henry;None;None\n",
      "Andersson;Mr;Anders Johan;None;None\n",
      "Vestrom;Miss;Hulda Amanda Adolfina;None;None\n",
      "Hewlett;Mrs;(Mary D Kingcome);None;None\n",
      "Rice;Master;Eugene;None;None\n",
      "Williams;Mr;Charles Eugene;None;None\n",
      "Vandemoortele;Mrs;Emelia Maria;Julius;Vandemoortele\n",
      "Masselmani;Mrs;Fatima;None;None\n",
      "Fynney;Mr;Joseph J;None;None\n",
      "Beesley;Mr;Lawrence;None;None\n",
      "McGowan;Miss;Anna \"Annie\";None;None\n",
      "Sloper;Mr;William Thompson;None;None\n",
      "Palsson;Miss;Torborg Danira;None;None\n",
      "Johansson;Mrs;Selma Augusta Emilia;Carl Oscar;Johansson\n",
      "Emir;Mr;Farred Chehab;None;None\n",
      "Fortune;Mr;Charles Alexander;None;None\n",
      "O'Dwyer;Miss;Ellen \"Nellie\";None;None\n",
      "Todoroff;Mr;Lalio;None;None\n",
      "Uruchurtu;Don;Manuel E;None;None\n",
      "Eugenie;Mrs;Marie;William Augustus;Eugenie\n",
      "Glynn;Miss;Mary Agatha;None;None\n",
      "Wheadon;Mr;Edward H;None;None\n",
      "Meyer;Mr;Edgar Joseph;None;None\n",
      "Holverson;Mr;Alexander Oskar;None;None\n",
      "Mamee;Mr;Hanna;None;None\n",
      "Cann;Mr;Ernest Charles;None;None\n",
      "Vander Planke;Miss;Augusta Maria;None;None\n",
      "Nicola-Yarred;Miss;Jamila;None;None\n",
      "Larsson;Mrs;Johanna Persdotter;Johan;Larsson\n",
      "Wonnacott;Mrs;Dorothy Ann;William John Robert;Wonnacott\n",
      "Kraeff;Mr;Theodor;None;None\n",
      "Laroche;Miss;Simonne Marie Anne Andree;None;None\n",
      "Devaney;Miss;Margaret Delia;None;None\n",
      "Rogers;Mr;William John;None;None\n",
      "Lennon;Mr;Denis;None;None\n",
      "O'Driscoll;Miss;Bridget;None;None\n",
      "Samaan;Mr;Youssef;None;None\n",
      "Franchi;Mrs;Josefine;Josef;Franchi\n",
      "Panula;Master;Juha Niilo;None;None\n",
      "Nosworthy;Mr;Richard Cater;None;None\n",
      "Haxtun;Mrs;Myna;Henry Sleeper;Haxtun\n",
      "Wilkinson;Mrs;Elizabeth Anne;Lizzie;Wilkinson\n",
      "Ostby;Mr;Engelhart Cornelius;None;None\n",
      "Woolner;Mr;Hugh;None;None\n",
      "Rugg;Miss;Emily;None;None\n",
      "Novel;Mr;Mansouer;None;None\n",
      "West;Miss;Constance Mirium;None;None\n",
      "Goodwin;Master;William Frederick;None;None\n",
      "Sirayanian;Mr;Orsen;None;None\n",
      "Icard;Miss;Amelie;None;None\n",
      "Harris;Mr;Henry Birkhardt;None;None\n",
      "Skoog;Master;Harald;None;None\n",
      "Stewart;Mr;Albert A;None;None\n",
      "Moubarek;Master;Gerios;None;None\n",
      "Nye;Mrs;(Elizabeth Ramell);None;None\n",
      "Crease;Mr;Ernest James;None;None\n",
      "Andersson;Miss;Erna Alexandra;None;None\n",
      "Kink;Mr;Vincenz;None;None\n",
      "Jenkin;Mr;Stephen Curnow;None;None\n",
      "Goodwin;Miss;Lillian Amy;None;None\n",
      "Hood;Mr;Ambrose Jr;None;None\n",
      "Chronopoulos;Mr;Apostolos;None;None\n",
      "Bing;Mr;Lee;None;None\n",
      "Moen;Mr;Sigurd Hansen;None;None\n",
      "Staneff;Mr;Ivan;None;None\n",
      "Moutal;Mr;Rahamin Haim;None;None\n",
      "Caldwell;Master;Alden Gates;None;None\n",
      "Dowdell;Miss;Elizabeth;None;None\n",
      "Waelens;Mr;Achille;None;None\n",
      "Sheerlinck;Mr;Jan Baptist;None;None\n",
      "McDermott;Miss;Brigdet Delia;None;None\n",
      "Carrau;Mr;Francisco M;None;None\n",
      "Ilett;Miss;Bertha;None;None\n",
      "Gustafsson;Mrs;Maria Mathilda;Karl Alfred;Gustafsson\n",
      "Ford;Mr;William Neal;None;None\n",
      "Slocovski;Mr;Selman Francis;None;None\n",
      "Fortune;Miss;Mabel Helen;None;None\n",
      "Celotti;Mr;Francesco;None;None\n",
      "Christmann;Mr;Emil;None;None\n",
      "Andreasson;Mr;Paul Edvin;None;None\n",
      "Chaffee;Mr;Herbert Fuller;None;None\n",
      "Dean;Mr;Bertram Frank;None;None\n",
      "Coxon;Mr;Daniel;None;None\n",
      "Shorney;Mr;Charles Joseph;None;None\n",
      "Goldschmidt;Mr;George B;None;None\n",
      "Greenfield;Mr;William Bertram;None;None\n",
      "Bone;Mrs;Ada Julia;John T;Bone\n",
      "Kantor;Mr;Sinai;None;None\n",
      "Petranec;Miss;Matilda;None;None\n",
      "Petroff;Mr;Pastcho (\"Pentcho\");None;None\n",
      "White;Mr;Richard Frasar;None;None\n",
      "Johansson;Mr;Gustaf Joel;None;None\n",
      "Gustafsson;Mr;Anders Vilhelm;None;None\n",
      "Mionoff;Mr;Stoytcho;None;None\n",
      "Salkjelsvik;Miss;Anna Kristine;None;None\n",
      "Moss;Mr;Albert Johan;None;None\n",
      "Rekic;Mr;Tido;None;None\n",
      "Moran;Miss;Bertha;None;None\n",
      "Porter;Mr;Walter Chamberlain;None;None\n",
      "Zabour;Miss;Hileni;None;None\n",
      "Barton;Mr;David John;None;None\n",
      "Jussila;Miss;Katriina;None;None\n",
      "Attalah;Miss;Malake;None;None\n",
      "Pekoniemi;Mr;Edvard;None;None\n",
      "Connors;Mr;Patrick;None;None\n",
      "Turpin;Mr;William John Robert;None;None\n",
      "Baxter;Mr;Quigg Edmond;None;None\n",
      "Andersson;Miss;Ellis Anna Maria;None;None\n",
      "Hickman;Mr;Stanley George;None;None\n",
      "Moore;Mr;Leonard Charles;None;None\n",
      "Nasser;Mr;Nicholas;None;None\n",
      "Webber;Miss;Susan;None;None\n",
      "White;Mr;Percival Wayland;None;None\n",
      "Nicola-Yarred;Master;Elias;None;None\n",
      "McMahon;Mr;Martin;None;None\n",
      "Madsen;Mr;Fridtjof Arne;None;None\n",
      "Peter;Miss;Anna;None;None\n",
      "Ekstrom;Mr;Johan;None;None\n",
      "Drazenoic;Mr;Jozef;None;None\n",
      "Coelho;Mr;Domingos Fernandeo;None;None\n",
      "Laury;Mrs;Grace Charity;Alexander A;Laury\n",
      "Pede;Mrs;Mathilde Francoise;Leopold;Pede\n",
      "Sobey;Mr;Samuel James Hayden;None;None\n",
      "Richard;Mr;Emile;None;None\n",
      "Newsom;Miss;Helen Monypeny;None;None\n",
      "Futrelle;Mr;Jacques Heath;None;None\n",
      "Osen;Mr;Olaf Elon;None;None\n",
      "Giglio;Mr;Victor;None;None\n",
      "Sultana;Mrs;;Joseph;Sultana\n",
      "Nysten;Miss;Anna Sofia;None;None\n",
      "Dolck;Mrs;Elin Matilda;Pekka Pietari;Dolck\n",
      "Burke;Mr;Jeremiah;None;None\n",
      "Andrew;Mr;Edgardo Samuel;None;None\n",
      "Nicholls;Mr;Joseph Charles;None;None\n",
      "Andersson;Mr;August Edvard (\"Wennerstrom\");None;None\n",
      "Ford;Miss;Robina Maggie \"Ruby\";None;None\n",
      "Navratil;Mr;Michel (\"Louis M Hoffman\");None;None\n",
      "Byles;Rev;Thomas Roussel Davids;None;None\n",
      "Bateman;Rev;Robert James;None;None\n",
      "Wearne;Mrs;Edith;Thomas;Wearne\n",
      "Meo;Mr;Alfonzo;None;None\n",
      "van Billiard;Mr;Austin Blyler;None;None\n",
      "Olsen;Mr;Ole Martin;None;None\n",
      "Williams;Mr;Charles Duane;None;None\n",
      "Gilnagh;Miss;Katherine \"Katie\";None;None\n",
      "Corn;Mr;Harry;None;None\n",
      "Smiljanic;Mr;Mile;None;None\n",
      "Sage;Master;Thomas Henry;None;None\n",
      "Cribb;Mr;John Hatfield;None;None\n",
      "Watt;Mrs;James (Elizabeth \"Bessie\" Inglis Milne);None;None\n",
      "Bengtsson;Mr;John Viktor;None;None\n",
      "Calic;Mr;Jovo;None;None\n",
      "Panula;Master;Eino Viljami;None;None\n",
      "Goldsmith;Master;Frank John William \"Frankie\";None;None\n",
      "Chibnall;Mrs;(Edith Martha Bowerman);None;None\n",
      "Karlsson;Mrs;Anna Bernhardina;William;Karlsson\n",
      "Baumann;Mr;John D;None;None\n",
      "Ling;Mr;Lee;None;None\n",
      "Van der hoef;Mr;Wyckoff;None;None\n",
      "Rice;Master;Arthur;None;None\n",
      "Johnson;Miss;Eleanor Ileen;None;None\n",
      "Sivola;Mr;Antti Wilhelm;None;None\n",
      "Smith;Mr;James Clinch;None;None\n",
      "Klasen;Mr;Klas Albin;None;None\n",
      "Lefebre;Master;Henry Forbes;None;None\n",
      "Isham;Miss;Ann Elizabeth;None;None\n",
      "Hale;Mr;Reginald;None;None\n",
      "Leonard;Mr;Lionel;None;None\n",
      "Sage;Miss;Constance Gladys;None;None\n",
      "Pernot;Mr;Rene;None;None\n",
      "Asplund;Master;Clarence Gustaf Hugo;None;None\n",
      "Becker;Master;Richard F;None;None\n",
      "Kink-Heilmann;Miss;Luise Gretchen;None;None\n",
      "Rood;Mr;Hugh Roscoe;None;None\n",
      "O'Brien;Mrs;Thomas (Johanna \"Hannah\" Godfrey);None;None\n",
      "Romaine;Mr;Charles Hallace (\"Mr C Rolmane\");None;None\n",
      "Bourke;Mr;John;None;None\n",
      "Turcin;Mr;Stjepan;None;None\n",
      "Pinsky;Mrs;(Rosa);None;None\n",
      "Carbines;Mr;William;None;None\n",
      "Andersen-Jensen;Miss;Carla Christine Nielsine;None;None\n",
      "Navratil;Master;Michel M;None;None\n",
      "Tobin;Mrs;Margaret;James Joseph;Tobin\n",
      "Lurette;Miss;Elise;None;None\n",
      "Mernagh;Mr;Robert;None;None\n",
      "Olsen;Mr;Karl Siegwart Andreas;None;None\n",
      "Madigan;Miss;Margaret \"Maggie\";None;None\n",
      "Yrois;Miss;Henriette (\"Mrs Harbeck\");None;None\n",
      "Vande Walle;Mr;Nestor Cyriel;None;None\n",
      "Sage;Mr;Frederick;None;None\n",
      "Johanson;Mr;Jakob Alfred;None;None\n",
      "Youseff;Mr;Gerious;None;None\n",
      "Cohen;Mr;Gurshon \"Gus\";None;None\n",
      "Strom;Miss;Telma Matilda;None;None\n",
      "Backstrom;Mr;Karl Alfred;None;None\n",
      "Albimona;Mr;Nassef Cassem;None;None\n",
      "Carr;Miss;Helen \"Ellen\";None;None\n",
      "Blank;Mr;Henry;None;None\n",
      "Ali;Mr;Ahmed;None;None\n",
      "Cameron;Miss;Clear Annie;None;None\n",
      "Perkin;Mr;John Henry;None;None\n",
      "Givard;Mr;Hans Kristensen;None;None\n",
      "Kiernan;Mr;Philip;None;None\n",
      "Newell;Miss;Madeleine;None;None\n",
      "Honkanen;Miss;Eliina;None;None\n",
      "Jacobsohn;Mr;Sidney Samuel;None;None\n",
      "Bazzani;Miss;Albina;None;None\n",
      "Harris;Mr;Walter;None;None\n",
      "Sunderland;Mr;Victor Francis;None;None\n",
      "Bracken;Mr;James H;None;None\n",
      "Green;Mr;George Henry;None;None\n",
      "Nenkoff;Mr;Christo;None;None\n",
      "Hoyt;Mr;Frederick Maxfield;None;None\n",
      "Berglund;Mr;Karl Ivar Sven;None;None\n",
      "Mellors;Mr;William John;None;None\n",
      "Lovell;Mr;John Hall (\"Henry\");None;None\n",
      "Fahlstrom;Mr;Arne Jonas;None;None\n",
      "Lefebre;Miss;Mathilde;None;None\n",
      "Wallach;Mrs;Irene;Henry Birkhardt;Wallach\n",
      "Larsson;Mr;Bengt Edvin;None;None\n",
      "Sjostedt;Mr;Ernst Adolf;None;None\n",
      "Asplund;Miss;Lillian Gertrud;None;None\n",
      "Leyson;Mr;Robert William Norman;None;None\n",
      "Harknett;Miss;Alice Phoebe;None;None\n",
      "Hold;Mr;Stephen;None;None\n",
      "Collyer;Miss;Marjorie \"Lottie\";None;None\n",
      "Pengelly;Mr;Frederick William;None;None\n",
      "Hunt;Mr;George Henry;None;None\n",
      "Zabour;Miss;Thamine;None;None\n",
      "Murphy;Miss;Katherine \"Kate\";None;None\n",
      "Coleridge;Mr;Reginald Charles;None;None\n",
      "Maenpaa;Mr;Matti Alexanteri;None;None\n",
      "Attalah;Mr;Sleiman;None;None\n",
      "Minahan;Dr;William Edward;None;None\n",
      "Lindahl;Miss;Agda Thorilda Viktoria;None;None\n",
      "Anna;Mrs;;William;Anna\n",
      "Beckwith;Mr;Richard Leonard;None;None\n",
      "Carter;Rev;Ernest Courtenay;None;None\n",
      "Reed;Mr;James George;None;None\n",
      "Persson;Mrs;Elna Matilda;Wilhelm;Persson\n",
      "Stead;Mr;William Thomas;None;None\n",
      "Lobb;Mr;William Arthur;None;None\n",
      "Wilhelmina;Mrs;Helena;Viktor;Wilhelmina\n",
      "Razi;Mrs;Hanne Youssef;Darwis;Razi\n",
      "Thorne;Mrs;Gertrude Maybelle;None;None\n",
      "Cherry;Miss;Gladys;None;None\n",
      "Ward;Miss;Anna;None;None\n",
      "Parrish;Mrs;(Lutie Davis);None;None\n",
      "Smith;Mr;Thomas;None;None\n",
      "Asplund;Master;Edvin Rojj Felix;None;None\n",
      "Taussig;Mr;Emil;None;None\n",
      "Harrison;Mr;William;None;None\n",
      "Henry;Miss;Delia;None;None\n",
      "Reeves;Mr;David;None;None\n",
      "Panula;Mr;Ernesti Arvid;None;None\n",
      "Persson;Mr;Ernst Ulrik;None;None\n",
      "Junkins;Mrs;Edith;William Thompson;Junkins\n",
      "Bissette;Miss;Amelia;None;None\n",
      "Cairns;Mr;Alexander;None;None\n",
      "Tornquist;Mr;William Henry;None;None\n",
      "Mellinger;Mrs;(Elizabeth Anne Maidment);None;None\n",
      "Natsch;Mr;Charles H;None;None\n",
      "Healy;Miss;Hanora \"Nora\";None;None\n",
      "Andrews;Miss;Kornelia Theodosia;None;None\n",
      "Lindblom;Miss;Augusta Charlotta;None;None\n",
      "Parkes;Mr;Francis \"Frank\";None;None\n",
      "Rice;Master;Eric;None;None\n",
      "Hunt;Mrs;Rosa;Stanton;Hunt\n",
      "Duane;Mr;Frank;None;None\n",
      "Olsson;Mr;Nils Johan Goransson;None;None\n",
      "de Pelsmaeker;Mr;Alfons;None;None\n",
      "Dorking;Mr;Edward Arthur;None;None\n",
      "Smith;Mr;Richard William;None;None\n",
      "Stankovic;Mr;Ivan;None;None\n",
      "de Mulder;Mr;Theodore;None;None\n",
      "Naidenoff;Mr;Penko;None;None\n",
      "Hosono;Mr;Masabumi;None;None\n",
      "Connolly;Miss;Kate;None;None\n",
      "Barber;Miss;Ellen \"Nellie\";None;None\n",
      "Walton;Mrs;Helen;Dickinson H;Walton\n",
      "Levy;Mr;Rene Jacques;None;None\n",
      "Haas;Miss;Aloisia;None;None\n",
      "Mineff;Mr;Ivan;None;None\n",
      "Lewy;Mr;Ervin G;None;None\n",
      "Hanna;Mr;Mansour;None;None\n",
      "Allison;Miss;Helen Loraine;None;None\n",
      "Saalfeld;Mr;Adolphe;None;None\n",
      "Chaput;Mrs;Helene DeLaudeniere;James;Chaput\n",
      "Kelly;Miss;Anna Katherine \"Annie Kate\";None;None\n",
      "McCoy;Mr;Bernard;None;None\n",
      "Johnson;Mr;William Cahoone Jr;None;None\n",
      "Keane;Miss;Nora A;None;None\n",
      "Williams;Mr;Howard Hugh \"Harry\";None;None\n",
      "Allison;Master;Hudson Trevor;None;None\n",
      "Fleming;Miss;Margaret;None;None\n",
      "Vallejo;Mrs;Maria Josefa Perez de Soto y;Victor de Satode;Vallejo\n",
      "Abelson;Mr;Samuel;None;None\n",
      "Francatelli;Miss;Laura Mabel;None;None\n",
      "Hays;Miss;Margaret Bechstein;None;None\n",
      "Ryerson;Miss;Emily Borie;None;None\n",
      "Sylfven;Mrs;Anna;William;Sylfven\n",
      "Hendekovic;Mr;Ignjac;None;None\n",
      "Hart;Mr;Benjamin;None;None\n",
      "Nilsson;Miss;Helmina Josefina;None;None\n",
      "Sternin;Mrs;Miriam;Sinai;Sternin\n",
      "Moraweck;Dr;Ernest;None;None\n",
      "Wick;Miss;Mary Natalie;None;None\n",
      "Stone;Mrs;Margaretta Corning;Frederic Oakley;Stone\n",
      "Dennis;Mr;Samuel;None;None\n",
      "Danoff;Mr;Yoto;None;None\n",
      "Slayter;Miss;Hilda Mary;None;None\n",
      "Harbaugh;Mrs;Sylvia Mae;Albert Francis;Harbaugh\n",
      "Sage;Mr;George John Jr;None;None\n",
      "Young;Miss;Marie Grice;None;None\n",
      "Nysveen;Mr;Johan Hansen;None;None\n",
      "Ball;Mrs;(Ada E Hall);None;None\n",
      "Brown;Mrs;Emily Alice;Frank John;Brown\n",
      "Hippach;Miss;Jean Gertrude;None;None\n",
      "McCoy;Miss;Agnes;None;None\n",
      "Partner;Mr;Austen;None;None\n",
      "Graham;Mr;George Edward;None;None\n",
      "Vander Planke;Mr;Leo Edmondus;None;None\n",
      "Heinsheimer;Mrs;Clara;Henry William;Heinsheimer\n",
      "Denkoff;Mr;Mitto;None;None\n",
      "Pears;Mr;Thomas Clinton;None;None\n",
      "Burns;Miss;Elizabeth Margaret;None;None\n",
      "Dahl;Mr;Karl Edwart;None;None\n",
      "Blackwell;Mr;Stephen Weart;None;None\n",
      "Navratil;Master;Edmond Roger;None;None\n",
      "Fortune;Miss;Alice Elizabeth;None;None\n",
      "Collander;Mr;Erik Gustaf;None;None\n",
      "Sedgwick;Mr;Charles Frederick Waddington;None;None\n",
      "Fox;Mr;Stanley Hubert;None;None\n",
      "Brown;Miss;Amelia \"Mildred\";None;None\n",
      "Smith;Miss;Marion Elsie;None;None\n",
      "Finck;Mrs;Mary E;Thomas Henry;Finck\n",
      "Coutts;Master;William Loch \"William\";None;None\n",
      "Dimic;Mr;Jovan;None;None\n",
      "Odahl;Mr;Nils Martin;None;None\n",
      "Williams-Lambert;Mr;Fletcher Fellows;None;None\n",
      "Elias;Mr;Tannous;None;None\n",
      "Arnold-Franchi;Mr;Josef;None;None\n",
      "Yousif;Mr;Wazli;None;None\n",
      "Vanden Steen;Mr;Leo Peter;None;None\n",
      "Bowerman;Miss;Elsie Edith;None;None\n",
      "Funk;Miss;Annie Clemmer;None;None\n",
      "McGovern;Miss;Mary;None;None\n",
      "Mockler;Miss;Helen Mary \"Ellie\";None;None\n",
      "Skoog;Mr;Wilhelm;None;None\n",
      "del Carlo;Mr;Sebastiano;None;None\n",
      "Barbara;Mrs;(Catherine David);None;None\n",
      "Asim;Mr;Adola;None;None\n",
      "O'Brien;Mr;Thomas;None;None\n",
      "Adahl;Mr;Mauritz Nils Martin;None;None\n",
      "Atkinson;Mrs;Anna Sophia;Frank Manley;Atkinson\n",
      "Moussa;Mrs;(Mantoura Boulos);None;None\n",
      "Jermyn;Miss;Annie;None;None\n",
      "Aubart;Mme;Leontine Pauline;None;None\n",
      "Harder;Mr;George Achilles;None;None\n",
      "Wiklund;Mr;Jakob Alfred;None;None\n",
      "Beavan;Mr;William Thomas;None;None\n",
      "Ringhini;Mr;Sante;None;None\n",
      "Palsson;Miss;Stina Viola;None;None\n",
      "Saks;Mrs;Leila;Edgar Joseph;Saks\n",
      "Landergren;Miss;Aurora Adelia;None;None\n",
      "Widener;Mr;Harry Elkins;None;None\n",
      "Betros;Mr;Tannous;None;None\n",
      "Gustafsson;Mr;Karl Gideon;None;None\n",
      "Bidois;Miss;Rosalie;None;None\n",
      "Nakid;Miss;Maria (\"Mary\");None;None\n",
      "Tikkanen;Mr;Juho;None;None\n",
      "Towner;Mrs;Mary Aline;Alexander Oskar;Towner\n",
      "Plotcharsky;Mr;Vasil;None;None\n",
      "Davies;Mr;Charles Henry;None;None\n",
      "Goodwin;Master;Sidney Leonard;None;None\n",
      "Buss;Miss;Kate;None;None\n",
      "Sadlier;Mr;Matthew;None;None\n",
      "Lehmann;Miss;Bertha;None;None\n",
      "Carter;Mr;William Ernest;None;None\n",
      "Jansson;Mr;Carl Olof;None;None\n",
      "Gustafsson;Mr;Johan Birger;None;None\n",
      "Newell;Miss;Marjorie;None;None\n",
      "Bengtsson;Mrs;Agnes Charlotta;Hjalmar;Bengtsson\n",
      "Johansson;Mr;Erik;None;None\n",
      "Olsson;Miss;Elina;None;None\n",
      "McKane;Mr;Peter David;None;None\n",
      "Pain;Dr;Alfred;None;None\n",
      "L;Mrs;Jessie;William H;L\n",
      "Niskanen;Mr;Juha;None;None\n",
      "Adams;Mr;John;None;None\n",
      "Jussila;Miss;Mari Aina;None;None\n",
      "Hakkarainen;Mr;Pekka Pietari;None;None\n",
      "Oreskovic;Miss;Marija;None;None\n",
      "Gale;Mr;Shadrach;None;None\n",
      "Widegren;Mr;Carl/Charles Peter;None;None\n",
      "Richards;Master;William Rowe;None;None\n",
      "Birkeland;Mr;Hans Martin Monsen;None;None\n",
      "Lefebre;Miss;Ida;None;None\n",
      "Sdycoff;Mr;Todor;None;None\n",
      "Hart;Mr;Henry;None;None\n",
      "Minahan;Miss;Daisy E;None;None\n",
      "Cunningham;Mr;Alfred Fleming;None;None\n",
      "Sundman;Mr;Johan Julian;None;None\n",
      "Rowley;Mrs;Annie Louise;Thomas;Rowley\n",
      "Christian;Mrs;Lulu Thorne;James Vivian;Christian\n",
      "Silven;Miss;Lyyli Karoliina;None;None\n",
      "Matthews;Mr;William John;None;None\n",
      "Van Impe;Miss;Catharina;None;None\n",
      "Gheorgheff;Mr;Stanio;None;None\n",
      "Charters;Mr;David;None;None\n",
      "Zimmerman;Mr;Leo;None;None\n",
      "Brogren;Mrs;Anna Sigrid Maria;Ernst Gilbert;Brogren\n",
      "Rosblom;Mr;Viktor Richard;None;None\n",
      "Wiseman;Mr;Phillippe;None;None\n",
      "Winfield;Mrs;Ada Maria;Charles V;Winfield\n",
      "Phillips;Miss;Kate Florence (\"Mrs Kate Louise Phillips Marshall\");None;None\n",
      "Flynn;Mr;James;None;None\n",
      "Pickard;Mr;Berk (Berk Trembisky);None;None\n",
      "Bjornstrom-Steffansson;Mr;Mauritz Hakan;None;None\n",
      "White;Mrs;Florence Kate;Percival;White\n",
      "Slow;Mrs;Alice Adelaide;Charles Alexander;Slow\n",
      "Kallio;Mr;Nikolai Erland;None;None\n",
      "Silvey;Mr;William Baird;None;None\n",
      "Carter;Miss;Lucile Polk;None;None\n",
      "Ford;Miss;Doolina Margaret \"Daisy\";None;None\n",
      "Hocking;Mrs;Emily;Sidney;Hocking\n",
      "Fortune;Mr;Mark;None;None\n",
      "Kvillner;Mr;Johan Henrik Johannesson;None;None\n",
      "Bloomfield;Mrs;Esther Ada;Benjamin;Bloomfield\n",
      "Hampe;Mr;Leon;None;None\n",
      "Petterson;Mr;Johan Emil;None;None\n",
      "Reynaldo;Ms;Encarnacion;None;None\n",
      "Johannesen-Bratthammer;Mr;Bernt;None;None\n",
      "Dodge;Master;Washington;None;None\n",
      "Mellinger;Miss;Madeleine Violet;None;None\n",
      "Seward;Mr;Frederic Kimber;None;None\n",
      "Baclini;Miss;Marie Catherine;None;None\n",
      "Peuchen;Major;Arthur Godfrey;None;None\n",
      "West;Mr;Edwy Arthur;None;None\n",
      "Hagland;Mr;Ingvald Olai Olsen;None;None\n",
      "Foreman;Mr;Benjamin Laventall;None;None\n",
      "Goldenberg;Mr;Samuel L;None;None\n",
      "Peduzzi;Mr;Joseph;None;None\n",
      "Jalsevac;Mr;Ivan;None;None\n",
      "Millet;Mr;Francis Davis;None;None\n",
      "Marion;Mrs;;Frederick R;Marion\n",
      "Toomey;Miss;Ellen;None;None\n",
      "O'Connor;Mr;Maurice;None;None\n",
      "Anderson;Mr;Harry;None;None\n",
      "Morley;Mr;William;None;None\n",
      "Gee;Mr;Arthur H;None;None\n",
      "Milling;Mr;Jacob Christian;None;None\n",
      "Maisner;Mr;Simon;None;None\n",
      "Goncalves;Mr;Manuel Estanslas;None;None\n",
      "Campbell;Mr;William;None;None\n",
      "Smart;Mr;John Montgomery;None;None\n",
      "Scanlan;Mr;James;None;None\n",
      "Baclini;Miss;Helene Barbara;None;None\n",
      "Keefe;Mr;Arthur;None;None\n",
      "Cacic;Mr;Luka;None;None\n",
      "Worth;Mrs;Ada Mary;Edwy Arthur;Worth\n",
      "Thuillard;Mrs;Marie Marthe;Amin S;Thuillard\n",
      "Strandberg;Miss;Ida Sofia;None;None\n",
      "Clifford;Mr;George Quincy;None;None\n",
      "Renouf;Mr;Peter Henry;None;None\n",
      "Braund;Mr;Lewis Richard;None;None\n",
      "Karlsson;Mr;Nils August;None;None\n",
      "Hirvonen;Miss;Hildur E;None;None\n",
      "Goodwin;Master;Harold Victor;None;None\n",
      "Frost;Mr;Anthony Wood \"Archie\";None;None\n",
      "Rouse;Mr;Richard Henry;None;None\n",
      "Turkula;Mrs;(Hedwig);None;None\n",
      "Bishop;Mr;Dickinson H;None;None\n",
      "Lefebre;Miss;Jeannie;None;None\n",
      "Forby;Mrs;Jane Anne;Frederick Maxfield;Forby\n",
      "Kent;Mr;Edward Austin;None;None\n",
      "Somerton;Mr;Francis William;None;None\n",
      "Coutts;Master;Eden Leslie \"Neville\";None;None\n",
      "Hagland;Mr;Konrad Mathias Reiersen;None;None\n",
      "Windelov;Mr;Einar;None;None\n",
      "Molson;Mr;Harry Markland;None;None\n",
      "Artagaveytia;Mr;Ramon;None;None\n",
      "Stanley;Mr;Edward Roland;None;None\n",
      "Yousseff;Mr;Gerious;None;None\n",
      "Eustis;Miss;Elizabeth Mussey;None;None\n",
      "Shellard;Mr;Frederick William;None;None\n",
      "Daniels;Mrs;Bessie Waldo;Hudson J C;Daniels\n",
      "Svensson;Mr;Olof;None;None\n",
      "Calic;Mr;Petar;None;None\n",
      "Canavan;Miss;Mary;None;None\n",
      "O'Sullivan;Miss;Bridget Mary;None;None\n",
      "Laitinen;Miss;Kristina Sofia;None;None\n",
      "Maioni;Miss;Roberta;None;None\n",
      "Penasco y Castellana;Mr;Victor de Satode;None;None\n",
      "Richards;Mrs;Jane;Frederick Charles;Richards\n",
      "Bradley;Mr;George (\"George Arthur Brayton\");None;None\n",
      "Olsen;Mr;Henry Margido;None;None\n",
      "Lang;Mr;Fang;None;None\n",
      "Daly;Mr;Eugene Patrick;None;None\n",
      "Webber;Mr;James;None;None\n",
      "McGough;Mr;James Robert;None;None\n",
      "Rothschild;Mrs;Martin (Elizabeth L. Barrett);None;None\n",
      "Coleff;Mr;Satio;None;None\n",
      "Walker;Mr;William Anderson;None;None\n",
      "Lemore;Mrs;(Amelia Milley);None;None\n",
      "Ryan;Mr;Patrick;None;None\n",
      "Angle;Mrs;William A (Florence \"Mary\" Agnes Hughes);None;None\n",
      "Pavlovic;Mr;Stefo;None;None\n",
      "Perreault;Miss;Anne;None;None\n",
      "Vovk;Mr;Janko;None;None\n",
      "Lahoud;Mr;Sarkis;None;None\n",
      "Fischer;Mrs;Ida Sophia;Louis Albert;Fischer\n",
      "Kassem;Mr;Fared;None;None\n",
      "Farrell;Mr;James;None;None\n",
      "Ridsdale;Miss;Lucy;None;None\n",
      "Farthing;Mr;John;None;None\n",
      "Salonen;Mr;Johan Werner;None;None\n",
      "Hocking;Mr;Richard George;None;None\n",
      "Quick;Miss;Phyllis May;None;None\n",
      "Toufik;Mr;Nakli;None;None\n",
      "Elias;Mr;Joseph Jr;None;None\n",
      "Rizk;Mrs;Catherine;Catherine;Rizk\n",
      "Cacic;Miss;Marija;None;None\n",
      "Hart;Miss;Eva Miriam;None;None\n",
      "Butt;Major;Archibald Willingham;None;None\n",
      "LeRoy;Miss;Bertha;None;None\n",
      "Risien;Mr;Samuel Beard;None;None\n",
      "Frolicher;Miss;Hedwig Margaritha;None;None\n",
      "Crosby;Miss;Harriet R;None;None\n",
      "Andersson;Miss;Ingeborg Constanzia;None;None\n",
      "Andersson;Miss;Sigrid Elisabeth;None;None\n",
      "Beane;Mr;Edward;None;None\n",
      "Douglas;Mr;Walter Donald;None;None\n",
      "Nicholson;Mr;Arthur Ernest;None;None\n",
      "Clarke;Mrs;Ethel;Edward;Clarke\n",
      "Padro y Manent;Mr;Julian;None;None\n",
      "Goldsmith;Mr;Frank John;None;None\n",
      "Davies;Master;John Morgan Jr;None;None\n",
      "Thayer;Mr;John Borland Jr;None;None\n",
      "Sharp;Mr;Percival James R;None;None\n",
      "O'Brien;Mr;Timothy;None;None\n",
      "Leeni;Mr;Fahim (\"Philip Zenni\");None;None\n",
      "Ohman;Miss;Velin;None;None\n",
      "Wright;Mr;George;None;None\n",
      "Duff Gordon;Lady;(Lucille Christiana Sutherland) (\"Mrs Morgan\");None;None\n",
      "Robbins;Mr;Victor;None;None\n",
      "Mandelbaum;Mrs;Tillie;Emil;Mandelbaum\n",
      "Emma;Mrs;;Guillaume Joseph;Emma\n",
      "Morrow;Mr;Thomas Rowan;None;None\n",
      "Sivic;Mr;Husein;None;None\n",
      "Norman;Mr;Robert Douglas;None;None\n",
      "Simmons;Mr;John;None;None\n",
      "Meanwell;Miss;(Marion Ogden);None;None\n",
      "Davies;Mr;Alfred J;None;None\n",
      "Stoytcheff;Mr;Ilia;None;None\n",
      "Berglund;Mrs;Alma Cornelia;Nils;Berglund\n",
      "Doharr;Mr;Tannous;None;None\n",
      "Jonsson;Mr;Carl;None;None\n",
      "Harris;Mr;George;None;None\n",
      "Lamson;Mrs;Charlotte;Edward Dale;Lamson\n",
      "Flynn;Mr;John Irwin (\"Irving\");None;None\n",
      "Kelly;Miss;Mary;None;None\n",
      "Rush;Mr;Alfred George John;None;None\n",
      "Patchett;Mr;George;None;None\n",
      "Garside;Miss;Ethel;None;None\n",
      "Munger;Mrs;Alice;William Baird;Munger\n",
      "Elias;Mrs;Maria;Joseph;Elias\n",
      "Jussila;Mr;Eiriik;None;None\n",
      "Christy;Miss;Julie Rachel;None;None\n",
      "Morris;Mrs;Marian Longstreth;John Borland;Morris\n",
      "Downton;Mr;William James;None;None\n",
      "Ross;Mr;John Hugo;None;None\n",
      "Paulner;Mr;Uscher;None;None\n",
      "Taussig;Miss;Ruth;None;None\n",
      "Jarvis;Mr;John Denzil;None;None\n",
      "Frolicher-Stehli;Mr;Maxmillian;None;None\n",
      "Gilinski;Mr;Eliezer;None;None\n",
      "Murdlin;Mr;Joseph;None;None\n",
      "Rintamaki;Mr;Matti;None;None\n",
      "Eustis;Mrs;Martha;Walter Bertram;Eustis\n",
      "Elsbury;Mr;William James;None;None\n",
      "Bourke;Miss;Mary;None;None\n",
      "Chapman;Mr;John Henry;None;None\n",
      "Van Impe;Mr;Jean Baptiste;None;None\n",
      "Leitch;Miss;Jessie Wills;None;None\n",
      "Johnson;Mr;Alfred;None;None\n",
      "Boulos;Mr;Hanna;None;None\n",
      "Duff Gordon;Sir;Cosmo Edmund (\"Mr Morgan\");None;None\n",
      "Christy;Mrs;Amy Frances;Sidney Samuel;Christy\n",
      "Slabenoff;Mr;Petco;None;None\n",
      "Harrington;Mr;Charles H;None;None\n",
      "Torber;Mr;Ernst William;None;None\n",
      "Homer;Mr;Harry (\"Mr E Haven\");None;None\n",
      "Lindell;Mr;Edvard Bengtsson;None;None\n",
      "Karaic;Mr;Milan;None;None\n",
      "Daniel;Mr;Robert Williams;None;None\n",
      "Lafargue;Mrs;Juliette Marie Louise;Joseph;Lafargue\n",
      "Shutes;Miss;Elizabeth W;None;None\n",
      "Brogren;Mrs;Alfrida Konstantia;Anders Johan;Brogren\n",
      "Jardin;Mr;Jose Neto;None;None\n",
      "Murphy;Miss;Margaret Jane;None;None\n",
      "Horgan;Mr;John;None;None\n",
      "Brocklebank;Mr;William Alfred;None;None\n",
      "Herman;Miss;Alice;None;None\n",
      "Danbom;Mr;Ernst Gilbert;None;None\n",
      "Stanlick;Mrs;Cordelia K;William Arthur;Stanlick\n",
      "Becker;Miss;Marion Louise;None;None\n",
      "Gavey;Mr;Lawrence;None;None\n",
      "Yasbeck;Mr;Antoni;None;None\n",
      "Kimball;Mr;Edwin Nelson Jr;None;None\n",
      "Nakid;Mr;Sahid;None;None\n",
      "Hansen;Mr;Henry Damsgaard;None;None\n",
      "Bowen;Mr;David John \"Dai\";None;None\n",
      "Sutton;Mr;Frederick;None;None\n",
      "Kirkland;Rev;Charles Leonard;None;None\n",
      "Longley;Miss;Gretchen Fiske;None;None\n",
      "Bostandyeff;Mr;Guentcho;None;None\n",
      "O'Connell;Mr;Patrick D;None;None\n",
      "Barkworth;Mr;Algernon Henry Wilson;None;None\n",
      "Lundahl;Mr;Johan Svensson;None;None\n",
      "Stahelin-Maeglin;Dr;Max;None;None\n",
      "Parr;Mr;William Henry Marsh;None;None\n",
      "Skoog;Miss;Mabel;None;None\n",
      "Davis;Miss;Mary;None;None\n",
      "Leinonen;Mr;Antti Gustaf;None;None\n",
      "Collyer;Mr;Harvey;None;None\n",
      "Ojala;Mrs;Maria Emilia;Juha;Ojala\n",
      "Thorneycroft;Mr;Percival;None;None\n",
      "Jensen;Mr;Hans Peder;None;None\n",
      "Sagesser;Mlle;Emma;None;None\n",
      "Skoog;Miss;Margit Elizabeth;None;None\n",
      "Foo;Mr;Choong;None;None\n",
      "Baclini;Miss;Eugenie;None;None\n",
      "Harper;Mr;Henry Sleeper;None;None\n",
      "Cor;Mr;Liudevit;None;None\n",
      "Simonius-Blumer;Col;Oberst Alfons;None;None\n",
      "Willey;Mr;Edward;None;None\n",
      "Stanley;Miss;Amy Zillah Elsie;None;None\n",
      "Mitkoff;Mr;Mito;None;None\n",
      "Doling;Miss;Elsie;None;None\n",
      "Kalvik;Mr;Johannes Halvorsen;None;None\n",
      "O'Leary;Miss;Hanora \"Norah\";None;None\n",
      "Hegarty;Miss;Hanora \"Nora\";None;None\n",
      "Hickman;Mr;Leonard Mark;None;None\n",
      "Radeff;Mr;Alexander;None;None\n",
      "Catherine;Mrs;;John;Catherine\n",
      "Eitemiller;Mr;George Floyd;None;None\n",
      "Newell;Mr;Arthur Webster;None;None\n",
      "Frauenthal;Dr;Henry William;None;None\n",
      "Badt;Mr;Mohamed;None;None\n",
      "Colley;Mr;Edward Pomeroy;None;None\n",
      "Coleff;Mr;Peju;None;None\n",
      "Lindqvist;Mr;Eino William;None;None\n",
      "Hickman;Mr;Lewis;None;None\n",
      "Butler;Mr;Reginald Fenton;None;None\n",
      "Rommetvedt;Mr;Knud Paust;None;None\n",
      "Cook;Mr;Jacob;None;None\n",
      "Wright;Mrs;Juliet Cummins;Elmer Zebley;Wright\n",
      "Ford;Mrs;Elizabeth Catherine;Thomas William Solomon;Ford\n",
      "Davidson;Mr;Thornton;None;None\n",
      "Mitchell;Mr;Henry Michael;None;None\n",
      "Wilhelms;Mr;Charles;None;None\n",
      "Watson;Mr;Ennis Hastings;None;None\n",
      "Edvardsson;Mr;Gustaf Hjalmar;None;None\n",
      "Sawyer;Mr;Frederick Charles;None;None\n",
      "Turja;Miss;Anna Sofia;None;None\n",
      "Tyler;Mrs;Augusta;Frederick;Tyler\n",
      "Cardeza;Mr;Thomas Drake Martinez;None;None\n",
      "Peters;Miss;Katie;None;None\n",
      "Hassab;Mr;Hammad;None;None\n",
      "Olsvigen;Mr;Thor Anderson;None;None\n",
      "Goodwin;Mr;Charles Edward;None;None\n",
      "Brown;Mr;Thomas William Solomon;None;None\n",
      "Laroche;Mr;Joseph Philippe Lemercier;None;None\n",
      "Panula;Mr;Jaako Arnold;None;None\n",
      "Dakic;Mr;Branko;None;None\n",
      "Fischer;Mr;Eberhard Thelander;None;None\n",
      "Madill;Miss;Georgette Alexandra;None;None\n",
      "Dick;Mr;Albert Adrian;None;None\n",
      "Karun;Miss;Manca;None;None\n",
      "Lam;Mr;Ali;None;None\n",
      "Saad;Mr;Khalil;None;None\n",
      "Weir;Col;John;None;None\n",
      "Chapman;Mr;Charles Henry;None;None\n",
      "Kelly;Mr;James;None;None\n",
      "Mullens;Miss;Katherine \"Katie\";None;None\n",
      "Thayer;Mr;John Borland;None;None\n",
      "Humblen;Mr;Adolf Mathias Nicolai Olsen;None;None\n",
      "Force;Mrs;Madeleine Talmadge;John Jacob;Force\n",
      "Silverthorne;Mr;Spencer Victor;None;None\n",
      "Barbara;Miss;Saiide;None;None\n",
      "Gallagher;Mr;Martin;None;None\n",
      "Hansen;Mr;Henrik Juul;None;None\n",
      "Morley;Mr;Henry Samuel (\"Mr Henry Marshall\");None;None\n",
      "Kelly;Mrs;Florence \"Fannie\";None;None\n",
      "Calderhead;Mr;Edward Pennington;None;None\n",
      "Cleaver;Miss;Alice;None;None\n",
      "Moubarek;Master;Halim Gonios (\"William George\");None;None\n",
      "Mayne;Mlle;Berthe Antonine (\"Mrs de Villiers\");None;None\n",
      "Klaber;Mr;Herman;None;None\n",
      "Taylor;Mr;Elmer Zebley;None;None\n",
      "Larsson;Mr;August Viktor;None;None\n",
      "Greenberg;Mr;Samuel;None;None\n",
      "Soholt;Mr;Peter Andreas Lauritz Andersen;None;None\n",
      "Endres;Miss;Caroline Louise;None;None\n",
      "Troutt;Miss;Edwina Celia \"Winnie\";None;None\n",
      "McEvoy;Mr;Michael;None;None\n",
      "Johnson;Mr;Malkolm Joackim;None;None\n",
      "Harper;Miss;Annie Jessie \"Nina\";None;None\n",
      "Jensen;Mr;Svend Lauritz;None;None\n",
      "Gillespie;Mr;William Henry;None;None\n",
      "Hodges;Mr;Henry Price;None;None\n",
      "Chambers;Mr;Norman Campbell;None;None\n",
      "Oreskovic;Mr;Luka;None;None\n",
      "Jefferys;Mrs;Lillian;Peter Henry;Jefferys\n",
      "Mannion;Miss;Margareth;None;None\n",
      "Bryhl;Mr;Kurt Arnold Gottfrid;None;None\n",
      "Ilmakangas;Miss;Pieta Sofia;None;None\n",
      "Allen;Miss;Elisabeth Walton;None;None\n",
      "Hassan;Mr;Houssein G N;None;None\n",
      "Knight;Mr;Robert J;None;None\n",
      "Berriman;Mr;William John;None;None\n",
      "Troupiansky;Mr;Moses Aaron;None;None\n",
      "Williams;Mr;Leslie;None;None\n",
      "Watson;Mrs;Margaret Ann;Edward;Watson\n",
      "Lesurer;Mr;Gustave J;None;None\n",
      "Ivanoff;Mr;Kanio;None;None\n",
      "Nankoff;Mr;Minko;None;None\n",
      "Hawksford;Mr;Walter James;None;None\n",
      "Cavendish;Mr;Tyrell William;None;None\n",
      "Ryerson;Miss;Susan Parker \"Suzette\";None;None\n",
      "McNamee;Mr;Neal;None;None\n",
      "Stranden;Mr;Juho;None;None\n",
      "Crosby;Capt;Edward Gifford;None;None\n",
      "Abbott;Mr;Rossmore Edward;None;None\n",
      "Sinkkonen;Miss;Anna;None;None\n",
      "Marvin;Mr;Daniel Warner;None;None\n",
      "Connaghton;Mr;Michael;None;None\n",
      "Wells;Miss;Joan;None;None\n",
      "Moor;Master;Meier;None;None\n",
      "Vande Velde;Mr;Johannes Joseph;None;None\n",
      "Jonkoff;Mr;Lalio;None;None\n",
      "Laver;Mrs;Jane;Samuel;Laver\n",
      "Hamalainen;Master;Viljo;None;None\n",
      "Carlsson;Mr;August Sigfrid;None;None\n",
      "Bailey;Mr;Percy Andrew;None;None\n",
      "Theobald;Mr;Thomas Leonard;None;None\n",
      "Rothes;th;Countess. of (Lucy Noel Martha Dyer-Edwards);None;None\n",
      "Garfirth;Mr;John;None;None\n",
      "Nirva;Mr;Iisakki Antino Aijo;None;None\n",
      "Barah;Mr;Hanna Assi;None;None\n",
      "Polk;Mrs;Lucile;William Ernest;Polk\n",
      "Eklund;Mr;Hans Linus;None;None\n",
      "Andrews;Mrs;Anna;John C;Andrews\n",
      "Brewe;Dr;Arthur Jackson;None;None\n",
      "Mangan;Miss;Mary;None;None\n",
      "Moran;Mr;Daniel J;None;None\n",
      "Gronnestad;Mr;Daniel Danielsen;None;None\n",
      "Lievens;Mr;Rene Aime;None;None\n",
      "Jensen;Mr;Niels Peder;None;None\n",
      "Mack;Mrs;(Mary);None;None\n",
      "Elias;Mr;Dibo;None;None\n",
      "Needs;Mrs;Eliza;Elizabeth;Needs\n",
      "Myhrman;Mr;Pehr Fabian Oliver Malkolm;None;None\n",
      "Tobin;Mr;Roger;None;None\n",
      "Emanuel;Miss;Virginia Ethel;None;None\n",
      "Kilgannon;Mr;Thomas J;None;None\n",
      "McMillan;Mrs;Elisabeth Walton;Edward Scott;McMillan\n",
      "Ayoub;Miss;Banoura;None;None\n",
      "Gillespie;Mrs;Vera;Albert Adrian;Gillespie\n",
      "Long;Mr;Milton Clyde;None;None\n",
      "Johnston;Mr;Andrew G;None;None\n",
      "Ali;Mr;William;None;None\n",
      "Harmer;Mr;Abraham (David Lishin);None;None\n",
      "Sjoblom;Miss;Anna Sofia;None;None\n",
      "Rice;Master;George Hugh;None;None\n",
      "Dean;Master;Bertram Vere;None;None\n",
      "Guggenheim;Mr;Benjamin;None;None\n",
      "Keane;Mr;Andrew \"Andy\";None;None\n",
      "Gaskell;Mr;Alfred;None;None\n",
      "Sage;Miss;Stella Anna;None;None\n",
      "Hoyt;Mr;William Fisher;None;None\n",
      "Dantcheff;Mr;Ristiu;None;None\n",
      "Otter;Mr;Richard;None;None\n",
      "Leader;Dr;Alice (Farnham);None;None\n",
      "Osman;Mrs;Mara;None;None\n",
      "Ibrahim Shawah;Mr;Yousseff;None;None\n",
      "Govaert;Mrs;Rosalie Paula;Jean Baptiste;Govaert\n",
      "Ponesell;Mr;Martin;None;None\n",
      "Tate;Mrs;Charlotte Annie;Harvey;Tate\n",
      "Carter;Master;William Thornton II;None;None\n",
      "Thomas;Master;Assad Alexander;None;None\n",
      "Hedman;Mr;Oskar Arvid;None;None\n",
      "Johansson;Mr;Karl Johan;None;None\n",
      "Andrews;Mr;Thomas Jr;None;None\n",
      "Pettersson;Miss;Ellen Natalia;None;None\n",
      "Meyer;Mr;August;None;None\n",
      "Griggs;Mrs;Bertha;Norman Campbell;Griggs\n",
      "Alexander;Mr;William;None;None\n",
      "Lester;Mr;James;None;None\n",
      "Slemen;Mr;Richard James;None;None\n",
      "Andersson;Miss;Ebba Iris Alfrida;None;None\n",
      "Tomlin;Mr;Ernest Portage;None;None\n",
      "Fry;Mr;Richard;None;None\n",
      "Heininen;Miss;Wendla Maria;None;None\n",
      "Mallet;Mr;Albert;None;None\n",
      "Holm;Mr;John Fredrik Alexander;None;None\n",
      "Skoog;Master;Karl Thorsten;None;None\n",
      "Gregg;Mrs;Clara Jennings;Charles Melville;Gregg\n",
      "Lulic;Mr;Nikola;None;None\n",
      "Reuchlin;Jonkheer;John George;None;None\n",
      "Moor;Mrs;(Beila);None;None\n",
      "Panula;Master;Urho Abraham;None;None\n",
      "Flynn;Mr;John;None;None\n",
      "Lam;Mr;Len;None;None\n",
      "Mallet;Master;Andre;None;None\n",
      "McCormack;Mr;Thomas Joseph;None;None\n",
      "Evelyn;Mrs;Martha;George Nelson;Evelyn\n",
      "Alexander;Mrs;Selini;Antoni;Alexander\n",
      "Richards;Master;George Sibley;None;None\n",
      "Saad;Mr;Amin;None;None\n",
      "Augustsson;Mr;Albert;None;None\n",
      "Allum;Mr;Owen George;None;None\n",
      "Compton;Miss;Sara Rebecca;None;None\n",
      "Pasic;Mr;Jakob;None;None\n",
      "Sirota;Mr;Maurice;None;None\n",
      "Chip;Mr;Chang;None;None\n",
      "Marechal;Mr;Pierre;None;None\n",
      "Alhomaki;Mr;Ilmari Rudolf;None;None\n",
      "Mudd;Mr;Thomas Charles;None;None\n",
      "Serepeca;Miss;Augusta;None;None\n",
      "Lemberopolous;Mr;Peter L;None;None\n",
      "Culumovic;Mr;Jeso;None;None\n",
      "Abbing;Mr;Anthony;None;None\n",
      "Sage;Mr;Douglas Bullen;None;None\n",
      "Markoff;Mr;Marin;None;None\n",
      "Harper;Rev;John;None;None\n",
      "Grabowska;Mrs;Edwiga;Samuel L;Grabowska\n",
      "Andersson;Master;Sigvard Harald Elias;None;None\n",
      "Svensson;Mr;Johan;None;None\n",
      "Boulos;Miss;Nourelain;None;None\n",
      "Lines;Miss;Mary Conover;None;None\n",
      "Hughes;Mrs;Lilian;Ernest Courtenay;Hughes\n",
      "Rosen;Mrs;Leah;Sam;Rosen\n",
      "Hitchcock;Mrs;Mary;George Dennick;Hitchcock\n",
      "Daly;Mr;Peter Denis;None;None\n",
      "Qurban;Mrs;Latifa;Solomon;Qurban\n",
      "Razi;Mr;Raihed;None;None\n",
      "Hansen;Mr;Claus Peter;None;None\n",
      "Giles;Mr;Frederick Edward;None;None\n",
      "Barron;Mrs;Margaret Welles;Frederick Joel;Barron\n",
      "Sage;Miss;Dorothy Edith \"Dolly\";None;None\n",
      "Gill;Mr;John William;None;None\n",
      "Bystrom;Mrs;(Karolina);None;None\n",
      "Duran y More;Miss;Asuncion;None;None\n",
      "Roebling;Mr;Washington Augustus II;None;None\n",
      "van Melkebeke;Mr;Philemon;None;None\n",
      "Johnson;Master;Harold Theodor;None;None\n",
      "Balkic;Mr;Cerin;None;None\n",
      "Monypeny;Mrs;Sallie;Richard Leonard;Monypeny\n",
      "Carlsson;Mr;Frans Olof;None;None\n",
      "Vander Cruyssen;Mr;Victor;None;None\n",
      "Wizosky;Mrs;Hannah;Samuel;Wizosky\n",
      "Najib;Miss;Adele Kiamie \"Jane\";None;None\n",
      "Gustafsson;Mr;Alfred Ossian;None;None\n",
      "Petroff;Mr;Nedelio;None;None\n",
      "Laleff;Mr;Kristo;None;None\n",
      "Wilson;Mrs;Lily Alexenia;Thomas Jr;Wilson\n",
      "Hall;Mrs;Imanita Parrish;William;Hall\n",
      "Markun;Mr;Johann;None;None\n",
      "Dahlberg;Miss;Gerda Ulrika;None;None\n",
      "Banfield;Mr;Frederick James;None;None\n",
      "Sutehall;Mr;Henry Jr;None;None\n",
      "Norton;Mrs;Margaret;William;Norton\n",
      "Montvila;Rev;Juozas;None;None\n",
      "Graham;Miss;Margaret Edith;None;None\n",
      "Johnston;Miss;Catherine Helen \"Carrie\";None;None\n",
      "Behr;Mr;Karl Howell;None;None\n",
      "Dooley;Mr;Patrick;None;None\n"
     ]
    }
   ],
   "source": [
    "for x in df['Name']:\n",
    "    b = parse_name(x)\n",
    "    print(str(b['Name']) + \";\" + str(b['Civility']) + \";\" + str(b['Given_names']) + \";\" + str(b['Spouse_name']) + \";\" +str(b['Maiden_name']))"
   ]
  },
  {
   "cell_type": "markdown",
   "metadata": {
    "slideshow": {
     "slide_type": "slide"
    }
   },
   "source": [
    "\n",
    "## Question: about `map` objects\n",
    "\n",
    "What is a `map object`? Is it a sequence (list, tuple, etc)? Is it\n",
    "an `Iterable`? Something else? You may use function `isinstance` and\n",
    "submodule `collections.abc` to settle these questions?\n",
    "\n",
    "### Answer\n",
    "\n"
   ]
  },
  {
   "cell_type": "code",
   "execution_count": 186,
   "metadata": {
    "ExecuteTime": {
     "end_time": "2020-02-23T22:25:44.801888Z",
     "start_time": "2020-02-23T22:25:44.787585Z"
    },
    "autoscroll": "auto",
    "options": {
     "caption": false,
     "complete": true,
     "display_data": true,
     "display_stream": true,
     "dpi": 200,
     "echo": true,
     "evaluate": false,
     "f_env": null,
     "f_pos": "htpb",
     "f_size": [
      6,
      4
     ],
     "f_spines": true,
     "fig": true,
     "include": true,
     "name": null,
     "option_string": "evaluate=False",
     "results": "verbatim",
     "term": false,
     "wrap": "output"
    },
    "slideshow": {
     "slide_type": "subslide"
    }
   },
   "outputs": [
    {
     "data": {
      "text/plain": [
       "True"
      ]
     },
     "execution_count": 186,
     "metadata": {},
     "output_type": "execute_result"
    }
   ],
   "source": [
    "# map object is an iterator, an object where we can iterate on it like a dictionnary for exemple\n",
    "# isinstance return true that mean mydict is an object where we can map on it\n",
    "from collections import abc\n",
    "mydict = parse_name(df['Name'][3])\n",
    "isinstance(mydict, abc.Mapping)\n"
   ]
  },
  {
   "cell_type": "markdown",
   "metadata": {
    "slideshow": {
     "slide_type": "slide"
    }
   },
   "source": [
    "\n",
    "## Question: aristocrats on board\n",
    "\n",
    "Some passengers were of noble extraction, or officers in some Army.\n",
    "Point them.\n",
    "\n",
    "### Answer\n",
    "\n"
   ]
  },
  {
   "cell_type": "code",
   "execution_count": 196,
   "metadata": {
    "ExecuteTime": {
     "end_time": "2020-02-23T22:36:39.410750Z",
     "start_time": "2020-02-23T22:36:39.390766Z"
    }
   },
   "outputs": [
    {
     "name": "stdout",
     "output_type": "stream",
     "text": [
      "Uruchurtu, Don. Manuel E\n",
      "Byles, Rev. Thomas Roussel Davids\n",
      "Bateman, Rev. Robert James\n",
      "Minahan, Dr. William Edward\n",
      "Carter, Rev. Ernest Courtenay\n",
      "Moraweck, Dr. Ernest\n",
      "Pain, Dr. Alfred\n",
      "Peuchen, Major. Arthur Godfrey\n",
      "Butt, Major. Archibald Willingham\n",
      "Duff Gordon, Lady. (Lucille Christiana Sutherland) (\"Mrs Morgan\")\n",
      "Duff Gordon, Sir. Cosmo Edmund (\"Mr Morgan\")\n",
      "Kirkland, Rev. Charles Leonard\n",
      "Stahelin-Maeglin, Dr. Max\n",
      "Simonius-Blumer, Col. Oberst Alfons\n",
      "Frauenthal, Dr. Henry William\n",
      "Weir, Col. John\n",
      "Crosby, Capt. Edward Gifford\n",
      "Rothes, the Countess. of (Lucy Noel Martha Dyer-Edwards)\n",
      "Brewe, Dr. Arthur Jackson\n",
      "Leader, Dr. Alice (Farnham)\n",
      "Reuchlin, Jonkheer. John George\n",
      "Harper, Rev. John\n",
      "Montvila, Rev. Juozas\n"
     ]
    }
   ],
   "source": [
    "honorific_title = ['Capt.','Col.','Don.','Dona.','Dr.','Jonkheer.','Lady.','Major.','Rev.','Sir.','the Countess.']\n",
    "for x in df['Name']:\n",
    "    for i in honorific_title:\n",
    "        if i in x:\n",
    "            print(x)"
   ]
  },
  {
   "cell_type": "markdown",
   "metadata": {
    "slideshow": {
     "slide_type": "slide"
    }
   },
   "source": [
    "\n",
    "## Question: How many people are given Civility 'Mrs', 'Miss', 'Mr', 'Master'?\n",
    "\n",
    "\n",
    "### Answer\n",
    "\n"
   ]
  },
  {
   "cell_type": "code",
   "execution_count": 177,
   "metadata": {
    "ExecuteTime": {
     "end_time": "2020-02-23T22:19:36.482968Z",
     "start_time": "2020-02-23T22:19:36.453867Z"
    },
    "autoscroll": "auto",
    "options": {
     "caption": false,
     "complete": true,
     "display_data": true,
     "display_stream": true,
     "dpi": 200,
     "echo": true,
     "evaluate": false,
     "f_env": null,
     "f_pos": "htpb",
     "f_size": [
      6,
      4
     ],
     "f_spines": true,
     "fig": true,
     "include": true,
     "name": null,
     "option_string": "evaluate=False",
     "results": "verbatim",
     "term": false,
     "wrap": "output"
    },
    "slideshow": {
     "slide_type": "subslide"
    }
   },
   "outputs": [
    {
     "name": "stdout",
     "output_type": "stream",
     "text": [
      "Il y a :\n",
      "129 Mrs\n",
      "180 Miss\n",
      "518 Mr\n",
      "40 Master\n",
      "Il y a avec la methode parse_name:\n",
      "125 Mrs\n",
      "182 Miss\n",
      "517 Mr\n",
      "40 Master\n"
     ]
    }
   ],
   "source": [
    "mrs = 0\n",
    "miss = 0\n",
    "mr = 0\n",
    "master = 0\n",
    "for x in df['Name']:\n",
    "    if \"Mrs\" in x:\n",
    "        mrs += 1\n",
    "    elif \"Mr\" in x:\n",
    "        mr += 1\n",
    "    elif \"Miss\" in x:\n",
    "        miss += 1\n",
    "    elif \"Master\" in x:\n",
    "        master += 1\n",
    "print (\"Il y a :\")\n",
    "print (str(mrs) + \" Mrs\")\n",
    "print (str(miss) + \" Miss\")\n",
    "print (str(mr) + \" Mr\")\n",
    "print (str(master) + \" Master\")\n",
    "\n",
    "# Ou avec parse_name\n",
    "mrs = 0\n",
    "miss = 0\n",
    "mr = 0\n",
    "master = 0\n",
    "for x in df['Name']:\n",
    "    m = parse_name(x)\n",
    "    if \"Mrs\" == m['Civility']:\n",
    "        mrs += 1\n",
    "    elif \"Mr\" == m['Civility']:\n",
    "        mr += 1\n",
    "    elif \"Miss\" == m['Civility']:\n",
    "        miss += 1\n",
    "    elif \"Master\" == m['Civility']:\n",
    "        master += 1\n",
    "print (\"Il y a avec la methode parse_name:\")\n",
    "print (str(mrs) + \" Mrs\")\n",
    "print (str(miss) + \" Miss\")\n",
    "print (str(mr) + \" Mr\")\n",
    "print (str(master) + \" Master\")\n",
    "# On observe donc qu'il y a quelque exeption a la fonction parse_name"
   ]
  },
  {
   "cell_type": "markdown",
   "metadata": {
    "slideshow": {
     "slide_type": "subslide"
    }
   },
   "source": [
    "\n",
    "ACHTUNG: there are some outliers with given names containing parenthsized items. Some people travelled under pseudonyms (see [Henry Samuel Morley](https://www.encyclopedia-titanica.org/titanic-victim/henry-samuel-morley.html)).\n",
    "\n"
   ]
  },
  {
   "cell_type": "code",
   "execution_count": null,
   "metadata": {
    "autoscroll": "auto",
    "options": {
     "caption": false,
     "complete": true,
     "display_data": true,
     "display_stream": true,
     "dpi": 200,
     "echo": true,
     "evaluate": false,
     "f_env": null,
     "f_pos": "htpb",
     "f_size": [
      6,
      4
     ],
     "f_spines": true,
     "fig": true,
     "include": true,
     "name": null,
     "option_string": "evaluate=False",
     "results": "verbatim",
     "term": false,
     "wrap": "output"
    },
    "slideshow": {
     "slide_type": "subslide"
    }
   },
   "outputs": [],
   "source": []
  },
  {
   "cell_type": "markdown",
   "metadata": {
    "slideshow": {
     "slide_type": "slide"
    }
   },
   "source": [
    "\n",
    "\n",
    "## Question:  For each embarkment and sex, visualize the survival ratio.\n",
    "\n",
    "\n",
    "### Answer\n",
    "\n"
   ]
  },
  {
   "cell_type": "code",
   "execution_count": 87,
   "metadata": {
    "ExecuteTime": {
     "end_time": "2020-02-23T21:00:05.315682Z",
     "start_time": "2020-02-23T21:00:04.895878Z"
    },
    "autoscroll": "auto",
    "options": {
     "caption": false,
     "complete": true,
     "display_data": true,
     "display_stream": true,
     "dpi": 200,
     "echo": true,
     "evaluate": false,
     "f_env": null,
     "f_pos": "htpb",
     "f_size": [
      6,
      4
     ],
     "f_spines": true,
     "fig": true,
     "include": true,
     "name": null,
     "option_string": "evaluate=False",
     "results": "verbatim",
     "term": false,
     "wrap": "output"
    },
    "slideshow": {
     "slide_type": "subslide"
    }
   },
   "outputs": [
    {
     "data": {
      "image/png": "[encoded data removed]",
      "text/plain": [
       "<Figure size 432x288 with 1 Axes>"
      ]
     },
     "metadata": {},
     "output_type": "display_data"
    }
   ],
   "source": [
    "sns.barplot(x='Embarked', y='Survived', data=df,order=['S','C','Q']);"
   ]
  },
  {
   "cell_type": "code",
   "execution_count": 88,
   "metadata": {
    "ExecuteTime": {
     "end_time": "2020-02-23T21:00:11.072247Z",
     "start_time": "2020-02-23T21:00:10.707347Z"
    }
   },
   "outputs": [
    {
     "data": {
      "image/png": "[encoded data removed]",
      "text/plain": [
       "<Figure size 432x288 with 1 Axes>"
      ]
     },
     "metadata": {},
     "output_type": "display_data"
    }
   ],
   "source": [
    "sns.barplot(x='Sex', y='Survived', data=df);"
   ]
  },
  {
   "cell_type": "markdown",
   "metadata": {
    "slideshow": {
     "slide_type": "slide"
    }
   },
   "source": [
    "\n",
    "## Question: for each `Pclass` and `Sex`, visualize the survival ratio,\n",
    "\n",
    "### Answer\n",
    "\n"
   ]
  },
  {
   "cell_type": "code",
   "execution_count": 89,
   "metadata": {
    "ExecuteTime": {
     "end_time": "2020-02-23T21:00:28.852069Z",
     "start_time": "2020-02-23T21:00:28.304008Z"
    },
    "autoscroll": "auto",
    "options": {
     "caption": false,
     "complete": true,
     "display_data": true,
     "display_stream": true,
     "dpi": 200,
     "echo": true,
     "evaluate": false,
     "f_env": null,
     "f_pos": "htpb",
     "f_size": [
      6,
      4
     ],
     "f_spines": true,
     "fig": true,
     "include": true,
     "name": null,
     "option_string": "evaluate=False",
     "results": "verbatim",
     "term": false,
     "wrap": "output"
    },
    "slideshow": {
     "slide_type": "subslide"
    }
   },
   "outputs": [
    {
     "data": {
      "text/plain": [
       "<matplotlib.axes._subplots.AxesSubplot at 0x7fcb93896e90>"
      ]
     },
     "execution_count": 89,
     "metadata": {},
     "output_type": "execute_result"
    },
    {
     "data": {
      "image/png": "[encoded data removed]",
      "text/plain": [
       "<Figure size 432x288 with 1 Axes>"
      ]
     },
     "metadata": {},
     "output_type": "display_data"
    }
   ],
   "source": [
    "sns.barplot(x = 'Sex', y = 'Pclass', hue = 'Survived', data=df)"
   ]
  },
  {
   "cell_type": "markdown",
   "metadata": {
    "slideshow": {
     "slide_type": "slide"
    }
   },
   "source": [
    "\n",
    "\n",
    "## Question: compute pairwise correlations between numerical columns.\n",
    "\n",
    "\n",
    "### Answer\n",
    "\n"
   ]
  },
  {
   "cell_type": "code",
   "execution_count": 71,
   "metadata": {
    "ExecuteTime": {
     "end_time": "2020-02-23T20:42:01.004192Z",
     "start_time": "2020-02-23T20:42:00.962935Z"
    },
    "autoscroll": "auto",
    "options": {
     "caption": false,
     "complete": true,
     "display_data": true,
     "display_stream": true,
     "dpi": 200,
     "echo": true,
     "evaluate": false,
     "f_env": null,
     "f_pos": "htpb",
     "f_size": [
      6,
      4
     ],
     "f_spines": true,
     "fig": true,
     "include": true,
     "name": null,
     "option_string": "evaluate=False",
     "results": "verbatim",
     "term": false,
     "wrap": "output"
    },
    "slideshow": {
     "slide_type": "subslide"
    }
   },
   "outputs": [
    {
     "data": {
      "text/html": [
       "<div>\n",
       "<style scoped>\n",
       "    .dataframe tbody tr th:only-of-type {\n",
       "        vertical-align: middle;\n",
       "    }\n",
       "\n",
       "    .dataframe tbody tr th {\n",
       "        vertical-align: top;\n",
       "    }\n",
       "\n",
       "    .dataframe thead th {\n",
       "        text-align: right;\n",
       "    }\n",
       "</style>\n",
       "<table border=\"1\" class=\"dataframe\">\n",
       "  <thead>\n",
       "    <tr style=\"text-align: right;\">\n",
       "      <th></th>\n",
       "      <th>PassengerId</th>\n",
       "      <th>Survived</th>\n",
       "      <th>Pclass</th>\n",
       "      <th>Age</th>\n",
       "      <th>SibSp</th>\n",
       "      <th>Parch</th>\n",
       "      <th>Fare</th>\n",
       "      <th>Roomates</th>\n",
       "    </tr>\n",
       "  </thead>\n",
       "  <tbody>\n",
       "    <tr>\n",
       "      <td>PassengerId</td>\n",
       "      <td>1.000000</td>\n",
       "      <td>-0.005007</td>\n",
       "      <td>-0.035144</td>\n",
       "      <td>0.036847</td>\n",
       "      <td>-0.057527</td>\n",
       "      <td>-0.001652</td>\n",
       "      <td>0.012658</td>\n",
       "      <td>NaN</td>\n",
       "    </tr>\n",
       "    <tr>\n",
       "      <td>Survived</td>\n",
       "      <td>-0.005007</td>\n",
       "      <td>1.000000</td>\n",
       "      <td>-0.338481</td>\n",
       "      <td>-0.077221</td>\n",
       "      <td>-0.035322</td>\n",
       "      <td>0.081629</td>\n",
       "      <td>0.257307</td>\n",
       "      <td>NaN</td>\n",
       "    </tr>\n",
       "    <tr>\n",
       "      <td>Pclass</td>\n",
       "      <td>-0.035144</td>\n",
       "      <td>-0.338481</td>\n",
       "      <td>1.000000</td>\n",
       "      <td>-0.369226</td>\n",
       "      <td>0.083081</td>\n",
       "      <td>0.018443</td>\n",
       "      <td>-0.549500</td>\n",
       "      <td>NaN</td>\n",
       "    </tr>\n",
       "    <tr>\n",
       "      <td>Age</td>\n",
       "      <td>0.036847</td>\n",
       "      <td>-0.077221</td>\n",
       "      <td>-0.369226</td>\n",
       "      <td>1.000000</td>\n",
       "      <td>-0.308247</td>\n",
       "      <td>-0.189119</td>\n",
       "      <td>0.096067</td>\n",
       "      <td>NaN</td>\n",
       "    </tr>\n",
       "    <tr>\n",
       "      <td>SibSp</td>\n",
       "      <td>-0.057527</td>\n",
       "      <td>-0.035322</td>\n",
       "      <td>0.083081</td>\n",
       "      <td>-0.308247</td>\n",
       "      <td>1.000000</td>\n",
       "      <td>0.414838</td>\n",
       "      <td>0.159651</td>\n",
       "      <td>NaN</td>\n",
       "    </tr>\n",
       "    <tr>\n",
       "      <td>Parch</td>\n",
       "      <td>-0.001652</td>\n",
       "      <td>0.081629</td>\n",
       "      <td>0.018443</td>\n",
       "      <td>-0.189119</td>\n",
       "      <td>0.414838</td>\n",
       "      <td>1.000000</td>\n",
       "      <td>0.216225</td>\n",
       "      <td>NaN</td>\n",
       "    </tr>\n",
       "    <tr>\n",
       "      <td>Fare</td>\n",
       "      <td>0.012658</td>\n",
       "      <td>0.257307</td>\n",
       "      <td>-0.549500</td>\n",
       "      <td>0.096067</td>\n",
       "      <td>0.159651</td>\n",
       "      <td>0.216225</td>\n",
       "      <td>1.000000</td>\n",
       "      <td>NaN</td>\n",
       "    </tr>\n",
       "    <tr>\n",
       "      <td>Roomates</td>\n",
       "      <td>NaN</td>\n",
       "      <td>NaN</td>\n",
       "      <td>NaN</td>\n",
       "      <td>NaN</td>\n",
       "      <td>NaN</td>\n",
       "      <td>NaN</td>\n",
       "      <td>NaN</td>\n",
       "      <td>NaN</td>\n",
       "    </tr>\n",
       "  </tbody>\n",
       "</table>\n",
       "</div>"
      ],
      "text/plain": [
       "             PassengerId  Survived    Pclass       Age     SibSp     Parch  \\\n",
       "PassengerId     1.000000 -0.005007 -0.035144  0.036847 -0.057527 -0.001652   \n",
       "Survived       -0.005007  1.000000 -0.338481 -0.077221 -0.035322  0.081629   \n",
       "Pclass         -0.035144 -0.338481  1.000000 -0.369226  0.083081  0.018443   \n",
       "Age             0.036847 -0.077221 -0.369226  1.000000 -0.308247 -0.189119   \n",
       "SibSp          -0.057527 -0.035322  0.083081 -0.308247  1.000000  0.414838   \n",
       "Parch          -0.001652  0.081629  0.018443 -0.189119  0.414838  1.000000   \n",
       "Fare            0.012658  0.257307 -0.549500  0.096067  0.159651  0.216225   \n",
       "Roomates             NaN       NaN       NaN       NaN       NaN       NaN   \n",
       "\n",
       "                 Fare  Roomates  \n",
       "PassengerId  0.012658       NaN  \n",
       "Survived     0.257307       NaN  \n",
       "Pclass      -0.549500       NaN  \n",
       "Age          0.096067       NaN  \n",
       "SibSp        0.159651       NaN  \n",
       "Parch        0.216225       NaN  \n",
       "Fare         1.000000       NaN  \n",
       "Roomates          NaN       NaN  "
      ]
     },
     "execution_count": 71,
     "metadata": {},
     "output_type": "execute_result"
    }
   ],
   "source": [
    "df.corr()\n"
   ]
  },
  {
   "cell_type": "markdown",
   "metadata": {
    "slideshow": {
     "slide_type": "slide"
    }
   },
   "source": [
    "\n",
    "\n",
    "## Pandas and SQL\n",
    "\n",
    "A systematic comparison between Pandas and SQL querying can be found\n",
    "at\n",
    "[https://pandas.pydata.org/pandas-docs/stable/getting_started/comparison/comparison_with_sql.html](https://pandas.pydata.org/pandas-docs/stable/getting_started/comparison/comparison_with_sql.html)\n",
    "\n",
    "\n",
    "## Pandas pipeliness\n",
    "\n",
    "Loading and transforming datasets is a cumbersome task. It is very likely that\n",
    "the sequence of transformations you have performed on the `train.csv`  dataset will\n",
    "be carried out on other datasets (just think about `test.csv`). For the sake of\n",
    "reproducibility, it is convenient to build a *transformation pipeline*.\n",
    "The `pipe` method for `DataFrame` class provides us with a means to do that.\n",
    "\n",
    "Pipelining DataFrame methods is easy, it is enough to write:\n",
    "\n"
   ]
  },
  {
   "cell_type": "code",
   "execution_count": 198,
   "metadata": {
    "ExecuteTime": {
     "end_time": "2020-02-23T22:42:53.929987Z",
     "start_time": "2020-02-23T22:42:53.923625Z"
    },
    "autoscroll": "auto",
    "options": {
     "caption": false,
     "complete": true,
     "display_data": true,
     "display_stream": true,
     "dpi": 200,
     "echo": true,
     "evaluate": false,
     "f_env": null,
     "f_pos": "htpb",
     "f_size": [
      6,
      4
     ],
     "f_spines": true,
     "fig": true,
     "include": true,
     "name": null,
     "option_string": "evaluate=False",
     "results": "verbatim",
     "term": false,
     "wrap": "output"
    },
    "slideshow": {
     "slide_type": "subslide"
    }
   },
   "outputs": [],
   "source": [
    "# df.meth1(arg11, arg12)\\\n",
    "#   .meth2(arg21)\\\n",
    "#   .meth3(arg31, arg32, arg33)\\\n",
    "#   ..."
   ]
  },
  {
   "cell_type": "markdown",
   "metadata": {
    "slideshow": {
     "slide_type": "slide"
    }
   },
   "source": [
    "\n",
    "### `pipe` method for class `DataFrame`\n",
    "\n",
    "\n",
    "The `pipe` method allows us to chain transformations implemented by functions.\n",
    "Pipelining ordinary functions can be done using the `pipe` method of\n",
    "class `DataFrame`.\n",
    "\n"
   ]
  },
  {
   "cell_type": "code",
   "execution_count": null,
   "metadata": {
    "autoscroll": "auto",
    "options": {
     "caption": false,
     "complete": true,
     "display_data": true,
     "display_stream": true,
     "dpi": 200,
     "echo": true,
     "evaluate": true,
     "f_env": null,
     "f_pos": "htpb",
     "f_size": [
      6,
      4
     ],
     "f_spines": true,
     "fig": true,
     "include": true,
     "name": null,
     "option_string": "",
     "results": "verbatim",
     "term": false,
     "wrap": "output"
    },
    "slideshow": {
     "slide_type": "subslide"
    }
   },
   "outputs": [],
   "source": []
  },
  {
   "cell_type": "markdown",
   "metadata": {
    "slideshow": {
     "slide_type": "slide"
    }
   },
   "source": [
    "\n",
    "\n",
    "### Module `pdpipe`\n",
    "\n",
    "Module [`pdpipe`](https://pdpipe.github.io/pdpipe/) is more ambitious.\n",
    "\n",
    "A *transformation pipeline* defines a sequence of operations that should be applied\n",
    "to a dataframe. In the `pdpipe` framework, it is an instance of class `pdpipe.PdPipeLine`\n",
    "\n"
   ]
  },
  {
   "cell_type": "markdown",
   "metadata": {
    "slideshow": {
     "slide_type": "slide"
    }
   },
   "source": [
    "\n",
    "\n",
    "## Question: use `pdpipe`\n",
    "\n",
    "Build a pipeline of transformatioms\n",
    "using the [pdpipe](https://pdpipe.github.io/pdpipe/doc/pdpipe/) module.\n",
    "\n",
    "### Answer\n",
    "\n"
   ]
  },
  {
   "cell_type": "markdown",
   "metadata": {
    "slideshow": {
     "slide_type": "slide"
    }
   },
   "source": [
    "\n",
    "\n",
    "## Miscellanea\n",
    "\n",
    "Browse the `seaborn` documentation in order to make up your\n",
    "mind on the following questions.\n",
    "\n",
    "1. What is a *hue*?\n",
    "1. Is the *colorPalette* part of style?\n",
    "1. What is a saturation channel?\n",
    "1. What is a saturation channel made for?\n",
    "1. What is an *aesthetic parameter*?\n",
    "1. What is the type of `seaborn.FacetGrid`?\n",
    "\n",
    "\n"
   ]
  },
  {
   "cell_type": "code",
   "execution_count": null,
   "metadata": {},
   "outputs": [],
   "source": [
    "#1. hue is used as a variable for colouring the plot"
   ]
  }
 ],
 "metadata": {
  "celltoolbar": "Slideshow",
  "kernel_info": {
   "name": "python3"
  },
  "kernelspec": {
   "display_name": "Python 3",
   "language": "python",
   "name": "python3"
  },
  "language_info": {
   "codemirror_mode": {
    "name": "ipython",
    "version": 3
   },
   "file_extension": ".py",
   "mimetype": "text/x-python",
   "name": "python",
   "nbconvert_exporter": "python",
   "pygments_lexer": "ipython3",
   "version": "3.7.5"
  },
  "nteract": {
   "version": "0.15.0"
  },
  "toc": {
   "base_numbering": 1,
   "nav_menu": {},
   "number_sections": true,
   "sideBar": true,
   "skip_h1_title": false,
   "title_cell": "Table of Contents",
   "title_sidebar": "Contents",
   "toc_cell": false,
   "toc_position": {},
   "toc_section_display": true,
   "toc_window_display": false
  }
 },
 "nbformat": 4,
 "nbformat_minor": 4
}
